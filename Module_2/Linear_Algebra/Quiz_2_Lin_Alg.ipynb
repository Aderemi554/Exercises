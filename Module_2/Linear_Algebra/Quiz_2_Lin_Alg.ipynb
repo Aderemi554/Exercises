{
 "cells": [
  {
   "cell_type": "markdown",
   "metadata": {},
   "source": [
    "## Linear Algebra Quiz #2\n",
    "\n",
    "![title](./img/2_1.jpeg)\n",
    "\n",
    "We strongly suggest working with numpy :)"
   ]
  },
  {
   "cell_type": "code",
   "execution_count": 5,
   "metadata": {
    "ExecuteTime": {
     "end_time": "2020-12-16T16:19:53.682654Z",
     "start_time": "2020-12-16T16:19:52.455070Z"
    }
   },
   "outputs": [],
   "source": [
    "#Do your imports here\n",
    "import numpy as np"
   ]
  },
  {
   "cell_type": "markdown",
   "metadata": {},
   "source": [
    "![title](./img/2_2.png)\n",
    "- Which vectors below define a plane spanned by a linear combination?"
   ]
  },
  {
   "cell_type": "code",
   "execution_count": 8,
   "metadata": {
    "ExecuteTime": {
     "end_time": "2020-12-16T16:22:28.860357Z",
     "start_time": "2020-12-16T16:22:28.848768Z"
    }
   },
   "outputs": [
    {
     "name": "stdout",
     "output_type": "stream",
     "text": [
      "vector [1 2 3] and vector [2 2 2] form a plane\n",
      "vector [1 2 3] and vector [8 8 8] create a plane\n",
      "vector [2 2 2] and vector [8 8 8] are linearly dependent, therefore they don't form a plane\n"
     ]
    }
   ],
   "source": [
    "def plane(a,b,c):\n",
    "    \"\"\"\n",
    "    a,b,c =[1,1,1], [1,1,1], [2,2,2] --> 0 planes\n",
    "    a,b,c = [1,2,3], [2,2,2], [8,8,8] --> 2 planes (technically, only one if you check if they are the same)\n",
    "    a,b,c = [1,0,0], [0,1,0], [0,0,1] --> 3 planes\n",
    "    \n",
    "    \"\"\"\n",
    "    #convert into numpy arrays\n",
    "    a = np.array([1, 2, 3])\n",
    "    b = np.array([2, 2, 2])\n",
    "    c = np.array([8, 8, 8])\n",
    "    \n",
    "    #Finding the cross product of two vectors and if the vector-pair forms a plane\n",
    "    a_b = np.cross(a, b)\n",
    "    a_c = np.cross(a, c)\n",
    "    b_c = np.cross(b, c)\n",
    "    \n",
    "    # check that vectors have the same shape\n",
    "    if a_b.all() == 0:\n",
    "        print(f\"vector {a} and vector {b} are linearly dependent, hence they do not form a plane\")\n",
    "    else:\n",
    "        print(f\"vector {a} and vector {b} form a plane\")\n",
    "    if a_c.all() == 0:\n",
    "        print(f\"vector {a} and vector {c} are linearly dependent and don't form a plane\")\n",
    "    else:\n",
    "        print(f\"vector {a} and vector {c} create a plane\")\n",
    "    if b_c.all() == 0:\n",
    "        print(f\"vector {b} and vector {c} are linearly dependent, therefore they don't form a plane\")\n",
    "    else:\n",
    "        print(f\"vector {b} and vector {c} form a plane\")\n",
    "plane([[1,2,3]], [[2,2,2]], [[8,8,8]])"
   ]
  },
  {
   "cell_type": "code",
   "execution_count": 15,
   "metadata": {
    "ExecuteTime": {
     "end_time": "2020-12-16T16:35:28.695109Z",
     "start_time": "2020-12-16T16:35:28.682457Z"
    }
   },
   "outputs": [
    {
     "name": "stdout",
     "output_type": "stream",
     "text": [
      "Complete array:\n",
      "[array([1, 2, 3]), array([2, 2, 2]), array([1, 2, 3]), array([8, 8, 8]), array([2, 2, 2]), array([1, 2, 3]), array([8, 8, 8]), array([1, 2, 3])]\n",
      "First set of vectors to complete a plane:\n",
      "[array([1, 2, 3]), array([2, 2, 2])]\n"
     ]
    }
   ],
   "source": [
    "# Harder exercise\n",
    "\n",
    "def complete_plane(*inputs):\n",
    "    a = np.array([1, 2, 3])\n",
    "    b = np.array([2, 2, 2])\n",
    "    c = np.array([8, 8, 8])\n",
    "    \n",
    "    vectors = []\n",
    "    for item in inputs:\n",
    "        vectors.append(item)\n",
    "    matrix = np.stack(vectors)\n",
    "    linearly_ind_vect = []\n",
    "    for i in matrix:\n",
    "        for j in matrix:\n",
    "            if np.cross(i, j).all() != 0:\n",
    "                linearly_ind_vect.append(i)\n",
    "                linearly_ind_vect.append(j)\n",
    "    print(\"Complete array:\")\n",
    "    print(linearly_ind_vect)\n",
    "    print(\"First set of vectors to complete a plane:\")\n",
    "    print(linearly_ind_vect[0:2])\n",
    "complete_plane([1, 2, 3], [2, 2, 2], [8, 8, 8])\n",
    "#returns the first set of vectors to complete a plane, false otherwise,"
   ]
  },
  {
   "cell_type": "markdown",
   "metadata": {},
   "source": [
    "![title](./img/2_3.png)\n",
    "- What is the solution for a and b?"
   ]
  },
  {
   "cell_type": "code",
   "execution_count": 3,
   "metadata": {
    "ExecuteTime": {
     "end_time": "2020-12-16T13:32:15.895262Z",
     "start_time": "2020-12-16T13:32:15.888832Z"
    }
   },
   "outputs": [
    {
     "name": "stdout",
     "output_type": "stream",
     "text": [
      "Equations are linearly dependent, second equation is a multiple of the first.\n",
      "Therefore, due to linear dependence we have infinite solutions for a and b\n"
     ]
    }
   ],
   "source": [
    "# do you need a function for this? What is the most efficient way to solve it?\n",
    "\n",
    "print(\"Equations are linearly dependent, second equation is a multiple of the first.\")\n",
    "print(\"Therefore, due to linear dependence we have infinite solutions for a and b\")"
   ]
  },
  {
   "cell_type": "markdown",
   "metadata": {},
   "source": [
    "![title](./img/2_4.png)\n",
    "- What is the solution for a and b?"
   ]
  },
  {
   "cell_type": "code",
   "execution_count": 6,
   "metadata": {
    "ExecuteTime": {
     "end_time": "2020-12-16T13:33:33.473393Z",
     "start_time": "2020-12-16T13:33:33.467295Z"
    }
   },
   "outputs": [
    {
     "name": "stdout",
     "output_type": "stream",
     "text": [
      "There is no intersection for both equations.\n",
      "No solution for a and b\n"
     ]
    }
   ],
   "source": [
    "# Idem. Do you need a function for this? What is the most efficient way to solve it?\n",
    "\n",
    "print(\"There is no intersection for both equations.\\nNo solution for a and b\")"
   ]
  }
 ],
 "metadata": {
  "kernelspec": {
   "display_name": "Python 3",
   "language": "python",
   "name": "python3"
  },
  "language_info": {
   "codemirror_mode": {
    "name": "ipython",
    "version": 3
   },
   "file_extension": ".py",
   "mimetype": "text/x-python",
   "name": "python",
   "nbconvert_exporter": "python",
   "pygments_lexer": "ipython3",
   "version": "3.8.5"
  }
 },
 "nbformat": 4,
 "nbformat_minor": 2
}
