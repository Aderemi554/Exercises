{
 "cells": [
  {
   "cell_type": "markdown",
   "metadata": {},
   "source": [
    "## Linear Algebra Quiz #1\n",
    "\n",
    "![title](./img/1_0.jpeg)\n",
    "\n",
    "We strongly suggest working with numpy :)"
   ]
  },
  {
   "cell_type": "code",
   "execution_count": 1,
   "metadata": {
    "ExecuteTime": {
     "end_time": "2020-12-15T15:14:35.356991Z",
     "start_time": "2020-12-15T15:14:34.589818Z"
    }
   },
   "outputs": [],
   "source": [
    "#Do your imports here\n",
    "import numpy as np"
   ]
  },
  {
   "cell_type": "code",
   "execution_count": 2,
   "metadata": {
    "ExecuteTime": {
     "end_time": "2020-12-15T15:14:35.366457Z",
     "start_time": "2020-12-15T15:14:35.359629Z"
    }
   },
   "outputs": [
    {
     "ename": "IndentationError",
     "evalue": "expected an indented block (<ipython-input-2-9ee55529ffc8>, line 9)",
     "output_type": "error",
     "traceback": [
      "\u001b[0;36m  File \u001b[0;32m\"<ipython-input-2-9ee55529ffc8>\"\u001b[0;36m, line \u001b[0;32m9\u001b[0m\n\u001b[0;31m    def magnitude_complete(#inputs):\u001b[0m\n\u001b[0m    ^\u001b[0m\n\u001b[0;31mIndentationError\u001b[0m\u001b[0;31m:\u001b[0m expected an indented block\n"
     ]
    }
   ],
   "source": [
    "# type a function that given a 3_dimensional vector it is able to calculate its magnitude\n",
    "\n",
    "def magnitude_3(a,b,c):\n",
    "\n",
    "# type a function that given a n_dimensional vector it is able to calculate its magnitude\n",
    "# if you want to try this from python (not jupyter notebook) https://docs.python.org/3/library/argparse.html would be a good addition\n",
    "# if you are doing this from a jupyter notebook only, you can try to promt the user for an input  \n",
    "\n",
    "def magnitude_complete(#inputs):"
   ]
  },
  {
   "cell_type": "code",
   "execution_count": null,
   "metadata": {
    "ExecuteTime": {
     "end_time": "2020-12-15T15:14:35.370393Z",
     "start_time": "2020-12-15T15:14:34.595Z"
    }
   },
   "outputs": [],
   "source": [
    "#defining function\n",
    "def magnitude_3(a,b,c):\n",
    "    magnitude_3 = np.array([2,4,5])\n",
    "    return np.linalg.norm(magnitude_3)\n",
    "magnitude_3(2,4,5)"
   ]
  },
  {
   "cell_type": "markdown",
   "metadata": {},
   "source": [
    "uncomment the following line when you are ready to test"
   ]
  },
  {
   "cell_type": "code",
   "execution_count": null,
   "metadata": {
    "ExecuteTime": {
     "end_time": "2020-12-15T15:14:35.373349Z",
     "start_time": "2020-12-15T15:14:34.598Z"
    }
   },
   "outputs": [],
   "source": [
    "def magnitude_complete(*inputs):\n",
    "#returning the magnitude of the inputs entered\n",
    "    return np.linalg.norm(inputs)"
   ]
  },
  {
   "cell_type": "code",
   "execution_count": null,
   "metadata": {
    "ExecuteTime": {
     "end_time": "2020-12-15T15:14:35.375822Z",
     "start_time": "2020-12-15T15:14:34.601Z"
    }
   },
   "outputs": [],
   "source": [
    "#veryfying that the code above works well\n",
    "magnitude_complete(1) == 1.0\n",
    "magnitude_complete(1,2) >= 2.236\n",
    "magnitude_complete(1,2,3) >= 3.741\n",
    "magnitude_complete(1,2,3,4,5) >= 5.477\n",
    "magnitude_complete(1,2,3,4,5) >= 7.416"
   ]
  },
  {
   "cell_type": "markdown",
   "metadata": {},
   "source": [
    "![title](./img/1_2.png)"
   ]
  },
  {
   "cell_type": "code",
   "execution_count": 10,
   "metadata": {
    "ExecuteTime": {
     "end_time": "2020-12-15T15:33:27.356305Z",
     "start_time": "2020-12-15T15:33:27.339431Z"
    }
   },
   "outputs": [
    {
     "data": {
      "text/plain": [
       "9.273618495495704"
      ]
     },
     "execution_count": 10,
     "metadata": {},
     "output_type": "execute_result"
    }
   ],
   "source": [
    "def magnitude_vector(a,b):\n",
    "    magnitude_vector = np.array([[3,4],[5,6]])\n",
    "    #checks that size is equal \n",
    "    if len(a) == len(b): \n",
    "        return np.linalg.norm(magnitude_vector) \n",
    "    #returns the magnitude \n",
    "magnitude_vector([3,4],[5,6])"
   ]
  },
  {
   "cell_type": "code",
   "execution_count": 23,
   "metadata": {
    "ExecuteTime": {
     "end_time": "2020-12-15T18:29:49.651032Z",
     "start_time": "2020-12-15T18:29:49.630611Z"
    },
    "collapsed": true
   },
   "outputs": [
    {
     "name": "stdout",
     "output_type": "stream",
     "text": [
      "True\n"
     ]
    },
    {
     "data": {
      "text/plain": [
       "6.164414002968976"
      ]
     },
     "execution_count": 23,
     "metadata": {},
     "output_type": "execute_result"
    }
   ],
   "source": [
    "def direction_vectors(a, b):\n",
    "    #checks that size is equal\n",
    "    #print(a.shape == b.shape)\n",
    "    \n",
    "    #returns the magnitude\n",
    "    a = np.array(a)\n",
    "    b = np.array(b)\n",
    "    print(a.shape == b.shape) \n",
    "    a_b = np.add(a, b)\n",
    "    a_b = np.array([a,b])\n",
    "    return np.linalg.norm(a_b)\n",
    "direction_vectors([2,3],[3,4])\n",
    "\n",
    "# or if you want to do it all in one batch:\n",
    "#def magdir_vectors(a, b):\n",
    "    #checks that size is equal\n",
    "    \n",
    "    #returns the magnitude and direction in a nicely printed format \n",
    "    #\"The magnitude of a + b is X and the direction is Y\""
   ]
  },
  {
   "cell_type": "markdown",
   "metadata": {},
   "source": [
    "### ![title](./img/1_4.png)\n",
    "- What is the magnitude of αx⃗? \n",
    "- If α>0, will the direction of the resulting vector change?\n",
    "- If α<0, will the direction of the resulting vector change?\n",
    "- If −1<α<1, will ∥αx⃗∥  increase, decrease or stay the same?"
   ]
  },
  {
   "cell_type": "code",
   "execution_count": 20,
   "metadata": {
    "ExecuteTime": {
     "end_time": "2020-12-15T18:05:29.697341Z",
     "start_time": "2020-12-15T18:05:29.684823Z"
    }
   },
   "outputs": [
    {
     "name": "stdout",
     "output_type": "stream",
     "text": [
      "Direction changed 180 degrees\n"
     ]
    },
    {
     "data": {
      "text/plain": [
       "(array([-1, -1]), 1.4142135623730951)"
      ]
     },
     "execution_count": 20,
     "metadata": {},
     "output_type": "execute_result"
    }
   ],
   "source": [
    "def alpha_magnitude(alpha, b):\n",
    "    #returns the resulting magnitude, if the direction has changed and what has happened to the vector\n",
    "    b = np.array(b)\n",
    "    vector = alpha * b\n",
    "    if np.sign(b[0]) == np.sign(vector[0]):\n",
    "        print(\"No change in direction\")\n",
    "    else:\n",
    "        print(\"Direction changed 180 degrees\")\n",
    "    return (vector, np.linalg.norm(vector))\n",
    "alpha_magnitude(-1, [1,1])"
   ]
  },
  {
   "cell_type": "code",
   "execution_count": null,
   "metadata": {},
   "outputs": [],
   "source": []
  }
 ],
 "metadata": {
  "kernelspec": {
   "display_name": "Python 3",
   "language": "python",
   "name": "python3"
  },
  "language_info": {
   "codemirror_mode": {
    "name": "ipython",
    "version": 3
   },
   "file_extension": ".py",
   "mimetype": "text/x-python",
   "name": "python",
   "nbconvert_exporter": "python",
   "pygments_lexer": "ipython3",
   "version": "3.8.5"
  }
 },
 "nbformat": 4,
 "nbformat_minor": 2
}
