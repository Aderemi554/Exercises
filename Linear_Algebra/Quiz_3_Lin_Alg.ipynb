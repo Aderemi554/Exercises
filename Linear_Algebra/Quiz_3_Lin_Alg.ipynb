{
 "cells": [
  {
   "cell_type": "markdown",
   "metadata": {},
   "source": [
    "## Linear Algebra Quiz #3\n",
    "\n",
    "![title](./img/3_0.jpeg)\n",
    "\n",
    "We strongly suggest working with numpy :)"
   ]
  },
  {
   "cell_type": "code",
   "execution_count": 1,
   "metadata": {
    "ExecuteTime": {
     "end_time": "2020-12-16T13:35:48.451641Z",
     "start_time": "2020-12-16T13:35:47.436097Z"
    }
   },
   "outputs": [],
   "source": [
    "#Do your imports here\n",
    "import numpy as np"
   ]
  },
  {
   "cell_type": "markdown",
   "metadata": {},
   "source": [
    "![title](./img/3_2.png)\n",
    "Create a program that can output\n",
    "\n",
    "- What is the value of element c23​ of Matrix C where C=A x B ?\n",
    "- What is the value of element c23​ of Matrix C where C=B x A ?"
   ]
  },
  {
   "cell_type": "code",
   "execution_count": 21,
   "metadata": {
    "ExecuteTime": {
     "end_time": "2020-12-16T14:03:32.123664Z",
     "start_time": "2020-12-16T14:03:32.111882Z"
    }
   },
   "outputs": [
    {
     "name": "stdout",
     "output_type": "stream",
     "text": [
      "Matrix C is:\n",
      "[[  0.    5.   -2. ]\n",
      " [-15.    8.   -1. ]\n",
      " [  0.    1.5 -32. ]]\n",
      "element in row 2, column 3 of matrix C is -1.0\n",
      "Matrix D is:\n",
      "[[  0.    5.   -2. ]\n",
      " [-15.    8.   -1. ]\n",
      " [  0.    1.5 -32. ]]\n",
      "element in row 2, column 3 of matrix C is -1.0\n"
     ]
    }
   ],
   "source": [
    "#convert A and B into arrays\n",
    "A = np.array([[3, 1, 2], [-5, 4, 1], [0, 3, -8]])\n",
    "B = np.array([[0, 5, -1], [3, 2, -1], [10, 0.5, 4]])\n",
    "\n",
    "#Find the product of A and B\n",
    "C = np.multiply (A,B)\n",
    "print(\"Matrix C is:\" )\n",
    "print(C)\n",
    "\n",
    "#printing the element in row 2, column try of the result of matrix multiplication\n",
    "a = C[1][2]\n",
    "print(\"element in row 2, column 3 of matrix C is\", a)\n",
    "\n",
    "#multiplication of matrix B and matrix A\n",
    "D = np.multiply(B,A)\n",
    "print(\"Matrix D is:\")\n",
    "print(D) \n",
    "\n",
    "#printing the element in row 2, column try of the result of matrix multiplication\n",
    "e = D[1][2]\n",
    "print(\"element in row 2, column 3 of matrix C is\", e)"
   ]
  },
  {
   "cell_type": "code",
   "execution_count": 40,
   "metadata": {
    "ExecuteTime": {
     "end_time": "2020-12-16T14:48:54.577847Z",
     "start_time": "2020-12-16T14:48:54.563736Z"
    }
   },
   "outputs": [
    {
     "data": {
      "text/plain": [
       "array([[ 0.6, -0.7],\n",
       "       [-0.2,  0.4]])"
      ]
     },
     "execution_count": 40,
     "metadata": {},
     "output_type": "execute_result"
    }
   ],
   "source": [
    "# okay numpy is great but... how would you inverse a matrix by hand?\n",
    "\n",
    "def inverse_matrix(A):\n",
    "#Inserting my 2 x 2 matrix ([a,b], [c,d])\n",
    "    A = np.array([[4,7], [2,6]])\n",
    "\n",
    "#Getting the values of diagonal multiplication a*d and b*c\n",
    "    d1 = (A[0][0]) * (A[1][1])\n",
    "    d2 = (A[0][1]) * (A[1][0])\n",
    "\n",
    "#Subtracting the left diagonal multiplication from the right (ad - bc)\n",
    "    mult = 1 / (d1 - d2)\n",
    "    \n",
    "#Exchanging a and d and negating b and c    \n",
    "    a = A[1][1] \n",
    "    b = (A[0][1])*(-1)\n",
    "    c = (A[1][0])*(-1) \n",
    "    d = A[0][0]\n",
    "    \n",
    "#Converting the new a,b,c,d values into an array    \n",
    "    B = np.array([[a,b],[c,d]])\n",
    "    \n",
    "#Finally calculating the inverse of the original matrix by multiply 'mult' by the new matrix B    \n",
    "    C = mult * B\n",
    "    return C\n",
    "inverse_matrix(A)\n"
   ]
  },
  {
   "cell_type": "markdown",
   "metadata": {},
   "source": [
    "![title](./img/3_1.png)\n",
    "Create a program that can output\n",
    "\n",
    "- What is the value of the ijth element if i = 2 and j=3?\n",
    "- What is the value of the ijth element if i = 3 and j=1?"
   ]
  },
  {
   "cell_type": "code",
   "execution_count": 42,
   "metadata": {
    "ExecuteTime": {
     "end_time": "2020-12-16T15:34:42.672600Z",
     "start_time": "2020-12-16T15:34:42.664654Z"
    }
   },
   "outputs": [
    {
     "name": "stdout",
     "output_type": "stream",
     "text": [
      "[[ 6.000000e+00 -1.014160e+03  1.157849e+02 -9.300000e+01]\n",
      " [ 7.000000e-01 -3.000000e+00 -2.700000e+00  1.767000e+01]\n",
      " [ 5.700000e+00  0.000000e+00 -8.000000e+00  6.000000e-03]]\n"
     ]
    }
   ],
   "source": [
    "#Creating matrices A, B and C\n",
    "A = np.array([[3, 0.6, 4, -3], [-1.3, 4, 0, 8.6], [7, 0, -8, 0.006]])\n",
    "B = np.array ([[3, -5.76, 45, 0], [2, -2, 1.3, 9], [-9, 0, 0, 0]])\n",
    "C = np.array([[0, 1009, -66.7849, 90], [0, 5, 4, -0.07], [-7.7, 0, 0, 0]])\n",
    "\n",
    "#Generating matrix D\n",
    "D = A + B - C\n",
    "print(D)"
   ]
  },
  {
   "cell_type": "code",
   "execution_count": 46,
   "metadata": {
    "ExecuteTime": {
     "end_time": "2020-12-16T15:37:48.151731Z",
     "start_time": "2020-12-16T15:37:48.144905Z"
    }
   },
   "outputs": [
    {
     "data": {
      "text/plain": [
       "-2.7"
      ]
     },
     "execution_count": 46,
     "metadata": {},
     "output_type": "execute_result"
    }
   ],
   "source": [
    "D[1][2]"
   ]
  },
  {
   "cell_type": "code",
   "execution_count": 47,
   "metadata": {
    "ExecuteTime": {
     "end_time": "2020-12-16T15:37:51.338675Z",
     "start_time": "2020-12-16T15:37:51.329685Z"
    }
   },
   "outputs": [
    {
     "data": {
      "text/plain": [
       "5.7"
      ]
     },
     "execution_count": 47,
     "metadata": {},
     "output_type": "execute_result"
    }
   ],
   "source": [
    "D[2][0]"
   ]
  },
  {
   "cell_type": "code",
   "execution_count": null,
   "metadata": {},
   "outputs": [],
   "source": [
    "# Just answer using code --> easy stuff!\n",
    "\n",
    "# Harder\n",
    "# Can you build a matrix solver that can do output the result given n matrices and a sequence of operations such as [add subtract multiply transpose?]\n",
    "#Some ideas on valid operations: Multiplication Addition Subtraction Inverstion Transposed. "
   ]
  },
  {
   "cell_type": "markdown",
   "metadata": {},
   "source": [
    "![title](./img/3_3.png)\n",
    "Create a program that can output\n",
    "- How many rows will C have?\n",
    "- How many columns will C have?\n",
    "- What will be the value of c13​?"
   ]
  },
  {
   "cell_type": "code",
   "execution_count": 55,
   "metadata": {
    "ExecuteTime": {
     "end_time": "2020-12-16T16:07:24.488431Z",
     "start_time": "2020-12-16T16:07:24.482921Z"
    }
   },
   "outputs": [
    {
     "name": "stdout",
     "output_type": "stream",
     "text": [
      "Matrix C which is the product of matrices A and B will be a row vector with three columns\n"
     ]
    }
   ],
   "source": [
    "print(\"Matrix C which is the product of matrices A and B will be a row vector with three columns\")"
   ]
  },
  {
   "cell_type": "code",
   "execution_count": 54,
   "metadata": {
    "ExecuteTime": {
     "end_time": "2020-12-16T16:06:01.367590Z",
     "start_time": "2020-12-16T16:06:01.352786Z"
    }
   },
   "outputs": [
    {
     "name": "stdout",
     "output_type": "stream",
     "text": [
      "[-102.8  255.2  595.6]\n"
     ]
    },
    {
     "data": {
      "text/plain": [
       "595.6"
      ]
     },
     "execution_count": 54,
     "metadata": {},
     "output_type": "execute_result"
    }
   ],
   "source": [
    "#Getting matrices\n",
    "A = np.array([0.6, -15, 2, 5, 98])\n",
    "B = np.array([[2, 2, -4], [9, -14, 0], [13, -0.5, 44], [1, 9, 4], [0, 0, 5]])\n",
    "\n",
    "#Generating the transpose of A\n",
    "A_T = A.T\n",
    "\n",
    "#Dot product of transpose of matrix A and matrix B\n",
    "C = np.dot(A_T, B)\n",
    "print(C)\n",
    "\n",
    "#Value of C13 \n",
    "C[2]"
   ]
  },
  {
   "cell_type": "code",
   "execution_count": null,
   "metadata": {},
   "outputs": [],
   "source": []
  }
 ],
 "metadata": {
  "kernelspec": {
   "display_name": "Python 3",
   "language": "python",
   "name": "python3"
  },
  "language_info": {
   "codemirror_mode": {
    "name": "ipython",
    "version": 3
   },
   "file_extension": ".py",
   "mimetype": "text/x-python",
   "name": "python",
   "nbconvert_exporter": "python",
   "pygments_lexer": "ipython3",
   "version": "3.8.5"
  }
 },
 "nbformat": 4,
 "nbformat_minor": 2
}
