{
 "cells": [
  {
   "cell_type": "markdown",
   "metadata": {
    "id": "_LcWI9MzTe3v"
   },
   "source": [
    "# Finetune a Langage Model with Fast.ai\n",
    "Notebook based on:\n",
    "- https://github.com/fastai/fastbook/blob/master/10_nlp.ipynb\n",
    "- https://github.com/fastai/course-nlp/blob/master/5-nn-imdb.ipynb\n",
    "\n",
    "Video:\n",
    "- https://www.youtube.com/watch?v=WjnwWeGjZcM (From 0:00 to 55:00)"
   ]
  },
  {
   "cell_type": "markdown",
   "metadata": {
    "id": "o7WXyBs9Te30"
   },
   "source": [
    "#### Get latest Fast.ai version (without installing the Pytorch dependency)"
   ]
  },
  {
   "cell_type": "code",
   "execution_count": 1,
   "metadata": {
    "colab": {
     "base_uri": "https://localhost:8080/"
    },
    "id": "_4yb3LqyTe32",
    "outputId": "001a0cff-b9fa-4dce-e74c-60fedbdb4079"
   },
   "outputs": [
    {
     "name": "stdout",
     "output_type": "stream",
     "text": [
      "Collecting fastai\n",
      "\u001b[?25l  Downloading https://files.pythonhosted.org/packages/5b/53/edf39e15b7ec5e805a0b6f72adbe48497ebcfa009a245eca7044ae9ee1c6/fastai-2.3.0-py3-none-any.whl (193kB)\n",
      "\r",
      "\u001b[K     |█▊                              | 10kB 20.6MB/s eta 0:00:01\r",
      "\u001b[K     |███▍                            | 20kB 26.6MB/s eta 0:00:01\r",
      "\u001b[K     |█████                           | 30kB 20.3MB/s eta 0:00:01\r",
      "\u001b[K     |██████▊                         | 40kB 23.4MB/s eta 0:00:01\r",
      "\u001b[K     |████████▌                       | 51kB 23.3MB/s eta 0:00:01\r",
      "\u001b[K     |██████████▏                     | 61kB 16.8MB/s eta 0:00:01\r",
      "\u001b[K     |███████████▉                    | 71kB 17.1MB/s eta 0:00:01\r",
      "\u001b[K     |█████████████▌                  | 81kB 18.3MB/s eta 0:00:01\r",
      "\u001b[K     |███████████████▏                | 92kB 17.3MB/s eta 0:00:01\r",
      "\u001b[K     |█████████████████               | 102kB 17.1MB/s eta 0:00:01\r",
      "\u001b[K     |██████████████████▋             | 112kB 17.1MB/s eta 0:00:01\r",
      "\u001b[K     |████████████████████▎           | 122kB 17.1MB/s eta 0:00:01\r",
      "\u001b[K     |██████████████████████          | 133kB 17.1MB/s eta 0:00:01\r",
      "\u001b[K     |███████████████████████▊        | 143kB 17.1MB/s eta 0:00:01\r",
      "\u001b[K     |█████████████████████████▍      | 153kB 17.1MB/s eta 0:00:01\r",
      "\u001b[K     |███████████████████████████     | 163kB 17.1MB/s eta 0:00:01\r",
      "\u001b[K     |████████████████████████████▊   | 174kB 17.1MB/s eta 0:00:01\r",
      "\u001b[K     |██████████████████████████████▍ | 184kB 17.1MB/s eta 0:00:01\r",
      "\u001b[K     |████████████████████████████████| 194kB 17.1MB/s \n",
      "\u001b[?25hInstalling collected packages: fastai\n",
      "  Found existing installation: fastai 1.0.61\n",
      "    Uninstalling fastai-1.0.61:\n",
      "      Successfully uninstalled fastai-1.0.61\n",
      "Successfully installed fastai-2.3.0\n",
      "Collecting fastcore\n",
      "\u001b[?25l  Downloading https://files.pythonhosted.org/packages/0c/98/60404e2817cff113a6ae4023bc1772e23179408fdf7857fa410551758dfe/fastcore-1.3.19-py3-none-any.whl (53kB)\n",
      "\u001b[K     |████████████████████████████████| 61kB 7.3MB/s \n",
      "\u001b[?25hInstalling collected packages: fastcore\n",
      "Successfully installed fastcore-1.3.19\n"
     ]
    }
   ],
   "source": [
    "!pip install --upgrade --no-deps fastai\n",
    "!pip install --upgrade --no-deps fastcore"
   ]
  },
  {
   "cell_type": "markdown",
   "metadata": {
    "id": "4nMWpzTZTe34"
   },
   "source": [
    "#### Imports"
   ]
  },
  {
   "cell_type": "code",
   "execution_count": 2,
   "metadata": {
    "id": "Q3PqERIsTe35"
   },
   "outputs": [],
   "source": [
    "from fastai.text.all import * # We need fastai version 2 for this\n",
    "from pathlib import Path"
   ]
  },
  {
   "cell_type": "markdown",
   "metadata": {
    "id": "Cg4383QcTe36"
   },
   "source": [
    "#### Check GPU usage"
   ]
  },
  {
   "cell_type": "code",
   "execution_count": 3,
   "metadata": {
    "colab": {
     "base_uri": "https://localhost:8080/"
    },
    "id": "hlbPR0Q2Te36",
    "outputId": "0f35aebf-48c9-4e2d-b5af-5452c33379ea"
   },
   "outputs": [
    {
     "name": "stdout",
     "output_type": "stream",
     "text": [
      "Using GPU: Tesla T4\n"
     ]
    }
   ],
   "source": [
    "if torch.cuda.is_available():\n",
    "    print(\"Using GPU:\", torch.cuda.get_device_name(0))\n",
    "else:\n",
    "    print(\"WARNING: Not GPU detected\")"
   ]
  },
  {
   "cell_type": "markdown",
   "metadata": {
    "id": "QGHthxX6Te37"
   },
   "source": [
    "# Get data"
   ]
  },
  {
   "cell_type": "code",
   "execution_count": 7,
   "metadata": {
    "id": "KeTI_aI6Te38"
   },
   "outputs": [],
   "source": [
    "CLOUD = True "
   ]
  },
  {
   "cell_type": "code",
   "execution_count": 8,
   "metadata": {
    "colab": {
     "base_uri": "https://localhost:8080/",
     "height": 34
    },
    "id": "UUWOEddoTe39",
    "outputId": "63e3b558-6dd9-4734-8a46-3d9adbab3f17"
   },
   "outputs": [
    {
     "data": {
      "text/html": [],
      "text/plain": [
       "<IPython.core.display.HTML object>"
      ]
     },
     "metadata": {
      "tags": []
     },
     "output_type": "display_data"
    },
    {
     "name": "stdout",
     "output_type": "stream",
     "text": [
      "Dataset is loacted at: /root/.fastai/data/imdb\n"
     ]
    }
   ],
   "source": [
    "if CLOUD:\n",
    "    # Download the data from internet\n",
    "    # If you are using cloud platforms\n",
    "    # like Google Colab or Kaggle kernels\n",
    "    data_path = untar_data(URLs.IMDB)\n",
    "else:\n",
    "    # Point to the path where the data is\n",
    "    # located at your local machine\n",
    "    data_path = Path(\"../../Datasets/NLP/IMBd\")\n",
    "    \n",
    "print(\"Dataset is loacted at:\", data_path)"
   ]
  },
  {
   "cell_type": "code",
   "execution_count": 9,
   "metadata": {
    "colab": {
     "base_uri": "https://localhost:8080/"
    },
    "id": "q4Jt84ABTe3-",
    "outputId": "05b726d4-9df7-46ac-f19a-6aeeb35aa661"
   },
   "outputs": [
    {
     "name": "stdout",
     "output_type": "stream",
     "text": [
      "Train: 25000 reviews\n",
      "Test:  25000 reviews\n",
      "Unsup: 50000 reviews\n"
     ]
    }
   ],
   "source": [
    "print(\"Train:\", len(list( (data_path/\"train\").glob('**/*.txt') )), \"reviews\")\n",
    "print(\"Test: \", len(list( (data_path/\"test\").glob('**/*.txt')  )), \"reviews\")\n",
    "print(\"Unsup:\", len(list( (data_path/\"unsup\").glob('**/*.txt') )), \"reviews\")"
   ]
  },
  {
   "cell_type": "markdown",
   "metadata": {
    "id": "khafUyn_Te3_"
   },
   "source": [
    "# Dataset"
   ]
  },
  {
   "cell_type": "code",
   "execution_count": 10,
   "metadata": {
    "colab": {
     "base_uri": "https://localhost:8080/"
    },
    "id": "I1HdLp1sTe4A",
    "outputId": "4d6c2b7b-7a4c-48ab-b427-8707ef52c439"
   },
   "outputs": [
    {
     "data": {
      "text/plain": [
       "(#100000) [Path('/root/.fastai/data/imdb/train/neg/11850_3.txt'),Path('/root/.fastai/data/imdb/train/neg/11981_4.txt'),Path('/root/.fastai/data/imdb/train/neg/7924_1.txt'),Path('/root/.fastai/data/imdb/train/neg/6308_1.txt'),Path('/root/.fastai/data/imdb/train/neg/5460_4.txt'),Path('/root/.fastai/data/imdb/train/neg/284_2.txt'),Path('/root/.fastai/data/imdb/train/neg/11313_3.txt'),Path('/root/.fastai/data/imdb/train/neg/919_1.txt'),Path('/root/.fastai/data/imdb/train/neg/35_3.txt'),Path('/root/.fastai/data/imdb/train/neg/5452_4.txt')...]"
      ]
     },
     "execution_count": 10,
     "metadata": {
      "tags": []
     },
     "output_type": "execute_result"
    }
   ],
   "source": [
    "files = get_text_files(data_path, folders = ['train', 'test', 'unsup'])\n",
    "files"
   ]
  },
  {
   "cell_type": "code",
   "execution_count": 11,
   "metadata": {
    "colab": {
     "base_uri": "https://localhost:8080/",
     "height": 35
    },
    "id": "DGKyjpZpTe4A",
    "outputId": "96cd3610-beb6-4c6e-8e75-ab2f1a8e8466"
   },
   "outputs": [
    {
     "data": {
      "application/vnd.google.colaboratory.intrinsic+json": {
       "type": "string"
      },
      "text/plain": [
       "'\"Rival reporters Pat Morgan (Ginger Rogers) and Ted Rand (Lyle Talbot) are '"
      ]
     },
     "execution_count": 11,
     "metadata": {
      "tags": []
     },
     "output_type": "execute_result"
    }
   ],
   "source": [
    "txt = files[0].open().read()\n",
    "txt[:75]"
   ]
  },
  {
   "cell_type": "markdown",
   "metadata": {
    "id": "gbNc0Bz1Te4B"
   },
   "source": [
    "## Dataloader\n",
    "\n",
    "At every epoch:\n",
    "\n",
    "1. **Shuffle** (sort randomly) our collection of texts.\n",
    "2. **Concatenate** the individual texts together into a big stream. \n",
    "3. **Cut** this stream into a certain number of batches (which is our batch size).\n",
    "   - For instance, if the stream has 50,000 tokens and we set a batch size of 10, this will give us 10 mini-streams of 5,000 tokens.\n",
    "   \n",
    "So to recap, at every epoch we shuffle our collection of documents and concatenate them into a stream of tokens. We then cut that stream into a batch of fixed-size consecutive mini-streams. Our model will then read the mini-streams in order, and thanks to an inner state, it will produce the same activation whatever sequence length we picked."
   ]
  },
  {
   "cell_type": "markdown",
   "metadata": {
    "id": "o8Z7HzUJTe4C"
   },
   "source": [
    "- takes 5 mins for tokenization in Kaggle\n",
    "- takes 1 mins for tokenization in local machine"
   ]
  },
  {
   "cell_type": "code",
   "execution_count": 12,
   "metadata": {
    "colab": {
     "base_uri": "https://localhost:8080/",
     "height": 17
    },
    "id": "ZK1VFJHDTe4D",
    "outputId": "c76bfaab-3817-4d12-9c15-0aa58b51e591"
   },
   "outputs": [
    {
     "data": {
      "text/html": [],
      "text/plain": [
       "<IPython.core.display.HTML object>"
      ]
     },
     "metadata": {
      "tags": []
     },
     "output_type": "display_data"
    }
   ],
   "source": [
    "get_imdb = partial(get_text_files, folders=['train', 'test', 'unsup'])\n",
    "\n",
    "imdb_dls_lm = DataBlock(\n",
    "    blocks    = TextBlock.from_folder(data_path, is_lm=True),\n",
    "    get_items = get_imdb,\n",
    "    splitter  = RandomSplitter(0.1)\n",
    ").dataloaders(data_path, path=data_path, bs=128, seq_len=80)"
   ]
  },
  {
   "cell_type": "code",
   "execution_count": 13,
   "metadata": {
    "colab": {
     "base_uri": "https://localhost:8080/",
     "height": 230
    },
    "id": "xutjvofKTe4D",
    "outputId": "40ef604f-a58a-4f50-93bb-35b6e4067a88"
   },
   "outputs": [
    {
     "data": {
      "text/html": [
       "<table border=\"1\" class=\"dataframe\">\n",
       "  <thead>\n",
       "    <tr style=\"text-align: right;\">\n",
       "      <th></th>\n",
       "      <th>text</th>\n",
       "      <th>text_</th>\n",
       "    </tr>\n",
       "  </thead>\n",
       "  <tbody>\n",
       "    <tr>\n",
       "      <th>0</th>\n",
       "      <td>xxbos xxmaj ha ! xxmaj what a romp ! xxmaj although not as funny … ' shooting xxmaj fish ' is in the same tradition as ' saving xxmaj grace ' and ' lock , xxmaj stock and xxmaj two xxmaj smoking xxmaj barrels . ' xxmaj very silly and very entertaining xxmaj british humor . xxmaj my daughter and i enjoyed several belly laughs with this one and she even figured out the title without having to be told</td>\n",
       "      <td>xxmaj ha ! xxmaj what a romp ! xxmaj although not as funny … ' shooting xxmaj fish ' is in the same tradition as ' saving xxmaj grace ' and ' lock , xxmaj stock and xxmaj two xxmaj smoking xxmaj barrels . ' xxmaj very silly and very entertaining xxmaj british humor . xxmaj my daughter and i enjoyed several belly laughs with this one and she even figured out the title without having to be told .</td>\n",
       "    </tr>\n",
       "    <tr>\n",
       "      <th>1</th>\n",
       "      <td>arrives at the hotel and composes a lovely new song about crickets . xxmaj that 's when his wife and fellow world renown singer , xxmaj anna xxmaj albert , arrived . xxmaj the critics seemed to favor her over xxmaj victor , so there was friction between them ; xxmaj stan and xxmaj ollie were put to work plucking chickens , and as soon as xxmaj stan noticed a xxmaj st . xxmaj bernard with a barrel of rum</td>\n",
       "      <td>at the hotel and composes a lovely new song about crickets . xxmaj that 's when his wife and fellow world renown singer , xxmaj anna xxmaj albert , arrived . xxmaj the critics seemed to favor her over xxmaj victor , so there was friction between them ; xxmaj stan and xxmaj ollie were put to work plucking chickens , and as soon as xxmaj stan noticed a xxmaj st . xxmaj bernard with a barrel of rum around</td>\n",
       "    </tr>\n",
       "  </tbody>\n",
       "</table>"
      ],
      "text/plain": [
       "<IPython.core.display.HTML object>"
      ]
     },
     "metadata": {
      "tags": []
     },
     "output_type": "display_data"
    }
   ],
   "source": [
    "imdb_dls_lm.show_batch(max_n=2)"
   ]
  },
  {
   "cell_type": "code",
   "execution_count": 14,
   "metadata": {
    "colab": {
     "base_uri": "https://localhost:8080/"
    },
    "id": "eXYulAA5Te4E",
    "outputId": "915694dd-a520-4f6a-bf21-785f9fba5cc1"
   },
   "outputs": [
    {
     "name": "stdout",
     "output_type": "stream",
     "text": [
      "['xxunk', 'xxpad', 'xxbos', 'xxeos', 'xxfld', 'xxrep', 'xxwrep', 'xxup', 'xxmaj', 'the', '.', ',', 'and', 'a', 'of', 'to', 'is', 'it', 'in', 'i', 'this', 'that', '\"', \"'s\", '-', 'was', '\\n\\n', 'as', 'with', 'for', 'movie', 'but', 'film', 'you', ')', 'on', \"n't\", '(', 'not', 'are', 'he', 'his', 'have', 'be', 'one', 'all', 'at', 'they', 'by', 'an', 'who', 'from', 'so', 'like', '!', 'there', 'or', 'just', 'her', 'do', 'about', 'has', 'out', \"'\", 'if', 'what', 'some', '?', 'good', 'when', 'more', 'very', 'she', 'up', 'would', 'no', '…', 'time', 'even', 'my', 'can', 'their', 'which', 'only', 'story', 'really', 'see', 'had', 'were', 'did', 'me', 'well', 'we', 'does', 'than', 'much', ':', 'could', 'bad', 'get']\n"
     ]
    }
   ],
   "source": [
    "print(imdb_dls_lm.vocab[:100])"
   ]
  },
  {
   "cell_type": "code",
   "execution_count": 15,
   "metadata": {
    "colab": {
     "base_uri": "https://localhost:8080/"
    },
    "id": "-r1mT5nHTe4F",
    "outputId": "2ccd5146-8204-43cb-8925-922185e11632"
   },
   "outputs": [
    {
     "data": {
      "text/plain": [
       "60008"
      ]
     },
     "execution_count": 15,
     "metadata": {
      "tags": []
     },
     "output_type": "execute_result"
    }
   ],
   "source": [
    "len(imdb_dls_lm.vocab)"
   ]
  },
  {
   "cell_type": "markdown",
   "metadata": {
    "id": "Mwoag0TxTe4F"
   },
   "source": [
    "# Create the Fastai learner (dataloader + model + loss)"
   ]
  },
  {
   "cell_type": "code",
   "execution_count": 16,
   "metadata": {
    "colab": {
     "base_uri": "https://localhost:8080/",
     "height": 17
    },
    "id": "_W8EayadTe4F",
    "outputId": "d7a63bad-31b8-4478-c175-2674c2370510"
   },
   "outputs": [
    {
     "data": {
      "text/html": [],
      "text/plain": [
       "<IPython.core.display.HTML object>"
      ]
     },
     "metadata": {
      "tags": []
     },
     "output_type": "display_data"
    }
   ],
   "source": [
    "learn = language_model_learner(\n",
    "    dls       = imdb_dls_lm,\n",
    "    arch      = AWD_LSTM,\n",
    "    drop_mult = 0.3, \n",
    "    metrics   = [accuracy, Perplexity()],\n",
    "    cbs       = [ShowGraphCallback]\n",
    ").to_fp16()"
   ]
  },
  {
   "cell_type": "markdown",
   "metadata": {
    "id": "FifmP3lBTe4G"
   },
   "source": [
    "### Text Generation BEFORE FINETUNNNG WITH IMDB (Just for fun :D)"
   ]
  },
  {
   "cell_type": "code",
   "execution_count": 17,
   "metadata": {
    "colab": {
     "base_uri": "https://localhost:8080/",
     "height": 190
    },
    "id": "RI0I-TXhTe4H",
    "outputId": "eb3f6de5-210f-40e0-bccd-4276a2d4aacf"
   },
   "outputs": [
    {
     "data": {
      "text/html": [],
      "text/plain": [
       "<IPython.core.display.HTML object>"
      ]
     },
     "metadata": {
      "tags": []
     },
     "output_type": "display_data"
    },
    {
     "data": {
      "text/html": [],
      "text/plain": [
       "<IPython.core.display.HTML object>"
      ]
     },
     "metadata": {
      "tags": []
     },
     "output_type": "display_data"
    },
    {
     "data": {
      "text/html": [],
      "text/plain": [
       "<IPython.core.display.HTML object>"
      ]
     },
     "metadata": {
      "tags": []
     },
     "output_type": "display_data"
    },
    {
     "data": {
      "text/html": [],
      "text/plain": [
       "<IPython.core.display.HTML object>"
      ]
     },
     "metadata": {
      "tags": []
     },
     "output_type": "display_data"
    },
    {
     "data": {
      "text/html": [],
      "text/plain": [
       "<IPython.core.display.HTML object>"
      ]
     },
     "metadata": {
      "tags": []
     },
     "output_type": "display_data"
    },
    {
     "name": "stdout",
     "output_type": "stream",
     "text": [
      "The George Lucas film Who Stole James Bond = = = The James Bond Story , also known as John Lucas Lucas Lucas ( Texas\n",
      "\n",
      "The Innate Ability = = AUTOMOBILE Learning is an application of the Communication Devices ( GPS ) system , developed by National Institute of Technology Research ( PLIGHTS )\n",
      "\n",
      "The Survival of Animals : The Complete Guide to the Animals , Animals , and Animals : The Life and Work of Charles Animals , Vol .\n",
      "\n",
      "The F-- Programme = = as The Programme and the Mechanism of Public Policy ( English : Consciousness ) ( English : \" The Programme \" ) is a\n",
      "\n",
      "The Walking Man = ( The Walking Man ) is a 1985 television documentary by Dirk Academy that depicts the life of a young young man ( Joseph Harris ) , who\n"
     ]
    }
   ],
   "source": [
    "TEXT        = \"The\"\n",
    "N_WORDS     = 40\n",
    "N_SENTENCES = 5\n",
    "\n",
    "preds = [learn.predict(TEXT, N_WORDS, temperature=0.75) for _ in range(N_SENTENCES)]\n",
    "\n",
    "print(\"\\n\\n\".join(preds))"
   ]
  },
  {
   "cell_type": "markdown",
   "metadata": {
    "id": "rwQzh98UTe4I"
   },
   "source": [
    "## Fine-Tuning the Language Model with IMDB\n",
    "- This takes 24:46 mins on GTX 1080ti 11GB\n",
    "- This takes 27:48 mins on Tesla P100 16GB (Kaggle GPU)\n",
    "- This takes ~22mins mins on Tesla T4 (Colab GPU)\n",
    "- This takes >30mins mins on Tesla K80 (Colab GPU)"
   ]
  },
  {
   "cell_type": "code",
   "execution_count": 18,
   "metadata": {
    "colab": {
     "base_uri": "https://localhost:8080/",
     "height": 328
    },
    "id": "VUQAu5z6Te4J",
    "outputId": "33be0fc2-3445-4808-eef5-6a53608aa110"
   },
   "outputs": [
    {
     "data": {
      "text/html": [
       "<table border=\"1\" class=\"dataframe\">\n",
       "  <thead>\n",
       "    <tr style=\"text-align: left;\">\n",
       "      <th>epoch</th>\n",
       "      <th>train_loss</th>\n",
       "      <th>valid_loss</th>\n",
       "      <th>accuracy</th>\n",
       "      <th>perplexity</th>\n",
       "      <th>time</th>\n",
       "    </tr>\n",
       "  </thead>\n",
       "  <tbody>\n",
       "    <tr>\n",
       "      <td>0</td>\n",
       "      <td>4.004655</td>\n",
       "      <td>3.902814</td>\n",
       "      <td>0.300404</td>\n",
       "      <td>49.541683</td>\n",
       "      <td>20:53</td>\n",
       "    </tr>\n",
       "  </tbody>\n",
       "</table>"
      ],
      "text/plain": [
       "<IPython.core.display.HTML object>"
      ]
     },
     "metadata": {
      "tags": []
     },
     "output_type": "display_data"
    },
    {
     "data": {
      "image/png": "[encoded data removed]",
      "text/plain": [
       "<Figure size 432x288 with 1 Axes>"
      ]
     },
     "metadata": {
      "tags": []
     },
     "output_type": "display_data"
    }
   ],
   "source": [
    "learn.fit_one_cycle(1, 2e-2)"
   ]
  },
  {
   "cell_type": "markdown",
   "metadata": {
    "id": "rwGLE5I5Te4K"
   },
   "source": [
    "### Saving and Loading Models\n",
    "You can easily save the state of your model like so:"
   ]
  },
  {
   "cell_type": "code",
   "execution_count": 19,
   "metadata": {
    "colab": {
     "base_uri": "https://localhost:8080/"
    },
    "id": "adTnn_02Te4L",
    "outputId": "a329cbd7-93c4-44d1-968d-7fc466ea45a8"
   },
   "outputs": [
    {
     "data": {
      "text/plain": [
       "Path('/root/.fastai/data/imdb/models/IMDb_LM_1epoch_frozen.pth')"
      ]
     },
     "execution_count": 19,
     "metadata": {
      "tags": []
     },
     "output_type": "execute_result"
    }
   ],
   "source": [
    "learn.save('IMDb_LM_1epoch_frozen')"
   ]
  },
  {
   "cell_type": "code",
   "execution_count": 20,
   "metadata": {
    "colab": {
     "base_uri": "https://localhost:8080/"
    },
    "id": "0Sbmc6IOTe4M",
    "outputId": "f461fc2f-3c17-43df-87ab-f31d45f5249e"
   },
   "outputs": [
    {
     "data": {
      "text/plain": [
       "Path('/root/.fastai/data/imdb')"
      ]
     },
     "execution_count": 20,
     "metadata": {
      "tags": []
     },
     "output_type": "execute_result"
    }
   ],
   "source": [
    "learn.path"
   ]
  },
  {
   "cell_type": "markdown",
   "metadata": {
    "id": "KUFGuv1lTe4N"
   },
   "source": [
    "This will create a file in `learn.path/models/` named *IMDb_LM_1epoch_frozen.pth*. If you want to load your model in another machine after creating your `Learner` the same way, or resume training later, you can load the content of this file with:"
   ]
  },
  {
   "cell_type": "code",
   "execution_count": 21,
   "metadata": {
    "id": "BsshG9-mTe4N"
   },
   "outputs": [],
   "source": [
    "learn = learn.load('IMDb_LM_1epoch_frozen')"
   ]
  },
  {
   "cell_type": "markdown",
   "metadata": {
    "id": "4QxIHZ7gTe4O"
   },
   "source": [
    "Once the initial training has completed, we can continue fine-tuning the model after unfreezing:"
   ]
  },
  {
   "cell_type": "code",
   "execution_count": 22,
   "metadata": {
    "colab": {
     "base_uri": "https://localhost:8080/",
     "height": 607
    },
    "id": "KLES18FKTe4O",
    "outputId": "a29d085e-2a69-43e0-c92a-92efdb24f7b2"
   },
   "outputs": [
    {
     "data": {
      "text/html": [
       "<table border=\"1\" class=\"dataframe\">\n",
       "  <thead>\n",
       "    <tr style=\"text-align: left;\">\n",
       "      <th>epoch</th>\n",
       "      <th>train_loss</th>\n",
       "      <th>valid_loss</th>\n",
       "      <th>accuracy</th>\n",
       "      <th>perplexity</th>\n",
       "      <th>time</th>\n",
       "    </tr>\n",
       "  </thead>\n",
       "  <tbody>\n",
       "    <tr>\n",
       "      <td>0</td>\n",
       "      <td>3.767700</td>\n",
       "      <td>3.760485</td>\n",
       "      <td>0.316909</td>\n",
       "      <td>42.969246</td>\n",
       "      <td>22:05</td>\n",
       "    </tr>\n",
       "    <tr>\n",
       "      <td>1</td>\n",
       "      <td>3.710684</td>\n",
       "      <td>3.700438</td>\n",
       "      <td>0.323593</td>\n",
       "      <td>40.465015</td>\n",
       "      <td>22:12</td>\n",
       "    </tr>\n",
       "    <tr>\n",
       "      <td>2</td>\n",
       "      <td>3.620165</td>\n",
       "      <td>3.654345</td>\n",
       "      <td>0.328940</td>\n",
       "      <td>38.642204</td>\n",
       "      <td>22:33</td>\n",
       "    </tr>\n",
       "    <tr>\n",
       "      <td>3</td>\n",
       "      <td>3.558323</td>\n",
       "      <td>3.617564</td>\n",
       "      <td>0.332885</td>\n",
       "      <td>37.246731</td>\n",
       "      <td>22:31</td>\n",
       "    </tr>\n",
       "    <tr>\n",
       "      <td>4</td>\n",
       "      <td>3.483694</td>\n",
       "      <td>3.596979</td>\n",
       "      <td>0.335607</td>\n",
       "      <td>36.487850</td>\n",
       "      <td>22:47</td>\n",
       "    </tr>\n",
       "    <tr>\n",
       "      <td>5</td>\n",
       "      <td>3.416519</td>\n",
       "      <td>3.582272</td>\n",
       "      <td>0.337814</td>\n",
       "      <td>35.955139</td>\n",
       "      <td>22:48</td>\n",
       "    </tr>\n",
       "    <tr>\n",
       "      <td>6</td>\n",
       "      <td>3.360837</td>\n",
       "      <td>3.571783</td>\n",
       "      <td>0.339578</td>\n",
       "      <td>35.579967</td>\n",
       "      <td>22:34</td>\n",
       "    </tr>\n",
       "    <tr>\n",
       "      <td>7</td>\n",
       "      <td>3.298791</td>\n",
       "      <td>3.569939</td>\n",
       "      <td>0.340465</td>\n",
       "      <td>35.514431</td>\n",
       "      <td>22:46</td>\n",
       "    </tr>\n",
       "    <tr>\n",
       "      <td>8</td>\n",
       "      <td>3.244631</td>\n",
       "      <td>3.572859</td>\n",
       "      <td>0.340576</td>\n",
       "      <td>35.618275</td>\n",
       "      <td>22:30</td>\n",
       "    </tr>\n",
       "    <tr>\n",
       "      <td>9</td>\n",
       "      <td>3.207558</td>\n",
       "      <td>3.577470</td>\n",
       "      <td>0.340391</td>\n",
       "      <td>35.782890</td>\n",
       "      <td>22:34</td>\n",
       "    </tr>\n",
       "  </tbody>\n",
       "</table>"
      ],
      "text/plain": [
       "<IPython.core.display.HTML object>"
      ]
     },
     "metadata": {
      "tags": []
     },
     "output_type": "display_data"
    },
    {
     "data": {
      "image/png": "[encoded data removed]",
      "text/plain": [
       "<Figure size 432x288 with 1 Axes>"
      ]
     },
     "metadata": {
      "tags": []
     },
     "output_type": "display_data"
    }
   ],
   "source": [
    "learn.unfreeze()\n",
    "learn.fit_one_cycle(10, 2e-3)"
   ]
  },
  {
   "cell_type": "markdown",
   "metadata": {
    "id": "-7y3jmsHTe4P"
   },
   "source": [
    "Once this is done, we save all of our model except the final layer that converts activations to probabilities of picking each token in our vocabulary. The model not including the final layer is called the *encoder*. We can save it with `save_encoder`:"
   ]
  },
  {
   "cell_type": "code",
   "execution_count": 23,
   "metadata": {
    "id": "o-vGVeZRTe4Q"
   },
   "outputs": [],
   "source": [
    "learn.save_encoder('finetuned_IMDb_LM')"
   ]
  },
  {
   "cell_type": "markdown",
   "metadata": {
    "id": "sDa9fCKnTe4Q"
   },
   "source": [
    "> jargon: Encoder: The model not including the task-specific final layer(s). This term means much the same thing as _body_ when applied to vision CNNs, but \"encoder\" tends to be more used for NLP and generative models.\n",
    "\n",
    "This completes the second stage of the text classification process: fine-tuning the language model. We can now use it to fine-tune a classifier using the IMDb sentiment labels."
   ]
  },
  {
   "cell_type": "markdown",
   "metadata": {
    "id": "cTbTgq9YTe4R"
   },
   "source": [
    "### Text Generation AFTER FINETUNNNG WITH IMDB (Just for fun :D)\n",
    "Before we move on to fine-tuning the classifier, let's quickly try something different: using our model to generate random reviews. Since it's trained to guess what the next word of the sentence is, we can use the model to write new reviews:"
   ]
  },
  {
   "cell_type": "code",
   "execution_count": 24,
   "metadata": {
    "colab": {
     "base_uri": "https://localhost:8080/",
     "height": 190
    },
    "id": "62cP6_huTe4S",
    "outputId": "d4cd9405-05c6-4807-e411-4c2f87d9ee8c"
   },
   "outputs": [
    {
     "data": {
      "text/html": [],
      "text/plain": [
       "<IPython.core.display.HTML object>"
      ]
     },
     "metadata": {
      "tags": []
     },
     "output_type": "display_data"
    },
    {
     "data": {
      "text/html": [],
      "text/plain": [
       "<IPython.core.display.HTML object>"
      ]
     },
     "metadata": {
      "tags": []
     },
     "output_type": "display_data"
    },
    {
     "data": {
      "text/html": [],
      "text/plain": [
       "<IPython.core.display.HTML object>"
      ]
     },
     "metadata": {
      "tags": []
     },
     "output_type": "display_data"
    },
    {
     "data": {
      "text/html": [],
      "text/plain": [
       "<IPython.core.display.HTML object>"
      ]
     },
     "metadata": {
      "tags": []
     },
     "output_type": "display_data"
    },
    {
     "data": {
      "text/html": [],
      "text/plain": [
       "<IPython.core.display.HTML object>"
      ]
     },
     "metadata": {
      "tags": []
     },
     "output_type": "display_data"
    },
    {
     "name": "stdout",
     "output_type": "stream",
     "text": [
      "The Jazz Singer is a wonderful movie , a must see for all opera lovers ! It is the story of the Jazz Singer Billie Holliday , who takes to singing , dancing ,\n",
      "\n",
      "The Merchant of Venice is set in Rome during the Second World War , and is set in a Greek island . The city is a Greek island , so the\n",
      "\n",
      "The Time Traveler 's Wife is a film that has the power to pull off great chemistry , especially with great direction from Peter Hyams , who also wrote the film . The film is\n",
      "\n",
      "The original Bubble was in the ' 63 movie , \" the Bubble \" , and was the best movie ever made . It was the Israeli equivalent of The Godfather II , and\n",
      "\n",
      "The famous French film \" la Lollo De La Putain \" ( directed by Maria Schrader ) tells the story of Crown Queen Mathieu ( belmondo ) , a French\n"
     ]
    }
   ],
   "source": [
    "TEXT        = \"The\"\n",
    "N_WORDS     = 40\n",
    "N_SENTENCES = 5\n",
    "\n",
    "preds = [learn.predict(TEXT, N_WORDS, temperature=0.75) for _ in range(N_SENTENCES)]\n",
    "\n",
    "print(\"\\n\\n\".join(preds))"
   ]
  },
  {
   "cell_type": "code",
   "execution_count": 25,
   "metadata": {
    "colab": {
     "base_uri": "https://localhost:8080/",
     "height": 224
    },
    "id": "10MFYIzKTe4S",
    "outputId": "47b08c4d-3243-40ff-83e4-2915a1ed841e"
   },
   "outputs": [
    {
     "data": {
      "text/html": [],
      "text/plain": [
       "<IPython.core.display.HTML object>"
      ]
     },
     "metadata": {
      "tags": []
     },
     "output_type": "display_data"
    },
    {
     "data": {
      "text/html": [],
      "text/plain": [
       "<IPython.core.display.HTML object>"
      ]
     },
     "metadata": {
      "tags": []
     },
     "output_type": "display_data"
    },
    {
     "data": {
      "text/html": [],
      "text/plain": [
       "<IPython.core.display.HTML object>"
      ]
     },
     "metadata": {
      "tags": []
     },
     "output_type": "display_data"
    },
    {
     "data": {
      "text/html": [],
      "text/plain": [
       "<IPython.core.display.HTML object>"
      ]
     },
     "metadata": {
      "tags": []
     },
     "output_type": "display_data"
    },
    {
     "data": {
      "text/html": [],
      "text/plain": [
       "<IPython.core.display.HTML object>"
      ]
     },
     "metadata": {
      "tags": []
     },
     "output_type": "display_data"
    },
    {
     "name": "stdout",
     "output_type": "stream",
     "text": [
      "i liked this movie because of it 's unique style . The \" official \" review was written by Lee Van Cleef as Big Brother and i had n't heard of it from he 's Dads Army\n",
      "\n",
      "i liked this movie because it showed a lot of men and women who were afraid of being married . It had a good story and a great cast that did n't want to change each other . It 's a must see\n",
      "\n",
      "i liked this movie because it had a couple of good jokes , and i thought the plot was pretty good . \n",
      "\n",
      " The previews made it look like a movie , but it just did n't work out . But it 's\n",
      "\n",
      "i liked this movie because it was the first movie i have seen Richard Grieco to be in but i still liked it . i do n't know if this is a movie or not , but i think that it is a\n",
      "\n",
      "i liked this movie because it was so smart , and had an interesting story . i see that people are n't still much into this movie , but if you like this kind of movies , you might like this one . i did\n"
     ]
    }
   ],
   "source": [
    "TEXT        = \"I liked this movie because\"\n",
    "N_WORDS     = 40\n",
    "N_SENTENCES = 5\n",
    "\n",
    "preds = [learn.predict(TEXT, N_WORDS, temperature=0.75) for _ in range(N_SENTENCES)]\n",
    "\n",
    "print(\"\\n\\n\".join(preds))"
   ]
  },
  {
   "cell_type": "markdown",
   "metadata": {
    "id": "Sav-1AeDTe4T"
   },
   "source": [
    "As you can see, we add some randomness (we pick a random word based on the probabilities returned by the model) so we don't get exactly the same review twice. Our model doesn't have any programmed knowledge of the structure of a sentence or grammar rules, yet it has clearly learned a lot about English sentences: we can see it capitalizes properly (*I* is just transformed to *i* because our rules require two characters or more to consider a word as capitalized, so it's normal to see it lowercased) and is using consistent tense. The general review makes sense at first glance, and it's only if you read carefully that you can notice something is a bit off. Not bad for a model trained in a couple of hours! \n",
    "\n",
    "But our end goal wasn't to train a model to generate reviews, but to classify them... so let's use this model to do just that."
   ]
  },
  {
   "cell_type": "markdown",
   "metadata": {
    "id": "bzSNA1cJTe4U"
   },
   "source": [
    "# <center> END\n",
    "<center> We have fintuned the Language Model with the IMDb dataset.\n",
    "<center> The next step is using that model to train a classifier."
   ]
  }
 ],
 "metadata": {
  "accelerator": "GPU",
  "colab": {
   "name": "2. Exercise - LM of IMDb (Fastai).ipynb",
   "provenance": []
  },
  "kernelspec": {
   "display_name": "Python 3",
   "language": "python",
   "name": "python3"
  },
  "language_info": {
   "codemirror_mode": {
    "name": "ipython",
    "version": 3
   },
   "file_extension": ".py",
   "mimetype": "text/x-python",
   "name": "python",
   "nbconvert_exporter": "python",
   "pygments_lexer": "ipython3",
   "version": "3.8.5"
  }
 },
 "nbformat": 4,
 "nbformat_minor": 1
}
