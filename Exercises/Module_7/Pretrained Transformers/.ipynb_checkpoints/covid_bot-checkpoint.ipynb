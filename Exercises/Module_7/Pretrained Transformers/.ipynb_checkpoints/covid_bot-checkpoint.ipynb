{
 "cells": [
  {
   "cell_type": "code",
   "execution_count": 1,
   "id": "016703c7",
   "metadata": {
    "ExecuteTime": {
     "end_time": "2021-04-29T15:13:14.493276Z",
     "start_time": "2021-04-29T15:13:07.149421Z"
    }
   },
   "outputs": [],
   "source": [
    "from transformers import pipeline"
   ]
  },
  {
   "cell_type": "code",
   "execution_count": 2,
   "id": "6efb08c1",
   "metadata": {
    "ExecuteTime": {
     "end_time": "2021-04-29T15:13:44.032058Z",
     "start_time": "2021-04-29T15:13:35.338537Z"
    }
   },
   "outputs": [],
   "source": [
    "nlp = pipeline(\"question-answering\")"
   ]
  },
  {
   "cell_type": "code",
   "execution_count": 56,
   "id": "d18de2be",
   "metadata": {
    "ExecuteTime": {
     "end_time": "2021-04-29T15:49:23.146614Z",
     "start_time": "2021-04-29T15:49:23.141694Z"
    }
   },
   "outputs": [],
   "source": [
    "with open('covid.txt') as f:\n",
    "    covid = f.readlines() "
   ]
  },
  {
   "cell_type": "code",
   "execution_count": 57,
   "id": "0b6501e6",
   "metadata": {
    "ExecuteTime": {
     "end_time": "2021-04-29T15:50:52.902377Z",
     "start_time": "2021-04-29T15:50:52.896596Z"
    }
   },
   "outputs": [],
   "source": [
    "context = ' '.join(covid)"
   ]
  },
  {
   "cell_type": "code",
   "execution_count": 62,
   "id": "78ee2465",
   "metadata": {
    "ExecuteTime": {
     "end_time": "2021-04-29T15:51:55.143837Z",
     "start_time": "2021-04-29T15:51:55.138300Z"
    }
   },
   "outputs": [
    {
     "name": "stdout",
     "output_type": "stream",
     "text": [
      "Coronavirus disease 2019 (COVID-19), also known as the coronavirus or COVID, is a contagious disease caused by severe acute respiratory syndrome coronavirus 2 (SARS-CoV-2). The first known case was identified in Wuhan, China, in December 2019. The disease has since spread worldwide, leading to an ongoing pandemic.\n",
      " \n",
      " Symptoms of COVID-19 are variable, but often include fever, cough, headache, fatigue, breathing difficulties, and loss of smell and taste. Symptoms may begin one to fourteen days after exposure to the virus. At least a third of people who are infected do not develop noticeable symptoms. Of those people who develop noticeable symptoms enough to be classed as patients, most (81%) develop mild to moderate symptoms (up to mild pneumonia), while 14% develop severe symptoms (dyspnea, hypoxia, or more than 50% lung involvement on imaging), and 5% suffer critical symptoms (respiratory failure, shock, or multiorgan dysfunction). Older people are at a higher risk of developing severe symptoms. Some people continue to experience a range of effects (long COVID) for months after recovery, and damage to organs has been observed. Multi-year studies are underway to further investigate the long-term effects of the disease.\n",
      " \n",
      " Transmission of COVID-19 occurs mainly when an infected person is in close contact with another person. Small droplets containing the virus can spread from an infected person's nose and mouth as they breathe, cough, sneeze, sing, or speak. Other people are infected if the virus gets into their mouth, nose or eyes. Airborne transmission is also sometimes possible, as smaller infected droplets and particles can linger in the air for minutes to hours within enclosed spaces that have inadequate ventilation. Less commonly, the virus may spread via contaminated surfaces. People who are infected can transmit the virus to another person up to two days before they themselves show symptoms, as can people who do not experience symptoms. People remain infectious for up to ten days after the onset of symptoms in moderate cases and up to twenty days in severe cases.\n",
      " \n",
      " Several testing methods have been developed to diagnose the disease. The standard diagnostic method is by detection of the virus' nucleic acid by real-time reverse transcription polymerase chain reaction (rRT-PCR), transcription-mediated amplification (TMA), or by reverse transcription loop-mediated isothermal amplification (RT-LAMP) from a nasopharyngeal swab.\n",
      " \n",
      " Preventive measures include physical or social distancing, quarantining, ventilation of indoor spaces, covering coughs and sneezes, hand washing, and keeping unwashed hands away from the face. The use of face masks or coverings has been recommended in public settings to minimise the risk of transmissions. Several vaccines have been developed and many countries have initiated mass vaccination campaigns.\n",
      " \n",
      " Although work is underway to develop drugs that inhibit the virus, the primary treatment is symptomatic. Management involves the treatment of symptoms, supportive care, isolation, and experimental measures.\n",
      " \n",
      "\n"
     ]
    }
   ],
   "source": [
    "print(context)"
   ]
  },
  {
   "cell_type": "code",
   "execution_count": 86,
   "id": "8a9f351d",
   "metadata": {
    "ExecuteTime": {
     "end_time": "2021-04-29T16:05:10.155429Z",
     "start_time": "2021-04-29T16:05:08.187761Z"
    }
   },
   "outputs": [],
   "source": [
    "result = nlp(question=\"How can you manage COVID-19?\", context=context) "
   ]
  },
  {
   "cell_type": "code",
   "execution_count": 87,
   "id": "4281e5ae",
   "metadata": {
    "ExecuteTime": {
     "end_time": "2021-04-29T16:05:11.422201Z",
     "start_time": "2021-04-29T16:05:11.417474Z"
    }
   },
   "outputs": [
    {
     "name": "stdout",
     "output_type": "stream",
     "text": [
      "Answer: 'the treatment of symptoms, supportive care, isolation, and experimental measures'\n"
     ]
    }
   ],
   "source": [
    "print(f\"Answer: '{result['answer']}'\")"
   ]
  },
  {
   "cell_type": "code",
   "execution_count": null,
   "id": "65a50338",
   "metadata": {},
   "outputs": [],
   "source": []
  }
 ],
 "metadata": {
  "kernelspec": {
   "display_name": "Python 3",
   "language": "python",
   "name": "python3"
  },
  "language_info": {
   "codemirror_mode": {
    "name": "ipython",
    "version": 3
   },
   "file_extension": ".py",
   "mimetype": "text/x-python",
   "name": "python",
   "nbconvert_exporter": "python",
   "pygments_lexer": "ipython3",
   "version": "3.8.8"
  }
 },
 "nbformat": 4,
 "nbformat_minor": 5
}
