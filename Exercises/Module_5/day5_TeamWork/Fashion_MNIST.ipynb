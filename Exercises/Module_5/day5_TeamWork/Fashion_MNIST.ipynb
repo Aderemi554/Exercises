{
  "nbformat": 4,
  "nbformat_minor": 0,
  "metadata": {
    "orig_nbformat": 2,
    "deepnote_notebook_id": "78915d43-0cf2-4cc4-b74e-df2016187b03",
    "deepnote": {},
    "deepnote_execution_queue": [],
    "colab": {
      "name": "Aderemi.ipynb",
      "provenance": [],
      "collapsed_sections": []
    },
    "kernelspec": {
      "name": "python3",
      "display_name": "Python 3"
    },
    "widgets": {
      "application/vnd.jupyter.widget-state+json": {
        "3b1252068d55482ba2a8b1e4d92b738e": {
          "model_module": "@jupyter-widgets/controls",
          "model_name": "HBoxModel",
          "state": {
            "_view_name": "HBoxView",
            "_dom_classes": [],
            "_model_name": "HBoxModel",
            "_view_module": "@jupyter-widgets/controls",
            "_model_module_version": "1.5.0",
            "_view_count": null,
            "_view_module_version": "1.5.0",
            "box_style": "",
            "layout": "IPY_MODEL_9e75f57f69534667bb203fe8dd9e1e5d",
            "_model_module": "@jupyter-widgets/controls",
            "children": [
              "IPY_MODEL_6526462c5acb49ffba0d9a906bbb8f79",
              "IPY_MODEL_f48a500e9413489aac1f886dfaa248a4"
            ]
          }
        },
        "9e75f57f69534667bb203fe8dd9e1e5d": {
          "model_module": "@jupyter-widgets/base",
          "model_name": "LayoutModel",
          "state": {
            "_view_name": "LayoutView",
            "grid_template_rows": null,
            "right": null,
            "justify_content": null,
            "_view_module": "@jupyter-widgets/base",
            "overflow": null,
            "_model_module_version": "1.2.0",
            "_view_count": null,
            "flex_flow": null,
            "width": null,
            "min_width": null,
            "border": null,
            "align_items": null,
            "bottom": null,
            "_model_module": "@jupyter-widgets/base",
            "top": null,
            "grid_column": null,
            "overflow_y": null,
            "overflow_x": null,
            "grid_auto_flow": null,
            "grid_area": null,
            "grid_template_columns": null,
            "flex": null,
            "_model_name": "LayoutModel",
            "justify_items": null,
            "grid_row": null,
            "max_height": null,
            "align_content": null,
            "visibility": null,
            "align_self": null,
            "height": null,
            "min_height": null,
            "padding": null,
            "grid_auto_rows": null,
            "grid_gap": null,
            "max_width": null,
            "order": null,
            "_view_module_version": "1.2.0",
            "grid_template_areas": null,
            "object_position": null,
            "object_fit": null,
            "grid_auto_columns": null,
            "margin": null,
            "display": null,
            "left": null
          }
        },
        "6526462c5acb49ffba0d9a906bbb8f79": {
          "model_module": "@jupyter-widgets/controls",
          "model_name": "FloatProgressModel",
          "state": {
            "_view_name": "ProgressView",
            "style": "IPY_MODEL_c0d2a793d3234244bfe639355ebf1906",
            "_dom_classes": [],
            "description": "",
            "_model_name": "FloatProgressModel",
            "bar_style": "info",
            "max": 1,
            "_view_module": "@jupyter-widgets/controls",
            "_model_module_version": "1.5.0",
            "value": 1,
            "_view_count": null,
            "_view_module_version": "1.5.0",
            "orientation": "horizontal",
            "min": 0,
            "description_tooltip": null,
            "_model_module": "@jupyter-widgets/controls",
            "layout": "IPY_MODEL_eab6eaa81bab402abca7f2fed6c30e67"
          }
        },
        "f48a500e9413489aac1f886dfaa248a4": {
          "model_module": "@jupyter-widgets/controls",
          "model_name": "HTMLModel",
          "state": {
            "_view_name": "HTMLView",
            "style": "IPY_MODEL_08443b9b7354415485110680703fead4",
            "_dom_classes": [],
            "description": "",
            "_model_name": "HTMLModel",
            "placeholder": "​",
            "_view_module": "@jupyter-widgets/controls",
            "_model_module_version": "1.5.0",
            "value": " 26427392/? [00:20&lt;00:00, 11819540.04it/s]",
            "_view_count": null,
            "_view_module_version": "1.5.0",
            "description_tooltip": null,
            "_model_module": "@jupyter-widgets/controls",
            "layout": "IPY_MODEL_d559294ecb484a36b33001c1a35f3b41"
          }
        },
        "c0d2a793d3234244bfe639355ebf1906": {
          "model_module": "@jupyter-widgets/controls",
          "model_name": "ProgressStyleModel",
          "state": {
            "_view_name": "StyleView",
            "_model_name": "ProgressStyleModel",
            "description_width": "initial",
            "_view_module": "@jupyter-widgets/base",
            "_model_module_version": "1.5.0",
            "_view_count": null,
            "_view_module_version": "1.2.0",
            "bar_color": null,
            "_model_module": "@jupyter-widgets/controls"
          }
        },
        "eab6eaa81bab402abca7f2fed6c30e67": {
          "model_module": "@jupyter-widgets/base",
          "model_name": "LayoutModel",
          "state": {
            "_view_name": "LayoutView",
            "grid_template_rows": null,
            "right": null,
            "justify_content": null,
            "_view_module": "@jupyter-widgets/base",
            "overflow": null,
            "_model_module_version": "1.2.0",
            "_view_count": null,
            "flex_flow": null,
            "width": null,
            "min_width": null,
            "border": null,
            "align_items": null,
            "bottom": null,
            "_model_module": "@jupyter-widgets/base",
            "top": null,
            "grid_column": null,
            "overflow_y": null,
            "overflow_x": null,
            "grid_auto_flow": null,
            "grid_area": null,
            "grid_template_columns": null,
            "flex": null,
            "_model_name": "LayoutModel",
            "justify_items": null,
            "grid_row": null,
            "max_height": null,
            "align_content": null,
            "visibility": null,
            "align_self": null,
            "height": null,
            "min_height": null,
            "padding": null,
            "grid_auto_rows": null,
            "grid_gap": null,
            "max_width": null,
            "order": null,
            "_view_module_version": "1.2.0",
            "grid_template_areas": null,
            "object_position": null,
            "object_fit": null,
            "grid_auto_columns": null,
            "margin": null,
            "display": null,
            "left": null
          }
        },
        "08443b9b7354415485110680703fead4": {
          "model_module": "@jupyter-widgets/controls",
          "model_name": "DescriptionStyleModel",
          "state": {
            "_view_name": "StyleView",
            "_model_name": "DescriptionStyleModel",
            "description_width": "",
            "_view_module": "@jupyter-widgets/base",
            "_model_module_version": "1.5.0",
            "_view_count": null,
            "_view_module_version": "1.2.0",
            "_model_module": "@jupyter-widgets/controls"
          }
        },
        "d559294ecb484a36b33001c1a35f3b41": {
          "model_module": "@jupyter-widgets/base",
          "model_name": "LayoutModel",
          "state": {
            "_view_name": "LayoutView",
            "grid_template_rows": null,
            "right": null,
            "justify_content": null,
            "_view_module": "@jupyter-widgets/base",
            "overflow": null,
            "_model_module_version": "1.2.0",
            "_view_count": null,
            "flex_flow": null,
            "width": null,
            "min_width": null,
            "border": null,
            "align_items": null,
            "bottom": null,
            "_model_module": "@jupyter-widgets/base",
            "top": null,
            "grid_column": null,
            "overflow_y": null,
            "overflow_x": null,
            "grid_auto_flow": null,
            "grid_area": null,
            "grid_template_columns": null,
            "flex": null,
            "_model_name": "LayoutModel",
            "justify_items": null,
            "grid_row": null,
            "max_height": null,
            "align_content": null,
            "visibility": null,
            "align_self": null,
            "height": null,
            "min_height": null,
            "padding": null,
            "grid_auto_rows": null,
            "grid_gap": null,
            "max_width": null,
            "order": null,
            "_view_module_version": "1.2.0",
            "grid_template_areas": null,
            "object_position": null,
            "object_fit": null,
            "grid_auto_columns": null,
            "margin": null,
            "display": null,
            "left": null
          }
        },
        "224bdfcbbf7a47c794e8a04e7eef5415": {
          "model_module": "@jupyter-widgets/controls",
          "model_name": "HBoxModel",
          "state": {
            "_view_name": "HBoxView",
            "_dom_classes": [],
            "_model_name": "HBoxModel",
            "_view_module": "@jupyter-widgets/controls",
            "_model_module_version": "1.5.0",
            "_view_count": null,
            "_view_module_version": "1.5.0",
            "box_style": "",
            "layout": "IPY_MODEL_9d9223ff299c42859ee2635f1c68dce8",
            "_model_module": "@jupyter-widgets/controls",
            "children": [
              "IPY_MODEL_909884bbf5b54e3cb5509bf6ef317ac5",
              "IPY_MODEL_625f9b9656bc45d59b38a9981be3dec5"
            ]
          }
        },
        "9d9223ff299c42859ee2635f1c68dce8": {
          "model_module": "@jupyter-widgets/base",
          "model_name": "LayoutModel",
          "state": {
            "_view_name": "LayoutView",
            "grid_template_rows": null,
            "right": null,
            "justify_content": null,
            "_view_module": "@jupyter-widgets/base",
            "overflow": null,
            "_model_module_version": "1.2.0",
            "_view_count": null,
            "flex_flow": null,
            "width": null,
            "min_width": null,
            "border": null,
            "align_items": null,
            "bottom": null,
            "_model_module": "@jupyter-widgets/base",
            "top": null,
            "grid_column": null,
            "overflow_y": null,
            "overflow_x": null,
            "grid_auto_flow": null,
            "grid_area": null,
            "grid_template_columns": null,
            "flex": null,
            "_model_name": "LayoutModel",
            "justify_items": null,
            "grid_row": null,
            "max_height": null,
            "align_content": null,
            "visibility": null,
            "align_self": null,
            "height": null,
            "min_height": null,
            "padding": null,
            "grid_auto_rows": null,
            "grid_gap": null,
            "max_width": null,
            "order": null,
            "_view_module_version": "1.2.0",
            "grid_template_areas": null,
            "object_position": null,
            "object_fit": null,
            "grid_auto_columns": null,
            "margin": null,
            "display": null,
            "left": null
          }
        },
        "909884bbf5b54e3cb5509bf6ef317ac5": {
          "model_module": "@jupyter-widgets/controls",
          "model_name": "FloatProgressModel",
          "state": {
            "_view_name": "ProgressView",
            "style": "IPY_MODEL_fdb57647d4f84b349384f4bd1c64fe55",
            "_dom_classes": [],
            "description": "",
            "_model_name": "FloatProgressModel",
            "bar_style": "info",
            "max": 1,
            "_view_module": "@jupyter-widgets/controls",
            "_model_module_version": "1.5.0",
            "value": 1,
            "_view_count": null,
            "_view_module_version": "1.5.0",
            "orientation": "horizontal",
            "min": 0,
            "description_tooltip": null,
            "_model_module": "@jupyter-widgets/controls",
            "layout": "IPY_MODEL_432727bae73a450480d25f32194f026f"
          }
        },
        "625f9b9656bc45d59b38a9981be3dec5": {
          "model_module": "@jupyter-widgets/controls",
          "model_name": "HTMLModel",
          "state": {
            "_view_name": "HTMLView",
            "style": "IPY_MODEL_83fa716f01194d0f9ff3521fbcc80de5",
            "_dom_classes": [],
            "description": "",
            "_model_name": "HTMLModel",
            "placeholder": "​",
            "_view_module": "@jupyter-widgets/controls",
            "_model_module_version": "1.5.0",
            "value": " 32768/? [00:17&lt;00:00, 162892.93it/s]",
            "_view_count": null,
            "_view_module_version": "1.5.0",
            "description_tooltip": null,
            "_model_module": "@jupyter-widgets/controls",
            "layout": "IPY_MODEL_1167f5d8c1284c7d96adbd0e66e8bc1a"
          }
        },
        "fdb57647d4f84b349384f4bd1c64fe55": {
          "model_module": "@jupyter-widgets/controls",
          "model_name": "ProgressStyleModel",
          "state": {
            "_view_name": "StyleView",
            "_model_name": "ProgressStyleModel",
            "description_width": "initial",
            "_view_module": "@jupyter-widgets/base",
            "_model_module_version": "1.5.0",
            "_view_count": null,
            "_view_module_version": "1.2.0",
            "bar_color": null,
            "_model_module": "@jupyter-widgets/controls"
          }
        },
        "432727bae73a450480d25f32194f026f": {
          "model_module": "@jupyter-widgets/base",
          "model_name": "LayoutModel",
          "state": {
            "_view_name": "LayoutView",
            "grid_template_rows": null,
            "right": null,
            "justify_content": null,
            "_view_module": "@jupyter-widgets/base",
            "overflow": null,
            "_model_module_version": "1.2.0",
            "_view_count": null,
            "flex_flow": null,
            "width": null,
            "min_width": null,
            "border": null,
            "align_items": null,
            "bottom": null,
            "_model_module": "@jupyter-widgets/base",
            "top": null,
            "grid_column": null,
            "overflow_y": null,
            "overflow_x": null,
            "grid_auto_flow": null,
            "grid_area": null,
            "grid_template_columns": null,
            "flex": null,
            "_model_name": "LayoutModel",
            "justify_items": null,
            "grid_row": null,
            "max_height": null,
            "align_content": null,
            "visibility": null,
            "align_self": null,
            "height": null,
            "min_height": null,
            "padding": null,
            "grid_auto_rows": null,
            "grid_gap": null,
            "max_width": null,
            "order": null,
            "_view_module_version": "1.2.0",
            "grid_template_areas": null,
            "object_position": null,
            "object_fit": null,
            "grid_auto_columns": null,
            "margin": null,
            "display": null,
            "left": null
          }
        },
        "83fa716f01194d0f9ff3521fbcc80de5": {
          "model_module": "@jupyter-widgets/controls",
          "model_name": "DescriptionStyleModel",
          "state": {
            "_view_name": "StyleView",
            "_model_name": "DescriptionStyleModel",
            "description_width": "",
            "_view_module": "@jupyter-widgets/base",
            "_model_module_version": "1.5.0",
            "_view_count": null,
            "_view_module_version": "1.2.0",
            "_model_module": "@jupyter-widgets/controls"
          }
        },
        "1167f5d8c1284c7d96adbd0e66e8bc1a": {
          "model_module": "@jupyter-widgets/base",
          "model_name": "LayoutModel",
          "state": {
            "_view_name": "LayoutView",
            "grid_template_rows": null,
            "right": null,
            "justify_content": null,
            "_view_module": "@jupyter-widgets/base",
            "overflow": null,
            "_model_module_version": "1.2.0",
            "_view_count": null,
            "flex_flow": null,
            "width": null,
            "min_width": null,
            "border": null,
            "align_items": null,
            "bottom": null,
            "_model_module": "@jupyter-widgets/base",
            "top": null,
            "grid_column": null,
            "overflow_y": null,
            "overflow_x": null,
            "grid_auto_flow": null,
            "grid_area": null,
            "grid_template_columns": null,
            "flex": null,
            "_model_name": "LayoutModel",
            "justify_items": null,
            "grid_row": null,
            "max_height": null,
            "align_content": null,
            "visibility": null,
            "align_self": null,
            "height": null,
            "min_height": null,
            "padding": null,
            "grid_auto_rows": null,
            "grid_gap": null,
            "max_width": null,
            "order": null,
            "_view_module_version": "1.2.0",
            "grid_template_areas": null,
            "object_position": null,
            "object_fit": null,
            "grid_auto_columns": null,
            "margin": null,
            "display": null,
            "left": null
          }
        },
        "6b915f0104724c51b0a63f879f7d92e1": {
          "model_module": "@jupyter-widgets/controls",
          "model_name": "HBoxModel",
          "state": {
            "_view_name": "HBoxView",
            "_dom_classes": [],
            "_model_name": "HBoxModel",
            "_view_module": "@jupyter-widgets/controls",
            "_model_module_version": "1.5.0",
            "_view_count": null,
            "_view_module_version": "1.5.0",
            "box_style": "",
            "layout": "IPY_MODEL_79ab639f4c86428b9fb7a9ca13430b8d",
            "_model_module": "@jupyter-widgets/controls",
            "children": [
              "IPY_MODEL_a40202d4730b4fa29978761ced871f13",
              "IPY_MODEL_0b87db31e11a4befb8becf94c44a3b6a"
            ]
          }
        },
        "79ab639f4c86428b9fb7a9ca13430b8d": {
          "model_module": "@jupyter-widgets/base",
          "model_name": "LayoutModel",
          "state": {
            "_view_name": "LayoutView",
            "grid_template_rows": null,
            "right": null,
            "justify_content": null,
            "_view_module": "@jupyter-widgets/base",
            "overflow": null,
            "_model_module_version": "1.2.0",
            "_view_count": null,
            "flex_flow": null,
            "width": null,
            "min_width": null,
            "border": null,
            "align_items": null,
            "bottom": null,
            "_model_module": "@jupyter-widgets/base",
            "top": null,
            "grid_column": null,
            "overflow_y": null,
            "overflow_x": null,
            "grid_auto_flow": null,
            "grid_area": null,
            "grid_template_columns": null,
            "flex": null,
            "_model_name": "LayoutModel",
            "justify_items": null,
            "grid_row": null,
            "max_height": null,
            "align_content": null,
            "visibility": null,
            "align_self": null,
            "height": null,
            "min_height": null,
            "padding": null,
            "grid_auto_rows": null,
            "grid_gap": null,
            "max_width": null,
            "order": null,
            "_view_module_version": "1.2.0",
            "grid_template_areas": null,
            "object_position": null,
            "object_fit": null,
            "grid_auto_columns": null,
            "margin": null,
            "display": null,
            "left": null
          }
        },
        "a40202d4730b4fa29978761ced871f13": {
          "model_module": "@jupyter-widgets/controls",
          "model_name": "FloatProgressModel",
          "state": {
            "_view_name": "ProgressView",
            "style": "IPY_MODEL_55ca970aca6849fea941f29fef9c6dd0",
            "_dom_classes": [],
            "description": "",
            "_model_name": "FloatProgressModel",
            "bar_style": "info",
            "max": 1,
            "_view_module": "@jupyter-widgets/controls",
            "_model_module_version": "1.5.0",
            "value": 1,
            "_view_count": null,
            "_view_module_version": "1.5.0",
            "orientation": "horizontal",
            "min": 0,
            "description_tooltip": null,
            "_model_module": "@jupyter-widgets/controls",
            "layout": "IPY_MODEL_cb08f69d4fd14e5ea92a3d417e63d17a"
          }
        },
        "0b87db31e11a4befb8becf94c44a3b6a": {
          "model_module": "@jupyter-widgets/controls",
          "model_name": "HTMLModel",
          "state": {
            "_view_name": "HTMLView",
            "style": "IPY_MODEL_2c081fc2597e49e8806fd20aa659ac53",
            "_dom_classes": [],
            "description": "",
            "_model_name": "HTMLModel",
            "placeholder": "​",
            "_view_module": "@jupyter-widgets/controls",
            "_model_module_version": "1.5.0",
            "value": " 4423680/? [00:17&lt;00:00, 1098722.10it/s]",
            "_view_count": null,
            "_view_module_version": "1.5.0",
            "description_tooltip": null,
            "_model_module": "@jupyter-widgets/controls",
            "layout": "IPY_MODEL_1d7bb2887a0241fbb3b8dac394f2e344"
          }
        },
        "55ca970aca6849fea941f29fef9c6dd0": {
          "model_module": "@jupyter-widgets/controls",
          "model_name": "ProgressStyleModel",
          "state": {
            "_view_name": "StyleView",
            "_model_name": "ProgressStyleModel",
            "description_width": "initial",
            "_view_module": "@jupyter-widgets/base",
            "_model_module_version": "1.5.0",
            "_view_count": null,
            "_view_module_version": "1.2.0",
            "bar_color": null,
            "_model_module": "@jupyter-widgets/controls"
          }
        },
        "cb08f69d4fd14e5ea92a3d417e63d17a": {
          "model_module": "@jupyter-widgets/base",
          "model_name": "LayoutModel",
          "state": {
            "_view_name": "LayoutView",
            "grid_template_rows": null,
            "right": null,
            "justify_content": null,
            "_view_module": "@jupyter-widgets/base",
            "overflow": null,
            "_model_module_version": "1.2.0",
            "_view_count": null,
            "flex_flow": null,
            "width": null,
            "min_width": null,
            "border": null,
            "align_items": null,
            "bottom": null,
            "_model_module": "@jupyter-widgets/base",
            "top": null,
            "grid_column": null,
            "overflow_y": null,
            "overflow_x": null,
            "grid_auto_flow": null,
            "grid_area": null,
            "grid_template_columns": null,
            "flex": null,
            "_model_name": "LayoutModel",
            "justify_items": null,
            "grid_row": null,
            "max_height": null,
            "align_content": null,
            "visibility": null,
            "align_self": null,
            "height": null,
            "min_height": null,
            "padding": null,
            "grid_auto_rows": null,
            "grid_gap": null,
            "max_width": null,
            "order": null,
            "_view_module_version": "1.2.0",
            "grid_template_areas": null,
            "object_position": null,
            "object_fit": null,
            "grid_auto_columns": null,
            "margin": null,
            "display": null,
            "left": null
          }
        },
        "2c081fc2597e49e8806fd20aa659ac53": {
          "model_module": "@jupyter-widgets/controls",
          "model_name": "DescriptionStyleModel",
          "state": {
            "_view_name": "StyleView",
            "_model_name": "DescriptionStyleModel",
            "description_width": "",
            "_view_module": "@jupyter-widgets/base",
            "_model_module_version": "1.5.0",
            "_view_count": null,
            "_view_module_version": "1.2.0",
            "_model_module": "@jupyter-widgets/controls"
          }
        },
        "1d7bb2887a0241fbb3b8dac394f2e344": {
          "model_module": "@jupyter-widgets/base",
          "model_name": "LayoutModel",
          "state": {
            "_view_name": "LayoutView",
            "grid_template_rows": null,
            "right": null,
            "justify_content": null,
            "_view_module": "@jupyter-widgets/base",
            "overflow": null,
            "_model_module_version": "1.2.0",
            "_view_count": null,
            "flex_flow": null,
            "width": null,
            "min_width": null,
            "border": null,
            "align_items": null,
            "bottom": null,
            "_model_module": "@jupyter-widgets/base",
            "top": null,
            "grid_column": null,
            "overflow_y": null,
            "overflow_x": null,
            "grid_auto_flow": null,
            "grid_area": null,
            "grid_template_columns": null,
            "flex": null,
            "_model_name": "LayoutModel",
            "justify_items": null,
            "grid_row": null,
            "max_height": null,
            "align_content": null,
            "visibility": null,
            "align_self": null,
            "height": null,
            "min_height": null,
            "padding": null,
            "grid_auto_rows": null,
            "grid_gap": null,
            "max_width": null,
            "order": null,
            "_view_module_version": "1.2.0",
            "grid_template_areas": null,
            "object_position": null,
            "object_fit": null,
            "grid_auto_columns": null,
            "margin": null,
            "display": null,
            "left": null
          }
        },
        "d167f4f1963e44eb88221d2ff48220bf": {
          "model_module": "@jupyter-widgets/controls",
          "model_name": "HBoxModel",
          "state": {
            "_view_name": "HBoxView",
            "_dom_classes": [],
            "_model_name": "HBoxModel",
            "_view_module": "@jupyter-widgets/controls",
            "_model_module_version": "1.5.0",
            "_view_count": null,
            "_view_module_version": "1.5.0",
            "box_style": "",
            "layout": "IPY_MODEL_7d670ae9c4854193af49ae830f5886d9",
            "_model_module": "@jupyter-widgets/controls",
            "children": [
              "IPY_MODEL_972d5d051f284129905da0b98321d66b",
              "IPY_MODEL_17c78b45c65b4d61aa8a8619be18af67"
            ]
          }
        },
        "7d670ae9c4854193af49ae830f5886d9": {
          "model_module": "@jupyter-widgets/base",
          "model_name": "LayoutModel",
          "state": {
            "_view_name": "LayoutView",
            "grid_template_rows": null,
            "right": null,
            "justify_content": null,
            "_view_module": "@jupyter-widgets/base",
            "overflow": null,
            "_model_module_version": "1.2.0",
            "_view_count": null,
            "flex_flow": null,
            "width": null,
            "min_width": null,
            "border": null,
            "align_items": null,
            "bottom": null,
            "_model_module": "@jupyter-widgets/base",
            "top": null,
            "grid_column": null,
            "overflow_y": null,
            "overflow_x": null,
            "grid_auto_flow": null,
            "grid_area": null,
            "grid_template_columns": null,
            "flex": null,
            "_model_name": "LayoutModel",
            "justify_items": null,
            "grid_row": null,
            "max_height": null,
            "align_content": null,
            "visibility": null,
            "align_self": null,
            "height": null,
            "min_height": null,
            "padding": null,
            "grid_auto_rows": null,
            "grid_gap": null,
            "max_width": null,
            "order": null,
            "_view_module_version": "1.2.0",
            "grid_template_areas": null,
            "object_position": null,
            "object_fit": null,
            "grid_auto_columns": null,
            "margin": null,
            "display": null,
            "left": null
          }
        },
        "972d5d051f284129905da0b98321d66b": {
          "model_module": "@jupyter-widgets/controls",
          "model_name": "FloatProgressModel",
          "state": {
            "_view_name": "ProgressView",
            "style": "IPY_MODEL_d383de2dd756429cbdaad6b1f9f5da8b",
            "_dom_classes": [],
            "description": "  0%",
            "_model_name": "FloatProgressModel",
            "bar_style": "info",
            "max": 1,
            "_view_module": "@jupyter-widgets/controls",
            "_model_module_version": "1.5.0",
            "value": 0,
            "_view_count": null,
            "_view_module_version": "1.5.0",
            "orientation": "horizontal",
            "min": 0,
            "description_tooltip": null,
            "_model_module": "@jupyter-widgets/controls",
            "layout": "IPY_MODEL_6ce64ad98e1649e3927831af3ae93a00"
          }
        },
        "17c78b45c65b4d61aa8a8619be18af67": {
          "model_module": "@jupyter-widgets/controls",
          "model_name": "HTMLModel",
          "state": {
            "_view_name": "HTMLView",
            "style": "IPY_MODEL_aea9d9ffac59498d90cf258f02557a3c",
            "_dom_classes": [],
            "description": "",
            "_model_name": "HTMLModel",
            "placeholder": "​",
            "_view_module": "@jupyter-widgets/controls",
            "_model_module_version": "1.5.0",
            "value": " 0/5148 [00:00&lt;?, ?it/s]",
            "_view_count": null,
            "_view_module_version": "1.5.0",
            "description_tooltip": null,
            "_model_module": "@jupyter-widgets/controls",
            "layout": "IPY_MODEL_2ba53054be414951bcbfd18a1efacf88"
          }
        },
        "d383de2dd756429cbdaad6b1f9f5da8b": {
          "model_module": "@jupyter-widgets/controls",
          "model_name": "ProgressStyleModel",
          "state": {
            "_view_name": "StyleView",
            "_model_name": "ProgressStyleModel",
            "description_width": "initial",
            "_view_module": "@jupyter-widgets/base",
            "_model_module_version": "1.5.0",
            "_view_count": null,
            "_view_module_version": "1.2.0",
            "bar_color": null,
            "_model_module": "@jupyter-widgets/controls"
          }
        },
        "6ce64ad98e1649e3927831af3ae93a00": {
          "model_module": "@jupyter-widgets/base",
          "model_name": "LayoutModel",
          "state": {
            "_view_name": "LayoutView",
            "grid_template_rows": null,
            "right": null,
            "justify_content": null,
            "_view_module": "@jupyter-widgets/base",
            "overflow": null,
            "_model_module_version": "1.2.0",
            "_view_count": null,
            "flex_flow": null,
            "width": null,
            "min_width": null,
            "border": null,
            "align_items": null,
            "bottom": null,
            "_model_module": "@jupyter-widgets/base",
            "top": null,
            "grid_column": null,
            "overflow_y": null,
            "overflow_x": null,
            "grid_auto_flow": null,
            "grid_area": null,
            "grid_template_columns": null,
            "flex": null,
            "_model_name": "LayoutModel",
            "justify_items": null,
            "grid_row": null,
            "max_height": null,
            "align_content": null,
            "visibility": null,
            "align_self": null,
            "height": null,
            "min_height": null,
            "padding": null,
            "grid_auto_rows": null,
            "grid_gap": null,
            "max_width": null,
            "order": null,
            "_view_module_version": "1.2.0",
            "grid_template_areas": null,
            "object_position": null,
            "object_fit": null,
            "grid_auto_columns": null,
            "margin": null,
            "display": null,
            "left": null
          }
        },
        "aea9d9ffac59498d90cf258f02557a3c": {
          "model_module": "@jupyter-widgets/controls",
          "model_name": "DescriptionStyleModel",
          "state": {
            "_view_name": "StyleView",
            "_model_name": "DescriptionStyleModel",
            "description_width": "",
            "_view_module": "@jupyter-widgets/base",
            "_model_module_version": "1.5.0",
            "_view_count": null,
            "_view_module_version": "1.2.0",
            "_model_module": "@jupyter-widgets/controls"
          }
        },
        "2ba53054be414951bcbfd18a1efacf88": {
          "model_module": "@jupyter-widgets/base",
          "model_name": "LayoutModel",
          "state": {
            "_view_name": "LayoutView",
            "grid_template_rows": null,
            "right": null,
            "justify_content": null,
            "_view_module": "@jupyter-widgets/base",
            "overflow": null,
            "_model_module_version": "1.2.0",
            "_view_count": null,
            "flex_flow": null,
            "width": null,
            "min_width": null,
            "border": null,
            "align_items": null,
            "bottom": null,
            "_model_module": "@jupyter-widgets/base",
            "top": null,
            "grid_column": null,
            "overflow_y": null,
            "overflow_x": null,
            "grid_auto_flow": null,
            "grid_area": null,
            "grid_template_columns": null,
            "flex": null,
            "_model_name": "LayoutModel",
            "justify_items": null,
            "grid_row": null,
            "max_height": null,
            "align_content": null,
            "visibility": null,
            "align_self": null,
            "height": null,
            "min_height": null,
            "padding": null,
            "grid_auto_rows": null,
            "grid_gap": null,
            "max_width": null,
            "order": null,
            "_view_module_version": "1.2.0",
            "grid_template_areas": null,
            "object_position": null,
            "object_fit": null,
            "grid_auto_columns": null,
            "margin": null,
            "display": null,
            "left": null
          }
        },
        "eea28c01f4164f17bf8590e4a486e8b6": {
          "model_module": "@jupyter-widgets/controls",
          "model_name": "HBoxModel",
          "state": {
            "_view_name": "HBoxView",
            "_dom_classes": [],
            "_model_name": "HBoxModel",
            "_view_module": "@jupyter-widgets/controls",
            "_model_module_version": "1.5.0",
            "_view_count": null,
            "_view_module_version": "1.5.0",
            "box_style": "",
            "layout": "IPY_MODEL_75973e40b8ed4851b5314a8c72ac2007",
            "_model_module": "@jupyter-widgets/controls",
            "children": [
              "IPY_MODEL_7d5df03036d6440fa59bc7783f188b32",
              "IPY_MODEL_2c1ef317c0ee4119b15da3c0512c80a0"
            ]
          }
        },
        "75973e40b8ed4851b5314a8c72ac2007": {
          "model_module": "@jupyter-widgets/base",
          "model_name": "LayoutModel",
          "state": {
            "_view_name": "LayoutView",
            "grid_template_rows": null,
            "right": null,
            "justify_content": null,
            "_view_module": "@jupyter-widgets/base",
            "overflow": null,
            "_model_module_version": "1.2.0",
            "_view_count": null,
            "flex_flow": null,
            "width": null,
            "min_width": null,
            "border": null,
            "align_items": null,
            "bottom": null,
            "_model_module": "@jupyter-widgets/base",
            "top": null,
            "grid_column": null,
            "overflow_y": null,
            "overflow_x": null,
            "grid_auto_flow": null,
            "grid_area": null,
            "grid_template_columns": null,
            "flex": null,
            "_model_name": "LayoutModel",
            "justify_items": null,
            "grid_row": null,
            "max_height": null,
            "align_content": null,
            "visibility": null,
            "align_self": null,
            "height": null,
            "min_height": null,
            "padding": null,
            "grid_auto_rows": null,
            "grid_gap": null,
            "max_width": null,
            "order": null,
            "_view_module_version": "1.2.0",
            "grid_template_areas": null,
            "object_position": null,
            "object_fit": null,
            "grid_auto_columns": null,
            "margin": null,
            "display": null,
            "left": null
          }
        },
        "7d5df03036d6440fa59bc7783f188b32": {
          "model_module": "@jupyter-widgets/controls",
          "model_name": "FloatProgressModel",
          "state": {
            "_view_name": "ProgressView",
            "style": "IPY_MODEL_b971d9c6e3454b1da04e1aa245b1e0f0",
            "_dom_classes": [],
            "description": "100%",
            "_model_name": "FloatProgressModel",
            "bar_style": "success",
            "max": 244418560,
            "_view_module": "@jupyter-widgets/controls",
            "_model_module_version": "1.5.0",
            "value": 244418560,
            "_view_count": null,
            "_view_module_version": "1.5.0",
            "orientation": "horizontal",
            "min": 0,
            "description_tooltip": null,
            "_model_module": "@jupyter-widgets/controls",
            "layout": "IPY_MODEL_1a0a5dbd426742919f83903d25473c18"
          }
        },
        "2c1ef317c0ee4119b15da3c0512c80a0": {
          "model_module": "@jupyter-widgets/controls",
          "model_name": "HTMLModel",
          "state": {
            "_view_name": "HTMLView",
            "style": "IPY_MODEL_0b7794a2785740938cfe65167430c0e4",
            "_dom_classes": [],
            "description": "",
            "_model_name": "HTMLModel",
            "placeholder": "​",
            "_view_module": "@jupyter-widgets/controls",
            "_model_module_version": "1.5.0",
            "value": " 233M/233M [00:10&lt;00:00, 24.3MB/s]",
            "_view_count": null,
            "_view_module_version": "1.5.0",
            "description_tooltip": null,
            "_model_module": "@jupyter-widgets/controls",
            "layout": "IPY_MODEL_e374d0d13af2412bafe36c23653c3ed9"
          }
        },
        "b971d9c6e3454b1da04e1aa245b1e0f0": {
          "model_module": "@jupyter-widgets/controls",
          "model_name": "ProgressStyleModel",
          "state": {
            "_view_name": "StyleView",
            "_model_name": "ProgressStyleModel",
            "description_width": "initial",
            "_view_module": "@jupyter-widgets/base",
            "_model_module_version": "1.5.0",
            "_view_count": null,
            "_view_module_version": "1.2.0",
            "bar_color": null,
            "_model_module": "@jupyter-widgets/controls"
          }
        },
        "1a0a5dbd426742919f83903d25473c18": {
          "model_module": "@jupyter-widgets/base",
          "model_name": "LayoutModel",
          "state": {
            "_view_name": "LayoutView",
            "grid_template_rows": null,
            "right": null,
            "justify_content": null,
            "_view_module": "@jupyter-widgets/base",
            "overflow": null,
            "_model_module_version": "1.2.0",
            "_view_count": null,
            "flex_flow": null,
            "width": null,
            "min_width": null,
            "border": null,
            "align_items": null,
            "bottom": null,
            "_model_module": "@jupyter-widgets/base",
            "top": null,
            "grid_column": null,
            "overflow_y": null,
            "overflow_x": null,
            "grid_auto_flow": null,
            "grid_area": null,
            "grid_template_columns": null,
            "flex": null,
            "_model_name": "LayoutModel",
            "justify_items": null,
            "grid_row": null,
            "max_height": null,
            "align_content": null,
            "visibility": null,
            "align_self": null,
            "height": null,
            "min_height": null,
            "padding": null,
            "grid_auto_rows": null,
            "grid_gap": null,
            "max_width": null,
            "order": null,
            "_view_module_version": "1.2.0",
            "grid_template_areas": null,
            "object_position": null,
            "object_fit": null,
            "grid_auto_columns": null,
            "margin": null,
            "display": null,
            "left": null
          }
        },
        "0b7794a2785740938cfe65167430c0e4": {
          "model_module": "@jupyter-widgets/controls",
          "model_name": "DescriptionStyleModel",
          "state": {
            "_view_name": "StyleView",
            "_model_name": "DescriptionStyleModel",
            "description_width": "",
            "_view_module": "@jupyter-widgets/base",
            "_model_module_version": "1.5.0",
            "_view_count": null,
            "_view_module_version": "1.2.0",
            "_model_module": "@jupyter-widgets/controls"
          }
        },
        "e374d0d13af2412bafe36c23653c3ed9": {
          "model_module": "@jupyter-widgets/base",
          "model_name": "LayoutModel",
          "state": {
            "_view_name": "LayoutView",
            "grid_template_rows": null,
            "right": null,
            "justify_content": null,
            "_view_module": "@jupyter-widgets/base",
            "overflow": null,
            "_model_module_version": "1.2.0",
            "_view_count": null,
            "flex_flow": null,
            "width": null,
            "min_width": null,
            "border": null,
            "align_items": null,
            "bottom": null,
            "_model_module": "@jupyter-widgets/base",
            "top": null,
            "grid_column": null,
            "overflow_y": null,
            "overflow_x": null,
            "grid_auto_flow": null,
            "grid_area": null,
            "grid_template_columns": null,
            "flex": null,
            "_model_name": "LayoutModel",
            "justify_items": null,
            "grid_row": null,
            "max_height": null,
            "align_content": null,
            "visibility": null,
            "align_self": null,
            "height": null,
            "min_height": null,
            "padding": null,
            "grid_auto_rows": null,
            "grid_gap": null,
            "max_width": null,
            "order": null,
            "_view_module_version": "1.2.0",
            "grid_template_areas": null,
            "object_position": null,
            "object_fit": null,
            "grid_auto_columns": null,
            "margin": null,
            "display": null,
            "left": null
          }
        }
      }
    }
  },
  "cells": [
    {
      "cell_type": "code",
      "metadata": {
        "tags": [],
        "cell_id": "00000-31dfc6bd-24a1-4777-990d-55e4dc63006f",
        "deepnote_to_be_reexecuted": false,
        "source_hash": "c32020c5",
        "execution_millis": 1,
        "execution_start": 1614359721118,
        "deepnote_cell_type": "code",
        "id": "rlb-PgZEogrR"
      },
      "source": [
        "#Importing all necessary modules\n",
        "\n",
        "from collections import OrderedDict\n",
        "\n",
        "import time\n",
        "import matplotlib.pyplot as plt\n",
        "import numpy as np\n",
        "import torch\n",
        "from torchvision import datasets, transforms\n",
        "\n",
        "from torch import nn\n",
        "from torch import optim\n",
        "import torch.nn.functional as F"
      ],
      "execution_count": 1,
      "outputs": []
    },
    {
      "cell_type": "code",
      "metadata": {
        "tags": [],
        "cell_id": "00001-a88dd48d-2a7a-44d6-8403-7f56359a579f",
        "deepnote_to_be_reexecuted": false,
        "source_hash": "74e315e",
        "execution_millis": 37,
        "execution_start": 1614359736086,
        "deepnote_cell_type": "code",
        "colab": {
          "base_uri": "https://localhost:8080/",
          "height": 369,
          "referenced_widgets": [
            "3b1252068d55482ba2a8b1e4d92b738e",
            "9e75f57f69534667bb203fe8dd9e1e5d",
            "6526462c5acb49ffba0d9a906bbb8f79",
            "f48a500e9413489aac1f886dfaa248a4",
            "c0d2a793d3234244bfe639355ebf1906",
            "eab6eaa81bab402abca7f2fed6c30e67",
            "08443b9b7354415485110680703fead4",
            "d559294ecb484a36b33001c1a35f3b41",
            "224bdfcbbf7a47c794e8a04e7eef5415",
            "9d9223ff299c42859ee2635f1c68dce8",
            "909884bbf5b54e3cb5509bf6ef317ac5",
            "625f9b9656bc45d59b38a9981be3dec5",
            "fdb57647d4f84b349384f4bd1c64fe55",
            "432727bae73a450480d25f32194f026f",
            "83fa716f01194d0f9ff3521fbcc80de5",
            "1167f5d8c1284c7d96adbd0e66e8bc1a",
            "6b915f0104724c51b0a63f879f7d92e1",
            "79ab639f4c86428b9fb7a9ca13430b8d",
            "a40202d4730b4fa29978761ced871f13",
            "0b87db31e11a4befb8becf94c44a3b6a",
            "55ca970aca6849fea941f29fef9c6dd0",
            "cb08f69d4fd14e5ea92a3d417e63d17a",
            "2c081fc2597e49e8806fd20aa659ac53",
            "1d7bb2887a0241fbb3b8dac394f2e344",
            "d167f4f1963e44eb88221d2ff48220bf",
            "7d670ae9c4854193af49ae830f5886d9",
            "972d5d051f284129905da0b98321d66b",
            "17c78b45c65b4d61aa8a8619be18af67",
            "d383de2dd756429cbdaad6b1f9f5da8b",
            "6ce64ad98e1649e3927831af3ae93a00",
            "aea9d9ffac59498d90cf258f02557a3c",
            "2ba53054be414951bcbfd18a1efacf88"
          ]
        },
        "id": "t2jDNjD_ogrZ",
        "outputId": "87fd6d8d-e58f-484e-81ef-b6334f3b0c6c"
      },
      "source": [
        "# Define a transform to normalize the data\n",
        "transform = transforms.Compose([transforms.ToTensor(),\n",
        "                                transforms.Normalize((0.5,), (0.5,))])\n",
        "# Download and load the training data\n",
        "trainset = datasets.FashionMNIST('~/.pytorch/F_MNIST_data/', download=True, train=True, transform=transform)\n",
        "trainloader = torch.utils.data.DataLoader(trainset, batch_size=64, shuffle=True)\n",
        "\n",
        "# Download and load the test data\n",
        "testset = datasets.FashionMNIST('~/.pytorch/F_MNIST_data/', download=True, train=False, transform=transform)\n",
        "testloader = torch.utils.data.DataLoader(testset, batch_size=64, shuffle=True)"
      ],
      "execution_count": 2,
      "outputs": [
        {
          "output_type": "stream",
          "text": [
            "Downloading http://fashion-mnist.s3-website.eu-central-1.amazonaws.com/train-images-idx3-ubyte.gz to /root/.pytorch/F_MNIST_data/FashionMNIST/raw/train-images-idx3-ubyte.gz\n"
          ],
          "name": "stdout"
        },
        {
          "output_type": "display_data",
          "data": {
            "application/vnd.jupyter.widget-view+json": {
              "model_id": "3b1252068d55482ba2a8b1e4d92b738e",
              "version_minor": 0,
              "version_major": 2
            },
            "text/plain": [
              "HBox(children=(FloatProgress(value=1.0, bar_style='info', max=1.0), HTML(value='')))"
            ]
          },
          "metadata": {
            "tags": []
          }
        },
        {
          "output_type": "stream",
          "text": [
            "Extracting /root/.pytorch/F_MNIST_data/FashionMNIST/raw/train-images-idx3-ubyte.gz to /root/.pytorch/F_MNIST_data/FashionMNIST/raw\n",
            "Downloading http://fashion-mnist.s3-website.eu-central-1.amazonaws.com/train-labels-idx1-ubyte.gz to /root/.pytorch/F_MNIST_data/FashionMNIST/raw/train-labels-idx1-ubyte.gz\n"
          ],
          "name": "stdout"
        },
        {
          "output_type": "display_data",
          "data": {
            "application/vnd.jupyter.widget-view+json": {
              "model_id": "224bdfcbbf7a47c794e8a04e7eef5415",
              "version_minor": 0,
              "version_major": 2
            },
            "text/plain": [
              "HBox(children=(FloatProgress(value=1.0, bar_style='info', max=1.0), HTML(value='')))"
            ]
          },
          "metadata": {
            "tags": []
          }
        },
        {
          "output_type": "stream",
          "text": [
            "Extracting /root/.pytorch/F_MNIST_data/FashionMNIST/raw/train-labels-idx1-ubyte.gz to /root/.pytorch/F_MNIST_data/FashionMNIST/raw\n",
            "Downloading http://fashion-mnist.s3-website.eu-central-1.amazonaws.com/t10k-images-idx3-ubyte.gz to /root/.pytorch/F_MNIST_data/FashionMNIST/raw/t10k-images-idx3-ubyte.gz\n"
          ],
          "name": "stdout"
        },
        {
          "output_type": "display_data",
          "data": {
            "application/vnd.jupyter.widget-view+json": {
              "model_id": "6b915f0104724c51b0a63f879f7d92e1",
              "version_minor": 0,
              "version_major": 2
            },
            "text/plain": [
              "HBox(children=(FloatProgress(value=1.0, bar_style='info', max=1.0), HTML(value='')))"
            ]
          },
          "metadata": {
            "tags": []
          }
        },
        {
          "output_type": "stream",
          "text": [
            "Extracting /root/.pytorch/F_MNIST_data/FashionMNIST/raw/t10k-images-idx3-ubyte.gz to /root/.pytorch/F_MNIST_data/FashionMNIST/raw\n",
            "Downloading http://fashion-mnist.s3-website.eu-central-1.amazonaws.com/t10k-labels-idx1-ubyte.gz to /root/.pytorch/F_MNIST_data/FashionMNIST/raw/t10k-labels-idx1-ubyte.gz\n"
          ],
          "name": "stdout"
        },
        {
          "output_type": "display_data",
          "data": {
            "application/vnd.jupyter.widget-view+json": {
              "model_id": "d167f4f1963e44eb88221d2ff48220bf",
              "version_minor": 0,
              "version_major": 2
            },
            "text/plain": [
              "HBox(children=(FloatProgress(value=1.0, bar_style='info', max=1.0), HTML(value='')))"
            ]
          },
          "metadata": {
            "tags": []
          }
        },
        {
          "output_type": "stream",
          "text": [
            "Extracting /root/.pytorch/F_MNIST_data/FashionMNIST/raw/t10k-labels-idx1-ubyte.gz to /root/.pytorch/F_MNIST_data/FashionMNIST/raw\n",
            "Processing...\n"
          ],
          "name": "stdout"
        },
        {
          "output_type": "stream",
          "text": [
            "/usr/local/lib/python3.7/dist-packages/torchvision/datasets/mnist.py:480: UserWarning: The given NumPy array is not writeable, and PyTorch does not support non-writeable tensors. This means you can write to the underlying (supposedly non-writeable) NumPy array using the tensor. You may want to copy the array to protect its data or make it writeable before converting it to a tensor. This type of warning will be suppressed for the rest of this program. (Triggered internally at  /pytorch/torch/csrc/utils/tensor_numpy.cpp:141.)\n",
            "  return torch.from_numpy(parsed.astype(m[2], copy=False)).view(*s)\n"
          ],
          "name": "stderr"
        },
        {
          "output_type": "stream",
          "text": [
            "Done!\n"
          ],
          "name": "stdout"
        }
      ]
    },
    {
      "cell_type": "code",
      "metadata": {
        "tags": [],
        "cell_id": "00002-6d4cec75-06dd-4c74-acf6-b45f63113179",
        "deepnote_to_be_reexecuted": false,
        "source_hash": "6396f8db",
        "execution_millis": 1,
        "execution_start": 1614359756862,
        "deepnote_cell_type": "code",
        "id": "sV1IsaKqogra"
      },
      "source": [
        "def imshow(image, ax=None, title=None, normalize=True):\n",
        "    \"\"\"Imshow for Tensor.\"\"\"\n",
        "    if ax is None:\n",
        "        fig, ax = plt.subplots()\n",
        "    image = image.numpy().transpose((1, 2, 0))\n",
        "\n",
        "    if normalize:\n",
        "        mean = np.array([0.485, 0.456, 0.406])\n",
        "        std = np.array([0.229, 0.224, 0.225])\n",
        "        image = std * image + mean\n",
        "        image = np.clip(image, 0, 1)\n",
        "\n",
        "    ax.imshow(image)\n",
        "    ax.spines['top'].set_visible(False)\n",
        "    ax.spines['right'].set_visible(False)\n",
        "    ax.spines['left'].set_visible(False)\n",
        "    ax.spines['bottom'].set_visible(False)\n",
        "    ax.tick_params(axis='both', length=0)\n",
        "    ax.set_xticklabels('')\n",
        "    ax.set_yticklabels('')\n",
        "\n",
        "    return ax\n",
        "\n",
        "def view_classify(img, ps, version=\"MNIST\"):\n",
        "    ''' Function for viewing an image and it's predicted classes.\n",
        "    '''\n",
        "    ps = ps.data.numpy().squeeze()\n",
        "\n",
        "    fig, (ax1, ax2) = plt.subplots(figsize=(6,9), ncols=2)\n",
        "    ax1.imshow(img.resize_(1, 28, 28).numpy().squeeze())\n",
        "    ax1.axis('off')\n",
        "    ax2.barh(np.arange(10), ps)\n",
        "    ax2.set_aspect(0.1)\n",
        "    ax2.set_yticks(np.arange(10))\n",
        "    if version == \"MNIST\":\n",
        "        ax2.set_yticklabels(np.arange(10))\n",
        "    elif version == \"Fashion\":\n",
        "        ax2.set_yticklabels(['T-shirt/top',\n",
        "                            'Trouser',\n",
        "                            'Pullover',\n",
        "                            'Dress',\n",
        "                            'Coat',\n",
        "                            'Sandal',\n",
        "                            'Shirt',\n",
        "                            'Sneaker',\n",
        "                            'Bag',\n",
        "                            'Ankle Boot'], size='small');\n",
        "    ax2.set_title('Class Probability')\n",
        "    ax2.set_xlim(0, 1.1)\n",
        "\n",
        "    plt.tight_layout()"
      ],
      "execution_count": 3,
      "outputs": []
    },
    {
      "cell_type": "code",
      "metadata": {
        "tags": [],
        "cell_id": "00003-96cd0121-f7ec-4bdc-a193-b059c58f6ab9",
        "deepnote_to_be_reexecuted": false,
        "source_hash": "6a80bd6",
        "execution_millis": 91,
        "execution_start": 1614359793340,
        "deepnote_cell_type": "code",
        "colab": {
          "base_uri": "https://localhost:8080/",
          "height": 248
        },
        "id": "8ZJ7dYxkogrd",
        "outputId": "32207beb-986c-4f76-9dc3-879f31412e14"
      },
      "source": [
        "image, label = next(iter(trainloader))\n",
        "imshow(image[0,:]);"
      ],
      "execution_count": 4,
      "outputs": [
        {
          "output_type": "display_data",
          "data": {
            "image/png": "[encoded data removed]",
            "text/plain": [
              "<Figure size 432x288 with 1 Axes>"
            ]
          },
          "metadata": {
            "tags": [],
            "needs_background": "light"
          }
        }
      ]
    },
    {
      "cell_type": "markdown",
      "metadata": {
        "tags": [],
        "cell_id": "00004-cd1a1bcc-d4c1-4b01-9a5b-fe9f96c10288",
        "deepnote_cell_type": "markdown",
        "id": "v1KU3ECNogri"
      },
      "source": [
        "# Model 1 - ANN"
      ]
    },
    {
      "cell_type": "code",
      "metadata": {
        "tags": [],
        "cell_id": "00005-c8a56a86-a217-4872-ac89-3a095911c4f9",
        "deepnote_to_be_reexecuted": false,
        "source_hash": "5710a091",
        "execution_millis": 9,
        "execution_start": 1614359805862,
        "deepnote_cell_type": "code",
        "colab": {
          "base_uri": "https://localhost:8080/"
        },
        "id": "JB6d0T9pogrj",
        "outputId": "f4b919ea-346c-447f-fe03-6225eddfef77"
      },
      "source": [
        "# Hyperparameters for our network\n",
        "input_size   = 784\n",
        "hidden_sizes = [400, 200, 100]\n",
        "output_size  = 10\n",
        "model = nn.Sequential(OrderedDict([\n",
        "          ('h1',   nn.Linear(input_size, hidden_sizes[0])),\n",
        "          ('rel1', nn.ReLU()),\n",
        "          ('h2',   nn.Linear(hidden_sizes[0], hidden_sizes[1])),\n",
        "          ('rel2', nn.ReLU()),\n",
        "          ('h3',   nn.Linear(hidden_sizes[1], hidden_sizes[2])),\n",
        "          ('rel3', nn.ReLU()),\n",
        "          ('output', nn.Linear(hidden_sizes[2], output_size)), \n",
        "          ('softmax', nn.Softmax(dim=1))]))\n",
        "\n",
        "model"
      ],
      "execution_count": 5,
      "outputs": [
        {
          "output_type": "execute_result",
          "data": {
            "text/plain": [
              "Sequential(\n",
              "  (h1): Linear(in_features=784, out_features=400, bias=True)\n",
              "  (rel1): ReLU()\n",
              "  (h2): Linear(in_features=400, out_features=200, bias=True)\n",
              "  (rel2): ReLU()\n",
              "  (h3): Linear(in_features=200, out_features=100, bias=True)\n",
              "  (rel3): ReLU()\n",
              "  (output): Linear(in_features=100, out_features=10, bias=True)\n",
              "  (softmax): Softmax(dim=1)\n",
              ")"
            ]
          },
          "metadata": {
            "tags": []
          },
          "execution_count": 5
        }
      ]
    },
    {
      "cell_type": "code",
      "metadata": {
        "tags": [],
        "cell_id": "00006-773c8fbe-42c8-42da-aa1b-1629c258180c",
        "deepnote_to_be_reexecuted": false,
        "source_hash": "5a14cb54",
        "execution_millis": 322,
        "execution_start": 1614359818075,
        "deepnote_cell_type": "code",
        "colab": {
          "base_uri": "https://localhost:8080/",
          "height": 234
        },
        "id": "3MJCmbqTogrl",
        "outputId": "e29ba0b2-8453-4170-d207-8e4f63449f13"
      },
      "source": [
        "# Run this cell with your model to make sure it works\n",
        "# Forward pass through the network and display output\n",
        "images, labels = next(iter(trainloader))\n",
        "images.resize_(images.shape[0], 1, 784)\n",
        "ps = model.forward(images[0,:])\n",
        "view_classify(images[9].view(1, 28, 28), ps, version='Fashion')"
      ],
      "execution_count": 6,
      "outputs": [
        {
          "output_type": "display_data",
          "data": {
            "image/png": "[encoded data removed]",
            "text/plain": [
              "<Figure size 432x648 with 2 Axes>"
            ]
          },
          "metadata": {
            "tags": [],
            "needs_background": "light"
          }
        }
      ]
    },
    {
      "cell_type": "code",
      "metadata": {
        "tags": [],
        "cell_id": "00007-077d330c-33fb-4ad1-a22b-14a609e0ff76",
        "deepnote_to_be_reexecuted": false,
        "source_hash": "3e02bcfa",
        "execution_millis": 122747,
        "execution_start": 1614360021326,
        "deepnote_cell_type": "code",
        "colab": {
          "base_uri": "https://localhost:8080/"
        },
        "id": "Rei7ri6Gogrm",
        "outputId": "97260a1d-ecd8-4b6b-9cfa-feb9f817bf83"
      },
      "source": [
        "epochs = 5\n",
        "print_every = 40\n",
        "criterion = nn.CrossEntropyLoss()\n",
        "optimizer = optim.SGD(model.parameters(), lr=0.07)\n",
        "\n",
        "correct = 0\n",
        "total = 0 \n",
        "\n",
        "for e in range(epochs):\n",
        "    running_loss = 0\n",
        "    print(f\"Epoch: {e+1}/{epochs}\")\n",
        "\n",
        "    for i, (images, labels) in enumerate(iter(trainloader)):\n",
        "\n",
        "        # Flatten MNIST images into a 784 long vector\n",
        "        images.resize_(images.size()[0], 784)\n",
        "        \n",
        "        optimizer.zero_grad()\n",
        "        \n",
        "        output = model.forward(images)   # 1) Forward pass\n",
        "        loss = criterion(output, labels) # 2) Compute loss\n",
        "        loss.backward()                  # 3) Backward pass\n",
        "        optimizer.step()                 # 4) Update model\n",
        "        \n",
        "        running_loss += loss.item()\n",
        "        \n",
        "        if i % print_every == 0:\n",
        "            print(f\"\\tIteration: {i}\\t Loss: {running_loss/print_every:.4f}\")\n",
        "            running_loss = 0\n",
        "    \n",
        "    with torch.no_grad():\n",
        "        for data in testloader:\n",
        "            output = model.forward(images)\n",
        "            _, predicted = torch.max(output.data, 1)\n",
        "            total += labels.size(0)\n",
        "            correct += (predicted == labels).sum().item()\n",
        "    print('Accuracy:',round((100*correct/total),2))"
      ],
      "execution_count": 7,
      "outputs": [
        {
          "output_type": "stream",
          "text": [
            "Epoch: 1/5\n",
            "\tIteration: 0\t Loss: 0.0576\n",
            "\tIteration: 40\t Loss: 2.3019\n",
            "\tIteration: 80\t Loss: 2.2998\n",
            "\tIteration: 120\t Loss: 2.2971\n",
            "\tIteration: 160\t Loss: 2.2934\n",
            "\tIteration: 200\t Loss: 2.2867\n",
            "\tIteration: 240\t Loss: 2.2739\n",
            "\tIteration: 280\t Loss: 2.2424\n",
            "\tIteration: 320\t Loss: 2.1737\n",
            "\tIteration: 360\t Loss: 2.0943\n",
            "\tIteration: 400\t Loss: 2.0334\n",
            "\tIteration: 440\t Loss: 1.9565\n",
            "\tIteration: 480\t Loss: 1.8997\n",
            "\tIteration: 520\t Loss: 1.8409\n",
            "\tIteration: 560\t Loss: 1.7945\n",
            "\tIteration: 600\t Loss: 1.7799\n",
            "\tIteration: 640\t Loss: 1.7700\n",
            "\tIteration: 680\t Loss: 1.7509\n",
            "\tIteration: 720\t Loss: 1.7457\n",
            "\tIteration: 760\t Loss: 1.7181\n",
            "\tIteration: 800\t Loss: 1.7232\n",
            "\tIteration: 840\t Loss: 1.7189\n",
            "\tIteration: 880\t Loss: 1.7082\n",
            "\tIteration: 920\t Loss: 1.7209\n",
            "Accuracy: 71.88\n",
            "Epoch: 2/5\n",
            "\tIteration: 0\t Loss: 0.0450\n",
            "\tIteration: 40\t Loss: 1.7079\n",
            "\tIteration: 80\t Loss: 1.7022\n",
            "\tIteration: 120\t Loss: 1.7058\n",
            "\tIteration: 160\t Loss: 1.6990\n",
            "\tIteration: 200\t Loss: 1.7134\n",
            "\tIteration: 240\t Loss: 1.6935\n",
            "\tIteration: 280\t Loss: 1.6964\n",
            "\tIteration: 320\t Loss: 1.6903\n",
            "\tIteration: 360\t Loss: 1.7062\n",
            "\tIteration: 400\t Loss: 1.6913\n",
            "\tIteration: 440\t Loss: 1.6987\n",
            "\tIteration: 480\t Loss: 1.6976\n",
            "\tIteration: 520\t Loss: 1.6842\n",
            "\tIteration: 560\t Loss: 1.6785\n",
            "\tIteration: 600\t Loss: 1.6946\n",
            "\tIteration: 640\t Loss: 1.6879\n",
            "\tIteration: 680\t Loss: 1.6821\n",
            "\tIteration: 720\t Loss: 1.6782\n",
            "\tIteration: 760\t Loss: 1.6971\n",
            "\tIteration: 800\t Loss: 1.6917\n",
            "\tIteration: 840\t Loss: 1.6700\n",
            "\tIteration: 880\t Loss: 1.6779\n",
            "\tIteration: 920\t Loss: 1.6857\n",
            "Accuracy: 78.12\n",
            "Epoch: 3/5\n",
            "\tIteration: 0\t Loss: 0.0424\n",
            "\tIteration: 40\t Loss: 1.6817\n",
            "\tIteration: 80\t Loss: 1.6836\n",
            "\tIteration: 120\t Loss: 1.6798\n",
            "\tIteration: 160\t Loss: 1.6729\n",
            "\tIteration: 200\t Loss: 1.6753\n",
            "\tIteration: 240\t Loss: 1.6687\n",
            "\tIteration: 280\t Loss: 1.6691\n",
            "\tIteration: 320\t Loss: 1.6611\n",
            "\tIteration: 360\t Loss: 1.6806\n",
            "\tIteration: 400\t Loss: 1.6628\n",
            "\tIteration: 440\t Loss: 1.6743\n",
            "\tIteration: 480\t Loss: 1.6744\n",
            "\tIteration: 520\t Loss: 1.6828\n",
            "\tIteration: 560\t Loss: 1.6538\n",
            "\tIteration: 600\t Loss: 1.6667\n",
            "\tIteration: 640\t Loss: 1.6652\n",
            "\tIteration: 680\t Loss: 1.6670\n",
            "\tIteration: 720\t Loss: 1.6602\n",
            "\tIteration: 760\t Loss: 1.6739\n",
            "\tIteration: 800\t Loss: 1.6715\n",
            "\tIteration: 840\t Loss: 1.6718\n",
            "\tIteration: 880\t Loss: 1.6735\n",
            "\tIteration: 920\t Loss: 1.6722\n",
            "Accuracy: 82.29\n",
            "Epoch: 4/5\n",
            "\tIteration: 0\t Loss: 0.0411\n",
            "\tIteration: 40\t Loss: 1.6716\n",
            "\tIteration: 80\t Loss: 1.6776\n",
            "\tIteration: 120\t Loss: 1.6688\n",
            "\tIteration: 160\t Loss: 1.6622\n",
            "\tIteration: 200\t Loss: 1.6707\n",
            "\tIteration: 240\t Loss: 1.6657\n",
            "\tIteration: 280\t Loss: 1.6509\n",
            "\tIteration: 320\t Loss: 1.6531\n",
            "\tIteration: 360\t Loss: 1.6545\n",
            "\tIteration: 400\t Loss: 1.6507\n",
            "\tIteration: 440\t Loss: 1.6671\n",
            "\tIteration: 480\t Loss: 1.6548\n",
            "\tIteration: 520\t Loss: 1.6540\n",
            "\tIteration: 560\t Loss: 1.6448\n",
            "\tIteration: 600\t Loss: 1.6673\n",
            "\tIteration: 640\t Loss: 1.6590\n",
            "\tIteration: 680\t Loss: 1.6589\n",
            "\tIteration: 720\t Loss: 1.6564\n",
            "\tIteration: 760\t Loss: 1.6581\n",
            "\tIteration: 800\t Loss: 1.6640\n",
            "\tIteration: 840\t Loss: 1.6540\n",
            "\tIteration: 880\t Loss: 1.6705\n",
            "\tIteration: 920\t Loss: 1.6596\n",
            "Accuracy: 79.69\n",
            "Epoch: 5/5\n",
            "\tIteration: 0\t Loss: 0.0426\n",
            "\tIteration: 40\t Loss: 1.6650\n",
            "\tIteration: 80\t Loss: 1.6663\n",
            "\tIteration: 120\t Loss: 1.6441\n",
            "\tIteration: 160\t Loss: 1.6648\n",
            "\tIteration: 200\t Loss: 1.6659\n",
            "\tIteration: 240\t Loss: 1.6500\n",
            "\tIteration: 280\t Loss: 1.6618\n",
            "\tIteration: 320\t Loss: 1.6560\n",
            "\tIteration: 360\t Loss: 1.6529\n",
            "\tIteration: 400\t Loss: 1.6508\n",
            "\tIteration: 440\t Loss: 1.6584\n",
            "\tIteration: 480\t Loss: 1.6478\n",
            "\tIteration: 520\t Loss: 1.6599\n",
            "\tIteration: 560\t Loss: 1.6375\n",
            "\tIteration: 600\t Loss: 1.6589\n",
            "\tIteration: 640\t Loss: 1.6483\n",
            "\tIteration: 680\t Loss: 1.6564\n",
            "\tIteration: 720\t Loss: 1.6441\n",
            "\tIteration: 760\t Loss: 1.6638\n",
            "\tIteration: 800\t Loss: 1.6520\n",
            "\tIteration: 840\t Loss: 1.6502\n",
            "\tIteration: 880\t Loss: 1.6526\n",
            "\tIteration: 920\t Loss: 1.6581\n",
            "Accuracy: 81.88\n"
          ],
          "name": "stdout"
        }
      ]
    },
    {
      "cell_type": "code",
      "metadata": {
        "tags": [],
        "cell_id": "00008-2026632e-7ed4-430e-9c12-08359b898f58",
        "deepnote_to_be_reexecuted": false,
        "source_hash": "32e5ba7e",
        "execution_millis": 253,
        "execution_start": 1614360245394,
        "deepnote_cell_type": "code",
        "colab": {
          "base_uri": "https://localhost:8080/",
          "height": 234
        },
        "id": "0MgKb_QFogrn",
        "outputId": "7727c4af-f924-4d60-d080-acc065b43df3"
      },
      "source": [
        "# Run this cell with your model to make sure it works and predicts well for the validation data\n",
        "images, labels = next(iter(testloader))\n",
        "images.resize_(images.shape[0], 1, 784)\n",
        "ps = model.forward(images[0,:])\n",
        "view_classify(images[0].view(1, 28, 28), ps, version='Fashion')"
      ],
      "execution_count": 8,
      "outputs": [
        {
          "output_type": "display_data",
          "data": {
            "image/png": "[encoded data removed]",
            "text/plain": [
              "<Figure size 432x648 with 2 Axes>"
            ]
          },
          "metadata": {
            "tags": [],
            "needs_background": "light"
          }
        }
      ]
    },
    {
      "cell_type": "markdown",
      "metadata": {
        "tags": [],
        "cell_id": "00005-2d3bfd33-e83f-430b-b7ce-a1918d0fe564",
        "deepnote_cell_type": "markdown",
        "id": "0sCvD_X7ogro"
      },
      "source": [
        " # Model 2 - CNN"
      ]
    },
    {
      "cell_type": "code",
      "metadata": {
        "tags": [],
        "cell_id": "00004-438e7912-57be-4809-987d-fec25b92b909",
        "deepnote_to_be_reexecuted": false,
        "source_hash": "a47cd4e7",
        "execution_millis": 6,
        "execution_start": 1614360266246,
        "deepnote_cell_type": "code",
        "colab": {
          "base_uri": "https://localhost:8080/"
        },
        "id": "xtrpeE1fogrp",
        "outputId": "931b143f-81aa-44c0-e9fe-daa72983e181"
      },
      "source": [
        "class Network(nn.Module):\n",
        "  def __init__(self):\n",
        "    super().__init__()\n",
        "\n",
        "    # define layers\n",
        "    self.conv1 = nn.Conv2d(in_channels=1, out_channels=6, kernel_size=5)\n",
        "    self.conv2 = nn.Conv2d(in_channels=6, out_channels=12, kernel_size=5)\n",
        "\n",
        "    self.fc1 = nn.Linear(in_features=12*4*4, out_features=120)\n",
        "    self.fc2 = nn.Linear(in_features=120, out_features=60)\n",
        "    self.out = nn.Linear(in_features=60, out_features=10)\n",
        "\n",
        "  # define forward function\n",
        "  def forward(self, t):\n",
        "    # conv 1\n",
        "    t = self.conv1(t)\n",
        "    t = F.relu(t)\n",
        "    t = F.max_pool2d(t, kernel_size=2, stride=2)\n",
        "\n",
        "    # conv 2\n",
        "    t = self.conv2(t)\n",
        "    t = F.relu(t)\n",
        "    t = F.max_pool2d(t, kernel_size=2, stride=2)\n",
        "\n",
        "    # fc1\n",
        "    t = t.reshape(-1, 12*4*4)\n",
        "    t = self.fc1(t)\n",
        "    t = F.relu(t)\n",
        "\n",
        "    # fc2\n",
        "    t = self.fc2(t)\n",
        "    t = F.relu(t)\n",
        "\n",
        "    # output\n",
        "    t = self.out(t)\n",
        "    t = F.softmax(t) \n",
        "    # don't need softmax here since we'll use cross-entropy as activation.\n",
        "\n",
        "    return t\n",
        "model = Network()\n",
        "model "
      ],
      "execution_count": 44,
      "outputs": [
        {
          "output_type": "execute_result",
          "data": {
            "text/plain": [
              "Network(\n",
              "  (conv1): Conv2d(1, 6, kernel_size=(5, 5), stride=(1, 1))\n",
              "  (conv2): Conv2d(6, 12, kernel_size=(5, 5), stride=(1, 1))\n",
              "  (fc1): Linear(in_features=192, out_features=120, bias=True)\n",
              "  (fc2): Linear(in_features=120, out_features=60, bias=True)\n",
              "  (out): Linear(in_features=60, out_features=10, bias=True)\n",
              ")"
            ]
          },
          "metadata": {
            "tags": []
          },
          "execution_count": 44
        }
      ]
    },
    {
      "cell_type": "code",
      "metadata": {
        "tags": [],
        "cell_id": "00011-ba944558-14ce-43d6-bde8-a778f7407ef8",
        "deepnote_to_be_reexecuted": false,
        "source_hash": "6a80bd6",
        "execution_start": 1614360298266,
        "execution_millis": 62,
        "deepnote_cell_type": "code",
        "colab": {
          "base_uri": "https://localhost:8080/",
          "height": 248
        },
        "id": "OI9z6yLLogrq",
        "outputId": "d7fe3e97-2ad4-4c7a-d3bc-cbd3740fd812"
      },
      "source": [
        "image, label = next(iter(trainloader))\n",
        "imshow(image[0,:]);"
      ],
      "execution_count": 45,
      "outputs": [
        {
          "output_type": "display_data",
          "data": {
            "image/png": "[encoded data removed]",
            "text/plain": [
              "<Figure size 432x288 with 1 Axes>"
            ]
          },
          "metadata": {
            "tags": [],
            "needs_background": "light"
          }
        }
      ]
    },
    {
      "cell_type": "code",
      "metadata": {
        "tags": [],
        "cell_id": "00012-e6978c55-4843-431f-a265-2be750b283f0",
        "deepnote_cell_type": "code",
        "id": "SNUKXmTUogrs"
      },
      "source": [
        ""
      ],
      "execution_count": null,
      "outputs": []
    },
    {
      "cell_type": "code",
      "metadata": {
        "tags": [],
        "cell_id": "00013-cbdd0d8c-502f-4367-870d-5409192f0c1a",
        "deepnote_to_be_reexecuted": false,
        "source_hash": "9ae1659e",
        "execution_start": 1614364422451,
        "execution_millis": 0,
        "deepnote_cell_type": "code",
        "colab": {
          "base_uri": "https://localhost:8080/"
        },
        "id": "FPSbjnVdogrt",
        "outputId": "342a94bb-f20e-4534-eb82-82547d4bce22"
      },
      "source": [
        "class Net(nn.Module):   \n",
        "    def __init__(self):\n",
        "        super(Net, self).__init__()\n",
        "\n",
        "        self.cnn_layers = nn.Sequential(\n",
        "            # Defining a 2D convolution layer\n",
        "            nn.Conv2d(1, 4, kernel_size=3, stride=1, padding=1),\n",
        "            nn.BatchNorm2d(4),\n",
        "            nn.ReLU(inplace=True),\n",
        "            nn.MaxPool2d(kernel_size=2, stride=2),\n",
        "            # Defining another 2D convolution layer\n",
        "            nn.Conv2d(4, 4, kernel_size=3, stride=1, padding=1),\n",
        "            nn.BatchNorm2d(4),\n",
        "            nn.ReLU(inplace=True),\n",
        "            nn.MaxPool2d(kernel_size=2, stride=2),\n",
        "        )\n",
        "\n",
        "        self.linear_layers = nn.Sequential(\n",
        "            nn.Linear(4 * 7 * 7, 10),\n",
        "            nn.Softmax(dim=1)\n",
        "        )\n",
        "\n",
        "    # Defining the forward pass    \n",
        "    def forward(self, x):\n",
        "        x = self.cnn_layers(x)\n",
        "        x = x.view(x.size(0), -1)\n",
        "        x = self.linear_layers(x)\n",
        "        return x\n",
        "model = Net()\n",
        "model"
      ],
      "execution_count": 81,
      "outputs": [
        {
          "output_type": "execute_result",
          "data": {
            "text/plain": [
              "Net(\n",
              "  (cnn_layers): Sequential(\n",
              "    (0): Conv2d(1, 4, kernel_size=(3, 3), stride=(1, 1), padding=(1, 1))\n",
              "    (1): BatchNorm2d(4, eps=1e-05, momentum=0.1, affine=True, track_running_stats=True)\n",
              "    (2): ReLU(inplace=True)\n",
              "    (3): MaxPool2d(kernel_size=2, stride=2, padding=0, dilation=1, ceil_mode=False)\n",
              "    (4): Conv2d(4, 4, kernel_size=(3, 3), stride=(1, 1), padding=(1, 1))\n",
              "    (5): BatchNorm2d(4, eps=1e-05, momentum=0.1, affine=True, track_running_stats=True)\n",
              "    (6): ReLU(inplace=True)\n",
              "    (7): MaxPool2d(kernel_size=2, stride=2, padding=0, dilation=1, ceil_mode=False)\n",
              "  )\n",
              "  (linear_layers): Sequential(\n",
              "    (0): Linear(in_features=196, out_features=10, bias=True)\n",
              "    (1): Softmax(dim=1)\n",
              "  )\n",
              ")"
            ]
          },
          "metadata": {
            "tags": []
          },
          "execution_count": 81
        }
      ]
    },
    {
      "cell_type": "code",
      "metadata": {
        "tags": [],
        "cell_id": "00014-2285208c-0fab-4776-852f-994d6c546b43",
        "deepnote_to_be_reexecuted": false,
        "source_hash": "eef7b937",
        "execution_start": 1614364596783,
        "execution_millis": 55,
        "deepnote_cell_type": "code",
        "colab": {
          "base_uri": "https://localhost:8080/",
          "height": 234
        },
        "id": "m8MXerdzogrt",
        "outputId": "fa8c1ed3-67d1-4b35-d29b-f90dbbb416b0"
      },
      "source": [
        " images, labels = next(iter(testloader))\n",
        "#images.resize_(images.shape[0], 1, 784)\n",
        "ps = model.forward(images[0:2])\n",
        "view_classify(images[0].view(1, 28, 28), ps[0], version='Fashion')"
      ],
      "execution_count": 82,
      "outputs": [
        {
          "output_type": "display_data",
          "data": {
            "image/png": "[encoded data removed]",
            "text/plain": [
              "<Figure size 432x648 with 2 Axes>"
            ]
          },
          "metadata": {
            "tags": [],
            "needs_background": "light"
          }
        }
      ]
    },
    {
      "cell_type": "code",
      "metadata": {
        "tags": [],
        "cell_id": "00006-c995e374-3570-4d71-a696-d95b5b59faa7",
        "deepnote_to_be_reexecuted": false,
        "source_hash": "a50e06a7",
        "execution_millis": 246555,
        "execution_start": 1614360323594,
        "deepnote_cell_type": "code",
        "colab": {
          "base_uri": "https://localhost:8080/"
        },
        "id": "uy8DHjwkogrt",
        "outputId": "2199bf79-53fb-454b-d511-10790e54b411"
      },
      "source": [
        "epochs = 10\n",
        "print_every = 40\n",
        "criterion = nn.CrossEntropyLoss()\n",
        "optimizer = optim.SGD(model.parameters(), lr=0.007)\n",
        "\n",
        "correct = 0\n",
        "total = 0 \n",
        "\n",
        "for e in range(epochs):\n",
        "    running_loss = 0\n",
        "    print(f\"Epoch: {e+1}/{epochs}\")\n",
        "\n",
        "    for i, (images, labels) in enumerate(iter(trainloader)):\n",
        "\n",
        "        # Flatten MNIST images into a 784 long vector\n",
        "        #images.resize_(images.size()[0], 784)\n",
        "        \n",
        "        optimizer.zero_grad()\n",
        "        \n",
        "        output = model.forward(images)   # 1) Forward pass\n",
        "        loss = criterion(output, labels) # 2) Compute loss\n",
        "        loss.backward()                  # 3) Backward pass\n",
        "        optimizer.step()                 # 4) Update model\n",
        "        \n",
        "        running_loss += loss.item()\n",
        "        \n",
        "        if i % print_every == 0:\n",
        "            print(f\"\\tIteration: {i}\\t Loss: {running_loss/print_every:.4f}\")\n",
        "            running_loss = 0\n",
        "    \n",
        "    with torch.no_grad():\n",
        "        for data in testloader:\n",
        "            output = model.forward(images)\n",
        "            _, predicted = torch.max(output.data, 1)\n",
        "            total += labels.size(0)\n",
        "            correct += (predicted == labels).sum().item()\n",
        "    print('Accuracy:',round((100*correct/total),2))"
      ],
      "execution_count": 85,
      "outputs": [
        {
          "output_type": "stream",
          "text": [
            "Epoch: 1/10\n",
            "\tIteration: 0\t Loss: 0.0453\n",
            "\tIteration: 40\t Loss: 1.7541\n",
            "\tIteration: 80\t Loss: 1.7439\n",
            "\tIteration: 120\t Loss: 1.7428\n",
            "\tIteration: 160\t Loss: 1.7452\n",
            "\tIteration: 200\t Loss: 1.7343\n",
            "\tIteration: 240\t Loss: 1.7243\n",
            "\tIteration: 280\t Loss: 1.7332\n",
            "\tIteration: 320\t Loss: 1.7336\n",
            "\tIteration: 360\t Loss: 1.7344\n",
            "\tIteration: 400\t Loss: 1.7279\n",
            "\tIteration: 440\t Loss: 1.7391\n",
            "\tIteration: 480\t Loss: 1.7338\n",
            "\tIteration: 520\t Loss: 1.7420\n",
            "\tIteration: 560\t Loss: 1.7368\n",
            "\tIteration: 600\t Loss: 1.7289\n",
            "\tIteration: 640\t Loss: 1.7319\n",
            "\tIteration: 680\t Loss: 1.7360\n",
            "\tIteration: 720\t Loss: 1.7297\n",
            "\tIteration: 760\t Loss: 1.7412\n",
            "\tIteration: 800\t Loss: 1.7436\n",
            "\tIteration: 840\t Loss: 1.7520\n",
            "\tIteration: 880\t Loss: 1.7318\n",
            "\tIteration: 920\t Loss: 1.7395\n",
            "Accuracy: 62.5\n",
            "Epoch: 2/10\n",
            "\tIteration: 0\t Loss: 0.0436\n",
            "\tIteration: 40\t Loss: 1.7426\n",
            "\tIteration: 80\t Loss: 1.7316\n",
            "\tIteration: 120\t Loss: 1.7349\n",
            "\tIteration: 160\t Loss: 1.7380\n",
            "\tIteration: 200\t Loss: 1.7281\n",
            "\tIteration: 240\t Loss: 1.7179\n",
            "\tIteration: 280\t Loss: 1.7287\n",
            "\tIteration: 320\t Loss: 1.7388\n",
            "\tIteration: 360\t Loss: 1.7237\n",
            "\tIteration: 400\t Loss: 1.7422\n",
            "\tIteration: 440\t Loss: 1.7435\n",
            "\tIteration: 480\t Loss: 1.7319\n",
            "\tIteration: 520\t Loss: 1.7349\n",
            "\tIteration: 560\t Loss: 1.7445\n",
            "\tIteration: 600\t Loss: 1.7409\n",
            "\tIteration: 640\t Loss: 1.7275\n",
            "\tIteration: 680\t Loss: 1.7424\n",
            "\tIteration: 720\t Loss: 1.7477\n",
            "\tIteration: 760\t Loss: 1.7304\n",
            "\tIteration: 800\t Loss: 1.7354\n",
            "\tIteration: 840\t Loss: 1.7355\n",
            "\tIteration: 880\t Loss: 1.7476\n",
            "\tIteration: 920\t Loss: 1.7543\n",
            "Accuracy: 59.38\n",
            "Epoch: 3/10\n",
            "\tIteration: 0\t Loss: 0.0446\n",
            "\tIteration: 40\t Loss: 1.7351\n",
            "\tIteration: 80\t Loss: 1.7444\n",
            "\tIteration: 120\t Loss: 1.7217\n",
            "\tIteration: 160\t Loss: 1.7229\n",
            "\tIteration: 200\t Loss: 1.7350\n",
            "\tIteration: 240\t Loss: 1.7450\n",
            "\tIteration: 280\t Loss: 1.7338\n",
            "\tIteration: 320\t Loss: 1.7417\n",
            "\tIteration: 360\t Loss: 1.7248\n",
            "\tIteration: 400\t Loss: 1.7310\n",
            "\tIteration: 440\t Loss: 1.7233\n",
            "\tIteration: 480\t Loss: 1.7329\n",
            "\tIteration: 520\t Loss: 1.7327\n",
            "\tIteration: 560\t Loss: 1.7430\n",
            "\tIteration: 600\t Loss: 1.7340\n",
            "\tIteration: 640\t Loss: 1.7387\n",
            "\tIteration: 680\t Loss: 1.7310\n",
            "\tIteration: 720\t Loss: 1.7257\n",
            "\tIteration: 760\t Loss: 1.7411\n",
            "\tIteration: 800\t Loss: 1.7467\n",
            "\tIteration: 840\t Loss: 1.7539\n",
            "\tIteration: 880\t Loss: 1.7393\n",
            "\tIteration: 920\t Loss: 1.7402\n",
            "Accuracy: 61.46\n",
            "Epoch: 4/10\n",
            "\tIteration: 0\t Loss: 0.0408\n",
            "\tIteration: 40\t Loss: 1.7316\n",
            "\tIteration: 80\t Loss: 1.7166\n",
            "\tIteration: 120\t Loss: 1.7344\n",
            "\tIteration: 160\t Loss: 1.7390\n",
            "\tIteration: 200\t Loss: 1.7230\n",
            "\tIteration: 240\t Loss: 1.7327\n",
            "\tIteration: 280\t Loss: 1.7208\n",
            "\tIteration: 320\t Loss: 1.7334\n",
            "\tIteration: 360\t Loss: 1.7432\n",
            "\tIteration: 400\t Loss: 1.7434\n",
            "\tIteration: 440\t Loss: 1.7520\n",
            "\tIteration: 480\t Loss: 1.7263\n",
            "\tIteration: 520\t Loss: 1.7418\n",
            "\tIteration: 560\t Loss: 1.7425\n",
            "\tIteration: 600\t Loss: 1.7283\n",
            "\tIteration: 640\t Loss: 1.7320\n",
            "\tIteration: 680\t Loss: 1.7374\n",
            "\tIteration: 720\t Loss: 1.7366\n",
            "\tIteration: 760\t Loss: 1.7379\n",
            "\tIteration: 800\t Loss: 1.7428\n",
            "\tIteration: 840\t Loss: 1.7313\n",
            "\tIteration: 880\t Loss: 1.7487\n",
            "\tIteration: 920\t Loss: 1.7191\n",
            "Accuracy: 63.28\n",
            "Epoch: 5/10\n",
            "\tIteration: 0\t Loss: 0.0409\n",
            "\tIteration: 40\t Loss: 1.7391\n",
            "\tIteration: 80\t Loss: 1.7212\n",
            "\tIteration: 120\t Loss: 1.7320\n",
            "\tIteration: 160\t Loss: 1.7355\n",
            "\tIteration: 200\t Loss: 1.7429\n",
            "\tIteration: 240\t Loss: 1.7281\n",
            "\tIteration: 280\t Loss: 1.7383\n",
            "\tIteration: 320\t Loss: 1.7341\n",
            "\tIteration: 360\t Loss: 1.7240\n",
            "\tIteration: 400\t Loss: 1.7239\n",
            "\tIteration: 440\t Loss: 1.7308\n",
            "\tIteration: 480\t Loss: 1.7346\n",
            "\tIteration: 520\t Loss: 1.7393\n",
            "\tIteration: 560\t Loss: 1.7350\n",
            "\tIteration: 600\t Loss: 1.7333\n",
            "\tIteration: 640\t Loss: 1.7292\n",
            "\tIteration: 680\t Loss: 1.7297\n",
            "\tIteration: 720\t Loss: 1.7300\n",
            "\tIteration: 760\t Loss: 1.7399\n",
            "\tIteration: 800\t Loss: 1.7267\n",
            "\tIteration: 840\t Loss: 1.7392\n",
            "\tIteration: 880\t Loss: 1.7497\n",
            "\tIteration: 920\t Loss: 1.7386\n",
            "Accuracy: 65.0\n",
            "Epoch: 6/10\n",
            "\tIteration: 0\t Loss: 0.0439\n",
            "\tIteration: 40\t Loss: 1.7302\n",
            "\tIteration: 80\t Loss: 1.7173\n",
            "\tIteration: 120\t Loss: 1.7300\n",
            "\tIteration: 160\t Loss: 1.7267\n",
            "\tIteration: 200\t Loss: 1.7567\n",
            "\tIteration: 240\t Loss: 1.7374\n",
            "\tIteration: 280\t Loss: 1.7355\n",
            "\tIteration: 320\t Loss: 1.7352\n",
            "\tIteration: 360\t Loss: 1.7421\n",
            "\tIteration: 400\t Loss: 1.7298\n",
            "\tIteration: 440\t Loss: 1.7385\n",
            "\tIteration: 480\t Loss: 1.7423\n",
            "\tIteration: 520\t Loss: 1.7460\n",
            "\tIteration: 560\t Loss: 1.7325\n",
            "\tIteration: 600\t Loss: 1.7251\n",
            "\tIteration: 640\t Loss: 1.7189\n",
            "\tIteration: 680\t Loss: 1.7343\n",
            "\tIteration: 720\t Loss: 1.7213\n",
            "\tIteration: 760\t Loss: 1.7243\n",
            "\tIteration: 800\t Loss: 1.7361\n",
            "\tIteration: 840\t Loss: 1.7421\n",
            "\tIteration: 880\t Loss: 1.7218\n",
            "\tIteration: 920\t Loss: 1.7395\n",
            "Accuracy: 66.67\n",
            "Epoch: 7/10\n",
            "\tIteration: 0\t Loss: 0.0430\n",
            "\tIteration: 40\t Loss: 1.7419\n",
            "\tIteration: 80\t Loss: 1.7287\n",
            "\tIteration: 120\t Loss: 1.7332\n",
            "\tIteration: 160\t Loss: 1.7310\n",
            "\tIteration: 200\t Loss: 1.7327\n",
            "\tIteration: 240\t Loss: 1.7279\n",
            "\tIteration: 280\t Loss: 1.7326\n",
            "\tIteration: 320\t Loss: 1.7308\n",
            "\tIteration: 360\t Loss: 1.7348\n",
            "\tIteration: 400\t Loss: 1.7276\n",
            "\tIteration: 440\t Loss: 1.7376\n",
            "\tIteration: 480\t Loss: 1.7456\n",
            "\tIteration: 520\t Loss: 1.7308\n",
            "\tIteration: 560\t Loss: 1.7341\n",
            "\tIteration: 600\t Loss: 1.7347\n",
            "\tIteration: 640\t Loss: 1.7282\n",
            "\tIteration: 680\t Loss: 1.7409\n",
            "\tIteration: 720\t Loss: 1.7239\n",
            "\tIteration: 760\t Loss: 1.7379\n",
            "\tIteration: 800\t Loss: 1.7213\n",
            "\tIteration: 840\t Loss: 1.7200\n",
            "\tIteration: 880\t Loss: 1.7331\n",
            "\tIteration: 920\t Loss: 1.7320\n",
            "Accuracy: 68.3\n",
            "Epoch: 8/10\n",
            "\tIteration: 0\t Loss: 0.0434\n",
            "\tIteration: 40\t Loss: 1.7210\n",
            "\tIteration: 80\t Loss: 1.7347\n",
            "\tIteration: 120\t Loss: 1.7244\n",
            "\tIteration: 160\t Loss: 1.7165\n",
            "\tIteration: 200\t Loss: 1.7350\n",
            "\tIteration: 240\t Loss: 1.7391\n",
            "\tIteration: 280\t Loss: 1.7275\n",
            "\tIteration: 320\t Loss: 1.7156\n",
            "\tIteration: 360\t Loss: 1.7362\n",
            "\tIteration: 400\t Loss: 1.7435\n",
            "\tIteration: 440\t Loss: 1.7307\n",
            "\tIteration: 480\t Loss: 1.7312\n",
            "\tIteration: 520\t Loss: 1.7210\n",
            "\tIteration: 560\t Loss: 1.7367\n",
            "\tIteration: 600\t Loss: 1.7262\n",
            "\tIteration: 640\t Loss: 1.7274\n",
            "\tIteration: 680\t Loss: 1.7339\n",
            "\tIteration: 720\t Loss: 1.7495\n",
            "\tIteration: 760\t Loss: 1.7432\n",
            "\tIteration: 800\t Loss: 1.7482\n",
            "\tIteration: 840\t Loss: 1.7252\n",
            "\tIteration: 880\t Loss: 1.7406\n",
            "\tIteration: 920\t Loss: 1.7155\n",
            "Accuracy: 70.31\n",
            "Epoch: 9/10\n",
            "\tIteration: 0\t Loss: 0.0429\n",
            "\tIteration: 40\t Loss: 1.7368\n",
            "\tIteration: 80\t Loss: 1.7404\n",
            "\tIteration: 120\t Loss: 1.7266\n",
            "\tIteration: 160\t Loss: 1.7303\n",
            "\tIteration: 200\t Loss: 1.7279\n",
            "\tIteration: 240\t Loss: 1.7476\n",
            "\tIteration: 280\t Loss: 1.7254\n",
            "\tIteration: 320\t Loss: 1.7218\n",
            "\tIteration: 360\t Loss: 1.7349\n",
            "\tIteration: 400\t Loss: 1.7293\n",
            "\tIteration: 440\t Loss: 1.7356\n",
            "\tIteration: 480\t Loss: 1.7255\n",
            "\tIteration: 520\t Loss: 1.7331\n",
            "\tIteration: 560\t Loss: 1.7459\n",
            "\tIteration: 600\t Loss: 1.7259\n",
            "\tIteration: 640\t Loss: 1.7323\n",
            "\tIteration: 680\t Loss: 1.7241\n",
            "\tIteration: 720\t Loss: 1.7249\n",
            "\tIteration: 760\t Loss: 1.7353\n",
            "\tIteration: 800\t Loss: 1.7215\n",
            "\tIteration: 840\t Loss: 1.7214\n",
            "\tIteration: 880\t Loss: 1.7341\n",
            "\tIteration: 920\t Loss: 1.7250\n",
            "Accuracy: 71.53\n",
            "Epoch: 10/10\n",
            "\tIteration: 0\t Loss: 0.0442\n",
            "\tIteration: 40\t Loss: 1.7322\n",
            "\tIteration: 80\t Loss: 1.7513\n",
            "\tIteration: 120\t Loss: 1.7238\n",
            "\tIteration: 160\t Loss: 1.7262\n",
            "\tIteration: 200\t Loss: 1.7319\n",
            "\tIteration: 240\t Loss: 1.7282\n",
            "\tIteration: 280\t Loss: 1.7402\n",
            "\tIteration: 320\t Loss: 1.7269\n",
            "\tIteration: 360\t Loss: 1.7343\n",
            "\tIteration: 400\t Loss: 1.7323\n",
            "\tIteration: 440\t Loss: 1.7367\n",
            "\tIteration: 480\t Loss: 1.7236\n",
            "\tIteration: 520\t Loss: 1.7325\n",
            "\tIteration: 560\t Loss: 1.7227\n",
            "\tIteration: 600\t Loss: 1.7363\n",
            "\tIteration: 640\t Loss: 1.7294\n",
            "\tIteration: 680\t Loss: 1.7292\n",
            "\tIteration: 720\t Loss: 1.7334\n",
            "\tIteration: 760\t Loss: 1.7126\n",
            "\tIteration: 800\t Loss: 1.7387\n",
            "\tIteration: 840\t Loss: 1.7364\n",
            "\tIteration: 880\t Loss: 1.7154\n",
            "\tIteration: 920\t Loss: 1.7223\n",
            "Accuracy: 71.25\n"
          ],
          "name": "stdout"
        }
      ]
    },
    {
      "cell_type": "code",
      "metadata": {
        "tags": [],
        "cell_id": "00013-2d4e1f4c-3199-48f4-8609-6b9842555ba2",
        "deepnote_to_be_reexecuted": false,
        "source_hash": "6d80bae2",
        "execution_millis": 5,
        "execution_start": 1614362271982,
        "deepnote_cell_type": "code",
        "colab": {
          "base_uri": "https://localhost:8080/",
          "height": 234
        },
        "id": "3QVXFThdogru",
        "outputId": "02e580c0-0f80-4a2f-8077-b159d26fcb0f"
      },
      "source": [
        "images, labels = next(iter(testloader))\n",
        "#images.resize_(images.shape[0], 1, 784)\n",
        "ps = model.forward(images[0:2])\n",
        "view_classify(images[0].view(1, 28, 28), ps[0], version='Fashion')"
      ],
      "execution_count": 88,
      "outputs": [
        {
          "output_type": "display_data",
          "data": {
            "image/png": "[encoded data removed]",
            "text/plain": [
              "<Figure size 432x648 with 2 Axes>"
            ]
          },
          "metadata": {
            "tags": [],
            "needs_background": "light"
          }
        }
      ]
    },
    {
      "cell_type": "markdown",
      "metadata": {
        "tags": [],
        "cell_id": "00012-24fa63f7-c66e-4c48-9910-98fd4f5f3c56",
        "deepnote_cell_type": "markdown",
        "id": "yoKY1t9Aogru"
      },
      "source": [
        "# Model 3 - CNN(AlexNet)"
      ]
    },
    {
      "cell_type": "code",
      "metadata": {
        "tags": [],
        "cell_id": "00012-5a7a4bf9-1ea7-431a-b0e7-c31f0d4d7db0",
        "deepnote_to_be_reexecuted": false,
        "source_hash": "a47cd4e7",
        "execution_millis": 21,
        "execution_start": 1614354025533,
        "deepnote_cell_type": "code",
        "colab": {
          "base_uri": "https://localhost:8080/"
        },
        "id": "JLA5eyPeogrv",
        "outputId": "255e17cd-555c-4d00-c920-6cdf3932216e"
      },
      "source": [
        "class Network(nn.Module):\n",
        "  def __init__(self):\n",
        "    super().__init__()\n",
        "\n",
        "    # define layers\n",
        "    self.conv1 = nn.Conv2d(in_channels=1, out_channels=6, kernel_size=5)\n",
        "    self.conv2 = nn.Conv2d(in_channels=6, out_channels=12, kernel_size=5)\n",
        "\n",
        "    self.fc1 = nn.Linear(in_features=12*4*4, out_features=120)\n",
        "    self.fc2 = nn.Linear(in_features=120, out_features=60)\n",
        "    self.out = nn.Linear(in_features=60, out_features=10)\n",
        "\n",
        "  # define forward function\n",
        "  def forward(self, t):\n",
        "    # conv 1\n",
        "    t = self.conv1(t)\n",
        "    t = F.relu(t)\n",
        "    t = F.max_pool2d(t, kernel_size=2, stride=2)\n",
        "\n",
        "    # conv 2\n",
        "    t = self.conv2(t)\n",
        "    t = F.relu(t)\n",
        "    t = F.max_pool2d(t, kernel_size=2, stride=2)\n",
        "\n",
        "    # fc1\n",
        "    t = t.reshape(-1, 12*4*4)\n",
        "    t = self.fc1(t)\n",
        "    t = F.relu(t)\n",
        "\n",
        "    # fc2\n",
        "    t = self.fc2(t)\n",
        "    t = F.relu(t)\n",
        "\n",
        "    # output\n",
        "    t = self.out(t)\n",
        "    # don't need softmax here since we'll use cross-entropy as activation.\n",
        "\n",
        "    return t\n",
        "model = Network()\n",
        "model "
      ],
      "execution_count": 72,
      "outputs": [
        {
          "output_type": "execute_result",
          "data": {
            "text/plain": [
              "Network(\n",
              "  (conv1): Conv2d(1, 6, kernel_size=(5, 5), stride=(1, 1))\n",
              "  (conv2): Conv2d(6, 12, kernel_size=(5, 5), stride=(1, 1))\n",
              "  (fc1): Linear(in_features=192, out_features=120, bias=True)\n",
              "  (fc2): Linear(in_features=120, out_features=60, bias=True)\n",
              "  (out): Linear(in_features=60, out_features=10, bias=True)\n",
              ")"
            ]
          },
          "metadata": {
            "tags": []
          },
          "execution_count": 72
        }
      ]
    },
    {
      "cell_type": "code",
      "metadata": {
        "tags": [],
        "cell_id": "00014-694e523e-11f7-4118-abe7-6710fe112da1",
        "deepnote_to_be_reexecuted": false,
        "source_hash": "955116fb",
        "execution_millis": 1,
        "execution_start": 1614354027431,
        "deepnote_cell_type": "code",
        "id": "g3BJx1zzogrv"
      },
      "source": [
        "import torchvision\n",
        "import torchvision.transforms as transforms"
      ],
      "execution_count": 73,
      "outputs": []
    },
    {
      "cell_type": "code",
      "metadata": {
        "tags": [],
        "cell_id": "00013-0d6ed653-ef21-4eb8-83d7-e44812fff7fc",
        "deepnote_to_be_reexecuted": false,
        "source_hash": "fd41dd47",
        "execution_millis": 501,
        "execution_start": 1614354028764,
        "deepnote_cell_type": "code",
        "colab": {
          "base_uri": "https://localhost:8080/",
          "height": 269
        },
        "id": "jZCRZ75Mogrv",
        "outputId": "ac84689b-20fd-46cb-a9e7-2435411656c7"
      },
      "source": [
        "#Function to show some random images\n",
        "def imshow(img):\n",
        "    img = img / 2 + 0.5     # unnormalize\n",
        "    npimg = img.numpy()\n",
        "    plt.imshow(np.transpose(npimg, (1, 2, 0)))\n",
        "    plt.show()\n",
        "\n",
        "#Get some random training images\n",
        "dataiter = iter(trainloader)\n",
        "images, labels = dataiter.next()\n",
        "\n",
        "#Show images\n",
        "imshow(torchvision.utils.make_grid(images))\n",
        "# print labels\n",
        "#print(ax2.yticklabels)"
      ],
      "execution_count": 74,
      "outputs": [
        {
          "output_type": "display_data",
          "data": {
            "image/png": "[encoded data removed]",
            "text/plain": [
              "<Figure size 432x288 with 1 Axes>"
            ]
          },
          "metadata": {
            "tags": [],
            "needs_background": "light"
          }
        }
      ]
    },
    {
      "cell_type": "code",
      "metadata": {
        "tags": [],
        "cell_id": "00015-3721d8ef-94f2-4344-b574-b852796a83f2",
        "deepnote_to_be_reexecuted": false,
        "source_hash": "f2b6b845",
        "execution_millis": 3200,
        "execution_start": 1614354032724,
        "deepnote_cell_type": "code",
        "colab": {
          "base_uri": "https://localhost:8080/",
          "height": 559,
          "referenced_widgets": [
            "eea28c01f4164f17bf8590e4a486e8b6",
            "75973e40b8ed4851b5314a8c72ac2007",
            "7d5df03036d6440fa59bc7783f188b32",
            "2c1ef317c0ee4119b15da3c0512c80a0",
            "b971d9c6e3454b1da04e1aa245b1e0f0",
            "1a0a5dbd426742919f83903d25473c18",
            "0b7794a2785740938cfe65167430c0e4",
            "e374d0d13af2412bafe36c23653c3ed9"
          ]
        },
        "id": "DcOckukrogrw",
        "outputId": "bc9ba92b-6efc-4078-a29b-d7934e426eac"
      },
      "source": [
        "#import torch\n",
        "model = torch.hub.load('pytorch/vision:v0.6.0', 'alexnet', pretrained=True)\n",
        "model.eval()"
      ],
      "execution_count": 75,
      "outputs": [
        {
          "output_type": "stream",
          "text": [
            "Downloading: \"https://github.com/pytorch/vision/archive/v0.6.0.zip\" to /root/.cache/torch/hub/v0.6.0.zip\n",
            "Downloading: \"https://download.pytorch.org/models/alexnet-owt-4df8aa71.pth\" to /root/.cache/torch/hub/checkpoints/alexnet-owt-4df8aa71.pth\n"
          ],
          "name": "stderr"
        },
        {
          "output_type": "display_data",
          "data": {
            "application/vnd.jupyter.widget-view+json": {
              "model_id": "eea28c01f4164f17bf8590e4a486e8b6",
              "version_minor": 0,
              "version_major": 2
            },
            "text/plain": [
              "HBox(children=(FloatProgress(value=0.0, max=244418560.0), HTML(value='')))"
            ]
          },
          "metadata": {
            "tags": []
          }
        },
        {
          "output_type": "stream",
          "text": [
            "\n"
          ],
          "name": "stdout"
        },
        {
          "output_type": "execute_result",
          "data": {
            "text/plain": [
              "AlexNet(\n",
              "  (features): Sequential(\n",
              "    (0): Conv2d(3, 64, kernel_size=(11, 11), stride=(4, 4), padding=(2, 2))\n",
              "    (1): ReLU(inplace=True)\n",
              "    (2): MaxPool2d(kernel_size=3, stride=2, padding=0, dilation=1, ceil_mode=False)\n",
              "    (3): Conv2d(64, 192, kernel_size=(5, 5), stride=(1, 1), padding=(2, 2))\n",
              "    (4): ReLU(inplace=True)\n",
              "    (5): MaxPool2d(kernel_size=3, stride=2, padding=0, dilation=1, ceil_mode=False)\n",
              "    (6): Conv2d(192, 384, kernel_size=(3, 3), stride=(1, 1), padding=(1, 1))\n",
              "    (7): ReLU(inplace=True)\n",
              "    (8): Conv2d(384, 256, kernel_size=(3, 3), stride=(1, 1), padding=(1, 1))\n",
              "    (9): ReLU(inplace=True)\n",
              "    (10): Conv2d(256, 256, kernel_size=(3, 3), stride=(1, 1), padding=(1, 1))\n",
              "    (11): ReLU(inplace=True)\n",
              "    (12): MaxPool2d(kernel_size=3, stride=2, padding=0, dilation=1, ceil_mode=False)\n",
              "  )\n",
              "  (avgpool): AdaptiveAvgPool2d(output_size=(6, 6))\n",
              "  (classifier): Sequential(\n",
              "    (0): Dropout(p=0.5, inplace=False)\n",
              "    (1): Linear(in_features=9216, out_features=4096, bias=True)\n",
              "    (2): ReLU(inplace=True)\n",
              "    (3): Dropout(p=0.5, inplace=False)\n",
              "    (4): Linear(in_features=4096, out_features=4096, bias=True)\n",
              "    (5): ReLU(inplace=True)\n",
              "    (6): Linear(in_features=4096, out_features=1000, bias=True)\n",
              "  )\n",
              ")"
            ]
          },
          "metadata": {
            "tags": []
          },
          "execution_count": 75
        }
      ]
    },
    {
      "cell_type": "code",
      "metadata": {
        "tags": [],
        "cell_id": "00017-073eef21-3dbe-47fe-8c62-77e1372f260b",
        "deepnote_to_be_reexecuted": false,
        "source_hash": "b8528fc6",
        "execution_millis": 4285,
        "execution_start": 1614354039827,
        "deepnote_cell_type": "code",
        "colab": {
          "base_uri": "https://localhost:8080/"
        },
        "id": "msPgorkmogrw",
        "outputId": "f512f173-1ba6-4b90-9358-bac604a6afca"
      },
      "source": [
        "#Now using the AlexNet\n",
        "AlexNet_model = torch.hub.load('pytorch/vision:v0.6.0', 'alexnet', pretrained=True)\n",
        "\n",
        "#Model description\n",
        "AlexNet_model.eval()"
      ],
      "execution_count": 76,
      "outputs": [
        {
          "output_type": "stream",
          "text": [
            "Using cache found in /root/.cache/torch/hub/pytorch_vision_v0.6.0\n"
          ],
          "name": "stderr"
        },
        {
          "output_type": "execute_result",
          "data": {
            "text/plain": [
              "AlexNet(\n",
              "  (features): Sequential(\n",
              "    (0): Conv2d(3, 64, kernel_size=(11, 11), stride=(4, 4), padding=(2, 2))\n",
              "    (1): ReLU(inplace=True)\n",
              "    (2): MaxPool2d(kernel_size=3, stride=2, padding=0, dilation=1, ceil_mode=False)\n",
              "    (3): Conv2d(64, 192, kernel_size=(5, 5), stride=(1, 1), padding=(2, 2))\n",
              "    (4): ReLU(inplace=True)\n",
              "    (5): MaxPool2d(kernel_size=3, stride=2, padding=0, dilation=1, ceil_mode=False)\n",
              "    (6): Conv2d(192, 384, kernel_size=(3, 3), stride=(1, 1), padding=(1, 1))\n",
              "    (7): ReLU(inplace=True)\n",
              "    (8): Conv2d(384, 256, kernel_size=(3, 3), stride=(1, 1), padding=(1, 1))\n",
              "    (9): ReLU(inplace=True)\n",
              "    (10): Conv2d(256, 256, kernel_size=(3, 3), stride=(1, 1), padding=(1, 1))\n",
              "    (11): ReLU(inplace=True)\n",
              "    (12): MaxPool2d(kernel_size=3, stride=2, padding=0, dilation=1, ceil_mode=False)\n",
              "  )\n",
              "  (avgpool): AdaptiveAvgPool2d(output_size=(6, 6))\n",
              "  (classifier): Sequential(\n",
              "    (0): Dropout(p=0.5, inplace=False)\n",
              "    (1): Linear(in_features=9216, out_features=4096, bias=True)\n",
              "    (2): ReLU(inplace=True)\n",
              "    (3): Dropout(p=0.5, inplace=False)\n",
              "    (4): Linear(in_features=4096, out_features=4096, bias=True)\n",
              "    (5): ReLU(inplace=True)\n",
              "    (6): Linear(in_features=4096, out_features=1000, bias=True)\n",
              "  )\n",
              ")"
            ]
          },
          "metadata": {
            "tags": []
          },
          "execution_count": 76
        }
      ]
    },
    {
      "cell_type": "code",
      "metadata": {
        "tags": [],
        "cell_id": "00018-c92fd778-260b-48a0-b260-e069415808b1",
        "deepnote_to_be_reexecuted": false,
        "source_hash": "b323a430",
        "execution_millis": 113,
        "execution_start": 1614354047129,
        "deepnote_cell_type": "code",
        "id": "xY_f_Byqogrx"
      },
      "source": [
        "AlexNet_model.features[0] = nn.Conv2d(1, 64, kernel_size=4)\n",
        "AlexNet_model.classifier[4] = nn.Linear(4096,1024)\n",
        "AlexNet_model.classifier[6] = nn.Linear(1024,10)"
      ],
      "execution_count": 77,
      "outputs": []
    },
    {
      "cell_type": "code",
      "metadata": {
        "tags": [],
        "cell_id": "00017-6a640e16-0055-4843-9d3e-74290e427198",
        "deepnote_to_be_reexecuted": false,
        "source_hash": "b03306a9",
        "execution_millis": 291,
        "execution_start": 1614354048557,
        "deepnote_cell_type": "code",
        "colab": {
          "base_uri": "https://localhost:8080/"
        },
        "id": "syTKwUcZogrx",
        "outputId": "2e8c96b1-557a-4271-8d1a-c4e6262caccb"
      },
      "source": [
        "#Instantiating CUDA device\n",
        "device = torch.device(\"cuda:0\" if torch.cuda.is_available() else \"cpu\")\n",
        "\n",
        "#Verifying CUDA\n",
        "print(device)\n",
        "\n",
        "#Move the input and AlexNet_model to GPU for speed if available\n",
        "AlexNet_model.to(device)"
      ],
      "execution_count": 78,
      "outputs": [
        {
          "output_type": "stream",
          "text": [
            "cpu\n"
          ],
          "name": "stdout"
        },
        {
          "output_type": "execute_result",
          "data": {
            "text/plain": [
              "AlexNet(\n",
              "  (features): Sequential(\n",
              "    (0): Conv2d(1, 64, kernel_size=(4, 4), stride=(1, 1))\n",
              "    (1): ReLU(inplace=True)\n",
              "    (2): MaxPool2d(kernel_size=3, stride=2, padding=0, dilation=1, ceil_mode=False)\n",
              "    (3): Conv2d(64, 192, kernel_size=(5, 5), stride=(1, 1), padding=(2, 2))\n",
              "    (4): ReLU(inplace=True)\n",
              "    (5): MaxPool2d(kernel_size=3, stride=2, padding=0, dilation=1, ceil_mode=False)\n",
              "    (6): Conv2d(192, 384, kernel_size=(3, 3), stride=(1, 1), padding=(1, 1))\n",
              "    (7): ReLU(inplace=True)\n",
              "    (8): Conv2d(384, 256, kernel_size=(3, 3), stride=(1, 1), padding=(1, 1))\n",
              "    (9): ReLU(inplace=True)\n",
              "    (10): Conv2d(256, 256, kernel_size=(3, 3), stride=(1, 1), padding=(1, 1))\n",
              "    (11): ReLU(inplace=True)\n",
              "    (12): MaxPool2d(kernel_size=3, stride=2, padding=0, dilation=1, ceil_mode=False)\n",
              "  )\n",
              "  (avgpool): AdaptiveAvgPool2d(output_size=(6, 6))\n",
              "  (classifier): Sequential(\n",
              "    (0): Dropout(p=0.5, inplace=False)\n",
              "    (1): Linear(in_features=9216, out_features=4096, bias=True)\n",
              "    (2): ReLU(inplace=True)\n",
              "    (3): Dropout(p=0.5, inplace=False)\n",
              "    (4): Linear(in_features=4096, out_features=1024, bias=True)\n",
              "    (5): ReLU(inplace=True)\n",
              "    (6): Linear(in_features=1024, out_features=10, bias=True)\n",
              "  )\n",
              ")"
            ]
          },
          "metadata": {
            "tags": []
          },
          "execution_count": 78
        }
      ]
    },
    {
      "cell_type": "code",
      "metadata": {
        "tags": [],
        "cell_id": "00020-a050588c-95c1-4ed2-a3aa-0c1c3fd91a72",
        "deepnote_to_be_reexecuted": false,
        "source_hash": "affb5915",
        "execution_millis": 0,
        "execution_start": 1614354052050,
        "deepnote_cell_type": "code",
        "id": "oIjJt74Zogry"
      },
      "source": [
        "import torch.optim as optim\n",
        "import torch.nn as nn\n",
        "\n",
        "#Loss\n",
        "criterion = nn.CrossEntropyLoss()\n",
        "\n",
        "#Optimizer(SGD)\n",
        "optimizer = optim.SGD(AlexNet_model.parameters(), lr=0.001, momentum=0.9)"
      ],
      "execution_count": 79,
      "outputs": []
    },
    {
      "cell_type": "code",
      "metadata": {
        "tags": [],
        "cell_id": "00021-b0b41482-01b8-458a-95d8-c66e360bdfe2",
        "deepnote_to_be_reexecuted": false,
        "source_hash": "d788b04f",
        "execution_millis": 1151,
        "execution_start": 1614354224406,
        "deepnote_cell_type": "code",
        "colab": {
          "base_uri": "https://localhost:8080/",
          "height": 375
        },
        "id": "GY6pEQMYogry",
        "outputId": "2e90242d-8a6a-4663-80ea-b8b5c373ad15"
      },
      "source": [
        "for epoch in range(10):  # loop over the dataset multiple times\n",
        "    running_loss = 0.0\n",
        "    for i, data in enumerate(trainloader, 0):\n",
        "        # get the inputs; data is a list of [inputs, labels]\n",
        "        inputs, labels = data[0].to(device), data[1].to(device)\n",
        "\n",
        "        # zero the parameter gradients\n",
        "        optimizer.zero_grad()\n",
        "\n",
        "        # forward + backward + optimize\n",
        "        output = AlexNet_model(inputs)\n",
        "        loss = criterion(output, labels)\n",
        "        loss.backward()\n",
        "        optimizer.step()\n",
        "\n",
        "        # print statistics\n",
        "        running_loss += loss.item()\n",
        "        if i % 2000 == 1999:    # print every 2000 mini-batches\n",
        "            print('[%d, %5d] loss: %.3f' %\n",
        "                  (epoch + 1, i + 1, running_loss / 2000))\n",
        "            running_loss = 0.0\n",
        "\n",
        "print('Finished Training of AlexNet')"
      ],
      "execution_count": 80,
      "outputs": [
        {
          "output_type": "error",
          "ename": "KeyboardInterrupt",
          "evalue": "ignored",
          "traceback": [
            "\u001b[0;31m---------------------------------------------------------------------------\u001b[0m",
            "\u001b[0;31mKeyboardInterrupt\u001b[0m                         Traceback (most recent call last)",
            "\u001b[0;32m<ipython-input-80-a45e31942c2a>\u001b[0m in \u001b[0;36m<module>\u001b[0;34m()\u001b[0m\n\u001b[1;32m      9\u001b[0m \u001b[0;34m\u001b[0m\u001b[0m\n\u001b[1;32m     10\u001b[0m         \u001b[0;31m# forward + backward + optimize\u001b[0m\u001b[0;34m\u001b[0m\u001b[0;34m\u001b[0m\u001b[0;34m\u001b[0m\u001b[0m\n\u001b[0;32m---> 11\u001b[0;31m         \u001b[0moutput\u001b[0m \u001b[0;34m=\u001b[0m \u001b[0mAlexNet_model\u001b[0m\u001b[0;34m(\u001b[0m\u001b[0minputs\u001b[0m\u001b[0;34m)\u001b[0m\u001b[0;34m\u001b[0m\u001b[0;34m\u001b[0m\u001b[0m\n\u001b[0m\u001b[1;32m     12\u001b[0m         \u001b[0mloss\u001b[0m \u001b[0;34m=\u001b[0m \u001b[0mcriterion\u001b[0m\u001b[0;34m(\u001b[0m\u001b[0moutput\u001b[0m\u001b[0;34m,\u001b[0m \u001b[0mlabels\u001b[0m\u001b[0;34m)\u001b[0m\u001b[0;34m\u001b[0m\u001b[0;34m\u001b[0m\u001b[0m\n\u001b[1;32m     13\u001b[0m         \u001b[0mloss\u001b[0m\u001b[0;34m.\u001b[0m\u001b[0mbackward\u001b[0m\u001b[0;34m(\u001b[0m\u001b[0;34m)\u001b[0m\u001b[0;34m\u001b[0m\u001b[0;34m\u001b[0m\u001b[0m\n",
            "\u001b[0;32m/usr/local/lib/python3.7/dist-packages/torch/nn/modules/module.py\u001b[0m in \u001b[0;36m_call_impl\u001b[0;34m(self, *input, **kwargs)\u001b[0m\n\u001b[1;32m    725\u001b[0m             \u001b[0mresult\u001b[0m \u001b[0;34m=\u001b[0m \u001b[0mself\u001b[0m\u001b[0;34m.\u001b[0m\u001b[0m_slow_forward\u001b[0m\u001b[0;34m(\u001b[0m\u001b[0;34m*\u001b[0m\u001b[0minput\u001b[0m\u001b[0;34m,\u001b[0m \u001b[0;34m**\u001b[0m\u001b[0mkwargs\u001b[0m\u001b[0;34m)\u001b[0m\u001b[0;34m\u001b[0m\u001b[0;34m\u001b[0m\u001b[0m\n\u001b[1;32m    726\u001b[0m         \u001b[0;32melse\u001b[0m\u001b[0;34m:\u001b[0m\u001b[0;34m\u001b[0m\u001b[0;34m\u001b[0m\u001b[0m\n\u001b[0;32m--> 727\u001b[0;31m             \u001b[0mresult\u001b[0m \u001b[0;34m=\u001b[0m \u001b[0mself\u001b[0m\u001b[0;34m.\u001b[0m\u001b[0mforward\u001b[0m\u001b[0;34m(\u001b[0m\u001b[0;34m*\u001b[0m\u001b[0minput\u001b[0m\u001b[0;34m,\u001b[0m \u001b[0;34m**\u001b[0m\u001b[0mkwargs\u001b[0m\u001b[0;34m)\u001b[0m\u001b[0;34m\u001b[0m\u001b[0;34m\u001b[0m\u001b[0m\n\u001b[0m\u001b[1;32m    728\u001b[0m         for hook in itertools.chain(\n\u001b[1;32m    729\u001b[0m                 \u001b[0m_global_forward_hooks\u001b[0m\u001b[0;34m.\u001b[0m\u001b[0mvalues\u001b[0m\u001b[0;34m(\u001b[0m\u001b[0;34m)\u001b[0m\u001b[0;34m,\u001b[0m\u001b[0;34m\u001b[0m\u001b[0;34m\u001b[0m\u001b[0m\n",
            "\u001b[0;32m/usr/local/lib/python3.7/dist-packages/torchvision/models/alexnet.py\u001b[0m in \u001b[0;36mforward\u001b[0;34m(self, x)\u001b[0m\n\u001b[1;32m     43\u001b[0m \u001b[0;34m\u001b[0m\u001b[0m\n\u001b[1;32m     44\u001b[0m     \u001b[0;32mdef\u001b[0m \u001b[0mforward\u001b[0m\u001b[0;34m(\u001b[0m\u001b[0mself\u001b[0m\u001b[0;34m,\u001b[0m \u001b[0mx\u001b[0m\u001b[0;34m)\u001b[0m\u001b[0;34m:\u001b[0m\u001b[0;34m\u001b[0m\u001b[0;34m\u001b[0m\u001b[0m\n\u001b[0;32m---> 45\u001b[0;31m         \u001b[0mx\u001b[0m \u001b[0;34m=\u001b[0m \u001b[0mself\u001b[0m\u001b[0;34m.\u001b[0m\u001b[0mfeatures\u001b[0m\u001b[0;34m(\u001b[0m\u001b[0mx\u001b[0m\u001b[0;34m)\u001b[0m\u001b[0;34m\u001b[0m\u001b[0;34m\u001b[0m\u001b[0m\n\u001b[0m\u001b[1;32m     46\u001b[0m         \u001b[0mx\u001b[0m \u001b[0;34m=\u001b[0m \u001b[0mself\u001b[0m\u001b[0;34m.\u001b[0m\u001b[0mavgpool\u001b[0m\u001b[0;34m(\u001b[0m\u001b[0mx\u001b[0m\u001b[0;34m)\u001b[0m\u001b[0;34m\u001b[0m\u001b[0;34m\u001b[0m\u001b[0m\n\u001b[1;32m     47\u001b[0m         \u001b[0mx\u001b[0m \u001b[0;34m=\u001b[0m \u001b[0mtorch\u001b[0m\u001b[0;34m.\u001b[0m\u001b[0mflatten\u001b[0m\u001b[0;34m(\u001b[0m\u001b[0mx\u001b[0m\u001b[0;34m,\u001b[0m \u001b[0;36m1\u001b[0m\u001b[0;34m)\u001b[0m\u001b[0;34m\u001b[0m\u001b[0;34m\u001b[0m\u001b[0m\n",
            "\u001b[0;32m/usr/local/lib/python3.7/dist-packages/torch/nn/modules/module.py\u001b[0m in \u001b[0;36m_call_impl\u001b[0;34m(self, *input, **kwargs)\u001b[0m\n\u001b[1;32m    725\u001b[0m             \u001b[0mresult\u001b[0m \u001b[0;34m=\u001b[0m \u001b[0mself\u001b[0m\u001b[0;34m.\u001b[0m\u001b[0m_slow_forward\u001b[0m\u001b[0;34m(\u001b[0m\u001b[0;34m*\u001b[0m\u001b[0minput\u001b[0m\u001b[0;34m,\u001b[0m \u001b[0;34m**\u001b[0m\u001b[0mkwargs\u001b[0m\u001b[0;34m)\u001b[0m\u001b[0;34m\u001b[0m\u001b[0;34m\u001b[0m\u001b[0m\n\u001b[1;32m    726\u001b[0m         \u001b[0;32melse\u001b[0m\u001b[0;34m:\u001b[0m\u001b[0;34m\u001b[0m\u001b[0;34m\u001b[0m\u001b[0m\n\u001b[0;32m--> 727\u001b[0;31m             \u001b[0mresult\u001b[0m \u001b[0;34m=\u001b[0m \u001b[0mself\u001b[0m\u001b[0;34m.\u001b[0m\u001b[0mforward\u001b[0m\u001b[0;34m(\u001b[0m\u001b[0;34m*\u001b[0m\u001b[0minput\u001b[0m\u001b[0;34m,\u001b[0m \u001b[0;34m**\u001b[0m\u001b[0mkwargs\u001b[0m\u001b[0;34m)\u001b[0m\u001b[0;34m\u001b[0m\u001b[0;34m\u001b[0m\u001b[0m\n\u001b[0m\u001b[1;32m    728\u001b[0m         for hook in itertools.chain(\n\u001b[1;32m    729\u001b[0m                 \u001b[0m_global_forward_hooks\u001b[0m\u001b[0;34m.\u001b[0m\u001b[0mvalues\u001b[0m\u001b[0;34m(\u001b[0m\u001b[0;34m)\u001b[0m\u001b[0;34m,\u001b[0m\u001b[0;34m\u001b[0m\u001b[0;34m\u001b[0m\u001b[0m\n",
            "\u001b[0;32m/usr/local/lib/python3.7/dist-packages/torch/nn/modules/container.py\u001b[0m in \u001b[0;36mforward\u001b[0;34m(self, input)\u001b[0m\n\u001b[1;32m    115\u001b[0m     \u001b[0;32mdef\u001b[0m \u001b[0mforward\u001b[0m\u001b[0;34m(\u001b[0m\u001b[0mself\u001b[0m\u001b[0;34m,\u001b[0m \u001b[0minput\u001b[0m\u001b[0;34m)\u001b[0m\u001b[0;34m:\u001b[0m\u001b[0;34m\u001b[0m\u001b[0;34m\u001b[0m\u001b[0m\n\u001b[1;32m    116\u001b[0m         \u001b[0;32mfor\u001b[0m \u001b[0mmodule\u001b[0m \u001b[0;32min\u001b[0m \u001b[0mself\u001b[0m\u001b[0;34m:\u001b[0m\u001b[0;34m\u001b[0m\u001b[0;34m\u001b[0m\u001b[0m\n\u001b[0;32m--> 117\u001b[0;31m             \u001b[0minput\u001b[0m \u001b[0;34m=\u001b[0m \u001b[0mmodule\u001b[0m\u001b[0;34m(\u001b[0m\u001b[0minput\u001b[0m\u001b[0;34m)\u001b[0m\u001b[0;34m\u001b[0m\u001b[0;34m\u001b[0m\u001b[0m\n\u001b[0m\u001b[1;32m    118\u001b[0m         \u001b[0;32mreturn\u001b[0m \u001b[0minput\u001b[0m\u001b[0;34m\u001b[0m\u001b[0;34m\u001b[0m\u001b[0m\n\u001b[1;32m    119\u001b[0m \u001b[0;34m\u001b[0m\u001b[0m\n",
            "\u001b[0;32m/usr/local/lib/python3.7/dist-packages/torch/nn/modules/module.py\u001b[0m in \u001b[0;36m_call_impl\u001b[0;34m(self, *input, **kwargs)\u001b[0m\n\u001b[1;32m    725\u001b[0m             \u001b[0mresult\u001b[0m \u001b[0;34m=\u001b[0m \u001b[0mself\u001b[0m\u001b[0;34m.\u001b[0m\u001b[0m_slow_forward\u001b[0m\u001b[0;34m(\u001b[0m\u001b[0;34m*\u001b[0m\u001b[0minput\u001b[0m\u001b[0;34m,\u001b[0m \u001b[0;34m**\u001b[0m\u001b[0mkwargs\u001b[0m\u001b[0;34m)\u001b[0m\u001b[0;34m\u001b[0m\u001b[0;34m\u001b[0m\u001b[0m\n\u001b[1;32m    726\u001b[0m         \u001b[0;32melse\u001b[0m\u001b[0;34m:\u001b[0m\u001b[0;34m\u001b[0m\u001b[0;34m\u001b[0m\u001b[0m\n\u001b[0;32m--> 727\u001b[0;31m             \u001b[0mresult\u001b[0m \u001b[0;34m=\u001b[0m \u001b[0mself\u001b[0m\u001b[0;34m.\u001b[0m\u001b[0mforward\u001b[0m\u001b[0;34m(\u001b[0m\u001b[0;34m*\u001b[0m\u001b[0minput\u001b[0m\u001b[0;34m,\u001b[0m \u001b[0;34m**\u001b[0m\u001b[0mkwargs\u001b[0m\u001b[0;34m)\u001b[0m\u001b[0;34m\u001b[0m\u001b[0;34m\u001b[0m\u001b[0m\n\u001b[0m\u001b[1;32m    728\u001b[0m         for hook in itertools.chain(\n\u001b[1;32m    729\u001b[0m                 \u001b[0m_global_forward_hooks\u001b[0m\u001b[0;34m.\u001b[0m\u001b[0mvalues\u001b[0m\u001b[0;34m(\u001b[0m\u001b[0;34m)\u001b[0m\u001b[0;34m,\u001b[0m\u001b[0;34m\u001b[0m\u001b[0;34m\u001b[0m\u001b[0m\n",
            "\u001b[0;32m/usr/local/lib/python3.7/dist-packages/torch/nn/modules/pooling.py\u001b[0m in \u001b[0;36mforward\u001b[0;34m(self, input)\u001b[0m\n\u001b[1;32m    153\u001b[0m         return F.max_pool2d(input, self.kernel_size, self.stride,\n\u001b[1;32m    154\u001b[0m                             \u001b[0mself\u001b[0m\u001b[0;34m.\u001b[0m\u001b[0mpadding\u001b[0m\u001b[0;34m,\u001b[0m \u001b[0mself\u001b[0m\u001b[0;34m.\u001b[0m\u001b[0mdilation\u001b[0m\u001b[0;34m,\u001b[0m \u001b[0mself\u001b[0m\u001b[0;34m.\u001b[0m\u001b[0mceil_mode\u001b[0m\u001b[0;34m,\u001b[0m\u001b[0;34m\u001b[0m\u001b[0;34m\u001b[0m\u001b[0m\n\u001b[0;32m--> 155\u001b[0;31m                             self.return_indices)\n\u001b[0m\u001b[1;32m    156\u001b[0m \u001b[0;34m\u001b[0m\u001b[0m\n\u001b[1;32m    157\u001b[0m \u001b[0;34m\u001b[0m\u001b[0m\n",
            "\u001b[0;32m/usr/local/lib/python3.7/dist-packages/torch/_jit_internal.py\u001b[0m in \u001b[0;36mfn\u001b[0;34m(*args, **kwargs)\u001b[0m\n\u001b[1;32m    265\u001b[0m             \u001b[0;32mreturn\u001b[0m \u001b[0mif_true\u001b[0m\u001b[0;34m(\u001b[0m\u001b[0;34m*\u001b[0m\u001b[0margs\u001b[0m\u001b[0;34m,\u001b[0m \u001b[0;34m**\u001b[0m\u001b[0mkwargs\u001b[0m\u001b[0;34m)\u001b[0m\u001b[0;34m\u001b[0m\u001b[0;34m\u001b[0m\u001b[0m\n\u001b[1;32m    266\u001b[0m         \u001b[0;32melse\u001b[0m\u001b[0;34m:\u001b[0m\u001b[0;34m\u001b[0m\u001b[0;34m\u001b[0m\u001b[0m\n\u001b[0;32m--> 267\u001b[0;31m             \u001b[0;32mreturn\u001b[0m \u001b[0mif_false\u001b[0m\u001b[0;34m(\u001b[0m\u001b[0;34m*\u001b[0m\u001b[0margs\u001b[0m\u001b[0;34m,\u001b[0m \u001b[0;34m**\u001b[0m\u001b[0mkwargs\u001b[0m\u001b[0;34m)\u001b[0m\u001b[0;34m\u001b[0m\u001b[0;34m\u001b[0m\u001b[0m\n\u001b[0m\u001b[1;32m    268\u001b[0m \u001b[0;34m\u001b[0m\u001b[0m\n\u001b[1;32m    269\u001b[0m     \u001b[0;32mif\u001b[0m \u001b[0mif_true\u001b[0m\u001b[0;34m.\u001b[0m\u001b[0m__doc__\u001b[0m \u001b[0;32mis\u001b[0m \u001b[0;32mNone\u001b[0m \u001b[0;32mand\u001b[0m \u001b[0mif_false\u001b[0m\u001b[0;34m.\u001b[0m\u001b[0m__doc__\u001b[0m \u001b[0;32mis\u001b[0m \u001b[0;32mnot\u001b[0m \u001b[0;32mNone\u001b[0m\u001b[0;34m:\u001b[0m\u001b[0;34m\u001b[0m\u001b[0;34m\u001b[0m\u001b[0m\n",
            "\u001b[0;32m/usr/local/lib/python3.7/dist-packages/torch/nn/functional.py\u001b[0m in \u001b[0;36m_max_pool2d\u001b[0;34m(input, kernel_size, stride, padding, dilation, ceil_mode, return_indices)\u001b[0m\n\u001b[1;32m    584\u001b[0m         \u001b[0mstride\u001b[0m \u001b[0;34m=\u001b[0m \u001b[0mtorch\u001b[0m\u001b[0;34m.\u001b[0m\u001b[0mjit\u001b[0m\u001b[0;34m.\u001b[0m\u001b[0mannotate\u001b[0m\u001b[0;34m(\u001b[0m\u001b[0mList\u001b[0m\u001b[0;34m[\u001b[0m\u001b[0mint\u001b[0m\u001b[0;34m]\u001b[0m\u001b[0;34m,\u001b[0m \u001b[0;34m[\u001b[0m\u001b[0;34m]\u001b[0m\u001b[0;34m)\u001b[0m\u001b[0;34m\u001b[0m\u001b[0;34m\u001b[0m\u001b[0m\n\u001b[1;32m    585\u001b[0m     return torch.max_pool2d(\n\u001b[0;32m--> 586\u001b[0;31m         input, kernel_size, stride, padding, dilation, ceil_mode)\n\u001b[0m\u001b[1;32m    587\u001b[0m \u001b[0;34m\u001b[0m\u001b[0m\n\u001b[1;32m    588\u001b[0m max_pool2d = boolean_dispatch(\n",
            "\u001b[0;31mKeyboardInterrupt\u001b[0m: "
          ]
        }
      ]
    },
    {
      "cell_type": "code",
      "metadata": {
        "tags": [],
        "cell_id": "00022-5d9b2561-c8fe-4339-a3a1-a07ffee25889",
        "deepnote_cell_type": "code",
        "id": "EIWOOhDTogry"
      },
      "source": [
        ""
      ],
      "execution_count": null,
      "outputs": []
    },
    {
      "cell_type": "markdown",
      "metadata": {
        "tags": [],
        "created_in_deepnote_cell": true,
        "deepnote_cell_type": "markdown",
        "id": "EAp7_fL3ogrz"
      },
      "source": [
        "<a style='text-decoration:none;line-height:16px;display:flex;color:#5B5B62;padding:10px;justify-content:end;' href='https://deepnote.com?utm_source=created-in-deepnote-cell&projectId=2a1edc71-d367-444d-a290-6ccbe6d94df7' target=\"_blank\">\n",
        "<img style='display:inline;max-height:16px;margin:0px;margin-right:7.5px;' src='data:image/svg+xml;base64,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' > </img>\n",
        "Created in <span style='font-weight:600;margin-left:4px;'>Deepnote</span></a>"
      ]
    }
  ]
}