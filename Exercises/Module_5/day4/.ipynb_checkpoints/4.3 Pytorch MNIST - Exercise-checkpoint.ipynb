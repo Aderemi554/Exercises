{
 "cells": [
  {
   "cell_type": "markdown",
   "metadata": {},
   "source": [
    "<div style=\"background:#222222; color:#ffffff; padding:20px\">\n",
    "    <h2 align=\"center\">Deep Learning Fundamentals</h2>\n",
    "    <h2 align=\"center\" style=\"color:#01ff84\">Multiclass Clasification: MNIST</h2>\n",
    "<div>"
   ]
  },
  {
   "cell_type": "markdown",
   "metadata": {},
   "source": [
    "## Imports"
   ]
  },
  {
   "cell_type": "code",
   "execution_count": 5,
   "metadata": {
    "ExecuteTime": {
     "end_time": "2021-02-25T11:53:48.000502Z",
     "start_time": "2021-02-25T11:53:47.876026Z"
    }
   },
   "outputs": [],
   "source": [
    "%matplotlib inline\n",
    "%config InlineBackend.figure_format = 'retina'\n",
    "\n",
    "from collections import OrderedDict\n",
    "\n",
    "import numpy as np\n",
    "import matplotlib.pyplot as plt\n",
    "import time\n",
    "\n",
    "import torch\n",
    "from torch import nn\n",
    "from torch import optim\n",
    "import torch.nn.functional as F\n",
    "\n",
    "from torchvision import datasets, transforms"
   ]
  },
  {
   "cell_type": "markdown",
   "metadata": {},
   "source": [
    "## Auxliary plotting function"
   ]
  },
  {
   "cell_type": "code",
   "execution_count": 6,
   "metadata": {
    "ExecuteTime": {
     "end_time": "2021-02-25T11:54:45.357365Z",
     "start_time": "2021-02-25T11:54:45.347009Z"
    }
   },
   "outputs": [],
   "source": [
    "# https://discuss.pytorch.org/t/view-classify-in-module-helper/30279/6\n",
    "\n",
    "def view_classify(img, ps):\n",
    "\n",
    "    ps = ps.data.numpy().squeeze()\n",
    "\n",
    "    fig, (ax1, ax2) = plt.subplots(figsize=(6,9), ncols=2)\n",
    "    ax1.imshow(img.resize_(1, 28, 28).numpy().squeeze())\n",
    "    ax1.axis('off')\n",
    "    ax2.barh(np.arange(10), ps)\n",
    "    ax2.set_aspect(0.1)\n",
    "    ax2.set_yticks(np.arange(10))\n",
    "    ax2.set_yticklabels(np.arange(10))\n",
    "    ax2.set_title('Class Probability')\n",
    "    ax2.set_xlim(0, 1.1)"
   ]
  },
  {
   "cell_type": "markdown",
   "metadata": {},
   "source": [
    "# Load MNIST Dataset\n",
    "First up, we need to get our dataset. This is provided through the `torchvision` package. The code below will download the MNIST dataset, then create training and test datasets for us. Don't worry too much about the details here, you'll learn more about this later."
   ]
  },
  {
   "cell_type": "code",
   "execution_count": 7,
   "metadata": {
    "ExecuteTime": {
     "end_time": "2021-02-25T11:55:17.405902Z",
     "start_time": "2021-02-25T11:55:12.514799Z"
    }
   },
   "outputs": [
    {
     "name": "stdout",
     "output_type": "stream",
     "text": [
      "Downloading http://yann.lecun.com/exdb/mnist/train-images-idx3-ubyte.gz to MNIST_data/MNIST/raw/train-images-idx3-ubyte.gz\n"
     ]
    },
    {
     "data": {
      "application/vnd.jupyter.widget-view+json": {
       "model_id": "5502270a870a4f61b079877c73305366",
       "version_major": 2,
       "version_minor": 0
      },
      "text/plain": [
       "HBox(children=(FloatProgress(value=1.0, bar_style='info', max=1.0), HTML(value='')))"
      ]
     },
     "metadata": {},
     "output_type": "display_data"
    },
    {
     "name": "stdout",
     "output_type": "stream",
     "text": [
      "Extracting MNIST_data/MNIST/raw/train-images-idx3-ubyte.gz to MNIST_data/MNIST/raw\n",
      "Downloading http://yann.lecun.com/exdb/mnist/train-labels-idx1-ubyte.gz to MNIST_data/MNIST/raw/train-labels-idx1-ubyte.gz\n"
     ]
    },
    {
     "data": {
      "application/vnd.jupyter.widget-view+json": {
       "model_id": "e5212660953d400fafc317e93ec4dd7a",
       "version_major": 2,
       "version_minor": 0
      },
      "text/plain": [
       "HBox(children=(FloatProgress(value=1.0, bar_style='info', max=1.0), HTML(value='')))"
      ]
     },
     "metadata": {},
     "output_type": "display_data"
    },
    {
     "name": "stdout",
     "output_type": "stream",
     "text": [
      "Extracting MNIST_data/MNIST/raw/train-labels-idx1-ubyte.gz to MNIST_data/MNIST/raw\n",
      "Downloading http://yann.lecun.com/exdb/mnist/t10k-images-idx3-ubyte.gz to MNIST_data/MNIST/raw/t10k-images-idx3-ubyte.gz\n"
     ]
    },
    {
     "data": {
      "application/vnd.jupyter.widget-view+json": {
       "model_id": "eceee86bf430400f9c71e169b80eb5d5",
       "version_major": 2,
       "version_minor": 0
      },
      "text/plain": [
       "HBox(children=(FloatProgress(value=1.0, bar_style='info', max=1.0), HTML(value='')))"
      ]
     },
     "metadata": {},
     "output_type": "display_data"
    },
    {
     "name": "stdout",
     "output_type": "stream",
     "text": [
      "Extracting MNIST_data/MNIST/raw/t10k-images-idx3-ubyte.gz to MNIST_data/MNIST/raw\n",
      "Downloading http://yann.lecun.com/exdb/mnist/t10k-labels-idx1-ubyte.gz to MNIST_data/MNIST/raw/t10k-labels-idx1-ubyte.gz\n",
      "\n",
      "\n"
     ]
    },
    {
     "data": {
      "application/vnd.jupyter.widget-view+json": {
       "model_id": "318b0726abe1470694c94410f91febe4",
       "version_major": 2,
       "version_minor": 0
      },
      "text/plain": [
       "HBox(children=(FloatProgress(value=1.0, bar_style='info', max=1.0), HTML(value='')))"
      ]
     },
     "metadata": {},
     "output_type": "display_data"
    },
    {
     "name": "stdout",
     "output_type": "stream",
     "text": [
      "Extracting MNIST_data/MNIST/raw/t10k-labels-idx1-ubyte.gz to MNIST_data/MNIST/raw\n",
      "Processing...\n",
      "Done!\n"
     ]
    },
    {
     "name": "stderr",
     "output_type": "stream",
     "text": [
      "/Users/aderemifayoyiwa/opt/anaconda3/lib/python3.8/site-packages/torchvision/datasets/mnist.py:480: UserWarning: The given NumPy array is not writeable, and PyTorch does not support non-writeable tensors. This means you can write to the underlying (supposedly non-writeable) NumPy array using the tensor. You may want to copy the array to protect its data or make it writeable before converting it to a tensor. This type of warning will be suppressed for the rest of this program. (Triggered internally at  ../torch/csrc/utils/tensor_numpy.cpp:141.)\n",
      "  return torch.from_numpy(parsed.astype(m[2], copy=False)).view(*s)\n"
     ]
    }
   ],
   "source": [
    "# Define a transform to normalize the data (Preprocessing)\n",
    "transform = transforms.Compose([transforms.ToTensor(), transforms.Normalize((0.5), (0.5)) ])\n",
    "\n",
    "# Download and load the training data\n",
    "trainset    = datasets.MNIST('MNIST_data/', download=True, train=True, transform=transform)\n",
    "trainloader = torch.utils.data.DataLoader(trainset, batch_size=64, shuffle=True)\n",
    "\n",
    "# Download and load the test data\n",
    "testset    = datasets.MNIST('MNIST_data/', download=True, train=False, transform=transform)\n",
    "testloader = torch.utils.data.DataLoader(testset, batch_size=64, shuffle=True)"
   ]
  },
  {
   "cell_type": "code",
   "execution_count": 8,
   "metadata": {
    "ExecuteTime": {
     "end_time": "2021-02-25T11:56:12.247676Z",
     "start_time": "2021-02-25T11:56:12.217791Z"
    }
   },
   "outputs": [],
   "source": [
    "dataiter = iter(trainloader)\n",
    "images, labels = dataiter.next()"
   ]
  },
  {
   "cell_type": "markdown",
   "metadata": {},
   "source": [
    "We have the training data loaded into `trainloader` and we make that an iterator with `iter(trainloader)`. We'd use this to loop through the dataset for training, but here I'm just grabbing the first batch so we can check out the data. We can see below that `images` is just a tensor with size (64, 1, 28, 28). So, 64 images per batch, 1 color channel, and 28x28 images."
   ]
  },
  {
   "cell_type": "code",
   "execution_count": 9,
   "metadata": {
    "ExecuteTime": {
     "end_time": "2021-02-25T11:56:57.680751Z",
     "start_time": "2021-02-25T11:56:57.413558Z"
    }
   },
   "outputs": [
    {
     "data": {
      "image/png": "[encoded data removed]",
      "text/plain": [
       "<Figure size 432x288 with 1 Axes>"
      ]
     },
     "metadata": {
      "image/png": {
       "height": 248,
       "width": 251
      },
      "needs_background": "light"
     },
     "output_type": "display_data"
    }
   ],
   "source": [
    "plt.imshow(images[1].numpy().squeeze(), cmap='Greys_r');"
   ]
  },
  {
   "cell_type": "markdown",
   "metadata": {},
   "source": [
    "## Building networks with PyTorch\n",
    "\n",
    "Here I'll use PyTorch to build a simple feedfoward network to classify the MNIST images. That is, the network will receive a digit image as input and predict the digit in the image.\n",
    "\n",
    "<img src=\"assets/mlp_mnist.png\" width=600px>\n",
    "\n",
    "To build a neural network with PyTorch, you use the `torch.nn` module. The network itself is a class inheriting from `torch.nn.Module`. You define each of the operations separately, like `nn.Linear(784, 128)` for a fully connected linear layer with 784 inputs and 128 units.\n",
    "\n",
    "The class needs to include a `forward` method that implements the forward pass through the network. In this method, you pass some input tensor `x` through each of the operations you defined earlier. The `torch.nn` module also has functional equivalents for things like ReLUs in `torch.nn.functional`. This module is usually imported as `F`. Then to use a ReLU activation on some layer (which is just a tensor), you'd do `F.relu(x)`. Below are a few different commonly used activation functions.\n",
    "\n",
    "<img src=\"assets/activation.png\" width=700px>\n",
    "\n",
    "So, for this network, I'll build it with three fully connected layers, then a softmax output for predicting classes. The softmax function is similar to the sigmoid in that it squashes inputs between 0 and 1, but it's also normalized so that all the values sum to one like a proper probability distribution."
   ]
  },
  {
   "cell_type": "code",
   "execution_count": 10,
   "metadata": {
    "ExecuteTime": {
     "end_time": "2021-02-25T11:59:13.485526Z",
     "start_time": "2021-02-25T11:59:13.466854Z"
    }
   },
   "outputs": [
    {
     "data": {
      "text/plain": [
       "Network(\n",
       "  (fc1): Linear(in_features=784, out_features=128, bias=True)\n",
       "  (fc2): Linear(in_features=128, out_features=64, bias=True)\n",
       "  (fc3): Linear(in_features=64, out_features=10, bias=True)\n",
       ")"
      ]
     },
     "execution_count": 10,
     "metadata": {},
     "output_type": "execute_result"
    }
   ],
   "source": [
    "class Network(nn.Module):\n",
    "    \n",
    "    # Defining the layers, 128, 64, 10 units each\n",
    "    def __init__(self):\n",
    "        super().__init__()\n",
    "        self.fc1 = nn.Linear(784, 128)\n",
    "        self.fc2 = nn.Linear(128, 64)\n",
    "        self.fc3 = nn.Linear(64, 10)\n",
    "        \n",
    "    # Forward pass through the network, returns the output logits\n",
    "    def forward(self, x):\n",
    "        x = self.fc1(x)\n",
    "        x = F.relu(x)\n",
    "        x = self.fc2(x)\n",
    "        x = F.relu(x)\n",
    "        x = self.fc3(x)\n",
    "        x = F.softmax(x, dim=1)\n",
    "        return x\n",
    "\n",
    "model = Network()\n",
    "model"
   ]
  },
  {
   "cell_type": "markdown",
   "metadata": {},
   "source": [
    "### Sequential API\n",
    "PyTorch provides a convenient way to build networks like this where a tensor is passed sequentially through operations, `nn.Sequential` ([documentation](https://pytorch.org/docs/master/nn.html#torch.nn.Sequential)). Using this to build the equivalent network:"
   ]
  },
  {
   "cell_type": "code",
   "execution_count": 11,
   "metadata": {
    "ExecuteTime": {
     "end_time": "2021-02-25T11:59:31.288010Z",
     "start_time": "2021-02-25T11:59:31.274082Z"
    }
   },
   "outputs": [
    {
     "name": "stdout",
     "output_type": "stream",
     "text": [
      "Sequential(\n",
      "  (0): Linear(in_features=784, out_features=128, bias=True)\n",
      "  (1): ReLU()\n",
      "  (2): Linear(in_features=128, out_features=64, bias=True)\n",
      "  (3): ReLU()\n",
      "  (4): Linear(in_features=64, out_features=10, bias=True)\n",
      "  (5): Softmax(dim=1)\n",
      ")\n"
     ]
    }
   ],
   "source": [
    "# Hyperparameters for our network\n",
    "input_size   = 784\n",
    "hidden_sizes = [128, 64]\n",
    "output_size   = 10\n",
    "\n",
    "# Build a feed-forward network\n",
    "model = nn.Sequential(nn.Linear(input_size, hidden_sizes[0]),\n",
    "                      nn.ReLU(),\n",
    "                      nn.Linear(hidden_sizes[0], hidden_sizes[1]),\n",
    "                      nn.ReLU(),\n",
    "                      nn.Linear(hidden_sizes[1], output_size),\n",
    "                      nn.Softmax(dim=1))\n",
    "print(model)"
   ]
  },
  {
   "cell_type": "markdown",
   "metadata": {},
   "source": [
    "You can also pass in an `OrderedDict` to name the individual layers and operations. Note that a dictionary keys must be unique, so _each operation must have a different name_."
   ]
  },
  {
   "cell_type": "code",
   "execution_count": 12,
   "metadata": {
    "ExecuteTime": {
     "end_time": "2021-02-25T12:00:04.090720Z",
     "start_time": "2021-02-25T12:00:04.076697Z"
    }
   },
   "outputs": [
    {
     "data": {
      "text/plain": [
       "Sequential(\n",
       "  (fc1): Linear(in_features=784, out_features=128, bias=True)\n",
       "  (relu1): ReLU()\n",
       "  (fc2): Linear(in_features=128, out_features=64, bias=True)\n",
       "  (relu2): ReLU()\n",
       "  (output): Linear(in_features=64, out_features=10, bias=True)\n",
       "  (softmax): Softmax(dim=1)\n",
       ")"
      ]
     },
     "execution_count": 12,
     "metadata": {},
     "output_type": "execute_result"
    }
   ],
   "source": [
    "model = nn.Sequential(OrderedDict([\n",
    "          ('fc1',   nn.Linear(input_size, hidden_sizes[0])),\n",
    "          ('relu1', nn.ReLU()),\n",
    "          ('fc2',   nn.Linear(hidden_sizes[0], hidden_sizes[1])),\n",
    "          ('relu2', nn.ReLU()),\n",
    "          ('output', nn.Linear(hidden_sizes[1], output_size)),\n",
    "          ('softmax', nn.Softmax(dim=1))]))\n",
    "model"
   ]
  },
  {
   "cell_type": "markdown",
   "metadata": {},
   "source": [
    "### Initializing weights and biases\n",
    "\n",
    "The weights and such are automatically initialized for you, but it's possible to customize how they are initialized. The weights and biases are tensors attached to the layer you defined, you can get them with `model.fc1.weight` for instance."
   ]
  },
  {
   "cell_type": "code",
   "execution_count": 13,
   "metadata": {
    "ExecuteTime": {
     "end_time": "2021-02-25T12:00:09.555303Z",
     "start_time": "2021-02-25T12:00:09.541943Z"
    }
   },
   "outputs": [
    {
     "name": "stdout",
     "output_type": "stream",
     "text": [
      "Parameter containing:\n",
      "tensor([[ 0.0014, -0.0196, -0.0205,  ...,  0.0020,  0.0218, -0.0150],\n",
      "        [-0.0247,  0.0250, -0.0146,  ..., -0.0187,  0.0217, -0.0016],\n",
      "        [ 0.0035,  0.0083,  0.0288,  ..., -0.0189,  0.0122,  0.0123],\n",
      "        ...,\n",
      "        [ 0.0283, -0.0142,  0.0054,  ...,  0.0266,  0.0165, -0.0204],\n",
      "        [-0.0102, -0.0322, -0.0261,  ..., -0.0327, -0.0171, -0.0151],\n",
      "        [-0.0170,  0.0069, -0.0284,  ..., -0.0296, -0.0212,  0.0296]],\n",
      "       requires_grad=True)\n",
      "Parameter containing:\n",
      "tensor([-3.2451e-02,  3.1716e-02, -1.3294e-02, -2.0892e-02,  5.4279e-03,\n",
      "        -5.3276e-03,  9.0398e-03,  1.7724e-02,  5.2494e-03,  4.0791e-03,\n",
      "        -2.5161e-02,  2.1437e-03,  3.2354e-02, -2.3619e-02,  1.3802e-02,\n",
      "         2.0944e-02,  7.5152e-03, -3.3934e-02,  3.3255e-02, -2.5876e-02,\n",
      "        -2.0770e-02,  1.6107e-02, -1.1162e-02,  3.0994e-02,  1.8584e-02,\n",
      "        -2.6172e-02,  1.9767e-02, -2.8747e-02,  7.8101e-03, -1.5388e-02,\n",
      "        -1.8333e-02,  1.8836e-02, -2.9938e-02,  2.9116e-02,  1.1065e-02,\n",
      "         2.0171e-02,  3.1535e-02, -5.4286e-03,  2.7256e-03,  2.2083e-03,\n",
      "         2.6933e-02, -2.3839e-02,  3.0014e-02,  6.0869e-04,  1.6723e-02,\n",
      "        -3.3861e-03,  3.2456e-02,  6.0239e-03, -9.0522e-03,  2.9371e-02,\n",
      "        -6.1534e-03,  1.3876e-02, -1.7155e-02,  1.6465e-02, -2.0439e-02,\n",
      "        -1.0552e-02, -1.4011e-02, -8.3923e-05, -1.8792e-02,  3.2171e-02,\n",
      "        -1.8695e-02,  2.5207e-02,  2.2937e-02, -3.4421e-02, -3.2681e-02,\n",
      "         1.9982e-02,  2.1461e-02, -2.0595e-02,  2.4566e-02,  5.0036e-03,\n",
      "        -7.2603e-03,  2.8706e-02, -3.4026e-02, -9.3715e-03, -2.3301e-02,\n",
      "         2.8646e-04, -1.4110e-02, -2.6292e-02, -1.6464e-03,  2.3908e-02,\n",
      "         2.3365e-02,  2.9000e-03,  7.0661e-04, -1.9015e-02,  3.5666e-02,\n",
      "        -2.8642e-02, -3.4050e-02,  1.8272e-02,  2.6076e-02,  2.9622e-03,\n",
      "         9.2992e-03, -1.4851e-03, -3.4846e-04, -3.5476e-02,  9.0041e-03,\n",
      "        -2.5840e-02, -2.3603e-02,  2.2589e-02,  3.1626e-02,  2.7098e-02,\n",
      "        -1.9114e-02, -1.6135e-04, -3.2206e-02, -3.1468e-02,  2.5887e-02,\n",
      "         2.8143e-02,  1.6032e-02,  2.2101e-02, -7.8242e-03, -1.2287e-02,\n",
      "        -3.1748e-03,  4.4578e-03,  3.3653e-02, -2.9770e-02, -1.1198e-02,\n",
      "         1.1580e-02, -5.0121e-03,  3.4108e-02, -3.0672e-02,  1.1883e-02,\n",
      "         1.3484e-02, -1.4630e-03,  2.9256e-02, -7.3725e-03, -2.5529e-02,\n",
      "        -1.4554e-02,  3.1212e-03,  4.0296e-03], requires_grad=True)\n"
     ]
    }
   ],
   "source": [
    "print(model.fc1.weight)\n",
    "print(model.fc1.bias)"
   ]
  },
  {
   "cell_type": "markdown",
   "metadata": {},
   "source": [
    "For custom initialization, we want to modify these tensors in place. These are actually autograd *Variables*, so we need to get back the actual tensors with `model.fc1.weight.data`. Once we have the tensors, we can fill them with zeros (for biases) or random normal values."
   ]
  },
  {
   "cell_type": "code",
   "execution_count": 14,
   "metadata": {
    "ExecuteTime": {
     "end_time": "2021-02-25T12:00:15.079103Z",
     "start_time": "2021-02-25T12:00:15.070538Z"
    }
   },
   "outputs": [
    {
     "data": {
      "text/plain": [
       "tensor([0., 0., 0., 0., 0., 0., 0., 0., 0., 0., 0., 0., 0., 0., 0., 0., 0., 0., 0., 0., 0., 0., 0., 0.,\n",
       "        0., 0., 0., 0., 0., 0., 0., 0., 0., 0., 0., 0., 0., 0., 0., 0., 0., 0., 0., 0., 0., 0., 0., 0.,\n",
       "        0., 0., 0., 0., 0., 0., 0., 0., 0., 0., 0., 0., 0., 0., 0., 0., 0., 0., 0., 0., 0., 0., 0., 0.,\n",
       "        0., 0., 0., 0., 0., 0., 0., 0., 0., 0., 0., 0., 0., 0., 0., 0., 0., 0., 0., 0., 0., 0., 0., 0.,\n",
       "        0., 0., 0., 0., 0., 0., 0., 0., 0., 0., 0., 0., 0., 0., 0., 0., 0., 0., 0., 0., 0., 0., 0., 0.,\n",
       "        0., 0., 0., 0., 0., 0., 0., 0.])"
      ]
     },
     "execution_count": 14,
     "metadata": {},
     "output_type": "execute_result"
    }
   ],
   "source": [
    "# Set biases to all zeros\n",
    "model.fc1.bias.data.fill_(0)"
   ]
  },
  {
   "cell_type": "code",
   "execution_count": 15,
   "metadata": {
    "ExecuteTime": {
     "end_time": "2021-02-25T12:00:16.887815Z",
     "start_time": "2021-02-25T12:00:16.876926Z"
    }
   },
   "outputs": [
    {
     "data": {
      "text/plain": [
       "tensor([[-0.0139,  0.0001,  0.0118,  ...,  0.0325, -0.0033, -0.0110],\n",
       "        [ 0.0028, -0.0075,  0.0119,  ...,  0.0274, -0.0079,  0.0070],\n",
       "        [ 0.0080,  0.0038,  0.0126,  ...,  0.0059,  0.0064,  0.0096],\n",
       "        ...,\n",
       "        [ 0.0022,  0.0067,  0.0100,  ...,  0.0051, -0.0101,  0.0051],\n",
       "        [-0.0129,  0.0158,  0.0188,  ...,  0.0008, -0.0066,  0.0103],\n",
       "        [-0.0175, -0.0027, -0.0090,  ...,  0.0050, -0.0126,  0.0088]])"
      ]
     },
     "execution_count": 15,
     "metadata": {},
     "output_type": "execute_result"
    }
   ],
   "source": [
    "# sample from random normal with standard dev = 0.01\n",
    "model.fc1.weight.data.normal_(std=0.01)"
   ]
  },
  {
   "cell_type": "markdown",
   "metadata": {},
   "source": [
    "### STEP 1: Forward pass\n",
    "\n",
    "Now that we have a network, let's see what happens when we pass in an image. This is called the forward pass. We're going to convert the image data into a tensor, then pass it through the operations defined by the network architecture."
   ]
  },
  {
   "cell_type": "code",
   "execution_count": 16,
   "metadata": {
    "ExecuteTime": {
     "end_time": "2021-02-25T12:00:26.430908Z",
     "start_time": "2021-02-25T12:00:26.104158Z"
    }
   },
   "outputs": [
    {
     "data": {
      "image/png": "[encoded data removed]",
      "text/plain": [
       "<Figure size 432x648 with 2 Axes>"
      ]
     },
     "metadata": {
      "image/png": {
       "height": 195,
       "width": 349
      },
      "needs_background": "light"
     },
     "output_type": "display_data"
    }
   ],
   "source": [
    "# Grab some data \n",
    "dataiter = iter(trainloader)\n",
    "images, labels = dataiter.next()\n",
    "\n",
    "# Resize images into a 1D vector, new shape is (batch size, color channels, image pixels) \n",
    "images.resize_(64, 1, 784)\n",
    "# or images.resize_(images.shape[0], 1, 784) to not automatically get batch size\n",
    "\n",
    "# Forward pass through the network\n",
    "img_idx = 0\n",
    "ps = model.forward(images[img_idx,:])\n",
    "\n",
    "img = images[img_idx]\n",
    "view_classify(img.view(1, 28, 28), ps)"
   ]
  },
  {
   "cell_type": "markdown",
   "metadata": {},
   "source": [
    "As you can see above, our network has basically no idea what this digit is. It's because we haven't trained it yet, all the weights are random!"
   ]
  },
  {
   "cell_type": "markdown",
   "metadata": {},
   "source": [
    "# Training Neural Networks\n",
    "\n",
    "The network we built isn't so smart, it doesn't know anything about our handwritten digits. Neural networks with non-linear activations work like universal function approximators. There is some function that maps your input to the output. For example, images of handwritten digits to class probabilities. The power of neural networks is that we can train them to approximate this function, and basically any function given enough data and compute time.\n",
    "\n",
    "<img src=\"assets/function_approx.png\" width=500px>\n",
    "\n",
    "At first the network is naive, it doesn't know the function mapping the inputs to the outputs. We train the network by showing it examples of real data, then adjusting the network parameters such that it approximates this function.\n",
    "\n",
    "To find these parameters, we need to know how poorly the network is predicting the real outputs. For this we calculate a **loss function** (also called the cost), a measure of our prediction error. For example, the mean squared loss is often used in regression and binary classification problems\n",
    "\n",
    "$$\n",
    "\\ell = \\frac{1}{2n}\\sum_i^n{\\left(y_i - \\hat{y}_i\\right)^2}\n",
    "$$\n",
    "\n",
    "where $n$ is the number of training examples, $y_i$ are the true labels, and $\\hat{y}_i$ are the predicted labels.\n",
    "\n",
    "By minimizing this loss with respect to the network parameters, we can find configurations where the loss is at a minimum and the network is able to predict the correct labels with high accuracy. We find this minimum using a process called **gradient descent**. The gradient is the slope of the loss function and points in the direction of fastest change. To get to the minimum in the least amount of time, we then want to follow the gradient (downwards). You can think of this like descending a mountain by following the steepest slope to the base.\n",
    "\n",
    "<img src='assets/gradient_descent.png' width=350px>"
   ]
  },
  {
   "cell_type": "markdown",
   "metadata": {},
   "source": [
    "## Backpropagation\n",
    "\n",
    "For single layer networks, gradient descent is simple to implement. However, it's more complicated for deeper, multilayer neural networks like the one we've built. Complicated enough that it took about 30 years before researchers figured out how to train multilayer networks, although it's straightforward once you learn about it. \n",
    "\n",
    "This is done through **backpropagation** which is really just an application of the chain rule from calculus. It's easiest to understand if we convert a two layer network into a graph representation.\n",
    "\n",
    "<img src='assets/w1_backprop_graph.png' width=400px>\n",
    "\n",
    "In the forward pass through the network, our data and operations go from right to left here. To train the weights with gradient descent, we propagate the gradient of the cost backwards through the network. Mathematically, this is really just calculating the gradient of the loss with respect to the weights using the chain rule.\n",
    "\n",
    "$$\n",
    "\\frac{\\partial \\ell}{\\partial w_1} = \\frac{\\partial l_1}{\\partial w_1} \\frac{\\partial s}{\\partial l_1} \\frac{\\partial l_2}{\\partial s} \\frac{\\partial \\ell}{\\partial l_2}\n",
    "$$\n",
    "\n",
    "We update our weights using this gradient with some learning rate $\\alpha$. \n",
    "\n",
    "$$\n",
    "w^\\prime = w - \\alpha \\frac{\\partial \\ell}{\\partial w}\n",
    "$$\n",
    "\n",
    "The learning rate is set such that the weight update steps are small enough that the iterative method settles in a minimum.\n",
    "\n",
    "The first thing we need to do for training is define our loss function. In PyTorch, you'll usually see this as `criterion`. Here we're using softmax output, so we want to use `criterion = nn.CrossEntropyLoss()` as our loss. Later when training, you use `loss = criterion(output, targets)` to calculate the actual loss.\n",
    "\n",
    "We also need to define the optimizer we're using, SGD or Adam, or something along those lines. Here I'll just use SGD with `torch.optim.SGD`, passing in the network parameters and the learning rate."
   ]
  },
  {
   "cell_type": "markdown",
   "metadata": {},
   "source": [
    "## Autograd\n",
    "\n",
    "Torch provides a module, `autograd`, for automatically calculating the gradient of tensors. It does this by keeping track of operations performed on tensors. To make sure PyTorch keeps track of operations on a tensor and calculates the gradients, you need to set `requires_grad` on a tensor. You can do this at creation with the `requires_grad` keyword, or at any time with `x.requires_grad_(True)`.\n",
    "\n",
    "You can turn off gradients for a block of code with the `torch.no_grad()` content:\n",
    "```python\n",
    "x = torch.zeros(1, requires_grad=True)\n",
    ">>> with torch.no_grad():\n",
    "...     y = x * 2\n",
    ">>> y.requires_grad\n",
    "False\n",
    "```\n",
    "\n",
    "Also, you can turn on or off gradients altogether with `torch.set_grad_enabled(True|False)`.\n",
    "\n",
    "The gradients are computed with respect to some variable `z` with `z.backward()`. This does a backward pass through the operations that created `z`."
   ]
  },
  {
   "cell_type": "code",
   "execution_count": 17,
   "metadata": {
    "ExecuteTime": {
     "end_time": "2021-02-25T12:05:46.771929Z",
     "start_time": "2021-02-25T12:05:46.765573Z"
    }
   },
   "outputs": [
    {
     "name": "stdout",
     "output_type": "stream",
     "text": [
      "tensor([[ 0.1674,  1.2939],\n",
      "        [-1.1162, -0.2882]], requires_grad=True)\n"
     ]
    }
   ],
   "source": [
    "x = torch.randn(2,2, requires_grad=True)\n",
    "print(x)"
   ]
  },
  {
   "cell_type": "code",
   "execution_count": 18,
   "metadata": {
    "ExecuteTime": {
     "end_time": "2021-02-25T12:05:59.982881Z",
     "start_time": "2021-02-25T12:05:59.975585Z"
    }
   },
   "outputs": [
    {
     "name": "stdout",
     "output_type": "stream",
     "text": [
      "tensor([[0.0280, 1.6742],\n",
      "        [1.2460, 0.0831]], grad_fn=<PowBackward0>)\n"
     ]
    }
   ],
   "source": [
    "y = x**2\n",
    "print(y)"
   ]
  },
  {
   "cell_type": "markdown",
   "metadata": {},
   "source": [
    "Below we can see the operation that created `y`, a power operation `PowBackward0`."
   ]
  },
  {
   "cell_type": "code",
   "execution_count": 19,
   "metadata": {
    "ExecuteTime": {
     "end_time": "2021-02-25T12:06:08.105291Z",
     "start_time": "2021-02-25T12:06:08.100269Z"
    }
   },
   "outputs": [
    {
     "name": "stdout",
     "output_type": "stream",
     "text": [
      "<PowBackward0 object at 0x118a16c40>\n"
     ]
    }
   ],
   "source": [
    "## grad_fn shows the function that generated this variable\n",
    "print(y.grad_fn)"
   ]
  },
  {
   "cell_type": "markdown",
   "metadata": {},
   "source": [
    "The autgrad module keeps track of these operations and knows how to calculate the gradient for each one. In this way, it's able to calculate the gradients for a chain of operations, with respect to any one tensor. Let's reduce the tensor `y` to a scalar value, the mean."
   ]
  },
  {
   "cell_type": "code",
   "execution_count": 20,
   "metadata": {
    "ExecuteTime": {
     "end_time": "2021-02-25T12:06:18.169628Z",
     "start_time": "2021-02-25T12:06:18.163618Z"
    }
   },
   "outputs": [
    {
     "name": "stdout",
     "output_type": "stream",
     "text": [
      "tensor(0.7578, grad_fn=<MeanBackward0>)\n"
     ]
    }
   ],
   "source": [
    "z = y.mean()\n",
    "print(z)"
   ]
  },
  {
   "cell_type": "markdown",
   "metadata": {},
   "source": [
    "You can check the gradients for `x` and `y` but they are empty currently."
   ]
  },
  {
   "cell_type": "code",
   "execution_count": 21,
   "metadata": {
    "ExecuteTime": {
     "end_time": "2021-02-25T12:06:23.647051Z",
     "start_time": "2021-02-25T12:06:23.640603Z"
    }
   },
   "outputs": [
    {
     "name": "stdout",
     "output_type": "stream",
     "text": [
      "None\n"
     ]
    }
   ],
   "source": [
    "print(x.grad)"
   ]
  },
  {
   "cell_type": "markdown",
   "metadata": {},
   "source": [
    "To calculate the gradients, you need to run the `.backward` method on a Variable, `z` for example. This will calculate the gradient for `z` with respect to `x`\n",
    "\n",
    "$$\n",
    "\\frac{\\partial z}{\\partial x} = \\frac{\\partial}{\\partial x}\\left[\\frac{1}{n}\\sum_i^n x_i^2\\right] = \\frac{x}{2}\n",
    "$$"
   ]
  },
  {
   "cell_type": "code",
   "execution_count": 22,
   "metadata": {
    "ExecuteTime": {
     "end_time": "2021-02-25T12:06:32.630926Z",
     "start_time": "2021-02-25T12:06:32.618658Z"
    }
   },
   "outputs": [
    {
     "name": "stdout",
     "output_type": "stream",
     "text": [
      "tensor([[ 0.0837,  0.6470],\n",
      "        [-0.5581, -0.1441]])\n",
      "tensor([[ 0.0837,  0.6470],\n",
      "        [-0.5581, -0.1441]], grad_fn=<DivBackward0>)\n"
     ]
    }
   ],
   "source": [
    "z.backward()\n",
    "print(x.grad)\n",
    "print(x/2)"
   ]
  },
  {
   "cell_type": "markdown",
   "metadata": {},
   "source": [
    "These gradients calculations are particularly useful for neural networks. For training we need the gradients of the weights with respect to the cost. With PyTorch, we run data forward through the network to calculate the cost, then, go backwards to calculate the gradients with respect to the cost. Once we have the gradients we can make a gradient descent step. "
   ]
  },
  {
   "cell_type": "markdown",
   "metadata": {},
   "source": [
    "I'll build a network with `nn.Sequential` here. Only difference from the last part is I'm not actually using softmax on the output, but instead just using the raw output from the last layer. This is because the output from softmax is a probability distribution. Often, the output will have values really close to zero or really close to one. Due to [inaccuracies with representing numbers as floating points](https://docs.python.org/3/tutorial/floatingpoint.html), computations with a softmax output can lose accuracy and become unstable. To get around this, we'll use the raw output, called the **logits**, to calculate the loss."
   ]
  },
  {
   "cell_type": "code",
   "execution_count": 23,
   "metadata": {
    "ExecuteTime": {
     "end_time": "2021-02-25T14:21:42.291355Z",
     "start_time": "2021-02-25T14:21:42.269442Z"
    }
   },
   "outputs": [],
   "source": [
    "# Hyperparameters for our network\n",
    "input_size   = 784\n",
    "hidden_sizes = [128, 64]\n",
    "output_size  = 10\n",
    "\n",
    "# Build a feed-forward network\n",
    "model = nn.Sequential(OrderedDict([\n",
    "          ('fc1', nn.Linear(input_size, hidden_sizes[0])),\n",
    "          ('relu1', nn.ReLU()),\n",
    "          ('fc2', nn.Linear(hidden_sizes[0], hidden_sizes[1])),\n",
    "          ('relu2', nn.ReLU()),\n",
    "          ('logits', nn.Linear(hidden_sizes[1], output_size))]))"
   ]
  },
  {
   "cell_type": "markdown",
   "metadata": {},
   "source": [
    "## Training the network!\n",
    "\n",
    "The first thing we need to do for training is define our loss function. In PyTorch, you'll usually see this as `criterion`. Here we're using softmax output, so we want to use `criterion = nn.CrossEntropyLoss()` as our loss. Later when training, you use `loss = criterion(output, targets)` to calculate the actual loss.\n",
    "\n",
    "We also need to define the optimizer we're using, SGD or Adam, or something along those lines. Here I'll just use SGD with `torch.optim.SGD`, passing in the network parameters and the learning rate."
   ]
  },
  {
   "cell_type": "code",
   "execution_count": 24,
   "metadata": {
    "ExecuteTime": {
     "end_time": "2021-02-25T14:22:08.882534Z",
     "start_time": "2021-02-25T14:22:08.872561Z"
    }
   },
   "outputs": [],
   "source": [
    "criterion = nn.CrossEntropyLoss()\n",
    "optimizer = optim.SGD(model.parameters(), lr=0.01)"
   ]
  },
  {
   "cell_type": "markdown",
   "metadata": {},
   "source": [
    "First, let's consider just one learning step before looping through all the data. The general process with PyTorch:\n",
    "\n",
    "* Make a forward pass through the network to get the logits \n",
    "* Use the logits to calculate the loss\n",
    "* Perform a backward pass through the network with `loss.backward()` to calculate the gradients\n",
    "* Take a step with the optimizer to update the weights\n",
    "\n",
    "Below I'll go through one training step and print out the weights and gradients so you can see how it changes."
   ]
  },
  {
   "cell_type": "code",
   "execution_count": 25,
   "metadata": {
    "ExecuteTime": {
     "end_time": "2021-02-25T14:25:40.999922Z",
     "start_time": "2021-02-25T14:25:40.945567Z"
    }
   },
   "outputs": [
    {
     "name": "stdout",
     "output_type": "stream",
     "text": [
      "Initial weights -  Parameter containing:\n",
      "tensor([[ 0.0238,  0.0210,  0.0284,  ..., -0.0194,  0.0180, -0.0315],\n",
      "        [ 0.0303,  0.0031,  0.0026,  ...,  0.0029,  0.0192, -0.0227],\n",
      "        [-0.0292,  0.0042, -0.0267,  ..., -0.0142, -0.0143,  0.0270],\n",
      "        ...,\n",
      "        [ 0.0223,  0.0007,  0.0148,  ...,  0.0189, -0.0177, -0.0185],\n",
      "        [-0.0112,  0.0329,  0.0054,  ..., -0.0044, -0.0197,  0.0259],\n",
      "        [-0.0119,  0.0030,  0.0337,  ..., -0.0123,  0.0070,  0.0333]],\n",
      "       requires_grad=True)\n",
      "Gradient - tensor([[ 0.0000,  0.0000,  0.0000,  ...,  0.0000,  0.0000,  0.0000],\n",
      "        [ 0.0007,  0.0007,  0.0007,  ...,  0.0007,  0.0007,  0.0007],\n",
      "        [ 0.0009,  0.0009,  0.0009,  ...,  0.0009,  0.0009,  0.0009],\n",
      "        ...,\n",
      "        [ 0.0008,  0.0008,  0.0008,  ...,  0.0008,  0.0008,  0.0008],\n",
      "        [-0.0002, -0.0002, -0.0002,  ..., -0.0002, -0.0002, -0.0002],\n",
      "        [-0.0030, -0.0030, -0.0030,  ..., -0.0030, -0.0030, -0.0030]])\n"
     ]
    }
   ],
   "source": [
    "print('Initial weights - ', model.fc1.weight)\n",
    "\n",
    "images, labels = next(iter(trainloader))\n",
    "images.resize_(64, 784)\n",
    "\n",
    "# Clear the gradients, do this because gradients are accumulated\n",
    "optimizer.zero_grad()\n",
    "\n",
    "# Forward pass, then backward pass, then update weights\n",
    "output = model.forward(images)\n",
    "loss = criterion(output, labels)\n",
    "loss.backward()\n",
    "print('Gradient -', model.fc1.weight.grad)\n",
    "optimizer.step()"
   ]
  },
  {
   "cell_type": "code",
   "execution_count": 26,
   "metadata": {
    "ExecuteTime": {
     "end_time": "2021-02-25T14:26:20.740187Z",
     "start_time": "2021-02-25T14:26:20.731061Z"
    }
   },
   "outputs": [
    {
     "name": "stdout",
     "output_type": "stream",
     "text": [
      "Updated weights -  Parameter containing:\n",
      "tensor([[ 0.0238,  0.0210,  0.0284,  ..., -0.0194,  0.0180, -0.0315],\n",
      "        [ 0.0303,  0.0031,  0.0026,  ...,  0.0028,  0.0192, -0.0227],\n",
      "        [-0.0292,  0.0041, -0.0267,  ..., -0.0142, -0.0143,  0.0270],\n",
      "        ...,\n",
      "        [ 0.0222,  0.0007,  0.0148,  ...,  0.0189, -0.0177, -0.0185],\n",
      "        [-0.0112,  0.0329,  0.0054,  ..., -0.0044, -0.0197,  0.0259],\n",
      "        [-0.0119,  0.0031,  0.0337,  ..., -0.0122,  0.0070,  0.0334]],\n",
      "       requires_grad=True)\n"
     ]
    }
   ],
   "source": [
    "print('Updated weights - ', model.fc1.weight)"
   ]
  },
  {
   "cell_type": "markdown",
   "metadata": {},
   "source": [
    "### Training for real\n",
    "\n",
    "Now we'll put this algorithm into a loop so we can go through all the images. This is fairly straightforward. We'll loop through the mini-batches in our dataset, pass the data through the network to calculate the losses, get the gradients, then run the optimizer."
   ]
  },
  {
   "cell_type": "code",
   "execution_count": 27,
   "metadata": {
    "ExecuteTime": {
     "end_time": "2021-02-25T14:27:00.845671Z",
     "start_time": "2021-02-25T14:27:00.839873Z"
    }
   },
   "outputs": [],
   "source": [
    "optimizer = optim.SGD(model.parameters(), lr=0.003)"
   ]
  },
  {
   "cell_type": "code",
   "execution_count": 28,
   "metadata": {
    "ExecuteTime": {
     "end_time": "2021-02-25T14:31:37.765926Z",
     "start_time": "2021-02-25T14:31:01.216892Z"
    }
   },
   "outputs": [
    {
     "name": "stdout",
     "output_type": "stream",
     "text": [
      "Epoch: 1/3\n",
      "\tIteration: 0\t Loss: 0.0581\n",
      "\tIteration: 40\t Loss: 2.3051\n",
      "\tIteration: 80\t Loss: 2.2765\n",
      "\tIteration: 120\t Loss: 2.2579\n",
      "\tIteration: 160\t Loss: 2.2383\n",
      "\tIteration: 200\t Loss: 2.2171\n",
      "\tIteration: 240\t Loss: 2.1962\n",
      "\tIteration: 280\t Loss: 2.1662\n",
      "\tIteration: 320\t Loss: 2.1369\n",
      "\tIteration: 360\t Loss: 2.1061\n",
      "\tIteration: 400\t Loss: 2.0697\n",
      "\tIteration: 440\t Loss: 2.0287\n",
      "\tIteration: 480\t Loss: 1.9871\n",
      "\tIteration: 520\t Loss: 1.9240\n",
      "\tIteration: 560\t Loss: 1.8796\n",
      "\tIteration: 600\t Loss: 1.8274\n",
      "\tIteration: 640\t Loss: 1.7724\n",
      "\tIteration: 680\t Loss: 1.7124\n",
      "\tIteration: 720\t Loss: 1.6603\n",
      "\tIteration: 760\t Loss: 1.5898\n",
      "\tIteration: 800\t Loss: 1.5185\n",
      "\tIteration: 840\t Loss: 1.4469\n",
      "\tIteration: 880\t Loss: 1.3845\n",
      "\tIteration: 920\t Loss: 1.3256\n",
      "Epoch: 2/3\n",
      "\tIteration: 0\t Loss: 0.0353\n",
      "\tIteration: 40\t Loss: 1.2442\n",
      "\tIteration: 80\t Loss: 1.2113\n",
      "\tIteration: 120\t Loss: 1.1467\n",
      "\tIteration: 160\t Loss: 1.1055\n",
      "\tIteration: 200\t Loss: 1.0501\n",
      "\tIteration: 240\t Loss: 1.0220\n",
      "\tIteration: 280\t Loss: 0.9772\n",
      "\tIteration: 320\t Loss: 0.9374\n",
      "\tIteration: 360\t Loss: 0.9041\n",
      "\tIteration: 400\t Loss: 0.8739\n",
      "\tIteration: 440\t Loss: 0.8475\n",
      "\tIteration: 480\t Loss: 0.8155\n",
      "\tIteration: 520\t Loss: 0.7889\n",
      "\tIteration: 560\t Loss: 0.7945\n",
      "\tIteration: 600\t Loss: 0.7552\n",
      "\tIteration: 640\t Loss: 0.7250\n",
      "\tIteration: 680\t Loss: 0.7009\n",
      "\tIteration: 720\t Loss: 0.7053\n",
      "\tIteration: 760\t Loss: 0.6777\n",
      "\tIteration: 800\t Loss: 0.6627\n",
      "\tIteration: 840\t Loss: 0.6613\n",
      "\tIteration: 880\t Loss: 0.6333\n",
      "\tIteration: 920\t Loss: 0.6344\n",
      "Epoch: 3/3\n",
      "\tIteration: 0\t Loss: 0.0121\n",
      "\tIteration: 40\t Loss: 0.6117\n",
      "\tIteration: 80\t Loss: 0.6351\n",
      "\tIteration: 120\t Loss: 0.6018\n",
      "\tIteration: 160\t Loss: 0.6060\n",
      "\tIteration: 200\t Loss: 0.5880\n",
      "\tIteration: 240\t Loss: 0.5767\n",
      "\tIteration: 280\t Loss: 0.5567\n",
      "\tIteration: 320\t Loss: 0.5392\n",
      "\tIteration: 360\t Loss: 0.5574\n",
      "\tIteration: 400\t Loss: 0.5457\n",
      "\tIteration: 440\t Loss: 0.5218\n",
      "\tIteration: 480\t Loss: 0.5326\n",
      "\tIteration: 520\t Loss: 0.5099\n",
      "\tIteration: 560\t Loss: 0.5023\n",
      "\tIteration: 600\t Loss: 0.5062\n",
      "\tIteration: 640\t Loss: 0.5189\n",
      "\tIteration: 680\t Loss: 0.4794\n",
      "\tIteration: 720\t Loss: 0.4574\n",
      "\tIteration: 760\t Loss: 0.4783\n",
      "\tIteration: 800\t Loss: 0.4504\n",
      "\tIteration: 840\t Loss: 0.4875\n",
      "\tIteration: 880\t Loss: 0.4865\n",
      "\tIteration: 920\t Loss: 0.4668\n"
     ]
    }
   ],
   "source": [
    "epochs = 3\n",
    "print_every = 40\n",
    "\n",
    "for e in range(epochs):\n",
    "    running_loss = 0\n",
    "    print(f\"Epoch: {e+1}/{epochs}\")\n",
    "\n",
    "    for i, (images, labels) in enumerate(iter(trainloader)):\n",
    "\n",
    "        # Flatten MNIST images into a 784 long vector\n",
    "        images.resize_(images.size()[0], 784)\n",
    "        \n",
    "        optimizer.zero_grad()\n",
    "        \n",
    "        output = model.forward(images)   # 1) Forward pass\n",
    "        loss = criterion(output, labels) # 2) Compute loss\n",
    "        loss.backward()                  # 3) Backward pass\n",
    "        optimizer.step()                 # 4) Update model\n",
    "        \n",
    "        running_loss += loss.item()\n",
    "        \n",
    "        if i % print_every == 0:\n",
    "            print(f\"\\tIteration: {i}\\t Loss: {running_loss/print_every:.4f}\")\n",
    "            running_loss = 0"
   ]
  },
  {
   "cell_type": "markdown",
   "metadata": {},
   "source": [
    "With the network trained, we can check out it's predictions."
   ]
  },
  {
   "cell_type": "code",
   "execution_count": 33,
   "metadata": {
    "ExecuteTime": {
     "end_time": "2021-02-25T14:32:20.685476Z",
     "start_time": "2021-02-25T14:32:20.443093Z"
    }
   },
   "outputs": [
    {
     "data": {
      "image/png": "[encoded data removed]",
      "text/plain": [
       "<Figure size 432x648 with 2 Axes>"
      ]
     },
     "metadata": {
      "image/png": {
       "height": 195,
       "width": 349
      },
      "needs_background": "light"
     },
     "output_type": "display_data"
    }
   ],
   "source": [
    "images, labels = next(iter(trainloader))\n",
    "\n",
    "img = images[0].view(1, 784)\n",
    "# Turn off gradients to speed up this part\n",
    "with torch.no_grad():\n",
    "    logits = model.forward(img)\n",
    "\n",
    "# Output of the network are logits, need to take softmax for probabilities\n",
    "ps = F.softmax(logits, dim=1)\n",
    "view_classify(img.view(1, 28, 28), ps)"
   ]
  },
  {
   "cell_type": "markdown",
   "metadata": {},
   "source": [
    "Now our network is brilliant. It can accurately predict the digits in our images."
   ]
  },
  {
   "cell_type": "markdown",
   "metadata": {},
   "source": [
    "<div style=\"background:#222222; color:#ffffff; padding:20px\">\n",
    "    <h2 align=\"center\" style=\"color:#01ff84\">MNIST Clasification: Exercise</h2>\n",
    "<div>"
   ]
  },
  {
   "cell_type": "markdown",
   "metadata": {},
   "source": [
    "<div style=\"background:#222222; color:#ffffff; padding:20px\">\n",
    "  <h3 style=\"color:#01ff84; margin-top:4px\">Exercise 1:</h3>\n",
    "  <p>Now it's your turn to build a simple network, use any method I've covered so far. In the next notebook, you'll learn how to train a network so it can make good predictions.</p>\n",
    "  <p>Build a network to classify the MNIST images with 3 hidden layers. Use 400 units in the first hidden layer, 200 units in the second layer, and 100 units in the third layer. Each hidden layer should have a ReLU activation function, and use softmax on the output layer.</p>\n",
    "<div>"
   ]
  },
  {
   "cell_type": "code",
   "execution_count": 34,
   "metadata": {
    "ExecuteTime": {
     "end_time": "2021-02-25T14:41:57.809624Z",
     "start_time": "2021-02-25T14:41:57.795988Z"
    }
   },
   "outputs": [],
   "source": [
    "## TODO: Your network here\n",
    "input_size   = 784\n",
    "hidden_sizes = [400, 200, 100]\n",
    "output_size  = 10\n",
    "model = nn.Sequential(OrderedDict([\n",
    "          ('h1',   nn.Linear(input_size, hidden_sizes[0])),\n",
    "          ('rel1', nn.ReLU()),\n",
    "          ('h2',   nn.Linear(hidden_sizes[0], hidden_sizes[1])),\n",
    "          ('rel2', nn.ReLU()),\n",
    "          ('h3',   nn.Linear(hidden_sizes[1], hidden_sizes[2])),\n",
    "          ('rel3', nn.ReLU()),\n",
    "          ('output', nn.Linear(hidden_sizes[2], output_size)), \n",
    "          ('softmax', nn.Softmax(dim=1))]))"
   ]
  },
  {
   "cell_type": "code",
   "execution_count": 35,
   "metadata": {
    "ExecuteTime": {
     "end_time": "2021-02-25T14:42:09.835373Z",
     "start_time": "2021-02-25T14:42:09.628036Z"
    }
   },
   "outputs": [
    {
     "data": {
      "image/png": "[encoded data removed]",
      "text/plain": [
       "<Figure size 432x648 with 2 Axes>"
      ]
     },
     "metadata": {
      "image/png": {
       "height": 195,
       "width": 349
      },
      "needs_background": "light"
     },
     "output_type": "display_data"
    }
   ],
   "source": [
    "# Run this cell with your model to make sure it works\n",
    "# Forward pass through the network and display output\n",
    "images, labels = next(iter(trainloader))\n",
    "images.resize_(images.shape[0], 1, 784)\n",
    "ps = model.forward(images[0,:])\n",
    "view_classify(images[0].view(1, 28, 28), ps)"
   ]
  },
  {
   "cell_type": "markdown",
   "metadata": {},
   "source": [
    "<div style=\"background:#222222; color:#ffffff; padding:20px\">\n",
    "  <h3 style=\"color:#01ff84; margin-top:4px\">Exercise 2:</h3>\n",
    "  <p>Train your network implementing the Pytorch training loop and <strong style=\"color:#01ff84\">after each epoch, use the model for predicting the test (validation) MNIST data.</strong></p>\n",
    "  <p>Note: If your model does not fit with the final softmax layer, you can remove this layer.</p>\n",
    "  <p>Hint: <a href=\"https://discuss.pytorch.org/t/training-loop-checking-validation-accuracy/78399\">Training loop checking validation accuracy\n",
    "</a></p>\n",
    "  <p>Research about <code>model.train()</code>, <code>model.eval()</code> and <code>with torch.no_grad()</code> in Pytorch.\n",
    "<div>"
   ]
  },
  {
   "cell_type": "code",
   "execution_count": 71,
   "metadata": {
    "ExecuteTime": {
     "end_time": "2021-02-25T16:51:26.049475Z",
     "start_time": "2021-02-25T16:47:32.560050Z"
    }
   },
   "outputs": [
    {
     "name": "stdout",
     "output_type": "stream",
     "text": [
      "Epoch: 1/10\n",
      "\tIteration: 0\t Loss: 0.0162\n",
      "\tIteration: 100\t Loss: 1.6158\n",
      "\tIteration: 200\t Loss: 1.6155\n",
      "\tIteration: 300\t Loss: 1.6127\n",
      "\tIteration: 400\t Loss: 1.6180\n",
      "\tIteration: 500\t Loss: 1.6083\n",
      "\tIteration: 600\t Loss: 1.6083\n",
      "\tIteration: 700\t Loss: 1.6149\n",
      "\tIteration: 800\t Loss: 1.6085\n",
      "\tIteration: 900\t Loss: 1.6062\n",
      "val_accuracy: 90.62\n",
      "Epoch: 2/10\n",
      "\tIteration: 0\t Loss: 0.0162\n",
      "\tIteration: 100\t Loss: 1.6076\n",
      "\tIteration: 200\t Loss: 1.6088\n",
      "\tIteration: 300\t Loss: 1.6115\n",
      "\tIteration: 400\t Loss: 1.6059\n",
      "\tIteration: 500\t Loss: 1.6191\n",
      "\tIteration: 600\t Loss: 1.6155\n",
      "\tIteration: 700\t Loss: 1.6097\n",
      "\tIteration: 800\t Loss: 1.6064\n",
      "\tIteration: 900\t Loss: 1.6133\n",
      "val_accuracy: 90.62\n",
      "Epoch: 3/10\n",
      "\tIteration: 0\t Loss: 0.0153\n",
      "\tIteration: 100\t Loss: 1.6050\n",
      "\tIteration: 200\t Loss: 1.6178\n",
      "\tIteration: 300\t Loss: 1.6074\n",
      "\tIteration: 400\t Loss: 1.6105\n",
      "\tIteration: 500\t Loss: 1.6087\n",
      "\tIteration: 600\t Loss: 1.6105\n",
      "\tIteration: 700\t Loss: 1.6088\n",
      "\tIteration: 800\t Loss: 1.6068\n",
      "\tIteration: 900\t Loss: 1.6141\n",
      "val_accuracy: 88.54\n",
      "Epoch: 4/10\n",
      "\tIteration: 0\t Loss: 0.0161\n",
      "\tIteration: 100\t Loss: 1.6082\n",
      "\tIteration: 200\t Loss: 1.6068\n",
      "\tIteration: 300\t Loss: 1.6144\n",
      "\tIteration: 400\t Loss: 1.6122\n",
      "\tIteration: 500\t Loss: 1.6090\n",
      "\tIteration: 600\t Loss: 1.6060\n",
      "\tIteration: 700\t Loss: 1.6094\n",
      "\tIteration: 800\t Loss: 1.6021\n",
      "\tIteration: 900\t Loss: 1.6104\n",
      "val_accuracy: 87.5\n",
      "Epoch: 5/10\n",
      "\tIteration: 0\t Loss: 0.0158\n",
      "\tIteration: 100\t Loss: 1.6069\n",
      "\tIteration: 200\t Loss: 1.6008\n",
      "\tIteration: 300\t Loss: 1.6028\n",
      "\tIteration: 400\t Loss: 1.6119\n",
      "\tIteration: 500\t Loss: 1.6005\n",
      "\tIteration: 600\t Loss: 1.5991\n",
      "\tIteration: 700\t Loss: 1.6122\n",
      "\tIteration: 800\t Loss: 1.6106\n",
      "\tIteration: 900\t Loss: 1.6145\n",
      "val_accuracy: 87.5\n",
      "Epoch: 6/10\n",
      "\tIteration: 0\t Loss: 0.0158\n",
      "\tIteration: 100\t Loss: 1.6063\n",
      "\tIteration: 200\t Loss: 1.6021\n",
      "\tIteration: 300\t Loss: 1.6113\n",
      "\tIteration: 400\t Loss: 1.6045\n",
      "\tIteration: 500\t Loss: 1.6098\n",
      "\tIteration: 600\t Loss: 1.6113\n",
      "\tIteration: 700\t Loss: 1.6030\n",
      "\tIteration: 800\t Loss: 1.6045\n",
      "\tIteration: 900\t Loss: 1.6048\n",
      "val_accuracy: 88.54\n",
      "Epoch: 7/10\n",
      "\tIteration: 0\t Loss: 0.0159\n",
      "\tIteration: 100\t Loss: 1.5989\n",
      "\tIteration: 200\t Loss: 1.6053\n",
      "\tIteration: 300\t Loss: 1.6041\n",
      "\tIteration: 400\t Loss: 1.6000\n",
      "\tIteration: 500\t Loss: 1.6124\n",
      "\tIteration: 600\t Loss: 1.6100\n",
      "\tIteration: 700\t Loss: 1.6045\n",
      "\tIteration: 800\t Loss: 1.6089\n",
      "\tIteration: 900\t Loss: 1.5990\n",
      "val_accuracy: 89.73\n",
      "Epoch: 8/10\n",
      "\tIteration: 0\t Loss: 0.0160\n",
      "\tIteration: 100\t Loss: 1.5999\n",
      "\tIteration: 200\t Loss: 1.6090\n",
      "\tIteration: 300\t Loss: 1.6120\n",
      "\tIteration: 400\t Loss: 1.5975\n",
      "\tIteration: 500\t Loss: 1.6032\n",
      "\tIteration: 600\t Loss: 1.6063\n",
      "\tIteration: 700\t Loss: 1.5998\n",
      "\tIteration: 800\t Loss: 1.6038\n",
      "\tIteration: 900\t Loss: 1.6064\n",
      "val_accuracy: 89.06\n",
      "Epoch: 9/10\n",
      "\tIteration: 0\t Loss: 0.0166\n",
      "\tIteration: 100\t Loss: 1.6066\n",
      "\tIteration: 200\t Loss: 1.6132\n",
      "\tIteration: 300\t Loss: 1.6045\n",
      "\tIteration: 400\t Loss: 1.6031\n",
      "\tIteration: 500\t Loss: 1.6023\n",
      "\tIteration: 600\t Loss: 1.5952\n",
      "\tIteration: 700\t Loss: 1.6058\n",
      "\tIteration: 800\t Loss: 1.5997\n",
      "\tIteration: 900\t Loss: 1.5984\n",
      "val_accuracy: 88.19\n",
      "Epoch: 10/10\n",
      "\tIteration: 0\t Loss: 0.0165\n",
      "\tIteration: 100\t Loss: 1.5979\n",
      "\tIteration: 200\t Loss: 1.6005\n",
      "\tIteration: 300\t Loss: 1.6077\n",
      "\tIteration: 400\t Loss: 1.6042\n",
      "\tIteration: 500\t Loss: 1.6010\n",
      "\tIteration: 600\t Loss: 1.5995\n",
      "\tIteration: 700\t Loss: 1.6028\n",
      "\tIteration: 800\t Loss: 1.6014\n",
      "\tIteration: 900\t Loss: 1.6013\n",
      "val_accuracy: 87.19\n"
     ]
    }
   ],
   "source": [
    "## TODO: Your training loop here\n",
    "#criterion = nn.CrossEntropyLoss()\n",
    "#optimizer = optim.SGD(model.parameters(), lr=0.01)\n",
    "\n",
    "epochs = 10\n",
    "print_every = 100\n",
    "\n",
    "correct = 0\n",
    "total = 0 \n",
    "\n",
    "for e in range(epochs):\n",
    "    running_loss = 0\n",
    "    print(f\"Epoch: {e+1}/{epochs}\")\n",
    "\n",
    "    for i, (images, labels) in enumerate(iter(trainloader)):\n",
    "\n",
    "        # Flatten MNIST images into a 784 long vector\n",
    "        images.resize_(images.size()[0], 784)\n",
    "        \n",
    "        optimizer.zero_grad()\n",
    "        \n",
    "        output = model.forward(images)   # 1) Forward pass\n",
    "        loss = criterion(output, labels) # 2) Compute loss\n",
    "        loss.backward()                  # 3) Backward pass\n",
    "        optimizer.step()                 # 4) Update model\n",
    "        \n",
    "        running_loss += loss.item()\n",
    "        \n",
    "        if i % print_every == 0:\n",
    "            print(f\"\\tIteration: {i}\\t Loss: {running_loss/print_every:.4f}\")\n",
    "            running_loss = 0\n",
    "    \n",
    "    with torch.no_grad():\n",
    "        for data in testloader:\n",
    "            output = model.forward(images)\n",
    "            _, predicted = torch.max(output.data, 1)\n",
    "            total += labels.size(0)\n",
    "            correct += (predicted == labels).sum().item()\n",
    "    print('val_accuracy:',round((100*correct/total),2))"
   ]
  },
  {
   "cell_type": "code",
   "execution_count": 72,
   "metadata": {
    "ExecuteTime": {
     "end_time": "2021-02-25T16:51:27.860986Z",
     "start_time": "2021-02-25T16:51:27.558301Z"
    }
   },
   "outputs": [
    {
     "data": {
      "image/png": "[encoded data removed]",
      "text/plain": [
       "<Figure size 432x648 with 2 Axes>"
      ]
     },
     "metadata": {
      "image/png": {
       "height": 195,
       "width": 349
      },
      "needs_background": "light"
     },
     "output_type": "display_data"
    }
   ],
   "source": [
    "# Run this cell with your model to make sure it works and predicts well for the validation data\n",
    "images, labels = next(iter(testloader))\n",
    "images.resize_(images.shape[0], 1, 784)\n",
    "ps = model.forward(images[0,:])\n",
    "view_classify(images[0].view(1, 28, 28), ps)"
   ]
  },
  {
   "cell_type": "markdown",
   "metadata": {},
   "source": [
    "<div style=\"background:#222222; color:#ffffff; padding:20px\">\n",
    "  <h3 style=\"color:#01ff84; margin-top:4px\">Exercise 3:</h3>\n",
    "  <p>Write the code for adding <strong style=\"color:#01ff84\">Early Stopping with patience = 2</strong> to the training loop from scratch.</p>\n",
    "  <p><strong style=\"color:#01ff84\">Hint:</strong> Monitor the Validation loss every epoch, and if in 2 epochs, the validation loss does not improve, stop the training loop with <code>break</code>.</p>\n",
    "<div>"
   ]
  },
  {
   "cell_type": "code",
   "execution_count": 75,
   "metadata": {
    "ExecuteTime": {
     "end_time": "2021-02-25T17:20:47.999781Z",
     "start_time": "2021-02-25T17:17:40.089120Z"
    }
   },
   "outputs": [
    {
     "name": "stdout",
     "output_type": "stream",
     "text": [
      "Epoch: 1/5\n",
      "\tIteration: 0\t Loss: 0.0405\n",
      "\tIteration: 40\t Loss: 1.6050\n",
      "\tIteration: 80\t Loss: 1.5893\n",
      "\tIteration: 120\t Loss: 1.5818\n",
      "\tIteration: 160\t Loss: 1.5941\n",
      "\tIteration: 200\t Loss: 1.6032\n",
      "\tIteration: 240\t Loss: 1.6056\n",
      "\tIteration: 280\t Loss: 1.5879\n",
      "\tIteration: 320\t Loss: 1.6066\n",
      "\tIteration: 360\t Loss: 1.5906\n",
      "\tIteration: 400\t Loss: 1.6110\n",
      "\tIteration: 440\t Loss: 1.5845\n",
      "\tIteration: 480\t Loss: 1.6048\n",
      "\tIteration: 520\t Loss: 1.5985\n",
      "\tIteration: 560\t Loss: 1.6000\n",
      "\tIteration: 600\t Loss: 1.5868\n",
      "\tIteration: 640\t Loss: 1.6003\n",
      "\tIteration: 680\t Loss: 1.5996\n",
      "\tIteration: 720\t Loss: 1.5917\n",
      "\tIteration: 760\t Loss: 1.5988\n",
      "\tIteration: 800\t Loss: 1.5992\n",
      "\tIteration: 840\t Loss: 1.5998\n",
      "\tIteration: 880\t Loss: 1.6101\n",
      "\tIteration: 920\t Loss: 1.6030\n",
      "Accuracy: 86.7\n",
      "validation_loss: 1498.0561541318893\n",
      "Epoch: 2/5\n",
      "\tIteration: 0\t Loss: 0.0403\n",
      "\tIteration: 40\t Loss: 1.6076\n",
      "\tIteration: 80\t Loss: 1.5939\n",
      "\tIteration: 120\t Loss: 1.5900\n",
      "\tIteration: 160\t Loss: 1.5963\n",
      "\tIteration: 200\t Loss: 1.6025\n",
      "\tIteration: 240\t Loss: 1.6036\n",
      "\tIteration: 280\t Loss: 1.6141\n",
      "\tIteration: 320\t Loss: 1.5846\n",
      "\tIteration: 360\t Loss: 1.5891\n",
      "\tIteration: 400\t Loss: 1.5996\n",
      "\tIteration: 440\t Loss: 1.5931\n",
      "\tIteration: 480\t Loss: 1.5844\n",
      "\tIteration: 520\t Loss: 1.5928\n",
      "\tIteration: 560\t Loss: 1.6030\n",
      "\tIteration: 600\t Loss: 1.5930\n",
      "\tIteration: 640\t Loss: 1.6035\n",
      "\tIteration: 680\t Loss: 1.5912\n",
      "\tIteration: 720\t Loss: 1.5904\n",
      "\tIteration: 760\t Loss: 1.5967\n",
      "\tIteration: 800\t Loss: 1.6017\n",
      "\tIteration: 840\t Loss: 1.5924\n",
      "\tIteration: 880\t Loss: 1.6135\n",
      "\tIteration: 920\t Loss: 1.5991\n",
      "Accuracy: 86.72\n",
      "validation_loss: 1497.4534847736359\n",
      "Epoch: 3/5\n",
      "\tIteration: 0\t Loss: 0.0413\n",
      "\tIteration: 40\t Loss: 1.5972\n",
      "\tIteration: 80\t Loss: 1.5901\n",
      "\tIteration: 120\t Loss: 1.5836\n",
      "\tIteration: 160\t Loss: 1.5977\n",
      "\tIteration: 200\t Loss: 1.5940\n",
      "\tIteration: 240\t Loss: 1.5923\n",
      "\tIteration: 280\t Loss: 1.5970\n",
      "\tIteration: 320\t Loss: 1.6071\n",
      "\tIteration: 360\t Loss: 1.5985\n",
      "\tIteration: 400\t Loss: 1.5985\n",
      "\tIteration: 440\t Loss: 1.5960\n",
      "\tIteration: 480\t Loss: 1.5988\n",
      "\tIteration: 520\t Loss: 1.6041\n",
      "\tIteration: 560\t Loss: 1.6048\n",
      "\tIteration: 600\t Loss: 1.5847\n",
      "\tIteration: 640\t Loss: 1.5928\n",
      "\tIteration: 680\t Loss: 1.6033\n",
      "\tIteration: 720\t Loss: 1.5962\n",
      "\tIteration: 760\t Loss: 1.5916\n",
      "\tIteration: 800\t Loss: 1.5932\n",
      "\tIteration: 840\t Loss: 1.6020\n",
      "\tIteration: 880\t Loss: 1.5976\n",
      "\tIteration: 920\t Loss: 1.6094\n",
      "Accuracy: 86.78\n",
      "validation_loss: 1497.05784034729\n",
      "Epoch: 4/5\n",
      "\tIteration: 0\t Loss: 0.0392\n",
      "\tIteration: 40\t Loss: 1.6008\n",
      "\tIteration: 80\t Loss: 1.5919\n",
      "\tIteration: 120\t Loss: 1.6027\n",
      "\tIteration: 160\t Loss: 1.5904\n",
      "\tIteration: 200\t Loss: 1.5951\n",
      "\tIteration: 240\t Loss: 1.5802\n",
      "\tIteration: 280\t Loss: 1.6020\n",
      "\tIteration: 320\t Loss: 1.5911\n",
      "\tIteration: 360\t Loss: 1.5950\n",
      "\tIteration: 400\t Loss: 1.5966\n",
      "\tIteration: 440\t Loss: 1.6022\n",
      "\tIteration: 480\t Loss: 1.5956\n",
      "\tIteration: 520\t Loss: 1.5978\n",
      "\tIteration: 560\t Loss: 1.6088\n",
      "\tIteration: 600\t Loss: 1.5983\n",
      "\tIteration: 640\t Loss: 1.5934\n",
      "\tIteration: 680\t Loss: 1.5957\n",
      "\tIteration: 720\t Loss: 1.5877\n",
      "\tIteration: 760\t Loss: 1.5969\n",
      "\tIteration: 800\t Loss: 1.5935\n",
      "\tIteration: 840\t Loss: 1.5951\n",
      "\tIteration: 880\t Loss: 1.5906\n",
      "\tIteration: 920\t Loss: 1.6028\n",
      "Accuracy: 86.5\n",
      "validation_loss: 1499.387288093567\n"
     ]
    }
   ],
   "source": [
    "## TODO: Your training loop here\n",
    "\n",
    "best_validation_loss = np.inf \n",
    "epochs = 5\n",
    "print_every = 40 \n",
    "optimizer = optim.SGD(model.parameters(), lr=0.01)\n",
    "\n",
    "for e in range(epochs):\n",
    "    running_loss = 0\n",
    "    running_validation_loss = 0 \n",
    "    total = 0 \n",
    "    correct = 0 \n",
    "    print(f\"Epoch: {e+1}/{epochs}\")\n",
    "\n",
    "    model.train() \n",
    "    for i, (images, labels) in enumerate(iter(trainloader)):\n",
    "\n",
    "        # Flatten MNIST images into a 784 long vector\n",
    "        images.resize_(images.size()[0], 784)\n",
    "        \n",
    "        optimizer.zero_grad()\n",
    "        \n",
    "        output = model.forward(images)   # 1) Forward pass\n",
    "        loss = criterion(output, labels) # 2) Compute loss\n",
    "        loss.backward()                  # 3) Backward pass\n",
    "        optimizer.step()                 # 4) Update model\n",
    "        \n",
    "        running_loss += loss.item()\n",
    "        \n",
    "        if i % print_every == 0:\n",
    "            print(f\"\\tIteration: {i}\\t Loss: {running_loss/print_every:.4f}\")\n",
    "            running_loss = 0\n",
    "    \n",
    "    model.eval()\n",
    "    with torch.no_grad():\n",
    "        for i, (images, labels) in enumerate(iter(trainloader)):\n",
    "            images.resize_(images.size()[0], 784)\n",
    "            output = model(images)\n",
    "            running_validation_loss += criterion(output, labels).item()\n",
    "            _, predicted = torch.max(output.data, 1)\n",
    "            total += labels.size(0)\n",
    "            correct += (predicted == labels).sum().item()\n",
    "    print('Accuracy:',round((100*correct/total),2))\n",
    "    print(f'validation_loss: {running_validation_loss}')\n",
    "    if best_validation_loss > running_validation_loss:\n",
    "        best_validation_loss = running_validation_loss \n",
    "    else:\n",
    "        break "
   ]
  }
 ],
 "metadata": {
  "kernelspec": {
   "display_name": "Python 3",
   "language": "python",
   "name": "python3"
  },
  "language_info": {
   "codemirror_mode": {
    "name": "ipython",
    "version": 3
   },
   "file_extension": ".py",
   "mimetype": "text/x-python",
   "name": "python",
   "nbconvert_exporter": "python",
   "pygments_lexer": "ipython3",
   "version": "3.8.3"
  }
 },
 "nbformat": 4,
 "nbformat_minor": 2
}
