{
 "cells": [
  {
   "cell_type": "code",
   "execution_count": 1,
   "id": "varied-wound",
   "metadata": {
    "ExecuteTime": {
     "end_time": "2021-03-01T15:19:38.306873Z",
     "start_time": "2021-03-01T15:19:32.766500Z"
    }
   },
   "outputs": [],
   "source": [
    "import numpy as np\n",
    "import tensorflow as tf\n",
    "from tensorflow import keras\n",
    "from tensorflow.keras import layers"
   ]
  },
  {
   "cell_type": "code",
   "execution_count": 2,
   "id": "racial-granny",
   "metadata": {
    "ExecuteTime": {
     "end_time": "2021-03-01T15:19:38.319799Z",
     "start_time": "2021-03-01T15:19:38.309199Z"
    }
   },
   "outputs": [],
   "source": [
    "inputs = keras.Input(shape=(784))"
   ]
  },
  {
   "cell_type": "code",
   "execution_count": 3,
   "id": "stunning-bearing",
   "metadata": {
    "ExecuteTime": {
     "end_time": "2021-03-01T15:19:38.426114Z",
     "start_time": "2021-03-01T15:19:38.323747Z"
    }
   },
   "outputs": [],
   "source": [
    "dense = layers.Dense(128, activation='relu')\n",
    "x = dense(inputs)\n",
    "x = layers.Dense(64, activation='relu')(x)\n",
    "outputs = layers.Dense(10)(x)"
   ]
  },
  {
   "cell_type": "code",
   "execution_count": 4,
   "id": "patent-oakland",
   "metadata": {
    "ExecuteTime": {
     "end_time": "2021-03-01T15:19:38.439762Z",
     "start_time": "2021-03-01T15:19:38.429621Z"
    }
   },
   "outputs": [],
   "source": [
    "model = keras.Model(inputs=inputs, outputs=outputs, name='my_model')"
   ]
  },
  {
   "cell_type": "code",
   "execution_count": 5,
   "id": "experienced-doubt",
   "metadata": {
    "ExecuteTime": {
     "end_time": "2021-03-01T15:19:38.461638Z",
     "start_time": "2021-03-01T15:19:38.443363Z"
    }
   },
   "outputs": [
    {
     "name": "stdout",
     "output_type": "stream",
     "text": [
      "Model: \"my_model\"\n",
      "_________________________________________________________________\n",
      "Layer (type)                 Output Shape              Param #   \n",
      "=================================================================\n",
      "input_1 (InputLayer)         [(None, 784)]             0         \n",
      "_________________________________________________________________\n",
      "dense (Dense)                (None, 128)               100480    \n",
      "_________________________________________________________________\n",
      "dense_1 (Dense)              (None, 64)                8256      \n",
      "_________________________________________________________________\n",
      "dense_2 (Dense)              (None, 10)                650       \n",
      "=================================================================\n",
      "Total params: 109,386\n",
      "Trainable params: 109,386\n",
      "Non-trainable params: 0\n",
      "_________________________________________________________________\n"
     ]
    }
   ],
   "source": [
    "model.summary()"
   ]
  },
  {
   "cell_type": "code",
   "execution_count": 7,
   "id": "stretch-incidence",
   "metadata": {
    "ExecuteTime": {
     "end_time": "2021-03-01T15:20:00.322839Z",
     "start_time": "2021-03-01T15:20:00.318708Z"
    },
    "scrolled": true
   },
   "outputs": [],
   "source": [
    "#keras.utils.plot_model(model, 'my_model.png', show_shapes=True)"
   ]
  },
  {
   "cell_type": "code",
   "execution_count": null,
   "id": "baking-minnesota",
   "metadata": {
    "ExecuteTime": {
     "start_time": "2021-03-01T16:49:27.271Z"
    }
   },
   "outputs": [
    {
     "name": "stdout",
     "output_type": "stream",
     "text": [
      "Downloading data from https://storage.googleapis.com/tensorflow/tf-keras-datasets/mnist.npz\n",
      "11493376/11490434 [==============================] - 7s 1us/step\n",
      "Train on 48000 samples, validate on 12000 samples\n",
      "Epoch 1/2\n"
     ]
    }
   ],
   "source": [
    "(x_train, y_train), (x_test, y_test) = keras.datasets.mnist.load_data()\n",
    "\n",
    "x_train = x_train.reshape(60000, 784).astype(\"float32\") / 255\n",
    "x_test = x_test.reshape(10000, 784).astype(\"float32\") / 255\n",
    "\n",
    "model.compile(\n",
    "    loss=keras.losses.SparseCategoricalCrossentropy(from_logits=True),\n",
    "    optimizer=keras.optimizers.RMSprop(),\n",
    "    metrics=[\"accuracy\"],\n",
    ")\n",
    "\n",
    "history = model.fit(x_train, y_train, batch_size=64, epochs=2, validation_split=0.2)\n",
    "\n",
    "test_scores = model.evaluate(x_test, y_test, verbose=2)\n",
    "print(\"Test loss:\", test_scores[0])\n",
    "print(\"Test accuracy:\", test_scores[1])"
   ]
  },
  {
   "cell_type": "code",
   "execution_count": null,
   "id": "guided-performance",
   "metadata": {},
   "outputs": [],
   "source": []
  }
 ],
 "metadata": {
  "kernelspec": {
   "display_name": "Python 3",
   "language": "python",
   "name": "python3"
  },
  "language_info": {
   "codemirror_mode": {
    "name": "ipython",
    "version": 3
   },
   "file_extension": ".py",
   "mimetype": "text/x-python",
   "name": "python",
   "nbconvert_exporter": "python",
   "pygments_lexer": "ipython3",
   "version": "3.7.9"
  }
 },
 "nbformat": 4,
 "nbformat_minor": 5
}
