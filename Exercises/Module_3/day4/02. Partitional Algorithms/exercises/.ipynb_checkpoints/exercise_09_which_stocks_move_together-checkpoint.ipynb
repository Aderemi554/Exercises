{
 "cells": [
  {
   "cell_type": "markdown",
   "metadata": {},
   "source": [
    "# Exercise 9: Which stocks move together?\n",
    "\n",
    "In the previous exercise, you clustered companies by their daily stock price movements.  So which company have stock prices that tend to change in the same way?  Now inspect the cluster labels from your clustering to find out."
   ]
  },
  {
   "cell_type": "markdown",
   "metadata": {},
   "source": [
    "**Step 1:** Load the data _(written for you)_."
   ]
  },
  {
   "cell_type": "code",
   "execution_count": 1,
   "metadata": {
    "ExecuteTime": {
     "end_time": "2021-01-21T17:36:24.482734Z",
     "start_time": "2021-01-21T17:36:22.844681Z"
    },
    "exercise": false
   },
   "outputs": [],
   "source": [
    "import pandas as pd\n",
    "\n",
    "fn = '../datasets/company-stock-movements-2010-2015-incl.csv'\n",
    "stocks_df = pd.read_csv(fn, index_col=0)"
   ]
  },
  {
   "cell_type": "markdown",
   "metadata": {},
   "source": [
    "**Step 2:** Run your code from the previous exercise _(filled in for you)_."
   ]
  },
  {
   "cell_type": "code",
   "execution_count": 2,
   "metadata": {
    "ExecuteTime": {
     "end_time": "2021-01-21T17:36:31.019559Z",
     "start_time": "2021-01-21T17:36:28.630588Z"
    },
    "exercise": false
   },
   "outputs": [
    {
     "data": {
      "text/plain": [
       "Pipeline(steps=[('normalizer', Normalizer()),\n",
       "                ('kmeans', KMeans(n_clusters=14))])"
      ]
     },
     "execution_count": 2,
     "metadata": {},
     "output_type": "execute_result"
    }
   ],
   "source": [
    "companies = list(stocks_df.index)\n",
    "movements = stocks_df.values\n",
    "\n",
    "from sklearn.preprocessing import Normalizer\n",
    "from sklearn.cluster import KMeans\n",
    "from sklearn.pipeline import make_pipeline\n",
    "\n",
    "normalizer = Normalizer()\n",
    "kmeans = KMeans(n_clusters=14)\n",
    "pipeline = make_pipeline(normalizer, kmeans)\n",
    "pipeline.fit(movements)"
   ]
  },
  {
   "cell_type": "markdown",
   "metadata": {},
   "source": [
    "**Step 3:** Use the `.predict()` method of the pipeline to predict the labels for `movements`."
   ]
  },
  {
   "cell_type": "code",
   "execution_count": 4,
   "metadata": {
    "ExecuteTime": {
     "end_time": "2021-01-21T17:37:18.393781Z",
     "start_time": "2021-01-21T17:37:18.386741Z"
    }
   },
   "outputs": [],
   "source": [
    "labels = pipeline.predict(movements)"
   ]
  },
  {
   "cell_type": "markdown",
   "metadata": {},
   "source": [
    "**Step 4:** Align the cluster labels with the list of company names `companies` by creating a DataFrame `df` with `labels` and `companies` as columns."
   ]
  },
  {
   "cell_type": "code",
   "execution_count": 5,
   "metadata": {
    "ExecuteTime": {
     "end_time": "2021-01-21T17:38:25.540203Z",
     "start_time": "2021-01-21T17:38:25.528866Z"
    }
   },
   "outputs": [],
   "source": [
    "df = pd.DataFrame({'labels':labels, 'companies': companies})"
   ]
  },
  {
   "cell_type": "markdown",
   "metadata": {},
   "source": [
    "**Step 5:** Now display the DataFrame, sorted by cluster label.  To do this, use the `.sort_values()` method of `df` to sort the DataFrame by the `'labels'` column."
   ]
  },
  {
   "cell_type": "code",
   "execution_count": 6,
   "metadata": {
    "ExecuteTime": {
     "end_time": "2021-01-21T17:39:08.378851Z",
     "start_time": "2021-01-21T17:39:08.363728Z"
    }
   },
   "outputs": [
    {
     "name": "stdout",
     "output_type": "stream",
     "text": [
      "    labels                           companies\n",
      "9        0                   Colgate-Palmolive\n",
      "40       0                      Procter Gamble\n",
      "27       0                      Kimberly-Clark\n",
      "16       1                   General Electrics\n",
      "5        1                     Bank of America\n",
      "26       1                      JPMorgan Chase\n",
      "55       1                         Wells Fargo\n",
      "1        1                                 AIG\n",
      "3        1                    American express\n",
      "18       1                       Goldman Sachs\n",
      "6        2            British American Tobacco\n",
      "42       2                   Royal Dutch Shell\n",
      "37       2                            Novartis\n",
      "19       2                     GlaxoSmithKline\n",
      "52       2                            Unilever\n",
      "49       2                               Total\n",
      "46       2                      Sanofi-Aventis\n",
      "43       2                                 SAP\n",
      "21       3                               Honda\n",
      "34       3                          Mitsubishi\n",
      "15       3                                Ford\n",
      "45       3                                Sony\n",
      "7        3                               Canon\n",
      "58       3                               Xerox\n",
      "48       3                              Toyota\n",
      "36       4                    Northrop Grumman\n",
      "29       4                     Lookheed Martin\n",
      "54       4                            Walgreen\n",
      "4        4                              Boeing\n",
      "41       5                       Philip Morris\n",
      "28       5                           Coca Cola\n",
      "31       5                           McDonalds\n",
      "38       5                               Pepsi\n",
      "35       6                            Navistar\n",
      "44       6                        Schlumberger\n",
      "0        6                               Apple\n",
      "32       6                                  3M\n",
      "8        6                         Caterpillar\n",
      "13       6                   DuPont de Nemours\n",
      "2        7                              Amazon\n",
      "17       7                     Google/Alphabet\n",
      "59       7                               Yahoo\n",
      "47       8                            Symantec\n",
      "33       8                           Microsoft\n",
      "57       9                               Exxon\n",
      "30       9                          MasterCard\n",
      "25       9                   Johnson & Johnson\n",
      "39       9                              Pfizer\n",
      "12       9                             Chevron\n",
      "53       9                       Valero Energy\n",
      "23       9                                 IBM\n",
      "10       9                      ConocoPhillips\n",
      "22      10                                  HP\n",
      "14      10                                Dell\n",
      "11      11                               Cisco\n",
      "24      11                               Intel\n",
      "51      11                   Texas instruments\n",
      "50      11  Taiwan Semiconductor Manufacturing\n",
      "20      12                          Home Depot\n",
      "56      13                            Wal-Mart\n"
     ]
    }
   ],
   "source": [
    "print(df.sort_values('labels'))"
   ]
  },
  {
   "cell_type": "markdown",
   "metadata": {},
   "source": [
    "**Great job!** Using k-means, you've discovered which companies stock prices move together on the stock exchange."
   ]
  },
  {
   "cell_type": "code",
   "execution_count": null,
   "metadata": {
    "collapsed": true
   },
   "outputs": [],
   "source": []
  }
 ],
 "metadata": {
  "kernelspec": {
   "display_name": "Python 3",
   "language": "python",
   "name": "python3"
  },
  "language_info": {
   "codemirror_mode": {
    "name": "ipython",
    "version": 3
   },
   "file_extension": ".py",
   "mimetype": "text/x-python",
   "name": "python",
   "nbconvert_exporter": "python",
   "pygments_lexer": "ipython3",
   "version": "3.8.5"
  }
 },
 "nbformat": 4,
 "nbformat_minor": 2
}
