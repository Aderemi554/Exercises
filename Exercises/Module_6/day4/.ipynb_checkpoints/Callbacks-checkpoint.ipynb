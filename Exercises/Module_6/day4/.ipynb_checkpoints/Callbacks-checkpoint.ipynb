{
 "cells": [
  {
   "cell_type": "markdown",
   "metadata": {},
   "source": [
    "# OpenCV Callbacks"
   ]
  },
  {
   "cell_type": "code",
   "execution_count": 1,
   "metadata": {
    "ExecuteTime": {
     "end_time": "2021-03-11T16:38:34.596502Z",
     "start_time": "2021-03-11T16:38:33.115317Z"
    }
   },
   "outputs": [],
   "source": [
    "import cv2\n",
    "import numpy as np\n",
    "import matplotlib.pyplot as plt\n",
    "%matplotlib inline"
   ]
  },
  {
   "cell_type": "markdown",
   "metadata": {},
   "source": [
    "## Keyboard callbacks"
   ]
  },
  {
   "cell_type": "code",
   "execution_count": 2,
   "metadata": {
    "ExecuteTime": {
     "end_time": "2021-03-11T16:24:00.966532Z",
     "start_time": "2021-03-11T16:24:00.959568Z"
    }
   },
   "outputs": [],
   "source": [
    "# Load an image and show it on screen with cv2.imshow\n",
    "#image = cv2.imread('img/cup.jpg')\n",
    "# When the key g or G is detected then change the image to show in grayscale\n",
    "# When the key c or C is detected then change the image to show in color\n",
    "# When the key t or T is detected then change the image to show the thresholded version of the image\n",
    "# When the key esc is detected close the image\n"
   ]
  },
  {
   "cell_type": "code",
   "execution_count": 9,
   "metadata": {
    "ExecuteTime": {
     "end_time": "2021-03-11T16:47:54.085785Z",
     "start_time": "2021-03-11T16:47:54.035680Z"
    }
   },
   "outputs": [
    {
     "data": {
      "text/plain": [
       "-1"
      ]
     },
     "execution_count": 9,
     "metadata": {},
     "output_type": "execute_result"
    }
   ],
   "source": [
    "image = cv2.imread('img/cup.jpg') \n",
    "\n",
    "window_name = 'window' \n",
    "\n",
    "key = 0 \n",
    "\n",
    "img = image.copy()\n",
    "\n",
    "cv2.namedWindow(window_name, cv2.WINDOW_AUTOSIZE)\n",
    "\n",
    "cv2.imshow(window_name, img)\n",
    "\n",
    "while True:\n",
    "    if (key == ord('g') or key == ord('G')):\n",
    "        img = cv2.cvtColor(img, cv2.COLOR_BGR2GRAY)\n",
    "        cv2.imshow(window_name, img)\n",
    "    \n",
    "    if (key == ord('c') or key == ord('C')):\n",
    "        img = cv2.cvtColor(img, cv2.COLOR_GRAY2BGR)\n",
    "        cv2.imshow(window_name, img)\n",
    "        \n",
    "    if (key == ord('t') or key == ord('T')):\n",
    "        ret,thresh = cv2.threshold(img,127,255,cv2.THRESH_BINARY)\n",
    "        cv2.imshow(window_name, thresh)\n",
    "    if (key == 27):\n",
    "        break\n",
    "    key = cv2.waitKey(0)\n",
    "        \n",
    "cv2.destroyAllWindows()\n",
    "cv2.waitKey(1)"
   ]
  },
  {
   "cell_type": "markdown",
   "metadata": {},
   "source": [
    "[Hint](# \"You will need to use cv2.waitKey and python ord functions\") "
   ]
  },
  {
   "cell_type": "code",
   "execution_count": 39,
   "metadata": {
    "ExecuteTime": {
     "end_time": "2021-03-11T18:10:47.005036Z",
     "start_time": "2021-03-11T18:10:31.884583Z"
    }
   },
   "outputs": [
    {
     "data": {
      "text/plain": [
       "-1"
      ]
     },
     "execution_count": 39,
     "metadata": {},
     "output_type": "execute_result"
    }
   ],
   "source": [
    "# Do the same as above but using your webcam image \n",
    "count = 0\n",
    "cap = cv2.VideoCapture(0)\n",
    "key = 0\n",
    "\n",
    "while(True):\n",
    "    ret,frame = cap.read()\n",
    "    if(key== 27):\n",
    "        break\n",
    "\n",
    "    if(key == ord('g') or key == ord('G')):\n",
    "        count = count + 1\n",
    "        cv2.putText(frame,\n",
    "                   f'number of clicks = {count}',(200,200), cv2.FONT_HERSHEY_COMPLEX,1,(0,255,0),3)\n",
    "\n",
    "    if(key == ord('c') or key == ord('C')):\n",
    "        count = count + 1\n",
    "        cv2.putText(frame,\n",
    "                   f'hey girlfriend! = {count}',(200,200), cv2.FONT_HERSHEY_COMPLEX,1,(0,255,0),3)\n",
    "\n",
    "    if(key == ord('t') or key == ord('T')):\n",
    "        count = count + 1\n",
    "        cv2.putText(frame,\n",
    "                   f'wink, wink! = {count}',(200,200), cv2.FONT_HERSHEY_COMPLEX,1,(0,255,0),3)\n",
    "\n",
    "    cv2.imshow(\"Image\", frame)\n",
    "\n",
    "    key =cv2.waitKey(800)\n",
    "\n",
    "cap.release()\n",
    "cv2.destroyAllWindows()\n",
    "cv2.waitKey(1)\n"
   ]
  },
  {
   "cell_type": "markdown",
   "metadata": {},
   "source": [
    "[Hint](# \"You will need to use cv2.VideoCapture function\") "
   ]
  },
  {
   "cell_type": "markdown",
   "metadata": {},
   "source": [
    "## Mouse callbacks"
   ]
  },
  {
   "cell_type": "code",
   "execution_count": 30,
   "metadata": {
    "ExecuteTime": {
     "end_time": "2021-03-11T17:40:26.793880Z",
     "start_time": "2021-03-11T17:39:49.347029Z"
    }
   },
   "outputs": [
    {
     "data": {
      "text/plain": [
       "-1"
      ]
     },
     "execution_count": 30,
     "metadata": {},
     "output_type": "execute_result"
    }
   ],
   "source": [
    "# Load an image and show it on screen with cv2.imshow\n",
    "# When the user clicks on top of the image save the coordinates\n",
    "# The user will then move the cursor without releasing the mouse button to another position\n",
    "# When the user releases the button draw a rectagle around the ROI\n",
    "# When the key esc is detected close the image\n",
    "\n",
    "image = cv2.imread('img/day3.jpg') \n",
    "img = image.copy()\n",
    "\n",
    "window_name = 'window' \n",
    "cv2.namedWindow(window_name)\n",
    "\n",
    "def draw_rect(action, x, y, flags, userdata): \n",
    "    if(action == cv2.EVENT_LBUTTONUP): \n",
    "        cv2.rectangle(userdata, (x,y), (x + 50, y + 80), (0,0,255), -1) \n",
    "        cv2.imshow(window_name, userdata)\n",
    "        \n",
    "    if(action == cv2.EVENT_RBUTTONUP):\n",
    "        cv2.rectangle(userdata, (x,y), (x + 50, y + 80), (255,0,0), -1)\n",
    "        cv2.imshow(window_name, userdata) \n",
    "\n",
    "cv2.setMouseCallback(window_name, draw_rect, img)\n",
    "\n",
    "cv2.imshow(window_name, img) \n",
    "cv2.waitKey(0) \n",
    "cv2.destroyAllWindows() \n",
    "cv2.waitKey(1)"
   ]
  },
  {
   "cell_type": "code",
   "execution_count": null,
   "metadata": {},
   "outputs": [],
   "source": [
    "# Crop and save the ROI image to disk \n"
   ]
  },
  {
   "cell_type": "markdown",
   "metadata": {},
   "source": [
    "[Hint](# \"cv2.setMouseCallback\") "
   ]
  },
  {
   "cell_type": "markdown",
   "metadata": {},
   "source": [
    "## Trackbars"
   ]
  },
  {
   "cell_type": "code",
   "execution_count": 35,
   "metadata": {
    "ExecuteTime": {
     "end_time": "2021-03-11T17:46:25.406329Z",
     "start_time": "2021-03-11T17:46:25.374234Z"
    }
   },
   "outputs": [],
   "source": [
    "# Create a named window, load and show an image in that window\n"
   ]
  },
  {
   "cell_type": "markdown",
   "metadata": {},
   "source": [
    "[Hint](# \"cv2.namedWindow\") "
   ]
  },
  {
   "cell_type": "code",
   "execution_count": 36,
   "metadata": {
    "ExecuteTime": {
     "end_time": "2021-03-11T18:00:54.739722Z",
     "start_time": "2021-03-11T17:59:49.030463Z"
    }
   },
   "outputs": [
    {
     "data": {
      "text/plain": [
       "-1"
      ]
     },
     "execution_count": 36,
     "metadata": {},
     "output_type": "execute_result"
    }
   ],
   "source": [
    "# Add at least 3 different trackbars to the window (choose of any parameters that you want to modify with them)\n",
    "# Each trackbar will modify some parameter of the image, write a function for each trackbar\n",
    "# When the user move the trackbar around the image should be updated accordingly\n",
    "# When the key esc is detected close the image\n",
    "image = cv2.imread('img/girl.webp') \n",
    "img = image.copy()\n",
    "\n",
    "window_name = 'trackbars' \n",
    "cv2.namedWindow(window_name, cv2.WINDOW_AUTOSIZE)\n",
    "\n",
    "threshold_value = 0\n",
    "threshold_type = cv2.THRESH_BINARY\n",
    "threshold_types = [cv2.THRESH_BINARY, cv2.THRESH_BINARY_INV, cv2.THRESH_TOZERO, cv2.THRESH_TOZERO_INV, cv2.THRESH_TRUNC]\n",
    "\n",
    "def change_threshold_value(val):\n",
    "    threshold_value = val\n",
    "    ret, thresh = cv2.threshold(img, threshold_value, 255, threshold_type)\n",
    "    cv2.imshow(window_name, thresh)\n",
    "    \n",
    "def change_threshold_type(val):\n",
    "    threshold_type = threshold_types[val]\n",
    "    ret, thresh = cv2.threshold(img, threshold_value, 255, threshold_type)\n",
    "    cv2.imshow(window_name, thresh)\n",
    "    \n",
    "cv2.createTrackbar('Threshold_value', window_name, 0, 255, change_threshold_value)\n",
    "cv2.createTrackbar('Threshold_type', window_name, threshold_type, 5, change_threshold_type)\n",
    "\n",
    "cv2.imshow(window_name, img)\n",
    "cv2.waitKey(0)\n",
    "cv2.destroyAllWindows()\n",
    "cv2.waitKey(1)"
   ]
  },
  {
   "cell_type": "markdown",
   "metadata": {},
   "source": [
    "[Hint](# \"cv2.createTrackbar\") "
   ]
  },
  {
   "cell_type": "code",
   "execution_count": 45,
   "metadata": {
    "ExecuteTime": {
     "end_time": "2021-03-11T18:14:36.234222Z",
     "start_time": "2021-03-11T18:14:35.018891Z"
    },
    "scrolled": false
   },
   "outputs": [
    {
     "data": {
      "text/plain": [
       "-1"
      ]
     },
     "execution_count": 45,
     "metadata": {},
     "output_type": "execute_result"
    }
   ],
   "source": [
    "# Do the same as above but using your webcam image so the trackbars will apply the changes on live image\n",
    "cap = cv2.VideoCapture(0)\n",
    "\n",
    "window_name = 'trackbars' \n",
    "cv2.namedWindow(window_name, cv2.WINDOW_AUTOSIZE)\n",
    "\n",
    "threshold_value = 0\n",
    "threshold_type = cv2.THRESH_BINARY\n",
    "threshold_types = [cv2.THRESH_BINARY, cv2.THRESH_BINARY_INV, cv2.THRESH_TOZERO, cv2.THRESH_TOZERO_INV, cv2.THRESH_TRUNC]\n",
    "\n",
    "def change_threshold_value(val):\n",
    "    ret,frame = cap.read()\n",
    "    threshold_value = val\n",
    "    ret, thresh = cv2.threshold(frame, threshold_value, 255, threshold_type)\n",
    "    cv2.imshow(window_name, thresh)\n",
    "    #cv2.imshow(window_name, frame)\n",
    "    cv2.waitKey(800)\n",
    "    \n",
    "def change_threshold_type(val):\n",
    "    ret,frame = cap.read()\n",
    "    threshold_type = threshold_types[val]\n",
    "    ret, thresh = cv2.threshold(frame, threshold_value, 255, threshold_type)\n",
    "    cv2.imshow(window_name, thresh)\n",
    "    #cv2.imshow(window_name, frame)\n",
    "    cv2.waitKey(800)\n",
    "    \n",
    "cv2.createTrackbar('Threshold_value', window_name, 0, 255, change_threshold_value)\n",
    "cv2.createTrackbar('Threshold_type', window_name, threshold_type, 5, change_threshold_type)\n",
    "\n",
    "cap.release()\n",
    "cv2.destroyAllWindows()\n",
    "cv2.waitKey(1)"
   ]
  },
  {
   "cell_type": "code",
   "execution_count": null,
   "metadata": {},
   "outputs": [],
   "source": []
  }
 ],
 "metadata": {
  "kernelspec": {
   "display_name": "Python 3",
   "language": "python",
   "name": "python3"
  },
  "language_info": {
   "codemirror_mode": {
    "name": "ipython",
    "version": 3
   },
   "file_extension": ".py",
   "mimetype": "text/x-python",
   "name": "python",
   "nbconvert_exporter": "python",
   "pygments_lexer": "ipython3",
   "version": "3.8.5"
  }
 },
 "nbformat": 4,
 "nbformat_minor": 2
}
