{
  "nbformat": 4,
  "nbformat_minor": 0,
  "metadata": {
    "accelerator": "GPU",
    "colab": {
      "name": "transformer_pegasus_paraphrase.ipynb",
      "provenance": [],
      "collapsed_sections": []
    },
    "kernelspec": {
      "display_name": "Python 3",
      "language": "python",
      "name": "python3"
    },
    "language_info": {
      "codemirror_mode": {
        "name": "ipython",
        "version": 3
      },
      "file_extension": ".py",
      "mimetype": "text/x-python",
      "name": "python",
      "nbconvert_exporter": "python",
      "pygments_lexer": "ipython3",
      "version": "3.8.10"
    },
    "widgets": {
      "application/vnd.jupyter.widget-state+json": {
        "50e26409b32f4ea09ccf4488e8313d19": {
          "model_module": "@jupyter-widgets/controls",
          "model_name": "HBoxModel",
          "state": {
            "_view_name": "HBoxView",
            "_dom_classes": [],
            "_model_name": "HBoxModel",
            "_view_module": "@jupyter-widgets/controls",
            "_model_module_version": "1.5.0",
            "_view_count": null,
            "_view_module_version": "1.5.0",
            "box_style": "",
            "layout": "IPY_MODEL_60d09c552aaa4c80b5eeaef46a22e599",
            "_model_module": "@jupyter-widgets/controls",
            "children": [
              "IPY_MODEL_731ebc79349140a2ab8385f294df34ce",
              "IPY_MODEL_a3f6eb45c79543a2bebec250f3aaf4b3"
            ]
          }
        },
        "60d09c552aaa4c80b5eeaef46a22e599": {
          "model_module": "@jupyter-widgets/base",
          "model_name": "LayoutModel",
          "state": {
            "_view_name": "LayoutView",
            "grid_template_rows": null,
            "right": null,
            "justify_content": null,
            "_view_module": "@jupyter-widgets/base",
            "overflow": null,
            "_model_module_version": "1.2.0",
            "_view_count": null,
            "flex_flow": null,
            "width": null,
            "min_width": null,
            "border": null,
            "align_items": null,
            "bottom": null,
            "_model_module": "@jupyter-widgets/base",
            "top": null,
            "grid_column": null,
            "overflow_y": null,
            "overflow_x": null,
            "grid_auto_flow": null,
            "grid_area": null,
            "grid_template_columns": null,
            "flex": null,
            "_model_name": "LayoutModel",
            "justify_items": null,
            "grid_row": null,
            "max_height": null,
            "align_content": null,
            "visibility": null,
            "align_self": null,
            "height": null,
            "min_height": null,
            "padding": null,
            "grid_auto_rows": null,
            "grid_gap": null,
            "max_width": null,
            "order": null,
            "_view_module_version": "1.2.0",
            "grid_template_areas": null,
            "object_position": null,
            "object_fit": null,
            "grid_auto_columns": null,
            "margin": null,
            "display": null,
            "left": null
          }
        },
        "731ebc79349140a2ab8385f294df34ce": {
          "model_module": "@jupyter-widgets/controls",
          "model_name": "FloatProgressModel",
          "state": {
            "_view_name": "ProgressView",
            "style": "IPY_MODEL_0199f1727d504b0c9b92c8b3bc103029",
            "_dom_classes": [],
            "description": "Downloading: 100%",
            "_model_name": "FloatProgressModel",
            "bar_style": "success",
            "max": 1912529,
            "_view_module": "@jupyter-widgets/controls",
            "_model_module_version": "1.5.0",
            "value": 1912529,
            "_view_count": null,
            "_view_module_version": "1.5.0",
            "orientation": "horizontal",
            "min": 0,
            "description_tooltip": null,
            "_model_module": "@jupyter-widgets/controls",
            "layout": "IPY_MODEL_f45585a0fd6c4782a56928155e8b2fe8"
          }
        },
        "a3f6eb45c79543a2bebec250f3aaf4b3": {
          "model_module": "@jupyter-widgets/controls",
          "model_name": "HTMLModel",
          "state": {
            "_view_name": "HTMLView",
            "style": "IPY_MODEL_c0d000f9723d4032950c939c127ef661",
            "_dom_classes": [],
            "description": "",
            "_model_name": "HTMLModel",
            "placeholder": "​",
            "_view_module": "@jupyter-widgets/controls",
            "_model_module_version": "1.5.0",
            "value": " 1.91M/1.91M [00:53&lt;00:00, 35.9kB/s]",
            "_view_count": null,
            "_view_module_version": "1.5.0",
            "description_tooltip": null,
            "_model_module": "@jupyter-widgets/controls",
            "layout": "IPY_MODEL_3a93061660b24544b016175b3b093e77"
          }
        },
        "0199f1727d504b0c9b92c8b3bc103029": {
          "model_module": "@jupyter-widgets/controls",
          "model_name": "ProgressStyleModel",
          "state": {
            "_view_name": "StyleView",
            "_model_name": "ProgressStyleModel",
            "description_width": "initial",
            "_view_module": "@jupyter-widgets/base",
            "_model_module_version": "1.5.0",
            "_view_count": null,
            "_view_module_version": "1.2.0",
            "bar_color": null,
            "_model_module": "@jupyter-widgets/controls"
          }
        },
        "f45585a0fd6c4782a56928155e8b2fe8": {
          "model_module": "@jupyter-widgets/base",
          "model_name": "LayoutModel",
          "state": {
            "_view_name": "LayoutView",
            "grid_template_rows": null,
            "right": null,
            "justify_content": null,
            "_view_module": "@jupyter-widgets/base",
            "overflow": null,
            "_model_module_version": "1.2.0",
            "_view_count": null,
            "flex_flow": null,
            "width": null,
            "min_width": null,
            "border": null,
            "align_items": null,
            "bottom": null,
            "_model_module": "@jupyter-widgets/base",
            "top": null,
            "grid_column": null,
            "overflow_y": null,
            "overflow_x": null,
            "grid_auto_flow": null,
            "grid_area": null,
            "grid_template_columns": null,
            "flex": null,
            "_model_name": "LayoutModel",
            "justify_items": null,
            "grid_row": null,
            "max_height": null,
            "align_content": null,
            "visibility": null,
            "align_self": null,
            "height": null,
            "min_height": null,
            "padding": null,
            "grid_auto_rows": null,
            "grid_gap": null,
            "max_width": null,
            "order": null,
            "_view_module_version": "1.2.0",
            "grid_template_areas": null,
            "object_position": null,
            "object_fit": null,
            "grid_auto_columns": null,
            "margin": null,
            "display": null,
            "left": null
          }
        },
        "c0d000f9723d4032950c939c127ef661": {
          "model_module": "@jupyter-widgets/controls",
          "model_name": "DescriptionStyleModel",
          "state": {
            "_view_name": "StyleView",
            "_model_name": "DescriptionStyleModel",
            "description_width": "",
            "_view_module": "@jupyter-widgets/base",
            "_model_module_version": "1.5.0",
            "_view_count": null,
            "_view_module_version": "1.2.0",
            "_model_module": "@jupyter-widgets/controls"
          }
        },
        "3a93061660b24544b016175b3b093e77": {
          "model_module": "@jupyter-widgets/base",
          "model_name": "LayoutModel",
          "state": {
            "_view_name": "LayoutView",
            "grid_template_rows": null,
            "right": null,
            "justify_content": null,
            "_view_module": "@jupyter-widgets/base",
            "overflow": null,
            "_model_module_version": "1.2.0",
            "_view_count": null,
            "flex_flow": null,
            "width": null,
            "min_width": null,
            "border": null,
            "align_items": null,
            "bottom": null,
            "_model_module": "@jupyter-widgets/base",
            "top": null,
            "grid_column": null,
            "overflow_y": null,
            "overflow_x": null,
            "grid_auto_flow": null,
            "grid_area": null,
            "grid_template_columns": null,
            "flex": null,
            "_model_name": "LayoutModel",
            "justify_items": null,
            "grid_row": null,
            "max_height": null,
            "align_content": null,
            "visibility": null,
            "align_self": null,
            "height": null,
            "min_height": null,
            "padding": null,
            "grid_auto_rows": null,
            "grid_gap": null,
            "max_width": null,
            "order": null,
            "_view_module_version": "1.2.0",
            "grid_template_areas": null,
            "object_position": null,
            "object_fit": null,
            "grid_auto_columns": null,
            "margin": null,
            "display": null,
            "left": null
          }
        },
        "769c2a1cb3e64e989a1fcd7fb54625e9": {
          "model_module": "@jupyter-widgets/controls",
          "model_name": "HBoxModel",
          "state": {
            "_view_name": "HBoxView",
            "_dom_classes": [],
            "_model_name": "HBoxModel",
            "_view_module": "@jupyter-widgets/controls",
            "_model_module_version": "1.5.0",
            "_view_count": null,
            "_view_module_version": "1.5.0",
            "box_style": "",
            "layout": "IPY_MODEL_863f69bb7aff45e3a09572ea100f9738",
            "_model_module": "@jupyter-widgets/controls",
            "children": [
              "IPY_MODEL_40f86284e8ba494e8d2f3ce3a3012a72",
              "IPY_MODEL_7b38de5545a44c7d9ad789bcc7470972"
            ]
          }
        },
        "863f69bb7aff45e3a09572ea100f9738": {
          "model_module": "@jupyter-widgets/base",
          "model_name": "LayoutModel",
          "state": {
            "_view_name": "LayoutView",
            "grid_template_rows": null,
            "right": null,
            "justify_content": null,
            "_view_module": "@jupyter-widgets/base",
            "overflow": null,
            "_model_module_version": "1.2.0",
            "_view_count": null,
            "flex_flow": null,
            "width": null,
            "min_width": null,
            "border": null,
            "align_items": null,
            "bottom": null,
            "_model_module": "@jupyter-widgets/base",
            "top": null,
            "grid_column": null,
            "overflow_y": null,
            "overflow_x": null,
            "grid_auto_flow": null,
            "grid_area": null,
            "grid_template_columns": null,
            "flex": null,
            "_model_name": "LayoutModel",
            "justify_items": null,
            "grid_row": null,
            "max_height": null,
            "align_content": null,
            "visibility": null,
            "align_self": null,
            "height": null,
            "min_height": null,
            "padding": null,
            "grid_auto_rows": null,
            "grid_gap": null,
            "max_width": null,
            "order": null,
            "_view_module_version": "1.2.0",
            "grid_template_areas": null,
            "object_position": null,
            "object_fit": null,
            "grid_auto_columns": null,
            "margin": null,
            "display": null,
            "left": null
          }
        },
        "40f86284e8ba494e8d2f3ce3a3012a72": {
          "model_module": "@jupyter-widgets/controls",
          "model_name": "FloatProgressModel",
          "state": {
            "_view_name": "ProgressView",
            "style": "IPY_MODEL_5e4e5a2c7b2541578a1c7c97032df5c8",
            "_dom_classes": [],
            "description": "Downloading: 100%",
            "_model_name": "FloatProgressModel",
            "bar_style": "success",
            "max": 65,
            "_view_module": "@jupyter-widgets/controls",
            "_model_module_version": "1.5.0",
            "value": 65,
            "_view_count": null,
            "_view_module_version": "1.5.0",
            "orientation": "horizontal",
            "min": 0,
            "description_tooltip": null,
            "_model_module": "@jupyter-widgets/controls",
            "layout": "IPY_MODEL_b172a43b534e4967b2368783a1f27aae"
          }
        },
        "7b38de5545a44c7d9ad789bcc7470972": {
          "model_module": "@jupyter-widgets/controls",
          "model_name": "HTMLModel",
          "state": {
            "_view_name": "HTMLView",
            "style": "IPY_MODEL_6213748dd4ef4b36826cf4c725dcc3f3",
            "_dom_classes": [],
            "description": "",
            "_model_name": "HTMLModel",
            "placeholder": "​",
            "_view_module": "@jupyter-widgets/controls",
            "_model_module_version": "1.5.0",
            "value": " 65.0/65.0 [00:00&lt;00:00, 186B/s]",
            "_view_count": null,
            "_view_module_version": "1.5.0",
            "description_tooltip": null,
            "_model_module": "@jupyter-widgets/controls",
            "layout": "IPY_MODEL_40e291f0e5b745a99cafedc0bd7212bc"
          }
        },
        "5e4e5a2c7b2541578a1c7c97032df5c8": {
          "model_module": "@jupyter-widgets/controls",
          "model_name": "ProgressStyleModel",
          "state": {
            "_view_name": "StyleView",
            "_model_name": "ProgressStyleModel",
            "description_width": "initial",
            "_view_module": "@jupyter-widgets/base",
            "_model_module_version": "1.5.0",
            "_view_count": null,
            "_view_module_version": "1.2.0",
            "bar_color": null,
            "_model_module": "@jupyter-widgets/controls"
          }
        },
        "b172a43b534e4967b2368783a1f27aae": {
          "model_module": "@jupyter-widgets/base",
          "model_name": "LayoutModel",
          "state": {
            "_view_name": "LayoutView",
            "grid_template_rows": null,
            "right": null,
            "justify_content": null,
            "_view_module": "@jupyter-widgets/base",
            "overflow": null,
            "_model_module_version": "1.2.0",
            "_view_count": null,
            "flex_flow": null,
            "width": null,
            "min_width": null,
            "border": null,
            "align_items": null,
            "bottom": null,
            "_model_module": "@jupyter-widgets/base",
            "top": null,
            "grid_column": null,
            "overflow_y": null,
            "overflow_x": null,
            "grid_auto_flow": null,
            "grid_area": null,
            "grid_template_columns": null,
            "flex": null,
            "_model_name": "LayoutModel",
            "justify_items": null,
            "grid_row": null,
            "max_height": null,
            "align_content": null,
            "visibility": null,
            "align_self": null,
            "height": null,
            "min_height": null,
            "padding": null,
            "grid_auto_rows": null,
            "grid_gap": null,
            "max_width": null,
            "order": null,
            "_view_module_version": "1.2.0",
            "grid_template_areas": null,
            "object_position": null,
            "object_fit": null,
            "grid_auto_columns": null,
            "margin": null,
            "display": null,
            "left": null
          }
        },
        "6213748dd4ef4b36826cf4c725dcc3f3": {
          "model_module": "@jupyter-widgets/controls",
          "model_name": "DescriptionStyleModel",
          "state": {
            "_view_name": "StyleView",
            "_model_name": "DescriptionStyleModel",
            "description_width": "",
            "_view_module": "@jupyter-widgets/base",
            "_model_module_version": "1.5.0",
            "_view_count": null,
            "_view_module_version": "1.2.0",
            "_model_module": "@jupyter-widgets/controls"
          }
        },
        "40e291f0e5b745a99cafedc0bd7212bc": {
          "model_module": "@jupyter-widgets/base",
          "model_name": "LayoutModel",
          "state": {
            "_view_name": "LayoutView",
            "grid_template_rows": null,
            "right": null,
            "justify_content": null,
            "_view_module": "@jupyter-widgets/base",
            "overflow": null,
            "_model_module_version": "1.2.0",
            "_view_count": null,
            "flex_flow": null,
            "width": null,
            "min_width": null,
            "border": null,
            "align_items": null,
            "bottom": null,
            "_model_module": "@jupyter-widgets/base",
            "top": null,
            "grid_column": null,
            "overflow_y": null,
            "overflow_x": null,
            "grid_auto_flow": null,
            "grid_area": null,
            "grid_template_columns": null,
            "flex": null,
            "_model_name": "LayoutModel",
            "justify_items": null,
            "grid_row": null,
            "max_height": null,
            "align_content": null,
            "visibility": null,
            "align_self": null,
            "height": null,
            "min_height": null,
            "padding": null,
            "grid_auto_rows": null,
            "grid_gap": null,
            "max_width": null,
            "order": null,
            "_view_module_version": "1.2.0",
            "grid_template_areas": null,
            "object_position": null,
            "object_fit": null,
            "grid_auto_columns": null,
            "margin": null,
            "display": null,
            "left": null
          }
        },
        "c9ef1ab83e824e1191ea8de73b3bd44a": {
          "model_module": "@jupyter-widgets/controls",
          "model_name": "HBoxModel",
          "state": {
            "_view_name": "HBoxView",
            "_dom_classes": [],
            "_model_name": "HBoxModel",
            "_view_module": "@jupyter-widgets/controls",
            "_model_module_version": "1.5.0",
            "_view_count": null,
            "_view_module_version": "1.5.0",
            "box_style": "",
            "layout": "IPY_MODEL_5e18c116e96c4960922d123072a3ef57",
            "_model_module": "@jupyter-widgets/controls",
            "children": [
              "IPY_MODEL_dae69a7ecf014aadae5a7b6d24c7edf3",
              "IPY_MODEL_fc8308997d3a41088fa1bc0a5ddc9278"
            ]
          }
        },
        "5e18c116e96c4960922d123072a3ef57": {
          "model_module": "@jupyter-widgets/base",
          "model_name": "LayoutModel",
          "state": {
            "_view_name": "LayoutView",
            "grid_template_rows": null,
            "right": null,
            "justify_content": null,
            "_view_module": "@jupyter-widgets/base",
            "overflow": null,
            "_model_module_version": "1.2.0",
            "_view_count": null,
            "flex_flow": null,
            "width": null,
            "min_width": null,
            "border": null,
            "align_items": null,
            "bottom": null,
            "_model_module": "@jupyter-widgets/base",
            "top": null,
            "grid_column": null,
            "overflow_y": null,
            "overflow_x": null,
            "grid_auto_flow": null,
            "grid_area": null,
            "grid_template_columns": null,
            "flex": null,
            "_model_name": "LayoutModel",
            "justify_items": null,
            "grid_row": null,
            "max_height": null,
            "align_content": null,
            "visibility": null,
            "align_self": null,
            "height": null,
            "min_height": null,
            "padding": null,
            "grid_auto_rows": null,
            "grid_gap": null,
            "max_width": null,
            "order": null,
            "_view_module_version": "1.2.0",
            "grid_template_areas": null,
            "object_position": null,
            "object_fit": null,
            "grid_auto_columns": null,
            "margin": null,
            "display": null,
            "left": null
          }
        },
        "dae69a7ecf014aadae5a7b6d24c7edf3": {
          "model_module": "@jupyter-widgets/controls",
          "model_name": "FloatProgressModel",
          "state": {
            "_view_name": "ProgressView",
            "style": "IPY_MODEL_56ede24961e14c319500f69edd2b0065",
            "_dom_classes": [],
            "description": "Downloading: 100%",
            "_model_name": "FloatProgressModel",
            "bar_style": "success",
            "max": 86,
            "_view_module": "@jupyter-widgets/controls",
            "_model_module_version": "1.5.0",
            "value": 86,
            "_view_count": null,
            "_view_module_version": "1.5.0",
            "orientation": "horizontal",
            "min": 0,
            "description_tooltip": null,
            "_model_module": "@jupyter-widgets/controls",
            "layout": "IPY_MODEL_11ad1a8b1a1749e2af87eab9c1a95295"
          }
        },
        "fc8308997d3a41088fa1bc0a5ddc9278": {
          "model_module": "@jupyter-widgets/controls",
          "model_name": "HTMLModel",
          "state": {
            "_view_name": "HTMLView",
            "style": "IPY_MODEL_3db92a525b7b49529a1c07a7824b00e3",
            "_dom_classes": [],
            "description": "",
            "_model_name": "HTMLModel",
            "placeholder": "​",
            "_view_module": "@jupyter-widgets/controls",
            "_model_module_version": "1.5.0",
            "value": " 86.0/86.0 [00:00&lt;00:00, 334B/s]",
            "_view_count": null,
            "_view_module_version": "1.5.0",
            "description_tooltip": null,
            "_model_module": "@jupyter-widgets/controls",
            "layout": "IPY_MODEL_9c449ca99dd2470bacf608628c0beef1"
          }
        },
        "56ede24961e14c319500f69edd2b0065": {
          "model_module": "@jupyter-widgets/controls",
          "model_name": "ProgressStyleModel",
          "state": {
            "_view_name": "StyleView",
            "_model_name": "ProgressStyleModel",
            "description_width": "initial",
            "_view_module": "@jupyter-widgets/base",
            "_model_module_version": "1.5.0",
            "_view_count": null,
            "_view_module_version": "1.2.0",
            "bar_color": null,
            "_model_module": "@jupyter-widgets/controls"
          }
        },
        "11ad1a8b1a1749e2af87eab9c1a95295": {
          "model_module": "@jupyter-widgets/base",
          "model_name": "LayoutModel",
          "state": {
            "_view_name": "LayoutView",
            "grid_template_rows": null,
            "right": null,
            "justify_content": null,
            "_view_module": "@jupyter-widgets/base",
            "overflow": null,
            "_model_module_version": "1.2.0",
            "_view_count": null,
            "flex_flow": null,
            "width": null,
            "min_width": null,
            "border": null,
            "align_items": null,
            "bottom": null,
            "_model_module": "@jupyter-widgets/base",
            "top": null,
            "grid_column": null,
            "overflow_y": null,
            "overflow_x": null,
            "grid_auto_flow": null,
            "grid_area": null,
            "grid_template_columns": null,
            "flex": null,
            "_model_name": "LayoutModel",
            "justify_items": null,
            "grid_row": null,
            "max_height": null,
            "align_content": null,
            "visibility": null,
            "align_self": null,
            "height": null,
            "min_height": null,
            "padding": null,
            "grid_auto_rows": null,
            "grid_gap": null,
            "max_width": null,
            "order": null,
            "_view_module_version": "1.2.0",
            "grid_template_areas": null,
            "object_position": null,
            "object_fit": null,
            "grid_auto_columns": null,
            "margin": null,
            "display": null,
            "left": null
          }
        },
        "3db92a525b7b49529a1c07a7824b00e3": {
          "model_module": "@jupyter-widgets/controls",
          "model_name": "DescriptionStyleModel",
          "state": {
            "_view_name": "StyleView",
            "_model_name": "DescriptionStyleModel",
            "description_width": "",
            "_view_module": "@jupyter-widgets/base",
            "_model_module_version": "1.5.0",
            "_view_count": null,
            "_view_module_version": "1.2.0",
            "_model_module": "@jupyter-widgets/controls"
          }
        },
        "9c449ca99dd2470bacf608628c0beef1": {
          "model_module": "@jupyter-widgets/base",
          "model_name": "LayoutModel",
          "state": {
            "_view_name": "LayoutView",
            "grid_template_rows": null,
            "right": null,
            "justify_content": null,
            "_view_module": "@jupyter-widgets/base",
            "overflow": null,
            "_model_module_version": "1.2.0",
            "_view_count": null,
            "flex_flow": null,
            "width": null,
            "min_width": null,
            "border": null,
            "align_items": null,
            "bottom": null,
            "_model_module": "@jupyter-widgets/base",
            "top": null,
            "grid_column": null,
            "overflow_y": null,
            "overflow_x": null,
            "grid_auto_flow": null,
            "grid_area": null,
            "grid_template_columns": null,
            "flex": null,
            "_model_name": "LayoutModel",
            "justify_items": null,
            "grid_row": null,
            "max_height": null,
            "align_content": null,
            "visibility": null,
            "align_self": null,
            "height": null,
            "min_height": null,
            "padding": null,
            "grid_auto_rows": null,
            "grid_gap": null,
            "max_width": null,
            "order": null,
            "_view_module_version": "1.2.0",
            "grid_template_areas": null,
            "object_position": null,
            "object_fit": null,
            "grid_auto_columns": null,
            "margin": null,
            "display": null,
            "left": null
          }
        },
        "21b38a62b40347c28a28b4c9ca20176d": {
          "model_module": "@jupyter-widgets/controls",
          "model_name": "HBoxModel",
          "state": {
            "_view_name": "HBoxView",
            "_dom_classes": [],
            "_model_name": "HBoxModel",
            "_view_module": "@jupyter-widgets/controls",
            "_model_module_version": "1.5.0",
            "_view_count": null,
            "_view_module_version": "1.5.0",
            "box_style": "",
            "layout": "IPY_MODEL_f200c66d2548471bb836efbd1858e62d",
            "_model_module": "@jupyter-widgets/controls",
            "children": [
              "IPY_MODEL_ccda688b9c00425a966f401145bc3c60",
              "IPY_MODEL_2001df82502c4dbf8482b32c30a095cc"
            ]
          }
        },
        "f200c66d2548471bb836efbd1858e62d": {
          "model_module": "@jupyter-widgets/base",
          "model_name": "LayoutModel",
          "state": {
            "_view_name": "LayoutView",
            "grid_template_rows": null,
            "right": null,
            "justify_content": null,
            "_view_module": "@jupyter-widgets/base",
            "overflow": null,
            "_model_module_version": "1.2.0",
            "_view_count": null,
            "flex_flow": null,
            "width": null,
            "min_width": null,
            "border": null,
            "align_items": null,
            "bottom": null,
            "_model_module": "@jupyter-widgets/base",
            "top": null,
            "grid_column": null,
            "overflow_y": null,
            "overflow_x": null,
            "grid_auto_flow": null,
            "grid_area": null,
            "grid_template_columns": null,
            "flex": null,
            "_model_name": "LayoutModel",
            "justify_items": null,
            "grid_row": null,
            "max_height": null,
            "align_content": null,
            "visibility": null,
            "align_self": null,
            "height": null,
            "min_height": null,
            "padding": null,
            "grid_auto_rows": null,
            "grid_gap": null,
            "max_width": null,
            "order": null,
            "_view_module_version": "1.2.0",
            "grid_template_areas": null,
            "object_position": null,
            "object_fit": null,
            "grid_auto_columns": null,
            "margin": null,
            "display": null,
            "left": null
          }
        },
        "ccda688b9c00425a966f401145bc3c60": {
          "model_module": "@jupyter-widgets/controls",
          "model_name": "FloatProgressModel",
          "state": {
            "_view_name": "ProgressView",
            "style": "IPY_MODEL_c40b4d5ec2ed4cafbdeffba73a8345aa",
            "_dom_classes": [],
            "description": "Downloading: 100%",
            "_model_name": "FloatProgressModel",
            "bar_style": "success",
            "max": 1142,
            "_view_module": "@jupyter-widgets/controls",
            "_model_module_version": "1.5.0",
            "value": 1142,
            "_view_count": null,
            "_view_module_version": "1.5.0",
            "orientation": "horizontal",
            "min": 0,
            "description_tooltip": null,
            "_model_module": "@jupyter-widgets/controls",
            "layout": "IPY_MODEL_9e370657d1ef405d86d88b166954a3e3"
          }
        },
        "2001df82502c4dbf8482b32c30a095cc": {
          "model_module": "@jupyter-widgets/controls",
          "model_name": "HTMLModel",
          "state": {
            "_view_name": "HTMLView",
            "style": "IPY_MODEL_5d7f41aeeba74a97b721b592d73d785a",
            "_dom_classes": [],
            "description": "",
            "_model_name": "HTMLModel",
            "placeholder": "​",
            "_view_module": "@jupyter-widgets/controls",
            "_model_module_version": "1.5.0",
            "value": " 1.14k/1.14k [00:52&lt;00:00, 21.6B/s]",
            "_view_count": null,
            "_view_module_version": "1.5.0",
            "description_tooltip": null,
            "_model_module": "@jupyter-widgets/controls",
            "layout": "IPY_MODEL_eb8f1de74efd4d69aba1a816bea64748"
          }
        },
        "c40b4d5ec2ed4cafbdeffba73a8345aa": {
          "model_module": "@jupyter-widgets/controls",
          "model_name": "ProgressStyleModel",
          "state": {
            "_view_name": "StyleView",
            "_model_name": "ProgressStyleModel",
            "description_width": "initial",
            "_view_module": "@jupyter-widgets/base",
            "_model_module_version": "1.5.0",
            "_view_count": null,
            "_view_module_version": "1.2.0",
            "bar_color": null,
            "_model_module": "@jupyter-widgets/controls"
          }
        },
        "9e370657d1ef405d86d88b166954a3e3": {
          "model_module": "@jupyter-widgets/base",
          "model_name": "LayoutModel",
          "state": {
            "_view_name": "LayoutView",
            "grid_template_rows": null,
            "right": null,
            "justify_content": null,
            "_view_module": "@jupyter-widgets/base",
            "overflow": null,
            "_model_module_version": "1.2.0",
            "_view_count": null,
            "flex_flow": null,
            "width": null,
            "min_width": null,
            "border": null,
            "align_items": null,
            "bottom": null,
            "_model_module": "@jupyter-widgets/base",
            "top": null,
            "grid_column": null,
            "overflow_y": null,
            "overflow_x": null,
            "grid_auto_flow": null,
            "grid_area": null,
            "grid_template_columns": null,
            "flex": null,
            "_model_name": "LayoutModel",
            "justify_items": null,
            "grid_row": null,
            "max_height": null,
            "align_content": null,
            "visibility": null,
            "align_self": null,
            "height": null,
            "min_height": null,
            "padding": null,
            "grid_auto_rows": null,
            "grid_gap": null,
            "max_width": null,
            "order": null,
            "_view_module_version": "1.2.0",
            "grid_template_areas": null,
            "object_position": null,
            "object_fit": null,
            "grid_auto_columns": null,
            "margin": null,
            "display": null,
            "left": null
          }
        },
        "5d7f41aeeba74a97b721b592d73d785a": {
          "model_module": "@jupyter-widgets/controls",
          "model_name": "DescriptionStyleModel",
          "state": {
            "_view_name": "StyleView",
            "_model_name": "DescriptionStyleModel",
            "description_width": "",
            "_view_module": "@jupyter-widgets/base",
            "_model_module_version": "1.5.0",
            "_view_count": null,
            "_view_module_version": "1.2.0",
            "_model_module": "@jupyter-widgets/controls"
          }
        },
        "eb8f1de74efd4d69aba1a816bea64748": {
          "model_module": "@jupyter-widgets/base",
          "model_name": "LayoutModel",
          "state": {
            "_view_name": "LayoutView",
            "grid_template_rows": null,
            "right": null,
            "justify_content": null,
            "_view_module": "@jupyter-widgets/base",
            "overflow": null,
            "_model_module_version": "1.2.0",
            "_view_count": null,
            "flex_flow": null,
            "width": null,
            "min_width": null,
            "border": null,
            "align_items": null,
            "bottom": null,
            "_model_module": "@jupyter-widgets/base",
            "top": null,
            "grid_column": null,
            "overflow_y": null,
            "overflow_x": null,
            "grid_auto_flow": null,
            "grid_area": null,
            "grid_template_columns": null,
            "flex": null,
            "_model_name": "LayoutModel",
            "justify_items": null,
            "grid_row": null,
            "max_height": null,
            "align_content": null,
            "visibility": null,
            "align_self": null,
            "height": null,
            "min_height": null,
            "padding": null,
            "grid_auto_rows": null,
            "grid_gap": null,
            "max_width": null,
            "order": null,
            "_view_module_version": "1.2.0",
            "grid_template_areas": null,
            "object_position": null,
            "object_fit": null,
            "grid_auto_columns": null,
            "margin": null,
            "display": null,
            "left": null
          }
        },
        "2520c09aa8d2418b836751b1188d9724": {
          "model_module": "@jupyter-widgets/controls",
          "model_name": "HBoxModel",
          "state": {
            "_view_name": "HBoxView",
            "_dom_classes": [],
            "_model_name": "HBoxModel",
            "_view_module": "@jupyter-widgets/controls",
            "_model_module_version": "1.5.0",
            "_view_count": null,
            "_view_module_version": "1.5.0",
            "box_style": "",
            "layout": "IPY_MODEL_2d76000242a34a798eac2aa9312aaaa3",
            "_model_module": "@jupyter-widgets/controls",
            "children": [
              "IPY_MODEL_c01580d4d189451fb05a2e87ea35450f",
              "IPY_MODEL_403019833d8b4d9c95d343e5a0d57ff4"
            ]
          }
        },
        "2d76000242a34a798eac2aa9312aaaa3": {
          "model_module": "@jupyter-widgets/base",
          "model_name": "LayoutModel",
          "state": {
            "_view_name": "LayoutView",
            "grid_template_rows": null,
            "right": null,
            "justify_content": null,
            "_view_module": "@jupyter-widgets/base",
            "overflow": null,
            "_model_module_version": "1.2.0",
            "_view_count": null,
            "flex_flow": null,
            "width": null,
            "min_width": null,
            "border": null,
            "align_items": null,
            "bottom": null,
            "_model_module": "@jupyter-widgets/base",
            "top": null,
            "grid_column": null,
            "overflow_y": null,
            "overflow_x": null,
            "grid_auto_flow": null,
            "grid_area": null,
            "grid_template_columns": null,
            "flex": null,
            "_model_name": "LayoutModel",
            "justify_items": null,
            "grid_row": null,
            "max_height": null,
            "align_content": null,
            "visibility": null,
            "align_self": null,
            "height": null,
            "min_height": null,
            "padding": null,
            "grid_auto_rows": null,
            "grid_gap": null,
            "max_width": null,
            "order": null,
            "_view_module_version": "1.2.0",
            "grid_template_areas": null,
            "object_position": null,
            "object_fit": null,
            "grid_auto_columns": null,
            "margin": null,
            "display": null,
            "left": null
          }
        },
        "c01580d4d189451fb05a2e87ea35450f": {
          "model_module": "@jupyter-widgets/controls",
          "model_name": "FloatProgressModel",
          "state": {
            "_view_name": "ProgressView",
            "style": "IPY_MODEL_1f56bcd7cb9a43988d629384d61c9329",
            "_dom_classes": [],
            "description": "Downloading: 100%",
            "_model_name": "FloatProgressModel",
            "bar_style": "success",
            "max": 2275437102,
            "_view_module": "@jupyter-widgets/controls",
            "_model_module_version": "1.5.0",
            "value": 2275437102,
            "_view_count": null,
            "_view_module_version": "1.5.0",
            "orientation": "horizontal",
            "min": 0,
            "description_tooltip": null,
            "_model_module": "@jupyter-widgets/controls",
            "layout": "IPY_MODEL_3c1447eae1d94a0d88a40cb8c54da0da"
          }
        },
        "403019833d8b4d9c95d343e5a0d57ff4": {
          "model_module": "@jupyter-widgets/controls",
          "model_name": "HTMLModel",
          "state": {
            "_view_name": "HTMLView",
            "style": "IPY_MODEL_90589f7bc8c44d5a9ea9d943daa3e3f1",
            "_dom_classes": [],
            "description": "",
            "_model_name": "HTMLModel",
            "placeholder": "​",
            "_view_module": "@jupyter-widgets/controls",
            "_model_module_version": "1.5.0",
            "value": " 2.28G/2.28G [00:47&lt;00:00, 47.5MB/s]",
            "_view_count": null,
            "_view_module_version": "1.5.0",
            "description_tooltip": null,
            "_model_module": "@jupyter-widgets/controls",
            "layout": "IPY_MODEL_70ff10f395e2456395531d383b70ab9d"
          }
        },
        "1f56bcd7cb9a43988d629384d61c9329": {
          "model_module": "@jupyter-widgets/controls",
          "model_name": "ProgressStyleModel",
          "state": {
            "_view_name": "StyleView",
            "_model_name": "ProgressStyleModel",
            "description_width": "initial",
            "_view_module": "@jupyter-widgets/base",
            "_model_module_version": "1.5.0",
            "_view_count": null,
            "_view_module_version": "1.2.0",
            "bar_color": null,
            "_model_module": "@jupyter-widgets/controls"
          }
        },
        "3c1447eae1d94a0d88a40cb8c54da0da": {
          "model_module": "@jupyter-widgets/base",
          "model_name": "LayoutModel",
          "state": {
            "_view_name": "LayoutView",
            "grid_template_rows": null,
            "right": null,
            "justify_content": null,
            "_view_module": "@jupyter-widgets/base",
            "overflow": null,
            "_model_module_version": "1.2.0",
            "_view_count": null,
            "flex_flow": null,
            "width": null,
            "min_width": null,
            "border": null,
            "align_items": null,
            "bottom": null,
            "_model_module": "@jupyter-widgets/base",
            "top": null,
            "grid_column": null,
            "overflow_y": null,
            "overflow_x": null,
            "grid_auto_flow": null,
            "grid_area": null,
            "grid_template_columns": null,
            "flex": null,
            "_model_name": "LayoutModel",
            "justify_items": null,
            "grid_row": null,
            "max_height": null,
            "align_content": null,
            "visibility": null,
            "align_self": null,
            "height": null,
            "min_height": null,
            "padding": null,
            "grid_auto_rows": null,
            "grid_gap": null,
            "max_width": null,
            "order": null,
            "_view_module_version": "1.2.0",
            "grid_template_areas": null,
            "object_position": null,
            "object_fit": null,
            "grid_auto_columns": null,
            "margin": null,
            "display": null,
            "left": null
          }
        },
        "90589f7bc8c44d5a9ea9d943daa3e3f1": {
          "model_module": "@jupyter-widgets/controls",
          "model_name": "DescriptionStyleModel",
          "state": {
            "_view_name": "StyleView",
            "_model_name": "DescriptionStyleModel",
            "description_width": "",
            "_view_module": "@jupyter-widgets/base",
            "_model_module_version": "1.5.0",
            "_view_count": null,
            "_view_module_version": "1.2.0",
            "_model_module": "@jupyter-widgets/controls"
          }
        },
        "70ff10f395e2456395531d383b70ab9d": {
          "model_module": "@jupyter-widgets/base",
          "model_name": "LayoutModel",
          "state": {
            "_view_name": "LayoutView",
            "grid_template_rows": null,
            "right": null,
            "justify_content": null,
            "_view_module": "@jupyter-widgets/base",
            "overflow": null,
            "_model_module_version": "1.2.0",
            "_view_count": null,
            "flex_flow": null,
            "width": null,
            "min_width": null,
            "border": null,
            "align_items": null,
            "bottom": null,
            "_model_module": "@jupyter-widgets/base",
            "top": null,
            "grid_column": null,
            "overflow_y": null,
            "overflow_x": null,
            "grid_auto_flow": null,
            "grid_area": null,
            "grid_template_columns": null,
            "flex": null,
            "_model_name": "LayoutModel",
            "justify_items": null,
            "grid_row": null,
            "max_height": null,
            "align_content": null,
            "visibility": null,
            "align_self": null,
            "height": null,
            "min_height": null,
            "padding": null,
            "grid_auto_rows": null,
            "grid_gap": null,
            "max_width": null,
            "order": null,
            "_view_module_version": "1.2.0",
            "grid_template_areas": null,
            "object_position": null,
            "object_fit": null,
            "grid_auto_columns": null,
            "margin": null,
            "display": null,
            "left": null
          }
        }
      }
    }
  },
  "cells": [
    {
      "cell_type": "code",
      "metadata": {
        "ExecuteTime": {
          "end_time": "2021-05-24T19:50:11.205364Z",
          "start_time": "2021-05-24T19:50:06.387645Z"
        },
        "colab": {
          "base_uri": "https://localhost:8080/"
        },
        "id": "a3VswpH3ftGo",
        "outputId": "a613d1b4-2151-4e52-84bf-c456b62580bf"
      },
      "source": [
        "! pip install sentence-splitter"
      ],
      "execution_count": 1,
      "outputs": [
        {
          "output_type": "stream",
          "text": [
            "Collecting sentence-splitter\n",
            "\u001b[?25l  Downloading https://files.pythonhosted.org/packages/4a/ae/3bd609c760d57849d7ddf223762f1881f3c4df6467f4eadb3a33652b7e0d/sentence_splitter-1.4-py2.py3-none-any.whl (44kB)\n",
            "\r\u001b[K     |███████▎                        | 10kB 20.8MB/s eta 0:00:01\r\u001b[K     |██████████████▋                 | 20kB 28.4MB/s eta 0:00:01\r\u001b[K     |█████████████████████▉          | 30kB 32.6MB/s eta 0:00:01\r\u001b[K     |█████████████████████████████▏  | 40kB 28.5MB/s eta 0:00:01\r\u001b[K     |████████████████████████████████| 51kB 7.9MB/s \n",
            "\u001b[?25hRequirement already satisfied: regex>=2017.12.12 in /usr/local/lib/python3.7/dist-packages (from sentence-splitter) (2019.12.20)\n",
            "Installing collected packages: sentence-splitter\n",
            "Successfully installed sentence-splitter-1.4\n"
          ],
          "name": "stdout"
        }
      ]
    },
    {
      "cell_type": "code",
      "metadata": {
        "ExecuteTime": {
          "end_time": "2021-05-24T19:50:12.961179Z",
          "start_time": "2021-05-24T19:50:11.211723Z"
        },
        "colab": {
          "base_uri": "https://localhost:8080/"
        },
        "id": "asu-lhsoV1KZ",
        "outputId": "c6189467-468f-4c28-ab98-464708cceea5"
      },
      "source": [
        "! pip install transformers"
      ],
      "execution_count": 2,
      "outputs": [
        {
          "output_type": "stream",
          "text": [
            "Collecting transformers\n",
            "\u001b[?25l  Downloading https://files.pythonhosted.org/packages/d5/43/cfe4ee779bbd6a678ac6a97c5a5cdeb03c35f9eaebbb9720b036680f9a2d/transformers-4.6.1-py3-none-any.whl (2.2MB)\n",
            "\r\u001b[K     |▏                               | 10kB 24.4MB/s eta 0:00:01\r\u001b[K     |▎                               | 20kB 31.1MB/s eta 0:00:01\r\u001b[K     |▍                               | 30kB 35.8MB/s eta 0:00:01\r\u001b[K     |▋                               | 40kB 32.0MB/s eta 0:00:01\r\u001b[K     |▊                               | 51kB 34.2MB/s eta 0:00:01\r\u001b[K     |▉                               | 61kB 35.2MB/s eta 0:00:01\r\u001b[K     |█                               | 71kB 28.1MB/s eta 0:00:01\r\u001b[K     |█▏                              | 81kB 29.0MB/s eta 0:00:01\r\u001b[K     |█▎                              | 92kB 30.7MB/s eta 0:00:01\r\u001b[K     |█▌                              | 102kB 31.8MB/s eta 0:00:01\r\u001b[K     |█▋                              | 112kB 31.8MB/s eta 0:00:01\r\u001b[K     |█▊                              | 122kB 31.8MB/s eta 0:00:01\r\u001b[K     |██                              | 133kB 31.8MB/s eta 0:00:01\r\u001b[K     |██                              | 143kB 31.8MB/s eta 0:00:01\r\u001b[K     |██▏                             | 153kB 31.8MB/s eta 0:00:01\r\u001b[K     |██▎                             | 163kB 31.8MB/s eta 0:00:01\r\u001b[K     |██▌                             | 174kB 31.8MB/s eta 0:00:01\r\u001b[K     |██▋                             | 184kB 31.8MB/s eta 0:00:01\r\u001b[K     |██▊                             | 194kB 31.8MB/s eta 0:00:01\r\u001b[K     |███                             | 204kB 31.8MB/s eta 0:00:01\r\u001b[K     |███                             | 215kB 31.8MB/s eta 0:00:01\r\u001b[K     |███▏                            | 225kB 31.8MB/s eta 0:00:01\r\u001b[K     |███▍                            | 235kB 31.8MB/s eta 0:00:01\r\u001b[K     |███▌                            | 245kB 31.8MB/s eta 0:00:01\r\u001b[K     |███▋                            | 256kB 31.8MB/s eta 0:00:01\r\u001b[K     |███▉                            | 266kB 31.8MB/s eta 0:00:01\r\u001b[K     |████                            | 276kB 31.8MB/s eta 0:00:01\r\u001b[K     |████                            | 286kB 31.8MB/s eta 0:00:01\r\u001b[K     |████▎                           | 296kB 31.8MB/s eta 0:00:01\r\u001b[K     |████▍                           | 307kB 31.8MB/s eta 0:00:01\r\u001b[K     |████▌                           | 317kB 31.8MB/s eta 0:00:01\r\u001b[K     |████▋                           | 327kB 31.8MB/s eta 0:00:01\r\u001b[K     |████▉                           | 337kB 31.8MB/s eta 0:00:01\r\u001b[K     |█████                           | 348kB 31.8MB/s eta 0:00:01\r\u001b[K     |█████                           | 358kB 31.8MB/s eta 0:00:01\r\u001b[K     |█████▎                          | 368kB 31.8MB/s eta 0:00:01\r\u001b[K     |█████▍                          | 378kB 31.8MB/s eta 0:00:01\r\u001b[K     |█████▌                          | 389kB 31.8MB/s eta 0:00:01\r\u001b[K     |█████▊                          | 399kB 31.8MB/s eta 0:00:01\r\u001b[K     |█████▉                          | 409kB 31.8MB/s eta 0:00:01\r\u001b[K     |██████                          | 419kB 31.8MB/s eta 0:00:01\r\u001b[K     |██████▏                         | 430kB 31.8MB/s eta 0:00:01\r\u001b[K     |██████▎                         | 440kB 31.8MB/s eta 0:00:01\r\u001b[K     |██████▍                         | 450kB 31.8MB/s eta 0:00:01\r\u001b[K     |██████▌                         | 460kB 31.8MB/s eta 0:00:01\r\u001b[K     |██████▊                         | 471kB 31.8MB/s eta 0:00:01\r\u001b[K     |██████▉                         | 481kB 31.8MB/s eta 0:00:01\r\u001b[K     |███████                         | 491kB 31.8MB/s eta 0:00:01\r\u001b[K     |███████▏                        | 501kB 31.8MB/s eta 0:00:01\r\u001b[K     |███████▎                        | 512kB 31.8MB/s eta 0:00:01\r\u001b[K     |███████▍                        | 522kB 31.8MB/s eta 0:00:01\r\u001b[K     |███████▋                        | 532kB 31.8MB/s eta 0:00:01\r\u001b[K     |███████▊                        | 542kB 31.8MB/s eta 0:00:01\r\u001b[K     |███████▉                        | 552kB 31.8MB/s eta 0:00:01\r\u001b[K     |████████                        | 563kB 31.8MB/s eta 0:00:01\r\u001b[K     |████████▏                       | 573kB 31.8MB/s eta 0:00:01\r\u001b[K     |████████▎                       | 583kB 31.8MB/s eta 0:00:01\r\u001b[K     |████████▌                       | 593kB 31.8MB/s eta 0:00:01\r\u001b[K     |████████▋                       | 604kB 31.8MB/s eta 0:00:01\r\u001b[K     |████████▊                       | 614kB 31.8MB/s eta 0:00:01\r\u001b[K     |████████▉                       | 624kB 31.8MB/s eta 0:00:01\r\u001b[K     |█████████                       | 634kB 31.8MB/s eta 0:00:01\r\u001b[K     |█████████▏                      | 645kB 31.8MB/s eta 0:00:01\r\u001b[K     |█████████▎                      | 655kB 31.8MB/s eta 0:00:01\r\u001b[K     |█████████▌                      | 665kB 31.8MB/s eta 0:00:01\r\u001b[K     |█████████▋                      | 675kB 31.8MB/s eta 0:00:01\r\u001b[K     |█████████▊                      | 686kB 31.8MB/s eta 0:00:01\r\u001b[K     |██████████                      | 696kB 31.8MB/s eta 0:00:01\r\u001b[K     |██████████                      | 706kB 31.8MB/s eta 0:00:01\r\u001b[K     |██████████▏                     | 716kB 31.8MB/s eta 0:00:01\r\u001b[K     |██████████▍                     | 727kB 31.8MB/s eta 0:00:01\r\u001b[K     |██████████▌                     | 737kB 31.8MB/s eta 0:00:01\r\u001b[K     |██████████▋                     | 747kB 31.8MB/s eta 0:00:01\r\u001b[K     |██████████▉                     | 757kB 31.8MB/s eta 0:00:01\r\u001b[K     |███████████                     | 768kB 31.8MB/s eta 0:00:01\r\u001b[K     |███████████                     | 778kB 31.8MB/s eta 0:00:01\r\u001b[K     |███████████▏                    | 788kB 31.8MB/s eta 0:00:01\r\u001b[K     |███████████▍                    | 798kB 31.8MB/s eta 0:00:01\r\u001b[K     |███████████▌                    | 808kB 31.8MB/s eta 0:00:01\r\u001b[K     |███████████▋                    | 819kB 31.8MB/s eta 0:00:01\r\u001b[K     |███████████▉                    | 829kB 31.8MB/s eta 0:00:01\r\u001b[K     |████████████                    | 839kB 31.8MB/s eta 0:00:01\r\u001b[K     |████████████                    | 849kB 31.8MB/s eta 0:00:01\r\u001b[K     |████████████▎                   | 860kB 31.8MB/s eta 0:00:01\r\u001b[K     |████████████▍                   | 870kB 31.8MB/s eta 0:00:01\r\u001b[K     |████████████▌                   | 880kB 31.8MB/s eta 0:00:01\r\u001b[K     |████████████▊                   | 890kB 31.8MB/s eta 0:00:01\r\u001b[K     |████████████▉                   | 901kB 31.8MB/s eta 0:00:01\r\u001b[K     |█████████████                   | 911kB 31.8MB/s eta 0:00:01\r\u001b[K     |█████████████                   | 921kB 31.8MB/s eta 0:00:01\r\u001b[K     |█████████████▎                  | 931kB 31.8MB/s eta 0:00:01\r\u001b[K     |█████████████▍                  | 942kB 31.8MB/s eta 0:00:01\r\u001b[K     |█████████████▌                  | 952kB 31.8MB/s eta 0:00:01\r\u001b[K     |█████████████▊                  | 962kB 31.8MB/s eta 0:00:01\r\u001b[K     |█████████████▉                  | 972kB 31.8MB/s eta 0:00:01\r\u001b[K     |██████████████                  | 983kB 31.8MB/s eta 0:00:01\r\u001b[K     |██████████████▏                 | 993kB 31.8MB/s eta 0:00:01\r\u001b[K     |██████████████▎                 | 1.0MB 31.8MB/s eta 0:00:01\r\u001b[K     |██████████████▍                 | 1.0MB 31.8MB/s eta 0:00:01\r\u001b[K     |██████████████▋                 | 1.0MB 31.8MB/s eta 0:00:01\r\u001b[K     |██████████████▊                 | 1.0MB 31.8MB/s eta 0:00:01\r\u001b[K     |██████████████▉                 | 1.0MB 31.8MB/s eta 0:00:01\r\u001b[K     |███████████████                 | 1.1MB 31.8MB/s eta 0:00:01\r\u001b[K     |███████████████▏                | 1.1MB 31.8MB/s eta 0:00:01\r\u001b[K     |███████████████▎                | 1.1MB 31.8MB/s eta 0:00:01\r\u001b[K     |███████████████▍                | 1.1MB 31.8MB/s eta 0:00:01\r\u001b[K     |███████████████▋                | 1.1MB 31.8MB/s eta 0:00:01\r\u001b[K     |███████████████▊                | 1.1MB 31.8MB/s eta 0:00:01\r\u001b[K     |███████████████▉                | 1.1MB 31.8MB/s eta 0:00:01\r\u001b[K     |████████████████                | 1.1MB 31.8MB/s eta 0:00:01\r\u001b[K     |████████████████▏               | 1.1MB 31.8MB/s eta 0:00:01\r\u001b[K     |████████████████▎               | 1.1MB 31.8MB/s eta 0:00:01\r\u001b[K     |████████████████▌               | 1.2MB 31.8MB/s eta 0:00:01\r\u001b[K     |████████████████▋               | 1.2MB 31.8MB/s eta 0:00:01\r\u001b[K     |████████████████▊               | 1.2MB 31.8MB/s eta 0:00:01\r\u001b[K     |█████████████████               | 1.2MB 31.8MB/s eta 0:00:01\r\u001b[K     |█████████████████               | 1.2MB 31.8MB/s eta 0:00:01\r\u001b[K     |█████████████████▏              | 1.2MB 31.8MB/s eta 0:00:01\r\u001b[K     |█████████████████▎              | 1.2MB 31.8MB/s eta 0:00:01\r\u001b[K     |█████████████████▌              | 1.2MB 31.8MB/s eta 0:00:01\r\u001b[K     |█████████████████▋              | 1.2MB 31.8MB/s eta 0:00:01\r\u001b[K     |█████████████████▊              | 1.2MB 31.8MB/s eta 0:00:01\r\u001b[K     |██████████████████              | 1.3MB 31.8MB/s eta 0:00:01\r\u001b[K     |██████████████████              | 1.3MB 31.8MB/s eta 0:00:01\r\u001b[K     |██████████████████▏             | 1.3MB 31.8MB/s eta 0:00:01\r\u001b[K     |██████████████████▍             | 1.3MB 31.8MB/s eta 0:00:01\r\u001b[K     |██████████████████▌             | 1.3MB 31.8MB/s eta 0:00:01\r\u001b[K     |██████████████████▋             | 1.3MB 31.8MB/s eta 0:00:01\r\u001b[K     |██████████████████▉             | 1.3MB 31.8MB/s eta 0:00:01\r\u001b[K     |███████████████████             | 1.3MB 31.8MB/s eta 0:00:01\r\u001b[K     |███████████████████             | 1.3MB 31.8MB/s eta 0:00:01\r\u001b[K     |███████████████████▎            | 1.4MB 31.8MB/s eta 0:00:01\r\u001b[K     |███████████████████▍            | 1.4MB 31.8MB/s eta 0:00:01\r\u001b[K     |███████████████████▌            | 1.4MB 31.8MB/s eta 0:00:01\r\u001b[K     |███████████████████▋            | 1.4MB 31.8MB/s eta 0:00:01\r\u001b[K     |███████████████████▉            | 1.4MB 31.8MB/s eta 0:00:01\r\u001b[K     |████████████████████            | 1.4MB 31.8MB/s eta 0:00:01\r\u001b[K     |████████████████████            | 1.4MB 31.8MB/s eta 0:00:01\r\u001b[K     |████████████████████▎           | 1.4MB 31.8MB/s eta 0:00:01\r\u001b[K     |████████████████████▍           | 1.4MB 31.8MB/s eta 0:00:01\r\u001b[K     |████████████████████▌           | 1.4MB 31.8MB/s eta 0:00:01\r\u001b[K     |████████████████████▊           | 1.5MB 31.8MB/s eta 0:00:01\r\u001b[K     |████████████████████▉           | 1.5MB 31.8MB/s eta 0:00:01\r\u001b[K     |█████████████████████           | 1.5MB 31.8MB/s eta 0:00:01\r\u001b[K     |█████████████████████▏          | 1.5MB 31.8MB/s eta 0:00:01\r\u001b[K     |█████████████████████▎          | 1.5MB 31.8MB/s eta 0:00:01\r\u001b[K     |█████████████████████▍          | 1.5MB 31.8MB/s eta 0:00:01\r\u001b[K     |█████████████████████▋          | 1.5MB 31.8MB/s eta 0:00:01\r\u001b[K     |█████████████████████▊          | 1.5MB 31.8MB/s eta 0:00:01\r\u001b[K     |█████████████████████▉          | 1.5MB 31.8MB/s eta 0:00:01\r\u001b[K     |██████████████████████          | 1.5MB 31.8MB/s eta 0:00:01\r\u001b[K     |██████████████████████▏         | 1.6MB 31.8MB/s eta 0:00:01\r\u001b[K     |██████████████████████▎         | 1.6MB 31.8MB/s eta 0:00:01\r\u001b[K     |██████████████████████▍         | 1.6MB 31.8MB/s eta 0:00:01\r\u001b[K     |██████████████████████▋         | 1.6MB 31.8MB/s eta 0:00:01\r\u001b[K     |██████████████████████▊         | 1.6MB 31.8MB/s eta 0:00:01\r\u001b[K     |██████████████████████▉         | 1.6MB 31.8MB/s eta 0:00:01\r\u001b[K     |███████████████████████         | 1.6MB 31.8MB/s eta 0:00:01\r\u001b[K     |███████████████████████▏        | 1.6MB 31.8MB/s eta 0:00:01\r\u001b[K     |███████████████████████▎        | 1.6MB 31.8MB/s eta 0:00:01\r\u001b[K     |███████████████████████▌        | 1.6MB 31.8MB/s eta 0:00:01\r\u001b[K     |███████████████████████▋        | 1.7MB 31.8MB/s eta 0:00:01\r\u001b[K     |███████████████████████▊        | 1.7MB 31.8MB/s eta 0:00:01\r\u001b[K     |███████████████████████▉        | 1.7MB 31.8MB/s eta 0:00:01\r\u001b[K     |████████████████████████        | 1.7MB 31.8MB/s eta 0:00:01\r\u001b[K     |████████████████████████▏       | 1.7MB 31.8MB/s eta 0:00:01\r\u001b[K     |████████████████████████▎       | 1.7MB 31.8MB/s eta 0:00:01\r\u001b[K     |████████████████████████▌       | 1.7MB 31.8MB/s eta 0:00:01\r\u001b[K     |████████████████████████▋       | 1.7MB 31.8MB/s eta 0:00:01\r\u001b[K     |████████████████████████▊       | 1.7MB 31.8MB/s eta 0:00:01\r\u001b[K     |█████████████████████████       | 1.8MB 31.8MB/s eta 0:00:01\r\u001b[K     |█████████████████████████       | 1.8MB 31.8MB/s eta 0:00:01\r\u001b[K     |█████████████████████████▏      | 1.8MB 31.8MB/s eta 0:00:01\r\u001b[K     |█████████████████████████▍      | 1.8MB 31.8MB/s eta 0:00:01\r\u001b[K     |█████████████████████████▌      | 1.8MB 31.8MB/s eta 0:00:01\r\u001b[K     |█████████████████████████▋      | 1.8MB 31.8MB/s eta 0:00:01\r\u001b[K     |█████████████████████████▉      | 1.8MB 31.8MB/s eta 0:00:01\r\u001b[K     |██████████████████████████      | 1.8MB 31.8MB/s eta 0:00:01\r\u001b[K     |██████████████████████████      | 1.8MB 31.8MB/s eta 0:00:01\r\u001b[K     |██████████████████████████▏     | 1.8MB 31.8MB/s eta 0:00:01\r\u001b[K     |██████████████████████████▍     | 1.9MB 31.8MB/s eta 0:00:01\r\u001b[K     |██████████████████████████▌     | 1.9MB 31.8MB/s eta 0:00:01\r\u001b[K     |██████████████████████████▋     | 1.9MB 31.8MB/s eta 0:00:01\r\u001b[K     |██████████████████████████▉     | 1.9MB 31.8MB/s eta 0:00:01\r\u001b[K     |███████████████████████████     | 1.9MB 31.8MB/s eta 0:00:01\r\u001b[K     |███████████████████████████     | 1.9MB 31.8MB/s eta 0:00:01\r\u001b[K     |███████████████████████████▎    | 1.9MB 31.8MB/s eta 0:00:01\r\u001b[K     |███████████████████████████▍    | 1.9MB 31.8MB/s eta 0:00:01\r\u001b[K     |███████████████████████████▌    | 1.9MB 31.8MB/s eta 0:00:01\r\u001b[K     |███████████████████████████▊    | 1.9MB 31.8MB/s eta 0:00:01\r\u001b[K     |███████████████████████████▉    | 2.0MB 31.8MB/s eta 0:00:01\r\u001b[K     |████████████████████████████    | 2.0MB 31.8MB/s eta 0:00:01\r\u001b[K     |████████████████████████████▏   | 2.0MB 31.8MB/s eta 0:00:01\r\u001b[K     |████████████████████████████▎   | 2.0MB 31.8MB/s eta 0:00:01\r\u001b[K     |████████████████████████████▍   | 2.0MB 31.8MB/s eta 0:00:01\r\u001b[K     |████████████████████████████▌   | 2.0MB 31.8MB/s eta 0:00:01\r\u001b[K     |████████████████████████████▊   | 2.0MB 31.8MB/s eta 0:00:01\r\u001b[K     |████████████████████████████▉   | 2.0MB 31.8MB/s eta 0:00:01\r\u001b[K     |█████████████████████████████   | 2.0MB 31.8MB/s eta 0:00:01\r\u001b[K     |█████████████████████████████▏  | 2.0MB 31.8MB/s eta 0:00:01\r\u001b[K     |█████████████████████████████▎  | 2.1MB 31.8MB/s eta 0:00:01\r\u001b[K     |█████████████████████████████▍  | 2.1MB 31.8MB/s eta 0:00:01\r\u001b[K     |█████████████████████████████▋  | 2.1MB 31.8MB/s eta 0:00:01\r\u001b[K     |█████████████████████████████▊  | 2.1MB 31.8MB/s eta 0:00:01\r\u001b[K     |█████████████████████████████▉  | 2.1MB 31.8MB/s eta 0:00:01\r\u001b[K     |██████████████████████████████  | 2.1MB 31.8MB/s eta 0:00:01\r\u001b[K     |██████████████████████████████▏ | 2.1MB 31.8MB/s eta 0:00:01\r\u001b[K     |██████████████████████████████▎ | 2.1MB 31.8MB/s eta 0:00:01\r\u001b[K     |██████████████████████████████▍ | 2.1MB 31.8MB/s eta 0:00:01\r\u001b[K     |██████████████████████████████▋ | 2.2MB 31.8MB/s eta 0:00:01\r\u001b[K     |██████████████████████████████▊ | 2.2MB 31.8MB/s eta 0:00:01\r\u001b[K     |██████████████████████████████▉ | 2.2MB 31.8MB/s eta 0:00:01\r\u001b[K     |███████████████████████████████ | 2.2MB 31.8MB/s eta 0:00:01\r\u001b[K     |███████████████████████████████▏| 2.2MB 31.8MB/s eta 0:00:01\r\u001b[K     |███████████████████████████████▎| 2.2MB 31.8MB/s eta 0:00:01\r\u001b[K     |███████████████████████████████▌| 2.2MB 31.8MB/s eta 0:00:01\r\u001b[K     |███████████████████████████████▋| 2.2MB 31.8MB/s eta 0:00:01\r\u001b[K     |███████████████████████████████▊| 2.2MB 31.8MB/s eta 0:00:01\r\u001b[K     |████████████████████████████████| 2.2MB 31.8MB/s eta 0:00:01\r\u001b[K     |████████████████████████████████| 2.3MB 31.8MB/s \n",
            "\u001b[?25hRequirement already satisfied: tqdm>=4.27 in /usr/local/lib/python3.7/dist-packages (from transformers) (4.41.1)\n",
            "Requirement already satisfied: filelock in /usr/local/lib/python3.7/dist-packages (from transformers) (3.0.12)\n",
            "Requirement already satisfied: packaging in /usr/local/lib/python3.7/dist-packages (from transformers) (20.9)\n",
            "Collecting tokenizers<0.11,>=0.10.1\n",
            "\u001b[?25l  Downloading https://files.pythonhosted.org/packages/d4/e2/df3543e8ffdab68f5acc73f613de9c2b155ac47f162e725dcac87c521c11/tokenizers-0.10.3-cp37-cp37m-manylinux_2_5_x86_64.manylinux1_x86_64.manylinux_2_12_x86_64.manylinux2010_x86_64.whl (3.3MB)\n",
            "\u001b[K     |████████████████████████████████| 3.3MB 42.8MB/s \n",
            "\u001b[?25hRequirement already satisfied: regex!=2019.12.17 in /usr/local/lib/python3.7/dist-packages (from transformers) (2019.12.20)\n",
            "Requirement already satisfied: requests in /usr/local/lib/python3.7/dist-packages (from transformers) (2.23.0)\n",
            "Requirement already satisfied: numpy>=1.17 in /usr/local/lib/python3.7/dist-packages (from transformers) (1.19.5)\n",
            "Requirement already satisfied: importlib-metadata; python_version < \"3.8\" in /usr/local/lib/python3.7/dist-packages (from transformers) (4.0.1)\n",
            "Collecting huggingface-hub==0.0.8\n",
            "  Downloading https://files.pythonhosted.org/packages/a1/88/7b1e45720ecf59c6c6737ff332f41c955963090a18e72acbcbeac6b25e86/huggingface_hub-0.0.8-py3-none-any.whl\n",
            "Collecting sacremoses\n",
            "\u001b[?25l  Downloading https://files.pythonhosted.org/packages/75/ee/67241dc87f266093c533a2d4d3d69438e57d7a90abb216fa076e7d475d4a/sacremoses-0.0.45-py3-none-any.whl (895kB)\n",
            "\u001b[K     |████████████████████████████████| 901kB 46.4MB/s \n",
            "\u001b[?25hRequirement already satisfied: pyparsing>=2.0.2 in /usr/local/lib/python3.7/dist-packages (from packaging->transformers) (2.4.7)\n",
            "Requirement already satisfied: urllib3!=1.25.0,!=1.25.1,<1.26,>=1.21.1 in /usr/local/lib/python3.7/dist-packages (from requests->transformers) (1.24.3)\n",
            "Requirement already satisfied: chardet<4,>=3.0.2 in /usr/local/lib/python3.7/dist-packages (from requests->transformers) (3.0.4)\n",
            "Requirement already satisfied: idna<3,>=2.5 in /usr/local/lib/python3.7/dist-packages (from requests->transformers) (2.10)\n",
            "Requirement already satisfied: certifi>=2017.4.17 in /usr/local/lib/python3.7/dist-packages (from requests->transformers) (2020.12.5)\n",
            "Requirement already satisfied: typing-extensions>=3.6.4; python_version < \"3.8\" in /usr/local/lib/python3.7/dist-packages (from importlib-metadata; python_version < \"3.8\"->transformers) (3.7.4.3)\n",
            "Requirement already satisfied: zipp>=0.5 in /usr/local/lib/python3.7/dist-packages (from importlib-metadata; python_version < \"3.8\"->transformers) (3.4.1)\n",
            "Requirement already satisfied: six in /usr/local/lib/python3.7/dist-packages (from sacremoses->transformers) (1.15.0)\n",
            "Requirement already satisfied: click in /usr/local/lib/python3.7/dist-packages (from sacremoses->transformers) (8.0.0)\n",
            "Requirement already satisfied: joblib in /usr/local/lib/python3.7/dist-packages (from sacremoses->transformers) (1.0.1)\n",
            "Installing collected packages: tokenizers, huggingface-hub, sacremoses, transformers\n",
            "Successfully installed huggingface-hub-0.0.8 sacremoses-0.0.45 tokenizers-0.10.3 transformers-4.6.1\n"
          ],
          "name": "stdout"
        }
      ]
    },
    {
      "cell_type": "code",
      "metadata": {
        "ExecuteTime": {
          "end_time": "2021-05-24T19:50:15.192486Z",
          "start_time": "2021-05-24T19:50:12.968162Z"
        },
        "colab": {
          "base_uri": "https://localhost:8080/"
        },
        "id": "0oFm6iQpyMve",
        "outputId": "bf620a60-19da-4c3d-890d-2ec785d8a9d2"
      },
      "source": [
        "! pip install SentencePiece"
      ],
      "execution_count": 3,
      "outputs": [
        {
          "output_type": "stream",
          "text": [
            "Collecting SentencePiece\n",
            "\u001b[?25l  Downloading https://files.pythonhosted.org/packages/f5/99/e0808cb947ba10f575839c43e8fafc9cc44e4a7a2c8f79c60db48220a577/sentencepiece-0.1.95-cp37-cp37m-manylinux2014_x86_64.whl (1.2MB)\n",
            "\r\u001b[K     |▎                               | 10kB 23.0MB/s eta 0:00:01\r\u001b[K     |▌                               | 20kB 30.3MB/s eta 0:00:01\r\u001b[K     |▉                               | 30kB 35.4MB/s eta 0:00:01\r\u001b[K     |█                               | 40kB 27.5MB/s eta 0:00:01\r\u001b[K     |█▍                              | 51kB 27.0MB/s eta 0:00:01\r\u001b[K     |█▋                              | 61kB 28.9MB/s eta 0:00:01\r\u001b[K     |██                              | 71kB 30.6MB/s eta 0:00:01\r\u001b[K     |██▏                             | 81kB 27.2MB/s eta 0:00:01\r\u001b[K     |██▌                             | 92kB 28.8MB/s eta 0:00:01\r\u001b[K     |██▊                             | 102kB 27.8MB/s eta 0:00:01\r\u001b[K     |███                             | 112kB 27.8MB/s eta 0:00:01\r\u001b[K     |███▎                            | 122kB 27.8MB/s eta 0:00:01\r\u001b[K     |███▌                            | 133kB 27.8MB/s eta 0:00:01\r\u001b[K     |███▉                            | 143kB 27.8MB/s eta 0:00:01\r\u001b[K     |████                            | 153kB 27.8MB/s eta 0:00:01\r\u001b[K     |████▍                           | 163kB 27.8MB/s eta 0:00:01\r\u001b[K     |████▋                           | 174kB 27.8MB/s eta 0:00:01\r\u001b[K     |█████                           | 184kB 27.8MB/s eta 0:00:01\r\u001b[K     |█████▏                          | 194kB 27.8MB/s eta 0:00:01\r\u001b[K     |█████▌                          | 204kB 27.8MB/s eta 0:00:01\r\u001b[K     |█████▊                          | 215kB 27.8MB/s eta 0:00:01\r\u001b[K     |██████                          | 225kB 27.8MB/s eta 0:00:01\r\u001b[K     |██████▎                         | 235kB 27.8MB/s eta 0:00:01\r\u001b[K     |██████▌                         | 245kB 27.8MB/s eta 0:00:01\r\u001b[K     |██████▉                         | 256kB 27.8MB/s eta 0:00:01\r\u001b[K     |███████                         | 266kB 27.8MB/s eta 0:00:01\r\u001b[K     |███████▍                        | 276kB 27.8MB/s eta 0:00:01\r\u001b[K     |███████▋                        | 286kB 27.8MB/s eta 0:00:01\r\u001b[K     |████████                        | 296kB 27.8MB/s eta 0:00:01\r\u001b[K     |████████▏                       | 307kB 27.8MB/s eta 0:00:01\r\u001b[K     |████████▍                       | 317kB 27.8MB/s eta 0:00:01\r\u001b[K     |████████▊                       | 327kB 27.8MB/s eta 0:00:01\r\u001b[K     |█████████                       | 337kB 27.8MB/s eta 0:00:01\r\u001b[K     |█████████▎                      | 348kB 27.8MB/s eta 0:00:01\r\u001b[K     |█████████▌                      | 358kB 27.8MB/s eta 0:00:01\r\u001b[K     |█████████▉                      | 368kB 27.8MB/s eta 0:00:01\r\u001b[K     |██████████                      | 378kB 27.8MB/s eta 0:00:01\r\u001b[K     |██████████▍                     | 389kB 27.8MB/s eta 0:00:01\r\u001b[K     |██████████▋                     | 399kB 27.8MB/s eta 0:00:01\r\u001b[K     |███████████                     | 409kB 27.8MB/s eta 0:00:01\r\u001b[K     |███████████▏                    | 419kB 27.8MB/s eta 0:00:01\r\u001b[K     |███████████▍                    | 430kB 27.8MB/s eta 0:00:01\r\u001b[K     |███████████▊                    | 440kB 27.8MB/s eta 0:00:01\r\u001b[K     |████████████                    | 450kB 27.8MB/s eta 0:00:01\r\u001b[K     |████████████▎                   | 460kB 27.8MB/s eta 0:00:01\r\u001b[K     |████████████▌                   | 471kB 27.8MB/s eta 0:00:01\r\u001b[K     |████████████▉                   | 481kB 27.8MB/s eta 0:00:01\r\u001b[K     |█████████████                   | 491kB 27.8MB/s eta 0:00:01\r\u001b[K     |█████████████▍                  | 501kB 27.8MB/s eta 0:00:01\r\u001b[K     |█████████████▋                  | 512kB 27.8MB/s eta 0:00:01\r\u001b[K     |█████████████▉                  | 522kB 27.8MB/s eta 0:00:01\r\u001b[K     |██████████████▏                 | 532kB 27.8MB/s eta 0:00:01\r\u001b[K     |██████████████▍                 | 542kB 27.8MB/s eta 0:00:01\r\u001b[K     |██████████████▊                 | 552kB 27.8MB/s eta 0:00:01\r\u001b[K     |███████████████                 | 563kB 27.8MB/s eta 0:00:01\r\u001b[K     |███████████████▎                | 573kB 27.8MB/s eta 0:00:01\r\u001b[K     |███████████████▌                | 583kB 27.8MB/s eta 0:00:01\r\u001b[K     |███████████████▉                | 593kB 27.8MB/s eta 0:00:01\r\u001b[K     |████████████████                | 604kB 27.8MB/s eta 0:00:01\r\u001b[K     |████████████████▍               | 614kB 27.8MB/s eta 0:00:01\r\u001b[K     |████████████████▋               | 624kB 27.8MB/s eta 0:00:01\r\u001b[K     |████████████████▉               | 634kB 27.8MB/s eta 0:00:01\r\u001b[K     |█████████████████▏              | 645kB 27.8MB/s eta 0:00:01\r\u001b[K     |█████████████████▍              | 655kB 27.8MB/s eta 0:00:01\r\u001b[K     |█████████████████▊              | 665kB 27.8MB/s eta 0:00:01\r\u001b[K     |██████████████████              | 675kB 27.8MB/s eta 0:00:01\r\u001b[K     |██████████████████▎             | 686kB 27.8MB/s eta 0:00:01\r\u001b[K     |██████████████████▌             | 696kB 27.8MB/s eta 0:00:01\r\u001b[K     |██████████████████▉             | 706kB 27.8MB/s eta 0:00:01\r\u001b[K     |███████████████████             | 716kB 27.8MB/s eta 0:00:01\r\u001b[K     |███████████████████▎            | 727kB 27.8MB/s eta 0:00:01\r\u001b[K     |███████████████████▋            | 737kB 27.8MB/s eta 0:00:01\r\u001b[K     |███████████████████▉            | 747kB 27.8MB/s eta 0:00:01\r\u001b[K     |████████████████████▏           | 757kB 27.8MB/s eta 0:00:01\r\u001b[K     |████████████████████▍           | 768kB 27.8MB/s eta 0:00:01\r\u001b[K     |████████████████████▊           | 778kB 27.8MB/s eta 0:00:01\r\u001b[K     |█████████████████████           | 788kB 27.8MB/s eta 0:00:01\r\u001b[K     |█████████████████████▎          | 798kB 27.8MB/s eta 0:00:01\r\u001b[K     |█████████████████████▌          | 808kB 27.8MB/s eta 0:00:01\r\u001b[K     |█████████████████████▉          | 819kB 27.8MB/s eta 0:00:01\r\u001b[K     |██████████████████████          | 829kB 27.8MB/s eta 0:00:01\r\u001b[K     |██████████████████████▎         | 839kB 27.8MB/s eta 0:00:01\r\u001b[K     |██████████████████████▋         | 849kB 27.8MB/s eta 0:00:01\r\u001b[K     |██████████████████████▉         | 860kB 27.8MB/s eta 0:00:01\r\u001b[K     |███████████████████████▏        | 870kB 27.8MB/s eta 0:00:01\r\u001b[K     |███████████████████████▍        | 880kB 27.8MB/s eta 0:00:01\r\u001b[K     |███████████████████████▊        | 890kB 27.8MB/s eta 0:00:01\r\u001b[K     |████████████████████████        | 901kB 27.8MB/s eta 0:00:01\r\u001b[K     |████████████████████████▎       | 911kB 27.8MB/s eta 0:00:01\r\u001b[K     |████████████████████████▌       | 921kB 27.8MB/s eta 0:00:01\r\u001b[K     |████████████████████████▊       | 931kB 27.8MB/s eta 0:00:01\r\u001b[K     |█████████████████████████       | 942kB 27.8MB/s eta 0:00:01\r\u001b[K     |█████████████████████████▎      | 952kB 27.8MB/s eta 0:00:01\r\u001b[K     |█████████████████████████▋      | 962kB 27.8MB/s eta 0:00:01\r\u001b[K     |█████████████████████████▉      | 972kB 27.8MB/s eta 0:00:01\r\u001b[K     |██████████████████████████▏     | 983kB 27.8MB/s eta 0:00:01\r\u001b[K     |██████████████████████████▍     | 993kB 27.8MB/s eta 0:00:01\r\u001b[K     |██████████████████████████▊     | 1.0MB 27.8MB/s eta 0:00:01\r\u001b[K     |███████████████████████████     | 1.0MB 27.8MB/s eta 0:00:01\r\u001b[K     |███████████████████████████▎    | 1.0MB 27.8MB/s eta 0:00:01\r\u001b[K     |███████████████████████████▌    | 1.0MB 27.8MB/s eta 0:00:01\r\u001b[K     |███████████████████████████▊    | 1.0MB 27.8MB/s eta 0:00:01\r\u001b[K     |████████████████████████████    | 1.1MB 27.8MB/s eta 0:00:01\r\u001b[K     |████████████████████████████▎   | 1.1MB 27.8MB/s eta 0:00:01\r\u001b[K     |████████████████████████████▋   | 1.1MB 27.8MB/s eta 0:00:01\r\u001b[K     |████████████████████████████▉   | 1.1MB 27.8MB/s eta 0:00:01\r\u001b[K     |█████████████████████████████▏  | 1.1MB 27.8MB/s eta 0:00:01\r\u001b[K     |█████████████████████████████▍  | 1.1MB 27.8MB/s eta 0:00:01\r\u001b[K     |█████████████████████████████▊  | 1.1MB 27.8MB/s eta 0:00:01\r\u001b[K     |██████████████████████████████  | 1.1MB 27.8MB/s eta 0:00:01\r\u001b[K     |██████████████████████████████▏ | 1.1MB 27.8MB/s eta 0:00:01\r\u001b[K     |██████████████████████████████▌ | 1.1MB 27.8MB/s eta 0:00:01\r\u001b[K     |██████████████████████████████▊ | 1.2MB 27.8MB/s eta 0:00:01\r\u001b[K     |███████████████████████████████ | 1.2MB 27.8MB/s eta 0:00:01\r\u001b[K     |███████████████████████████████▎| 1.2MB 27.8MB/s eta 0:00:01\r\u001b[K     |███████████████████████████████▋| 1.2MB 27.8MB/s eta 0:00:01\r\u001b[K     |███████████████████████████████▉| 1.2MB 27.8MB/s eta 0:00:01\r\u001b[K     |████████████████████████████████| 1.2MB 27.8MB/s \n",
            "\u001b[?25hInstalling collected packages: SentencePiece\n",
            "Successfully installed SentencePiece-0.1.95\n"
          ],
          "name": "stdout"
        }
      ]
    },
    {
      "cell_type": "code",
      "metadata": {
        "ExecuteTime": {
          "start_time": "2021-05-24T19:50:06.399Z"
        },
        "colab": {
          "base_uri": "https://localhost:8080/",
          "height": 262,
          "referenced_widgets": [
            "50e26409b32f4ea09ccf4488e8313d19",
            "60d09c552aaa4c80b5eeaef46a22e599",
            "731ebc79349140a2ab8385f294df34ce",
            "a3f6eb45c79543a2bebec250f3aaf4b3",
            "0199f1727d504b0c9b92c8b3bc103029",
            "f45585a0fd6c4782a56928155e8b2fe8",
            "c0d000f9723d4032950c939c127ef661",
            "3a93061660b24544b016175b3b093e77",
            "769c2a1cb3e64e989a1fcd7fb54625e9",
            "863f69bb7aff45e3a09572ea100f9738",
            "40f86284e8ba494e8d2f3ce3a3012a72",
            "7b38de5545a44c7d9ad789bcc7470972",
            "5e4e5a2c7b2541578a1c7c97032df5c8",
            "b172a43b534e4967b2368783a1f27aae",
            "6213748dd4ef4b36826cf4c725dcc3f3",
            "40e291f0e5b745a99cafedc0bd7212bc",
            "c9ef1ab83e824e1191ea8de73b3bd44a",
            "5e18c116e96c4960922d123072a3ef57",
            "dae69a7ecf014aadae5a7b6d24c7edf3",
            "fc8308997d3a41088fa1bc0a5ddc9278",
            "56ede24961e14c319500f69edd2b0065",
            "11ad1a8b1a1749e2af87eab9c1a95295",
            "3db92a525b7b49529a1c07a7824b00e3",
            "9c449ca99dd2470bacf608628c0beef1",
            "21b38a62b40347c28a28b4c9ca20176d",
            "f200c66d2548471bb836efbd1858e62d",
            "ccda688b9c00425a966f401145bc3c60",
            "2001df82502c4dbf8482b32c30a095cc",
            "c40b4d5ec2ed4cafbdeffba73a8345aa",
            "9e370657d1ef405d86d88b166954a3e3",
            "5d7f41aeeba74a97b721b592d73d785a",
            "eb8f1de74efd4d69aba1a816bea64748",
            "2520c09aa8d2418b836751b1188d9724",
            "2d76000242a34a798eac2aa9312aaaa3",
            "c01580d4d189451fb05a2e87ea35450f",
            "403019833d8b4d9c95d343e5a0d57ff4",
            "1f56bcd7cb9a43988d629384d61c9329",
            "3c1447eae1d94a0d88a40cb8c54da0da",
            "90589f7bc8c44d5a9ea9d943daa3e3f1",
            "70ff10f395e2456395531d383b70ab9d"
          ]
        },
        "id": "_yCRu_3CNaTE",
        "outputId": "168bc1b3-0ce1-441b-95c2-1f1be05dc121"
      },
      "source": [
        "import torch\n",
        "from transformers import PegasusForConditionalGeneration, PegasusTokenizer\n",
        "\n",
        "model_name = 'tuner007/pegasus_paraphrase'\n",
        "torch_device = 'cuda' if torch.cuda.is_available() else 'cpu'\n",
        "tokenizer = PegasusTokenizer.from_pretrained(model_name)\n",
        "model = PegasusForConditionalGeneration.from_pretrained(model_name).to(torch_device)\n",
        "\n",
        "def get_response(input_text,num_return_sequences):\n",
        "  batch = tokenizer.prepare_seq2seq_batch([input_text],truncation=True,padding='longest',max_length=60, return_tensors=\"pt\").to(torch_device)\n",
        "  translated = model.generate(**batch,max_length=60,num_beams=10, num_return_sequences=num_return_sequences, temperature=1.5)\n",
        "  tgt_text = tokenizer.batch_decode(translated, skip_special_tokens=True)\n",
        "  return tgt_text"
      ],
      "execution_count": 4,
      "outputs": [
        {
          "output_type": "display_data",
          "data": {
            "application/vnd.jupyter.widget-view+json": {
              "model_id": "50e26409b32f4ea09ccf4488e8313d19",
              "version_minor": 0,
              "version_major": 2
            },
            "text/plain": [
              "HBox(children=(FloatProgress(value=0.0, description='Downloading', max=1912529.0, style=ProgressStyle(descript…"
            ]
          },
          "metadata": {
            "tags": []
          }
        },
        {
          "output_type": "stream",
          "text": [
            "\n"
          ],
          "name": "stdout"
        },
        {
          "output_type": "display_data",
          "data": {
            "application/vnd.jupyter.widget-view+json": {
              "model_id": "769c2a1cb3e64e989a1fcd7fb54625e9",
              "version_minor": 0,
              "version_major": 2
            },
            "text/plain": [
              "HBox(children=(FloatProgress(value=0.0, description='Downloading', max=65.0, style=ProgressStyle(description_w…"
            ]
          },
          "metadata": {
            "tags": []
          }
        },
        {
          "output_type": "stream",
          "text": [
            "\n"
          ],
          "name": "stdout"
        },
        {
          "output_type": "display_data",
          "data": {
            "application/vnd.jupyter.widget-view+json": {
              "model_id": "c9ef1ab83e824e1191ea8de73b3bd44a",
              "version_minor": 0,
              "version_major": 2
            },
            "text/plain": [
              "HBox(children=(FloatProgress(value=0.0, description='Downloading', max=86.0, style=ProgressStyle(description_w…"
            ]
          },
          "metadata": {
            "tags": []
          }
        },
        {
          "output_type": "stream",
          "text": [
            "\n"
          ],
          "name": "stdout"
        },
        {
          "output_type": "display_data",
          "data": {
            "application/vnd.jupyter.widget-view+json": {
              "model_id": "21b38a62b40347c28a28b4c9ca20176d",
              "version_minor": 0,
              "version_major": 2
            },
            "text/plain": [
              "HBox(children=(FloatProgress(value=0.0, description='Downloading', max=1142.0, style=ProgressStyle(description…"
            ]
          },
          "metadata": {
            "tags": []
          }
        },
        {
          "output_type": "stream",
          "text": [
            "\n"
          ],
          "name": "stdout"
        },
        {
          "output_type": "display_data",
          "data": {
            "application/vnd.jupyter.widget-view+json": {
              "model_id": "2520c09aa8d2418b836751b1188d9724",
              "version_minor": 0,
              "version_major": 2
            },
            "text/plain": [
              "HBox(children=(FloatProgress(value=0.0, description='Downloading', max=2275437102.0, style=ProgressStyle(descr…"
            ]
          },
          "metadata": {
            "tags": []
          }
        },
        {
          "output_type": "stream",
          "text": [
            "\n"
          ],
          "name": "stdout"
        }
      ]
    },
    {
      "cell_type": "markdown",
      "metadata": {
        "id": "lva62WD3gScS"
      },
      "source": [
        "---"
      ]
    },
    {
      "cell_type": "code",
      "metadata": {
        "ExecuteTime": {
          "start_time": "2021-05-24T19:50:06.403Z"
        },
        "id": "zzrMc_I2TgV9"
      },
      "source": [
        "text = \"When you get to the principal's office, write down the total number of kids on the bus.\""
      ],
      "execution_count": 5,
      "outputs": []
    },
    {
      "cell_type": "code",
      "metadata": {
        "ExecuteTime": {
          "start_time": "2021-05-24T19:50:06.407Z"
        },
        "colab": {
          "base_uri": "https://localhost:8080/"
        },
        "id": "CBbJmP4jTrne",
        "outputId": "74194849-42c0-4540-914c-1a2f1468c4a4"
      },
      "source": [
        "get_response(text, 5)"
      ],
      "execution_count": 6,
      "outputs": [
        {
          "output_type": "stream",
          "text": [
            "/usr/local/lib/python3.7/dist-packages/transformers/tokenization_utils_base.py:3260: FutureWarning: `prepare_seq2seq_batch` is deprecated and will be removed in version 5 of 🤗 Transformers. Use the regular `__call__` method to prepare your inputs and the tokenizer under the `with_target_tokenizer` context manager to prepare your targets. See the documentation of your specific tokenizer for more details\n",
            "  FutureWarning,\n"
          ],
          "name": "stderr"
        },
        {
          "output_type": "execute_result",
          "data": {
            "text/plain": [
              "[\"Write down the number of kids on the bus when you get to the principal's office.\",\n",
              " \"Write down the total number of kids on the bus when you get to the principal's office.\",\n",
              " \"Write down the number of kids on the bus in the principal's office.\",\n",
              " \"Write down the number of kids on the bus in the principal's office when you get there.\",\n",
              " \"Write down the number of children on the bus in the principal's office.\"]"
            ]
          },
          "metadata": {
            "tags": []
          },
          "execution_count": 6
        }
      ]
    },
    {
      "cell_type": "code",
      "metadata": {
        "ExecuteTime": {
          "start_time": "2021-05-24T19:50:06.411Z"
        },
        "colab": {
          "base_uri": "https://localhost:8080/"
        },
        "id": "3xmOh_62Tujy",
        "outputId": "2ab76a9e-a6fd-4c0f-a353-eea012161978"
      },
      "source": [
        "get_response(text, 1)"
      ],
      "execution_count": 7,
      "outputs": [
        {
          "output_type": "stream",
          "text": [
            "/usr/local/lib/python3.7/dist-packages/transformers/tokenization_utils_base.py:3260: FutureWarning: `prepare_seq2seq_batch` is deprecated and will be removed in version 5 of 🤗 Transformers. Use the regular `__call__` method to prepare your inputs and the tokenizer under the `with_target_tokenizer` context manager to prepare your targets. See the documentation of your specific tokenizer for more details\n",
            "  FutureWarning,\n"
          ],
          "name": "stderr"
        },
        {
          "output_type": "execute_result",
          "data": {
            "text/plain": [
              "[\"Write down the number of kids on the bus when you get to the principal's office.\"]"
            ]
          },
          "metadata": {
            "tags": []
          },
          "execution_count": 7
        }
      ]
    },
    {
      "cell_type": "code",
      "metadata": {
        "ExecuteTime": {
          "start_time": "2021-05-24T19:50:06.416Z"
        },
        "colab": {
          "base_uri": "https://localhost:8080/"
        },
        "id": "yOiKx9cPNanF",
        "outputId": "6e874e05-2f59-48ef-cb96-cb6f382b129b"
      },
      "source": [
        "# Paragraph of text\n",
        "context = \"When you get to the principal's office, write down the total number of kids on the bus. This is important because we have to account for every kid on the bus. So, this is part of your daily routine now.\"\n",
        "print(context)"
      ],
      "execution_count": 8,
      "outputs": [
        {
          "output_type": "stream",
          "text": [
            "When you get to the principal's office, write down the total number of kids on the bus. This is important because we have to account for every kid on the bus. So, this is part of your daily routine now.\n"
          ],
          "name": "stdout"
        }
      ]
    },
    {
      "cell_type": "code",
      "metadata": {
        "ExecuteTime": {
          "start_time": "2021-05-24T19:50:06.418Z"
        },
        "colab": {
          "base_uri": "https://localhost:8080/"
        },
        "id": "Fk-oJbtUNxkP",
        "outputId": "1b134a01-4dca-4b45-b57b-69555812f17a"
      },
      "source": [
        "# Takes the input paragraph and splits it into a list of sentences\n",
        "from sentence_splitter import SentenceSplitter, split_text_into_sentences\n",
        "\n",
        "splitter = SentenceSplitter(language='en')\n",
        "\n",
        "sentence_list = splitter.split(context)\n",
        "sentence_list"
      ],
      "execution_count": 9,
      "outputs": [
        {
          "output_type": "execute_result",
          "data": {
            "text/plain": [
              "[\"When you get to the principal's office, write down the total number of kids on the bus.\",\n",
              " 'This is important because we have to account for every kid on the bus.',\n",
              " 'So, this is part of your daily routine now.']"
            ]
          },
          "metadata": {
            "tags": []
          },
          "execution_count": 9
        }
      ]
    },
    {
      "cell_type": "code",
      "metadata": {
        "ExecuteTime": {
          "start_time": "2021-05-24T19:50:06.421Z"
        },
        "colab": {
          "base_uri": "https://localhost:8080/"
        },
        "id": "QdE0CH6agx8H",
        "outputId": "e15051cf-9ce8-4ad1-f64d-28e9c40aa00c"
      },
      "source": [
        "# Do a for loop to iterate through the list of sentences and paraphrase each sentence in the iteration\n",
        "paraphrase = []\n",
        "\n",
        "for i in sentence_list:\n",
        "  a = get_response(i,1)\n",
        "  paraphrase.append(a)"
      ],
      "execution_count": 10,
      "outputs": [
        {
          "output_type": "stream",
          "text": [
            "/usr/local/lib/python3.7/dist-packages/transformers/tokenization_utils_base.py:3260: FutureWarning: `prepare_seq2seq_batch` is deprecated and will be removed in version 5 of 🤗 Transformers. Use the regular `__call__` method to prepare your inputs and the tokenizer under the `with_target_tokenizer` context manager to prepare your targets. See the documentation of your specific tokenizer for more details\n",
            "  FutureWarning,\n"
          ],
          "name": "stderr"
        }
      ]
    },
    {
      "cell_type": "code",
      "metadata": {
        "ExecuteTime": {
          "start_time": "2021-05-24T19:50:06.424Z"
        },
        "colab": {
          "base_uri": "https://localhost:8080/"
        },
        "id": "i1zyKct5jM3C",
        "outputId": "925f3729-9241-4ec4-ad0d-eecd07f259bb"
      },
      "source": [
        "# This is the paraphrased text\n",
        "paraphrase"
      ],
      "execution_count": 11,
      "outputs": [
        {
          "output_type": "execute_result",
          "data": {
            "text/plain": [
              "[[\"Write down the number of kids on the bus when you get to the principal's office.\"],\n",
              " ['We have to account for every kid on the bus.'],\n",
              " ['This is part of your daily routine.']]"
            ]
          },
          "metadata": {
            "tags": []
          },
          "execution_count": 11
        }
      ]
    },
    {
      "cell_type": "code",
      "metadata": {
        "ExecuteTime": {
          "start_time": "2021-05-24T19:50:06.428Z"
        },
        "colab": {
          "base_uri": "https://localhost:8080/"
        },
        "id": "fSOQwP_hiPjk",
        "outputId": "68a7a801-5f80-447f-dd07-2e0cfc9e7439"
      },
      "source": [
        "paraphrase2 = [' '.join(x) for x in paraphrase]\n",
        "paraphrase2"
      ],
      "execution_count": 12,
      "outputs": [
        {
          "output_type": "execute_result",
          "data": {
            "text/plain": [
              "[\"Write down the number of kids on the bus when you get to the principal's office.\",\n",
              " 'We have to account for every kid on the bus.',\n",
              " 'This is part of your daily routine.']"
            ]
          },
          "metadata": {
            "tags": []
          },
          "execution_count": 12
        }
      ]
    },
    {
      "cell_type": "code",
      "metadata": {
        "ExecuteTime": {
          "start_time": "2021-05-24T19:50:06.432Z"
        },
        "colab": {
          "base_uri": "https://localhost:8080/",
          "height": 52
        },
        "id": "fJ5tDLzokYCd",
        "outputId": "7c3456e8-24cb-4fe6-8396-b8cd0a9faa6b"
      },
      "source": [
        "# Combines the above list into a paragraph\n",
        "paraphrase3 = [' '.join(x for x in paraphrase2) ]\n",
        "paraphrased_text = str(paraphrase3).strip('[]').strip(\"'\")\n",
        "paraphrased_text"
      ],
      "execution_count": 13,
      "outputs": [
        {
          "output_type": "execute_result",
          "data": {
            "application/vnd.google.colaboratory.intrinsic+json": {
              "type": "string"
            },
            "text/plain": [
              "'\"Write down the number of kids on the bus when you get to the principal\\'s office. We have to account for every kid on the bus. This is part of your daily routine.\"'"
            ]
          },
          "metadata": {
            "tags": []
          },
          "execution_count": 13
        }
      ]
    },
    {
      "cell_type": "code",
      "metadata": {
        "ExecuteTime": {
          "start_time": "2021-05-24T19:50:06.435Z"
        },
        "colab": {
          "base_uri": "https://localhost:8080/"
        },
        "id": "8XNC-TJQpZWW",
        "outputId": "db65f95c-d421-4032-fbf7-951687e5f5a1"
      },
      "source": [
        "# Comparison of the original (context variable) and the paraphrased version (paraphrase3 variable)\n",
        "\n",
        "print(context)\n",
        "print('-' * 200)\n",
        "print(paraphrased_text)"
      ],
      "execution_count": 16,
      "outputs": [
        {
          "output_type": "stream",
          "text": [
            "When you get to the principal's office, write down the total number of kids on the bus. This is important because we have to account for every kid on the bus. So, this is part of your daily routine now.\n",
            "--------------------------------------------------------------------------------------------------------------------------------------------------------------------------------------------------------\n",
            "\"Write down the number of kids on the bus when you get to the principal's office. We have to account for every kid on the bus. This is part of your daily routine.\"\n"
          ],
          "name": "stdout"
        }
      ]
    },
    {
      "cell_type": "code",
      "metadata": {
        "id": "xFUouTov0v9_"
      },
      "source": [
        ""
      ],
      "execution_count": null,
      "outputs": []
    }
  ]
}