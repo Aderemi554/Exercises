{
 "cells": [
  {
   "cell_type": "code",
   "execution_count": 1,
   "id": "47c09117",
   "metadata": {
    "ExecuteTime": {
     "end_time": "2021-05-12T08:41:31.713513Z",
     "start_time": "2021-05-12T08:41:20.420766Z"
    }
   },
   "outputs": [],
   "source": [
    "#Importing required dependencies\n",
    "from transformers import pipeline"
   ]
  },
  {
   "cell_type": "code",
   "execution_count": 2,
   "id": "e2ee2aed",
   "metadata": {
    "ExecuteTime": {
     "end_time": "2021-05-12T08:45:37.572996Z",
     "start_time": "2021-05-12T08:42:39.008805Z"
    }
   },
   "outputs": [
    {
     "data": {
      "application/vnd.jupyter.widget-view+json": {
       "model_id": "c995cd4e2cfb4c04baff7408d9a34882",
       "version_major": 2,
       "version_minor": 0
      },
      "text/plain": [
       "Downloading:   0%|          | 0.00/1.65k [00:00<?, ?B/s]"
      ]
     },
     "metadata": {},
     "output_type": "display_data"
    },
    {
     "data": {
      "application/vnd.jupyter.widget-view+json": {
       "model_id": "cac24b5992fd46a6ba3add778493b92a",
       "version_major": 2,
       "version_minor": 0
      },
      "text/plain": [
       "Downloading:   0%|          | 0.00/1.22G [00:00<?, ?B/s]"
      ]
     },
     "metadata": {},
     "output_type": "display_data"
    },
    {
     "data": {
      "application/vnd.jupyter.widget-view+json": {
       "model_id": "6b14e1130a6b4bf48b3fb19f2991b480",
       "version_major": 2,
       "version_minor": 0
      },
      "text/plain": [
       "Downloading:   0%|          | 0.00/899k [00:00<?, ?B/s]"
      ]
     },
     "metadata": {},
     "output_type": "display_data"
    },
    {
     "data": {
      "application/vnd.jupyter.widget-view+json": {
       "model_id": "a9e2cc08aedc4f6eaac1c65cbfbb6d3f",
       "version_major": 2,
       "version_minor": 0
      },
      "text/plain": [
       "Downloading:   0%|          | 0.00/456k [00:00<?, ?B/s]"
      ]
     },
     "metadata": {},
     "output_type": "display_data"
    },
    {
     "data": {
      "application/vnd.jupyter.widget-view+json": {
       "model_id": "248d43a5133b41dbb6dd6fc62853590b",
       "version_major": 2,
       "version_minor": 0
      },
      "text/plain": [
       "Downloading:   0%|          | 0.00/26.0 [00:00<?, ?B/s]"
      ]
     },
     "metadata": {},
     "output_type": "display_data"
    }
   ],
   "source": [
    "#Creating summarizer instance\n",
    "summarizer = pipeline(\"summarization\")"
   ]
  },
  {
   "cell_type": "code",
   "execution_count": 82,
   "id": "457a3d9a",
   "metadata": {
    "ExecuteTime": {
     "end_time": "2021-05-12T11:47:09.023992Z",
     "start_time": "2021-05-12T11:47:08.957539Z"
    }
   },
   "outputs": [],
   "source": [
    "#Open and read text file \n",
    "with open('short.txt') as f:\n",
    "    text = f.readlines() \n",
    "\n",
    "#Combining the test into one long string\n",
    "ARTICLE = ' '.join(text)"
   ]
  },
  {
   "cell_type": "code",
   "execution_count": 83,
   "id": "138eae65",
   "metadata": {
    "ExecuteTime": {
     "end_time": "2021-05-12T11:47:12.460084Z",
     "start_time": "2021-05-12T11:47:12.448171Z"
    }
   },
   "outputs": [],
   "source": [
    "#This is to make text readable after splitting\n",
    "ARTICLE = ARTICLE.replace('.', '.<eos>')\n",
    "ARTICLE = ARTICLE.replace('!', '!<eos>')\n",
    "ARTICLE = ARTICLE.replace('?', '?<eos>')\n",
    "\n",
    "#Splitting ARTICLE into individual sentences using <eos>\n",
    "sentences = ARTICLE.split('<eos>')"
   ]
  },
  {
   "cell_type": "code",
   "execution_count": 84,
   "id": "c1b30031",
   "metadata": {
    "ExecuteTime": {
     "end_time": "2021-05-12T11:47:16.308955Z",
     "start_time": "2021-05-12T11:47:16.290070Z"
    }
   },
   "outputs": [
    {
     "name": "stdout",
     "output_type": "stream",
     "text": [
      "0\n"
     ]
    }
   ],
   "source": [
    "#Dividing the text (sentences) into smaller chunks to allow all the text be passed in using small chunks\n",
    "max_chunk = 200\n",
    "current_chunk = 0\n",
    "chunks = []\n",
    "\n",
    "for sentence in sentences:\n",
    "    if len(chunks) == current_chunk + 1:\n",
    "        if len(chunks[current_chunk]) + len(sentence.split(' ')) <= max_chunk:\n",
    "            chunks[current_chunk].extend(sentence.split(' '))\n",
    "        else:\n",
    "            current_chunk += 1\n",
    "            chunks.append(sentence.split(' '))\n",
    "    else:\n",
    "        print(current_chunk)\n",
    "        chunks.append(sentence.split(' '))"
   ]
  },
  {
   "cell_type": "code",
   "execution_count": 85,
   "id": "cde01f6d",
   "metadata": {
    "ExecuteTime": {
     "end_time": "2021-05-12T11:47:17.512431Z",
     "start_time": "2021-05-12T11:47:17.490381Z"
    }
   },
   "outputs": [
    {
     "data": {
      "text/plain": [
       "['Regarding',\n",
       " 'the',\n",
       " 'impact',\n",
       " 'of',\n",
       " 'charge',\n",
       " 'location',\n",
       " 'and',\n",
       " 'charge\\n',\n",
       " 'density',\n",
       " 'on',\n",
       " 'clay',\n",
       " 'swelling,',\n",
       " 'previously',\n",
       " 'reported',\n",
       " 'results',\n",
       " 'are',\n",
       " 'restricted,\\n',\n",
       " 'and',\n",
       " 'drawing',\n",
       " 'the',\n",
       " 'exact',\n",
       " 'conclusions',\n",
       " 'is',\n",
       " 'nearly',\n",
       " 'impossible.',\n",
       " '',\n",
       " 'For',\n",
       " 'exam-\\n',\n",
       " 'ple,',\n",
       " 'Liu',\n",
       " 'and',\n",
       " 'Lu',\n",
       " '[36]',\n",
       " 'showed',\n",
       " 'that',\n",
       " 'in',\n",
       " 'large',\n",
       " 'charge',\n",
       " 'density',\n",
       " 'on',\n",
       " 'tetrahe-\\n',\n",
       " 'dral',\n",
       " 'sheets,',\n",
       " 'clay',\n",
       " 'interlayer',\n",
       " 'experiences',\n",
       " 'more',\n",
       " 'expansion',\n",
       " 'compared\\n',\n",
       " 'to',\n",
       " 'clay',\n",
       " 'with',\n",
       " 'a',\n",
       " 'high',\n",
       " 'charge',\n",
       " 'density',\n",
       " 'of',\n",
       " 'octahedral',\n",
       " 'sheets.',\n",
       " '',\n",
       " 'These',\n",
       " 'com-\\n',\n",
       " 'parisons',\n",
       " 'were',\n",
       " 'conducted',\n",
       " 'for',\n",
       " 'three',\n",
       " 'different',\n",
       " 'water',\n",
       " 'contents.',\n",
       " '',\n",
       " 'In\\n',\n",
       " 'comparing',\n",
       " 'the',\n",
       " 'swelling',\n",
       " 'behavior',\n",
       " 'of',\n",
       " 'Otay-',\n",
       " 'montmorillonite',\n",
       " '(Otay-\\n',\n",
       " 'Mt),',\n",
       " 'in',\n",
       " 'which',\n",
       " 'concentration',\n",
       " 'of',\n",
       " 'charge',\n",
       " 'is',\n",
       " 'on',\n",
       " 'octahedral',\n",
       " 'sheets',\n",
       " 'with\\n',\n",
       " 'Wyoming-Mt',\n",
       " 'that',\n",
       " 'has',\n",
       " 'less',\n",
       " 'charge',\n",
       " 'density',\n",
       " 'on',\n",
       " 'octahedral',\n",
       " 'sheets,\\n',\n",
       " 'Chávez-Páez',\n",
       " 'et',\n",
       " 'al.',\n",
       " '',\n",
       " '[38]',\n",
       " 'revealed',\n",
       " 'that',\n",
       " 'interlayer',\n",
       " 'expansion',\n",
       " 'of',\n",
       " 'the\\n',\n",
       " 'Otay-Mt',\n",
       " 'is',\n",
       " 'lower',\n",
       " 'than',\n",
       " 'Wyoming-Mt.',\n",
       " '',\n",
       " 'Smith',\n",
       " 'et',\n",
       " 'al.',\n",
       " '',\n",
       " '[39]',\n",
       " 'assessed\\n',\n",
       " 'the',\n",
       " 'effect',\n",
       " 'of',\n",
       " 'octahedral',\n",
       " 'charge',\n",
       " 'density',\n",
       " 'on',\n",
       " 'swelling',\n",
       " 'of',\n",
       " 'Na-Mt,',\n",
       " 'and\\n',\n",
       " 'they',\n",
       " 'found',\n",
       " 'that',\n",
       " 'more',\n",
       " 'charge',\n",
       " 'density',\n",
       " 'on',\n",
       " 'octahedral',\n",
       " 'sheets',\n",
       " 'results\\n',\n",
       " 'in',\n",
       " 'higher',\n",
       " 'interlayer',\n",
       " 'expansion.',\n",
       " '',\n",
       " 'However,',\n",
       " 'Foster',\n",
       " '[40]',\n",
       " 'reported',\n",
       " 'a\\n',\n",
       " 'reduction',\n",
       " 'in',\n",
       " 'swelling',\n",
       " 'of',\n",
       " 'Mt',\n",
       " 'as',\n",
       " 'the',\n",
       " 'charge',\n",
       " 'density',\n",
       " 'of',\n",
       " 'octahedral\\n',\n",
       " 'sheets',\n",
       " 'increases.',\n",
       " '',\n",
       " 'Seppälä',\n",
       " 'et',\n",
       " 'al.',\n",
       " '',\n",
       " '[41]',\n",
       " 'claimed',\n",
       " 'that',\n",
       " 'the',\n",
       " 'smaller',\n",
       " 'the\\n',\n",
       " 'layer',\n",
       " 'charge,',\n",
       " 'the',\n",
       " 'greater',\n",
       " 'swelling',\n",
       " 'would',\n",
       " 'result.',\n",
       " '',\n",
       " 'Sun',\n",
       " '[42]',\n",
       " 'and',\n",
       " 'Great-\\n',\n",
       " 'house',\n",
       " 'et',\n",
       " 'al.',\n",
       " '',\n",
       " '[43]',\n",
       " 'found',\n",
       " 'similar',\n",
       " 'results.']"
      ]
     },
     "execution_count": 85,
     "metadata": {},
     "output_type": "execute_result"
    }
   ],
   "source": [
    "#Checking words per chunk\n",
    "chunks[0] "
   ]
  },
  {
   "cell_type": "code",
   "execution_count": 86,
   "id": "2a167ca7",
   "metadata": {
    "ExecuteTime": {
     "end_time": "2021-05-12T11:47:26.238037Z",
     "start_time": "2021-05-12T11:47:26.232447Z"
    }
   },
   "outputs": [],
   "source": [
    "#Joining individual words together again to form sentences\n",
    "for chunk_id in range(len(chunks)):\n",
    "    chunks[chunk_id] = ' '.join(chunks[chunk_id])"
   ]
  },
  {
   "cell_type": "code",
   "execution_count": 87,
   "id": "7514285c",
   "metadata": {
    "ExecuteTime": {
     "end_time": "2021-05-12T11:47:27.020633Z",
     "start_time": "2021-05-12T11:47:27.011119Z"
    }
   },
   "outputs": [
    {
     "data": {
      "text/plain": [
       "'Regarding the impact of charge location and charge\\n density on clay swelling, previously reported results are restricted,\\n and drawing the exact conclusions is nearly impossible.  For exam-\\n ple, Liu and Lu [36] showed that in large charge density on tetrahe-\\n dral sheets, clay interlayer experiences more expansion compared\\n to clay with a high charge density of octahedral sheets.  These com-\\n parisons were conducted for three different water contents.  In\\n comparing the swelling behavior of Otay- montmorillonite (Otay-\\n Mt), in which concentration of charge is on octahedral sheets with\\n Wyoming-Mt that has less charge density on octahedral sheets,\\n Chávez-Páez et al.  [38] revealed that interlayer expansion of the\\n Otay-Mt is lower than Wyoming-Mt.  Smith et al.  [39] assessed\\n the effect of octahedral charge density on swelling of Na-Mt, and\\n they found that more charge density on octahedral sheets results\\n in higher interlayer expansion.  However, Foster [40] reported a\\n reduction in swelling of Mt as the charge density of octahedral\\n sheets increases.  Seppälä et al.  [41] claimed that the smaller the\\n layer charge, the greater swelling would result.  Sun [42] and Great-\\n house et al.  [43] found similar results.'"
      ]
     },
     "execution_count": 87,
     "metadata": {},
     "output_type": "execute_result"
    }
   ],
   "source": [
    "chunks[0]"
   ]
  },
  {
   "cell_type": "code",
   "execution_count": 90,
   "id": "84c59034",
   "metadata": {
    "ExecuteTime": {
     "end_time": "2021-05-12T11:47:45.387949Z",
     "start_time": "2021-05-12T11:47:45.375577Z"
    }
   },
   "outputs": [
    {
     "data": {
      "text/plain": [
       "191"
      ]
     },
     "execution_count": 90,
     "metadata": {},
     "output_type": "execute_result"
    }
   ],
   "source": [
    "#Checking the number of words per chunk\n",
    "len(chunks[6].split(' '))"
   ]
  },
  {
   "cell_type": "code",
   "execution_count": 91,
   "id": "ff6d16c9",
   "metadata": {
    "ExecuteTime": {
     "end_time": "2021-05-12T11:47:47.936992Z",
     "start_time": "2021-05-12T11:47:47.927110Z"
    }
   },
   "outputs": [
    {
     "data": {
      "text/plain": [
       "7"
      ]
     },
     "execution_count": 91,
     "metadata": {},
     "output_type": "execute_result"
    }
   ],
   "source": [
    "len(chunks)"
   ]
  },
  {
   "cell_type": "code",
   "execution_count": 95,
   "id": "359eff05",
   "metadata": {
    "ExecuteTime": {
     "end_time": "2021-05-12T12:03:30.150966Z",
     "start_time": "2021-05-12T12:02:20.478016Z"
    }
   },
   "outputs": [],
   "source": [
    "#Passing the chunks to be summarized\n",
    "res = summarizer(chunks, max_length=80, min_length=30, do_sample=False)"
   ]
  },
  {
   "cell_type": "code",
   "execution_count": 96,
   "id": "f496b03c",
   "metadata": {
    "ExecuteTime": {
     "end_time": "2021-05-12T12:03:44.662043Z",
     "start_time": "2021-05-12T12:03:44.647996Z"
    }
   },
   "outputs": [
    {
     "data": {
      "text/plain": [
       "[{'summary_text': ' Liu and Lu [36] showed that in large charge density on tetrahe-ishly dral sheets, clay interlayer experiences more expansion compared to clay with a high charge density of octahedral sheets . In comparing the swelling behavior of Otay- montmorillonite (Otay-.-Mt), in which concentration of charge is on octahedria sheets with'},\n",
       " {'summary_text': ' Interaction of water with Mt and beidellite was studied by Teich-McGoldrick et al.  [29] They showed that in the case of low water content between interlayers, beideellite expands more than Mt . However, Mt showed more interlayer expansion at a high water content .'},\n",
       " {'summary_text': ' In 2018, for the ﬁrst time, the swelling behavior of mixed-layer clays (MLCs), including I-Mt clays, was inves-ishly tigated [46] They showed that the swelling . behavior of I-mt is sig- \\xa0 \\xa0 \\xa0 \\xa0 \\xa0 \\xa0 \\xa0 \\xa0 niﬁcantly different from pure clay and depends on both clay types and'},\n",
       " {'summary_text': ' Both the illite and Mt consist of negatively charged sheets of alumina (O) and tetrahedral sheets of silica (T) They are categorized as TOT type clay which means that the octahedral sheet is located between two tetrahedric sheets . The negative negatively charged charge of layers comes from isomorphic substitution of layers in which Si+4 is replaced with Al'},\n",
       " {'summary_text': ' Previous investigations of the effects of charge distri-ishly bution on clay swelling behavior have been limited to pure clay to date except works by Rahromostaqim and Sahimi [46,47].'},\n",
       " {'summary_text': ' The 2:1 clay mineral models were constructed based on the pyrophyllite structure with a chemical formula of Al4Si8O20(OH)4 . Na+-Mt and K+-I were used with different charge sites and charge densities on the octahedral and tetrahedral sheets to assess the swelling behavior of MLCs .'},\n",
       " {'summary_text': ' The supercell model of constructed I-Mt MLCs includes 4 clay-like sheets (two sheets each of illite and Mt), where each layer contains 5  \\xa0 \\xa0 \\xa0 \\xa0 \\xa0 \\xa0 \\xa0 \\xa0 4 unit cells . To balance the generated negative charge of lay-goers, counterions were added into the interlayers . 10 Na+ and 18 K+ were added between the interlayer of Mt-'}]"
      ]
     },
     "execution_count": 96,
     "metadata": {},
     "output_type": "execute_result"
    }
   ],
   "source": [
    "res "
   ]
  },
  {
   "cell_type": "code",
   "execution_count": 98,
   "id": "88d65ce8",
   "metadata": {
    "ExecuteTime": {
     "end_time": "2021-05-12T12:04:12.739699Z",
     "start_time": "2021-05-12T12:04:12.730658Z"
    }
   },
   "outputs": [],
   "source": [
    "#Extracting the summary text and joining all chunk summaries in res together.\n",
    "text = ' '.join([summ['summary_text'] for summ in res])"
   ]
  },
  {
   "cell_type": "code",
   "execution_count": 99,
   "id": "ee9297f9",
   "metadata": {
    "ExecuteTime": {
     "end_time": "2021-05-12T12:05:28.147936Z",
     "start_time": "2021-05-12T12:05:28.140180Z"
    }
   },
   "outputs": [],
   "source": [
    "#Saving summary into a txt file\n",
    "with open ('summary.txt', 'w') as f:\n",
    "    f.write(text)"
   ]
  },
  {
   "cell_type": "code",
   "execution_count": null,
   "id": "c86454e4",
   "metadata": {},
   "outputs": [],
   "source": []
  }
 ],
 "metadata": {
  "kernelspec": {
   "display_name": "Python 3",
   "language": "python",
   "name": "python3"
  },
  "language_info": {
   "codemirror_mode": {
    "name": "ipython",
    "version": 3
   },
   "file_extension": ".py",
   "mimetype": "text/x-python",
   "name": "python",
   "nbconvert_exporter": "python",
   "pygments_lexer": "ipython3",
   "version": "3.8.8"
  }
 },
 "nbformat": 4,
 "nbformat_minor": 5
}
