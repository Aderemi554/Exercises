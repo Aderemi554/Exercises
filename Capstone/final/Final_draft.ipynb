{
 "cells": [
  {
   "cell_type": "code",
   "execution_count": 1,
   "id": "47c09117",
   "metadata": {
    "ExecuteTime": {
     "end_time": "2021-05-18T07:51:40.970077Z",
     "start_time": "2021-05-18T07:51:29.566936Z"
    }
   },
   "outputs": [],
   "source": [
    "#Importing required dependencies\n",
    "from transformers import pipeline\n",
    "from pdfminer.pdfinterp import PDFResourceManager, PDFPageInterpreter\n",
    "from pdfminer.converter import TextConverter\n",
    "from pdfminer.layout import LAParams\n",
    "from pdfminer.pdfpage import PDFPage\n",
    "import io"
   ]
  },
  {
   "cell_type": "code",
   "execution_count": 2,
   "id": "cdea3a5f",
   "metadata": {
    "ExecuteTime": {
     "end_time": "2021-05-18T07:51:48.713593Z",
     "start_time": "2021-05-18T07:51:48.705755Z"
    }
   },
   "outputs": [],
   "source": [
    "def pdf2txt(inPDFfile, outTXTFile):\n",
    "    inFile = open(inPDFfile, 'rb')\n",
    "    resMgr = PDFResourceManager()\n",
    "    retData = io.StringIO()\n",
    "    TxtConverter = TextConverter(resMgr, retData, laparams=LAParams())\n",
    "    interpreter = PDFPageInterpreter(resMgr, TxtConverter)\n",
    "    \n",
    "    #Process each page in pdf file\n",
    "    for page in PDFPage.get_pages(inFile):\n",
    "        interpreter.process_page(page)\n",
    "        \n",
    "    txt = retData.getvalue()\n",
    "    \n",
    "    #save output data to a txt file\n",
    "    with open(outTXTFile, 'w') as f:\n",
    "        f.write(txt)"
   ]
  },
  {
   "cell_type": "code",
   "execution_count": 3,
   "id": "b790fd0b",
   "metadata": {
    "ExecuteTime": {
     "end_time": "2021-05-18T07:52:43.475375Z",
     "start_time": "2021-05-18T07:52:24.364730Z"
    }
   },
   "outputs": [],
   "source": [
    "#main\n",
    "inPDFfile = 'test.pdf'\n",
    "outTXTFile = 'file.txt'\n",
    "pdf2txt(inPDFfile, outTXTFile)"
   ]
  },
  {
   "cell_type": "code",
   "execution_count": 4,
   "id": "e2ee2aed",
   "metadata": {
    "ExecuteTime": {
     "end_time": "2021-05-18T07:53:13.802840Z",
     "start_time": "2021-05-18T07:52:52.209882Z"
    }
   },
   "outputs": [],
   "source": [
    "#Creating summarizer instance\n",
    "summarizer = pipeline(\"summarization\")"
   ]
  },
  {
   "cell_type": "code",
   "execution_count": 5,
   "id": "457a3d9a",
   "metadata": {
    "ExecuteTime": {
     "end_time": "2021-05-18T07:56:08.747842Z",
     "start_time": "2021-05-18T07:56:08.697036Z"
    }
   },
   "outputs": [],
   "source": [
    "#Open and read text file \n",
    "with open('file.txt') as f:\n",
    "    text = f.readlines() \n",
    "\n",
    "#Combining the test into one long string\n",
    "ARTICLE = ' '.join(text)"
   ]
  },
  {
   "cell_type": "code",
   "execution_count": 6,
   "id": "138eae65",
   "metadata": {
    "ExecuteTime": {
     "end_time": "2021-05-18T07:56:12.475942Z",
     "start_time": "2021-05-18T07:56:12.470498Z"
    }
   },
   "outputs": [],
   "source": [
    "#This is to make text readable after splitting\n",
    "ARTICLE = ARTICLE.replace('.', '.<eos>')\n",
    "ARTICLE = ARTICLE.replace('!', '!<eos>')\n",
    "ARTICLE = ARTICLE.replace('?', '?<eos>')\n",
    "\n",
    "#Splitting ARTICLE into individual sentences using <eos>\n",
    "sentences = ARTICLE.split('<eos>')"
   ]
  },
  {
   "cell_type": "code",
   "execution_count": 7,
   "id": "c1b30031",
   "metadata": {
    "ExecuteTime": {
     "end_time": "2021-05-18T07:56:25.122343Z",
     "start_time": "2021-05-18T07:56:25.108647Z"
    }
   },
   "outputs": [
    {
     "name": "stdout",
     "output_type": "stream",
     "text": [
      "0\n"
     ]
    }
   ],
   "source": [
    "#Dividing the text (sentences) into smaller chunks to allow all the text be passed in using small chunks\n",
    "max_chunk = 300\n",
    "current_chunk = 0\n",
    "chunks = []\n",
    "\n",
    "for sentence in sentences:\n",
    "    if len(chunks) == current_chunk + 1:\n",
    "        if len(chunks[current_chunk]) + len(sentence.split(' ')) <= max_chunk:\n",
    "            chunks[current_chunk].extend(sentence.split(' '))\n",
    "        else:\n",
    "            current_chunk += 1\n",
    "            chunks.append(sentence.split(' '))\n",
    "    else:\n",
    "        print(current_chunk)\n",
    "        chunks.append(sentence.split(' '))"
   ]
  },
  {
   "cell_type": "code",
   "execution_count": 8,
   "id": "339e75f2",
   "metadata": {
    "ExecuteTime": {
     "end_time": "2021-05-18T07:56:27.281041Z",
     "start_time": "2021-05-18T07:56:27.265910Z"
    }
   },
   "outputs": [
    {
     "data": {
      "text/plain": [
       "49"
      ]
     },
     "execution_count": 8,
     "metadata": {},
     "output_type": "execute_result"
    }
   ],
   "source": [
    "len(chunks)"
   ]
  },
  {
   "cell_type": "code",
   "execution_count": 9,
   "id": "cde01f6d",
   "metadata": {
    "ExecuteTime": {
     "end_time": "2021-05-18T07:56:30.916521Z",
     "start_time": "2021-05-18T07:56:30.901720Z"
    }
   },
   "outputs": [
    {
     "data": {
      "text/plain": [
       "['See',\n",
       " 'discussions,',\n",
       " 'stats,',\n",
       " 'and',\n",
       " 'author',\n",
       " 'profiles',\n",
       " 'for',\n",
       " 'this',\n",
       " 'publication',\n",
       " 'at:',\n",
       " 'https://www.',\n",
       " 'researchgate.',\n",
       " 'net/publication/350952336\\n',\n",
       " '\\n',\n",
       " 'Effects',\n",
       " 'of',\n",
       " 'Layer-Charge',\n",
       " 'Distribution',\n",
       " 'on',\n",
       " 'Swelling',\n",
       " 'Behavior',\n",
       " 'of',\n",
       " 'Mixed-Layer\\n',\n",
       " 'Illite-Montmorillonite',\n",
       " 'Clays:',\n",
       " 'A',\n",
       " 'Molecular',\n",
       " 'Dynamics',\n",
       " 'Simulation',\n",
       " 'Study\\n',\n",
       " '\\n',\n",
       " 'Article\\xa0\\xa0in\\xa0\\xa0Journal',\n",
       " 'of',\n",
       " 'Molecular',\n",
       " 'Liquids',\n",
       " '·',\n",
       " 'April',\n",
       " '2021\\n',\n",
       " '\\n',\n",
       " 'DOI:',\n",
       " '10.',\n",
       " '1016/j.',\n",
       " 'molliq.',\n",
       " '2021.',\n",
       " '116188\\n',\n",
       " '\\n',\n",
       " 'CITATIONS\\n',\n",
       " '0\\n',\n",
       " '\\n',\n",
       " '2',\n",
       " 'authors,',\n",
       " 'including:\\n',\n",
       " '\\n',\n",
       " 'Me',\n",
       " 'Ghasemi\\n',\n",
       " 'Nazarbayev',\n",
       " 'University\\n',\n",
       " '\\n',\n",
       " '6',\n",
       " 'PUBLICATIONS\\xa0\\xa0\\xa027',\n",
       " 'CITATIONS\\xa0\\xa0\\xa0\\n',\n",
       " '\\n',\n",
       " 'SEE',\n",
       " 'PROFILE\\n',\n",
       " '\\n',\n",
       " 'READS\\n',\n",
       " '35\\n',\n",
       " '\\n',\n",
       " 'Some',\n",
       " 'of',\n",
       " 'the',\n",
       " 'authors',\n",
       " 'of',\n",
       " 'this',\n",
       " 'publication',\n",
       " 'are',\n",
       " 'also',\n",
       " 'working',\n",
       " 'on',\n",
       " 'these',\n",
       " 'related',\n",
       " 'projects:\\n',\n",
       " '\\n',\n",
       " 'Molecular',\n",
       " 'Dynamics',\n",
       " 'Simulation',\n",
       " 'of',\n",
       " 'Clay',\n",
       " 'Swelling',\n",
       " 'View',\n",
       " 'project\\n',\n",
       " '\\n',\n",
       " 'All',\n",
       " 'content',\n",
       " 'following',\n",
       " 'this',\n",
       " 'page',\n",
       " 'was',\n",
       " 'uploaded',\n",
       " 'by',\n",
       " 'Me',\n",
       " 'Ghasemi',\n",
       " 'on',\n",
       " '29',\n",
       " 'April',\n",
       " '2021.',\n",
       " '\\n',\n",
       " '\\n',\n",
       " 'The',\n",
       " 'user',\n",
       " 'has',\n",
       " 'requested',\n",
       " 'enhancement',\n",
       " 'of',\n",
       " 'the',\n",
       " 'downloaded',\n",
       " 'file.',\n",
       " '\\n',\n",
       " '\\n',\n",
       " '\\x0cJournal',\n",
       " 'of',\n",
       " 'Molecular',\n",
       " 'Liquids',\n",
       " '335',\n",
       " '(2021)',\n",
       " '116188\\n',\n",
       " '\\n',\n",
       " 'Contents',\n",
       " 'lists',\n",
       " 'available',\n",
       " 'at',\n",
       " 'ScienceDirect\\n',\n",
       " '\\n',\n",
       " 'Journal',\n",
       " 'of',\n",
       " 'Molecular',\n",
       " 'Liquids\\n',\n",
       " '\\n',\n",
       " 'j',\n",
       " 'o',\n",
       " 'u',\n",
       " 'r',\n",
       " 'n',\n",
       " 'a',\n",
       " 'l',\n",
       " 'h',\n",
       " 'o',\n",
       " 'm',\n",
       " 'e',\n",
       " 'p',\n",
       " 'a',\n",
       " 'g',\n",
       " 'e',\n",
       " ':',\n",
       " 'w',\n",
       " 'w',\n",
       " 'w',\n",
       " '.',\n",
       " '',\n",
       " 'e',\n",
       " 'l',\n",
       " 's',\n",
       " 'e',\n",
       " 'v',\n",
       " 'i',\n",
       " 'e',\n",
       " 'r',\n",
       " '.',\n",
       " '',\n",
       " 'c',\n",
       " 'o',\n",
       " 'm',\n",
       " '/',\n",
       " 'l',\n",
       " 'o',\n",
       " 'c',\n",
       " 'a',\n",
       " 't',\n",
       " 'e',\n",
       " '/',\n",
       " 'm',\n",
       " 'o',\n",
       " 'l',\n",
       " 'l',\n",
       " 'i',\n",
       " 'q\\n',\n",
       " '\\n',\n",
       " 'Effects',\n",
       " 'of',\n",
       " 'layer-charge',\n",
       " 'distribution',\n",
       " 'on',\n",
       " 'swelling',\n",
       " 'behavior',\n",
       " 'of',\n",
       " 'mixed-layer\\n',\n",
       " 'illite-montmorillonite',\n",
       " 'clays:',\n",
       " 'A',\n",
       " 'molecular',\n",
       " 'dynamics',\n",
       " 'simulation',\n",
       " 'study\\n',\n",
       " '\\n',\n",
       " 'Mehdi',\n",
       " 'Ghasemi,',\n",
       " 'Mohammad',\n",
       " 'Shariﬁ\\n',\n",
       " '\\n',\n",
       " '⇑\\n',\n",
       " '\\n',\n",
       " 'Department',\n",
       " 'of',\n",
       " 'Petroleum',\n",
       " 'Engineering,',\n",
       " 'Amirkabir',\n",
       " 'University',\n",
       " 'of',\n",
       " 'Technology,',\n",
       " 'Tehran,',\n",
       " 'Iran\\n',\n",
       " '\\n',\n",
       " 'a',\n",
       " 'r',\n",
       " 't',\n",
       " 'i',\n",
       " 'c',\n",
       " 'l',\n",
       " 'e\\n',\n",
       " '\\n',\n",
       " 'i',\n",
       " 'n',\n",
       " 'f',\n",
       " 'o\\n',\n",
       " '\\n',\n",
       " 'a',\n",
       " 'b',\n",
       " 's',\n",
       " 't',\n",
       " 'r',\n",
       " 'a',\n",
       " 'c',\n",
       " 't\\n',\n",
       " '\\n',\n",
       " 'Article',\n",
       " 'history:\\n',\n",
       " 'Received',\n",
       " '30',\n",
       " 'March',\n",
       " '2021\\n',\n",
       " 'Accepted',\n",
       " '13',\n",
       " 'April',\n",
       " '2021\\n',\n",
       " 'Available',\n",
       " 'online',\n",
       " '17',\n",
       " 'April',\n",
       " '2021\\n',\n",
       " '\\n',\n",
       " 'Keywords:\\n',\n",
       " 'Mixed-layer',\n",
       " 'illite-montmorillonite',\n",
       " 'clays\\n',\n",
       " 'Swelling\\n',\n",
       " 'Charge',\n",
       " 'distribution\\n',\n",
       " 'Molecular',\n",
       " 'dynamics',\n",
       " 'simulation\\n',\n",
       " '\\n',\n",
       " 'One',\n",
       " 'of',\n",
       " 'the',\n",
       " 'intriguing',\n",
       " 'properties',\n",
       " 'of',\n",
       " 'clay',\n",
       " 'minerals',\n",
       " 'is',\n",
       " 'swelling,',\n",
       " 'which',\n",
       " 'is',\n",
       " 'considered',\n",
       " 'an',\n",
       " 'essential\\n',\n",
       " 'characteristic',\n",
       " 'for',\n",
       " 'various',\n",
       " 'geological',\n",
       " 'processes,',\n",
       " 'environmental',\n",
       " 'science,',\n",
       " 'and',\n",
       " 'engineering.']"
      ]
     },
     "execution_count": 9,
     "metadata": {},
     "output_type": "execute_result"
    }
   ],
   "source": [
    "#Checking words per chunk\n",
    "chunks[0] "
   ]
  },
  {
   "cell_type": "code",
   "execution_count": 10,
   "id": "d1d20226",
   "metadata": {
    "ExecuteTime": {
     "end_time": "2021-05-18T07:57:29.294248Z",
     "start_time": "2021-05-18T07:57:29.289704Z"
    }
   },
   "outputs": [],
   "source": [
    "#Taking the most relevant portion of the file\n",
    "to_summarize = chunks[0:15]"
   ]
  },
  {
   "cell_type": "code",
   "execution_count": 11,
   "id": "d12a6252",
   "metadata": {
    "ExecuteTime": {
     "end_time": "2021-05-18T07:57:30.363347Z",
     "start_time": "2021-05-18T07:57:30.356356Z"
    }
   },
   "outputs": [
    {
     "data": {
      "text/plain": [
       "15"
      ]
     },
     "execution_count": 11,
     "metadata": {},
     "output_type": "execute_result"
    }
   ],
   "source": [
    "len(to_summarize)"
   ]
  },
  {
   "cell_type": "code",
   "execution_count": 12,
   "id": "86bcc146",
   "metadata": {
    "ExecuteTime": {
     "end_time": "2021-05-18T07:57:35.441781Z",
     "start_time": "2021-05-18T07:57:35.436959Z"
    }
   },
   "outputs": [],
   "source": [
    "#Joining individual words together again to form sentences\n",
    "for chunk_id in range(len(to_summarize)):\n",
    "    to_summarize[chunk_id] = ' '.join(to_summarize[chunk_id])"
   ]
  },
  {
   "cell_type": "code",
   "execution_count": 13,
   "id": "7514285c",
   "metadata": {
    "ExecuteTime": {
     "end_time": "2021-05-18T07:57:38.964747Z",
     "start_time": "2021-05-18T07:57:38.957613Z"
    }
   },
   "outputs": [
    {
     "data": {
      "text/plain": [
       "'See discussions, stats, and author profiles for this publication at: https://www. researchgate. net/publication/350952336\\n \\n Effects of Layer-Charge Distribution on Swelling Behavior of Mixed-Layer\\n Illite-Montmorillonite Clays: A Molecular Dynamics Simulation Study\\n \\n Article\\xa0\\xa0in\\xa0\\xa0Journal of Molecular Liquids · April 2021\\n \\n DOI: 10. 1016/j. molliq. 2021. 116188\\n \\n CITATIONS\\n 0\\n \\n 2 authors, including:\\n \\n Me Ghasemi\\n Nazarbayev University\\n \\n 6 PUBLICATIONS\\xa0\\xa0\\xa027 CITATIONS\\xa0\\xa0\\xa0\\n \\n SEE PROFILE\\n \\n READS\\n 35\\n \\n Some of the authors of this publication are also working on these related projects:\\n \\n Molecular Dynamics Simulation of Clay Swelling View project\\n \\n All content following this page was uploaded by Me Ghasemi on 29 April 2021. \\n \\n The user has requested enhancement of the downloaded file. \\n \\n \\x0cJournal of Molecular Liquids 335 (2021) 116188\\n \\n Contents lists available at ScienceDirect\\n \\n Journal of Molecular Liquids\\n \\n j o u r n a l h o m e p a g e : w w w .  e l s e v i e r .  c o m / l o c a t e / m o l l i q\\n \\n Effects of layer-charge distribution on swelling behavior of mixed-layer\\n illite-montmorillonite clays: A molecular dynamics simulation study\\n \\n Mehdi Ghasemi, Mohammad Shariﬁ\\n \\n ⇑\\n \\n Department of Petroleum Engineering, Amirkabir University of Technology, Tehran, Iran\\n \\n a r t i c l e\\n \\n i n f o\\n \\n a b s t r a c t\\n \\n Article history:\\n Received 30 March 2021\\n Accepted 13 April 2021\\n Available online 17 April 2021\\n \\n Keywords:\\n Mixed-layer illite-montmorillonite clays\\n Swelling\\n Charge distribution\\n Molecular dynamics simulation\\n \\n One of the intriguing properties of clay minerals is swelling, which is considered an essential\\n characteristic for various geological processes, environmental science, and engineering.'"
      ]
     },
     "execution_count": 13,
     "metadata": {},
     "output_type": "execute_result"
    }
   ],
   "source": [
    "to_summarize[0]"
   ]
  },
  {
   "cell_type": "code",
   "execution_count": 15,
   "id": "84c59034",
   "metadata": {
    "ExecuteTime": {
     "end_time": "2021-05-18T07:57:50.330462Z",
     "start_time": "2021-05-18T07:57:50.321667Z"
    }
   },
   "outputs": [
    {
     "data": {
      "text/plain": [
       "295"
      ]
     },
     "execution_count": 15,
     "metadata": {},
     "output_type": "execute_result"
    }
   ],
   "source": [
    "#Checking the number of words per chunk\n",
    "len(to_summarize[14].split(' '))"
   ]
  },
  {
   "cell_type": "code",
   "execution_count": 16,
   "id": "359eff05",
   "metadata": {
    "ExecuteTime": {
     "end_time": "2021-05-18T08:12:12.154953Z",
     "start_time": "2021-05-18T07:58:03.216376Z"
    }
   },
   "outputs": [],
   "source": [
    "#Passing the chunks to be summarized\n",
    "result = summarizer(to_summarize, max_length=150, min_length=30, do_sample=False)"
   ]
  },
  {
   "cell_type": "code",
   "execution_count": 17,
   "id": "f496b03c",
   "metadata": {
    "ExecuteTime": {
     "end_time": "2021-05-18T08:13:57.194344Z",
     "start_time": "2021-05-18T08:13:57.147765Z"
    }
   },
   "outputs": [
    {
     "data": {
      "text/plain": [
       "[{'summary_text': ' Publication: Journal of Molecular Liquids 335 (2021) 116188 . Effects of layer-charge distribution on swelling behavior of mixed-layer illite-montmorillonite clays: A molecular dynamics simulation study .'},\n",
       " {'summary_text': ' About 30 percent of all clays are a pure type, and virtually 70 percent are the mixed-layer one that swelling mechanism is still elusive . Almost all previous experimental and simulation studies focused on the understanding of the swelling behavior of pure clays .'},\n",
       " {'summary_text': ' Clays are characterized by a large surface area, strong adsorption capacity, and high swelling capacity . The swelling behavior of clays is of importance in the oil and gas industry, as clays in various types are found in geological formation as well as drilling ﬂuids . Water interactions as a base of major water interactions with clayey formations can cause swelling, which can cause wellbore instability .'},\n",
       " {'summary_text': ' Osmotic swelling occurs due to an increase in interlayer water-consuming intake from an aqueous solution that culminates in an interlayer expanding from 20 to 130 Å [25,27,28] Factors related to the clay such as charge site loca-centric and charge density can affect clay swelling . The swelling properties of clay minerals are not the same in which Na+-montmorillonite (Na+-Mt) tends to swell easily from monolayer hydration state to osmotic swell, while K+-illite (K+-I) has less tendency to swell .'},\n",
       " {'summary_text': ' Most of the studies related to clay swelling have been focused on pure clays . In 2018, the swelling behavior of mixed-layer clays, including I-Mt clays for a wide range of water concentrations in the presence of Na+ and K+, were inves-idated tigated [46].'},\n",
       " {'summary_text': ' The swelling behavior of a chlorite-montmorillonite mixed-layer clay (CH-Mt MLC) is a function of interlayer cations including Na+ K+ and Cs+ [47] In addition to the pure clays, plenty of MLCs can be found in various types of sedimentary rocks .'},\n",
       " {'summary_text': ' Four mixed layers of I-Mt clay mineral mineral were studied for a wide range of water concentrations . The molecular dynamics (MD) simu-idated lation technique has been applied to provide insight into the effects of the mentioned factors . The 2:1 clay mineral models were constructed based on the pyrophyllite structure with a chemical formula of Al4Si8O20(OH)4 .'},\n",
       " {'summary_text': ' Na+-Mt and K+-I were used with different. place locations and charge densities on the octahedral and.ggie tetrahedral sheets to assess the swelling behavior of MLCs . The chemical structure of the clays is characterized by the random . morphic substitution of Al3+ by Mg2+ atoms and Si4+ by Al3+.'},\n",
       " {'summary_text': ' To generate the molecular structure of MLCs, CLAYFF was used in combination with the ﬂexible point-like charge (SPC) model for modeling the interlayer water molecules . In each simulation, the systems were minimized using the steepest descent method .'},\n",
       " {'summary_text': ' The supercell structure of MLCs was simulated for 1 to 10 water molecules per unit cell, indicating monolayer the (1 W) and bilayer (2 W) hydration status of the supercell . In general, 44 cases of supercell supercells were found in 44 cases . Two middle layers are Mt and top and bottom layers are illite Si4+. Al3+ Al3+. Mg2+ K+. Na+ and H+ are colored as yellow, green, blue, red, and white .'},\n",
       " {'summary_text': ' The MLCs crystalline swelling process was characterized by the basal spacing d-value, deﬁning as the distance between tops of two consecutive clay sheets . In all simulations, water molecules were randomly distributed in the interlayers after the distribution of counterions in the middle .'},\n",
       " {'summary_text': ' Fig. 3a-d shows the group based on the absolute basal spacing . of interlayers for four distinct systems . Mt-Mt interlayer swelled the most compared to the other systems .'},\n",
       " {'summary_text': ' The order of swelling in the symmetric Mt-Mt inter-ggie layer was higher than other interlayers in all simulated MLCs . The lower the lower the hydration enthalpy of cations, the less interlayer swelling will be the result . The main negative charge of Mt clay sheets was due to octahedral substitu-idated Substations of Al3+ with Mg2+ .'},\n",
       " {'summary_text': ' We assessed the effect of charge amounts on the swelling behavior of the Mt- and I-I interlayers’ swelling behavior . At both high water contents, the highly charged Mt clay sheet swelled more compared to the slightly charged one . This is mainly due to the weak counterion-clay surface interactions and high hydration enthalpy of Na+.'},\n",
       " {'summary_text': ' The presence of K+ as a low hydration counterion between the I-I interlayer region led to tonically swelling of the clay . The more K+ in the inter-gui layer, the more smoothly changes happened while clay swelling .'}]"
      ]
     },
     "execution_count": 17,
     "metadata": {},
     "output_type": "execute_result"
    }
   ],
   "source": [
    "result "
   ]
  },
  {
   "cell_type": "code",
   "execution_count": 18,
   "id": "88d65ce8",
   "metadata": {
    "ExecuteTime": {
     "end_time": "2021-05-18T08:14:27.706332Z",
     "start_time": "2021-05-18T08:14:27.657876Z"
    }
   },
   "outputs": [],
   "source": [
    "#Extracting the summary text and joining all chunk summaries in res together.\n",
    "text = ' '.join([summ['summary_text'] for summ in result])"
   ]
  },
  {
   "cell_type": "code",
   "execution_count": 19,
   "id": "ee9297f9",
   "metadata": {
    "ExecuteTime": {
     "end_time": "2021-05-18T08:14:39.301231Z",
     "start_time": "2021-05-18T08:14:39.285862Z"
    }
   },
   "outputs": [],
   "source": [
    "#Saving summary into a txt file\n",
    "with open ('summary5.txt', 'w') as f:\n",
    "    f.write(text)"
   ]
  },
  {
   "cell_type": "code",
   "execution_count": 20,
   "id": "7237847e",
   "metadata": {
    "ExecuteTime": {
     "end_time": "2021-05-18T08:14:43.979360Z",
     "start_time": "2021-05-18T08:14:43.957855Z"
    }
   },
   "outputs": [
    {
     "name": "stdout",
     "output_type": "stream",
     "text": [
      " Publication: Journal of Molecular Liquids 335 (2021) 116188 . Effects of layer-charge distribution on swelling behavior of mixed-layer illite-montmorillonite clays: A molecular dynamics simulation study .  About 30 percent of all clays are a pure type, and virtually 70 percent are the mixed-layer one that swelling mechanism is still elusive . Almost all previous experimental and simulation studies focused on the understanding of the swelling behavior of pure clays .  Clays are characterized by a large surface area, strong adsorption capacity, and high swelling capacity . The swelling behavior of clays is of importance in the oil and gas industry, as clays in various types are found in geological formation as well as drilling ﬂuids . Water interactions as a base of major water interactions with clayey formations can cause swelling, which can cause wellbore instability .  Osmotic swelling occurs due to an increase in interlayer water-consuming intake from an aqueous solution that culminates in an interlayer expanding from 20 to 130 Å [25,27,28] Factors related to the clay such as charge site loca-centric and charge density can affect clay swelling . The swelling properties of clay minerals are not the same in which Na+-montmorillonite (Na+-Mt) tends to swell easily from monolayer hydration state to osmotic swell, while K+-illite (K+-I) has less tendency to swell .  Most of the studies related to clay swelling have been focused on pure clays . In 2018, the swelling behavior of mixed-layer clays, including I-Mt clays for a wide range of water concentrations in the presence of Na+ and K+, were inves-idated tigated [46].  The swelling behavior of a chlorite-montmorillonite mixed-layer clay (CH-Mt MLC) is a function of interlayer cations including Na+ K+ and Cs+ [47] In addition to the pure clays, plenty of MLCs can be found in various types of sedimentary rocks .  Four mixed layers of I-Mt clay mineral mineral were studied for a wide range of water concentrations . The molecular dynamics (MD) simu-idated lation technique has been applied to provide insight into the effects of the mentioned factors . The 2:1 clay mineral models were constructed based on the pyrophyllite structure with a chemical formula of Al4Si8O20(OH)4 .  Na+-Mt and K+-I were used with different. place locations and charge densities on the octahedral and.ggie tetrahedral sheets to assess the swelling behavior of MLCs . The chemical structure of the clays is characterized by the random . morphic substitution of Al3+ by Mg2+ atoms and Si4+ by Al3+.  To generate the molecular structure of MLCs, CLAYFF was used in combination with the ﬂexible point-like charge (SPC) model for modeling the interlayer water molecules . In each simulation, the systems were minimized using the steepest descent method .  The supercell structure of MLCs was simulated for 1 to 10 water molecules per unit cell, indicating monolayer the (1 W) and bilayer (2 W) hydration status of the supercell . In general, 44 cases of supercell supercells were found in 44 cases . Two middle layers are Mt and top and bottom layers are illite Si4+. Al3+ Al3+. Mg2+ K+. Na+ and H+ are colored as yellow, green, blue, red, and white .  The MLCs crystalline swelling process was characterized by the basal spacing d-value, deﬁning as the distance between tops of two consecutive clay sheets . In all simulations, water molecules were randomly distributed in the interlayers after the distribution of counterions in the middle .  Fig. 3a-d shows the group based on the absolute basal spacing . of interlayers for four distinct systems . Mt-Mt interlayer swelled the most compared to the other systems .  The order of swelling in the symmetric Mt-Mt inter-ggie layer was higher than other interlayers in all simulated MLCs . The lower the lower the hydration enthalpy of cations, the less interlayer swelling will be the result . The main negative charge of Mt clay sheets was due to octahedral substitu-idated Substations of Al3+ with Mg2+ .  We assessed the effect of charge amounts on the swelling behavior of the Mt- and I-I interlayers’ swelling behavior . At both high water contents, the highly charged Mt clay sheet swelled more compared to the slightly charged one . This is mainly due to the weak counterion-clay surface interactions and high hydration enthalpy of Na+.  The presence of K+ as a low hydration counterion between the I-I interlayer region led to tonically swelling of the clay . The more K+ in the inter-gui layer, the more smoothly changes happened while clay swelling .\n"
     ]
    }
   ],
   "source": [
    "#Displaying final summary\n",
    "print(text)"
   ]
  },
  {
   "cell_type": "code",
   "execution_count": null,
   "id": "28094308",
   "metadata": {},
   "outputs": [],
   "source": []
  }
 ],
 "metadata": {
  "kernelspec": {
   "display_name": "Python 3",
   "language": "python",
   "name": "python3"
  },
  "language_info": {
   "codemirror_mode": {
    "name": "ipython",
    "version": 3
   },
   "file_extension": ".py",
   "mimetype": "text/x-python",
   "name": "python",
   "nbconvert_exporter": "python",
   "pygments_lexer": "ipython3",
   "version": "3.8.8"
  }
 },
 "nbformat": 4,
 "nbformat_minor": 5
}
