{
 "cells": [
  {
   "cell_type": "markdown",
   "metadata": {
    "cell_id": "00000-2f37bfe5-dbdd-410f-986a-7dfad75a9dd8",
    "deepnote_cell_type": "markdown",
    "output_cleared": false
   },
   "source": [
    "Here you have a collection of guided exercises for the first class on Python. <br>\n",
    "The exercises are divided by topic, following the topics reviewed during the theory session, and for each topic you have some mandatory exercises, and other optional exercises, which you are invited to do if you still have time after the mandatory exercises. <br>\n",
    "\n",
    "Remember that you have 5 hours to solve these exercises, after which we will review the most interesting exercises together. If you don't finish all the exercises, you can work on them tonightor tomorrow. \n",
    "\n",
    "At the end of the class, we will upload the code with the solutions of the exercises so that you can review them again if needed. If you still have not finished some exercises, try to do them first by yourself, before taking a look at the solutions: you are doing these exercises for yourself, so it is always the best to do them your way first, as it is the fastest way to learn!"
   ]
  },
  {
   "cell_type": "markdown",
   "metadata": {
    "cell_id": "00001-b1b319b5-0990-4cac-b2d3-79960ca7b4a8",
    "deepnote_cell_type": "markdown",
    "output_cleared": false
   },
   "source": [
    "**Exercise 1.1:** The cover price of a book is 24.95 EUR, but bookstores get a 40 percent discount. Shipping costs 3 EUR for the first copy and 75 cents for each additional copy. **Calculate the total wholesale costs for 60 copies**. "
   ]
  },
  {
   "cell_type": "code",
   "execution_count": 16,
   "metadata": {
    "cell_id": "00002-8f81689d-0258-4655-b072-0c103745221a",
    "deepnote_cell_type": "code",
    "execution_millis": 0,
    "execution_start": 1606989626088,
    "output_cleared": false,
    "source_hash": "e069c160"
   },
   "outputs": [
    {
     "name": "stdout",
     "output_type": "stream",
     "text": [
      "945.4499999999999\n"
     ]
    }
   ],
   "source": [
    "#Your Code Here\n",
    "price = 24.95\n",
    "discount = 0.4 * price \n",
    "Shipping_firstCopy = 3\n",
    "Shipping_AddCopy = 0.75\n",
    "discounted_price = price - discount \n",
    "first_cost = discounted_price +  Shipping_firstCopy\n",
    "other_cost = 59 * (discounted_price +  Shipping_AddCopy)\n",
    "Total_Cost =  first_cost + other_cost\n",
    "print (Total_Cost)"
   ]
  },
  {
   "cell_type": "markdown",
   "metadata": {
    "cell_id": "00003-9a400bba-af4b-4c5d-9d5f-bfa2ecb3a7ce",
    "deepnote_cell_type": "markdown",
    "output_cleared": false
   },
   "source": [
    "**Exercise 1.2:** When something is wrong with your code, Python will raise errors. Often these will be \"syntax errors\" that signal that something is wrong with the form of your code (e.g., the code in the previous exercise raised a `SyntaxError`). There are also \"runtime errors\", which signal that your code was in itself formally correct, but that something went wrong during the code's execution. A good example is the `ZeroDivisionError`, which indicates that you tried to divide a number by zero (which, as you may know, is not allowed). Try to make Python **raise such a `ZeroDivisionError`.**"
   ]
  },
  {
   "cell_type": "code",
   "execution_count": 1,
   "metadata": {
    "cell_id": "00004-9adea4f7-67d7-4dd7-8f7b-4e8f249a0ecd",
    "deepnote_cell_type": "code",
    "execution_millis": 0,
    "execution_start": 1606989626089,
    "output_cleared": false,
    "source_hash": "b8b1ca36"
   },
   "outputs": [
    {
     "ename": "ZeroDivisionError",
     "evalue": "division by zero",
     "output_type": "error",
     "traceback": [
      "\u001b[1;31m---------------------------------------------------------------------------\u001b[0m",
      "\u001b[1;31mZeroDivisionError\u001b[0m                         Traceback (most recent call last)",
      "\u001b[1;32m<ipython-input-1-46a9b614ad36>\u001b[0m in \u001b[0;36m<module>\u001b[1;34m\u001b[0m\n\u001b[0;32m      1\u001b[0m \u001b[1;31m#Your Code Here\u001b[0m\u001b[1;33m\u001b[0m\u001b[1;33m\u001b[0m\u001b[1;33m\u001b[0m\u001b[0m\n\u001b[1;32m----> 2\u001b[1;33m \u001b[0mprint\u001b[0m\u001b[1;33m(\u001b[0m\u001b[1;36m15\u001b[0m\u001b[1;33m/\u001b[0m\u001b[1;36m0\u001b[0m\u001b[1;33m)\u001b[0m\u001b[1;33m\u001b[0m\u001b[1;33m\u001b[0m\u001b[0m\n\u001b[0m",
      "\u001b[1;31mZeroDivisionError\u001b[0m: division by zero"
     ]
    }
   ],
   "source": [
    "#Your Code Here\n",
    "print(15/0)"
   ]
  },
  {
   "cell_type": "markdown",
   "metadata": {
    "cell_id": "00005-3a9b4ac8-fa93-4a49-9562-d53fed4a524b",
    "deepnote_cell_type": "markdown",
    "output_cleared": false
   },
   "source": [
    "**Exercise 5.1**: Create a countdown function that starts at a certain count, and counts down to zero. Instead of zero, print \"Blast off!\". Use a `for` loop. \n"
   ]
  },
  {
   "cell_type": "code",
   "execution_count": 18,
   "metadata": {
    "cell_id": "00006-bf17f487-d309-4d6d-add0-caf4fca75faa",
    "deepnote_cell_type": "code",
    "execution_millis": 1,
    "execution_start": 1606989626089,
    "output_cleared": false,
    "source_hash": "525c36b1"
   },
   "outputs": [
    {
     "name": "stdout",
     "output_type": "stream",
     "text": [
      "20\n",
      "19\n",
      "18\n",
      "17\n",
      "16\n",
      "15\n",
      "14\n",
      "13\n",
      "12\n",
      "11\n",
      "10\n",
      "9\n",
      "8\n",
      "7\n",
      "6\n",
      "5\n",
      "4\n",
      "3\n",
      "2\n",
      "1\n",
      "Blast off!\n"
     ]
    }
   ],
   "source": [
    "# Countdown\n",
    "\"\"\"\n",
    "    20\n",
    "    19\n",
    "    18\n",
    "    17\n",
    "    16\n",
    "    15\n",
    "    14\n",
    "    13\n",
    "    12\n",
    "    11\n",
    "    10\n",
    "    9\n",
    "    8\n",
    "    7\n",
    "    6\n",
    "    5\n",
    "    4\n",
    "    3\n",
    "    2\n",
    "    1\n",
    "    Blast off!\n",
    "\"\"\"\n",
    "def countdown():\n",
    "    Start_Counter = 21\n",
    "    for count in range(Start_Counter):\n",
    "        if Start_Counter > 0:\n",
    "            Start_Counter -= 1\n",
    "            if Start_Counter ==0:\n",
    "                print ('Blast off!')\n",
    "            else:\n",
    "                print(Start_Counter)\n",
    "    \n",
    "\n",
    "countdown()\n",
    "  \n"
   ]
  },
  {
   "cell_type": "markdown",
   "metadata": {
    "cell_id": "00007-9e29b23a-c8aa-494b-807b-57732782f839",
    "deepnote_cell_type": "markdown",
    "output_cleared": false
   },
   "source": [
    "**Exercise 5.2:** Write and test three functions that return the largest, the smallest, and the number of dividables by 3 in a given collection of numbers. Use the algorithm described earlier in the Part 5 lecture :)"
   ]
  },
  {
   "cell_type": "code",
   "execution_count": 31,
   "metadata": {
    "cell_id": "00008-cf074795-e98f-4cc1-b3d5-651da69ad401",
    "deepnote_cell_type": "code",
    "execution_millis": 1,
    "execution_start": 1606992444505,
    "output_cleared": false,
    "source_hash": "937a009"
   },
   "outputs": [
    {
     "data": {
      "text/plain": [
       "(100, 2, 4)"
      ]
     },
     "execution_count": 31,
     "metadata": {},
     "output_type": "execute_result"
    }
   ],
   "source": [
    "# Your functions\n",
    "def main(a):\n",
    "    \"\"\"\n",
    "    a = [2, 4, 6, 12, 15, 99, 100]\n",
    "    100\n",
    "    2\n",
    "    4\n",
    "    \"\"\"\n",
    "    a.sort()\n",
    "    largest = a[-1]\n",
    "    smallest = a[0]\n",
    "    dividableby3 = 0\n",
    "\n",
    "    for num in a :\n",
    "\n",
    "        if num%3 == 0:\n",
    "            dividableby3 += 1\n",
    "\n",
    "    return   (largest, smallest, dividableby3 )\n",
    "\n",
    "a = [2, 4, 6, 12, 15, 99, 100]\n",
    "main(a)\n"
   ]
  }
 ],
 "metadata": {
  "deepnote_execution_queue": [],
  "deepnote_notebook_id": "820b668b-efbe-48d5-9b92-af5732a730f1",
  "kernelspec": {
   "display_name": "Python 3",
   "language": "python",
   "name": "python3"
  },
  "language_info": {
   "codemirror_mode": {
    "name": "ipython",
    "version": 3
   },
   "file_extension": ".py",
   "mimetype": "text/x-python",
   "name": "python",
   "nbconvert_exporter": "python",
   "pygments_lexer": "ipython3",
   "version": "3.8.3"
  }
 },
 "nbformat": 4,
 "nbformat_minor": 4
}
